{
 "cells": [
  {
   "cell_type": "markdown",
   "metadata": {},
   "source": [
    "# EDA 5번) 대구의 지형 특성 (분지) 분석\n",
    "* 대구와 **비슷한**  지역 기후 탐색\n",
    "* HI(열 지수)를 체감 온도로 보고 진행\n",
    "* 폭염 기준 : 주의보 체감 온도 33℃ 이상 / 경보 35℃ 이상\n",
    "* 체감 온도: 기온에 습도, 바람 등의 영향이 더해져 사람이 느끼는 더위나 추위를 정량적으로 나타낸 온도\n",
    "* 습도 10% 증가 시마다 체감온도 1도 가량 증가하는 특징"
   ]
  },
  {
   "cell_type": "markdown",
   "metadata": {},
   "source": [
    "# 참조자료\n",
    "* 열섬현상 설명 : https://m.blog.naver.com/kma_131/220392671501\n",
    "* 지도 표현 : https://dailyheumsi.tistory.com/144\n",
    "* Folium 설명 : https://python-visualization.github.io/folium/quickstart.html#Getting-Started\n",
    "* 낮의 기온은 도심이나 시골 지역이나 큰 차이가 나지 않음\n",
    "* 오히려 밤에 온도 차이가 많이 발생하여 열섬을 확인하기 더 뚜렷함\n",
    "* 시간대를 19:00 ~ 06:00 까지 제한시킨 상태에서 진행해야 할듯 (05.13 메모)"
   ]
  },
  {
   "cell_type": "code",
   "execution_count": 24,
   "metadata": {},
   "outputs": [],
   "source": [
    "# 기본 모듈 선언\n",
    "import pandas as pd\n",
    "import matplotlib.pyplot as plt\n",
    "import seaborn as sns\n",
    "import datetime\n"
   ]
  },
  {
   "cell_type": "code",
   "execution_count": 25,
   "metadata": {},
   "outputs": [],
   "source": [
    "# 각 도시 데이터 호출\n",
    "\n",
    "df_daegu = pd.read_csv(\"output/Daegu_final.csv\")\n",
    "df_daejeon = pd.read_csv(\"output/Daejeon_final.csv\")\n",
    "df_cheongju = pd.read_csv(\"output/Cheongju_final.csv\")\n",
    "df_chuncheon = pd.read_csv(\"output/Chuncheon_final.csv\")"
   ]
  },
  {
   "cell_type": "markdown",
   "metadata": {},
   "source": [
    "# 대구"
   ]
  },
  {
   "cell_type": "code",
   "execution_count": 26,
   "metadata": {},
   "outputs": [
    {
     "data": {
      "text/html": [
       "<div>\n",
       "<style scoped>\n",
       "    .dataframe tbody tr th:only-of-type {\n",
       "        vertical-align: middle;\n",
       "    }\n",
       "\n",
       "    .dataframe tbody tr th {\n",
       "        vertical-align: top;\n",
       "    }\n",
       "\n",
       "    .dataframe thead th {\n",
       "        text-align: right;\n",
       "    }\n",
       "</style>\n",
       "<table border=\"1\" class=\"dataframe\">\n",
       "  <thead>\n",
       "    <tr style=\"text-align: right;\">\n",
       "      <th></th>\n",
       "      <th>year</th>\n",
       "      <th>month</th>\n",
       "      <th>day</th>\n",
       "      <th>hour</th>\n",
       "      <th>datetime</th>\n",
       "      <th>temp</th>\n",
       "      <th>rainfall</th>\n",
       "      <th>lightning</th>\n",
       "      <th>humidity</th>\n",
       "      <th>wind_speed</th>\n",
       "      <th>wind_direction</th>\n",
       "      <th>condition</th>\n",
       "      <th>region</th>\n",
       "      <th>HI</th>\n",
       "      <th>DI</th>\n",
       "    </tr>\n",
       "  </thead>\n",
       "  <tbody>\n",
       "    <tr>\n",
       "      <th>0</th>\n",
       "      <td>2010</td>\n",
       "      <td>6</td>\n",
       "      <td>1</td>\n",
       "      <td>0</td>\n",
       "      <td>2010-06-01 00:00:00</td>\n",
       "      <td>16.5</td>\n",
       "      <td>0.0</td>\n",
       "      <td>-1</td>\n",
       "      <td>53.0</td>\n",
       "      <td>NaN</td>\n",
       "      <td>NaN</td>\n",
       "      <td>1</td>\n",
       "      <td>동인동</td>\n",
       "      <td>15.589444</td>\n",
       "      <td>60.74355</td>\n",
       "    </tr>\n",
       "    <tr>\n",
       "      <th>1</th>\n",
       "      <td>2010</td>\n",
       "      <td>6</td>\n",
       "      <td>1</td>\n",
       "      <td>1</td>\n",
       "      <td>2010-06-01 01:00:00</td>\n",
       "      <td>18.1</td>\n",
       "      <td>0.0</td>\n",
       "      <td>-1</td>\n",
       "      <td>49.0</td>\n",
       "      <td>NaN</td>\n",
       "      <td>NaN</td>\n",
       "      <td>1</td>\n",
       "      <td>동인동</td>\n",
       "      <td>17.245000</td>\n",
       "      <td>62.73431</td>\n",
       "    </tr>\n",
       "    <tr>\n",
       "      <th>2</th>\n",
       "      <td>2010</td>\n",
       "      <td>6</td>\n",
       "      <td>1</td>\n",
       "      <td>2</td>\n",
       "      <td>2010-06-01 02:00:00</td>\n",
       "      <td>19.7</td>\n",
       "      <td>0.0</td>\n",
       "      <td>-1</td>\n",
       "      <td>46.0</td>\n",
       "      <td>NaN</td>\n",
       "      <td>NaN</td>\n",
       "      <td>1</td>\n",
       "      <td>동인동</td>\n",
       "      <td>18.926667</td>\n",
       "      <td>64.65038</td>\n",
       "    </tr>\n",
       "    <tr>\n",
       "      <th>3</th>\n",
       "      <td>2010</td>\n",
       "      <td>6</td>\n",
       "      <td>1</td>\n",
       "      <td>3</td>\n",
       "      <td>2010-06-01 03:00:00</td>\n",
       "      <td>20.8</td>\n",
       "      <td>0.0</td>\n",
       "      <td>-1</td>\n",
       "      <td>41.0</td>\n",
       "      <td>NaN</td>\n",
       "      <td>NaN</td>\n",
       "      <td>1</td>\n",
       "      <td>동인동</td>\n",
       "      <td>20.006111</td>\n",
       "      <td>65.72772</td>\n",
       "    </tr>\n",
       "    <tr>\n",
       "      <th>4</th>\n",
       "      <td>2010</td>\n",
       "      <td>6</td>\n",
       "      <td>1</td>\n",
       "      <td>4</td>\n",
       "      <td>2010-06-01 04:00:00</td>\n",
       "      <td>22.2</td>\n",
       "      <td>0.0</td>\n",
       "      <td>-1</td>\n",
       "      <td>36.0</td>\n",
       "      <td>NaN</td>\n",
       "      <td>NaN</td>\n",
       "      <td>2</td>\n",
       "      <td>동인동</td>\n",
       "      <td>21.415556</td>\n",
       "      <td>67.04608</td>\n",
       "    </tr>\n",
       "    <tr>\n",
       "      <th>...</th>\n",
       "      <td>...</td>\n",
       "      <td>...</td>\n",
       "      <td>...</td>\n",
       "      <td>...</td>\n",
       "      <td>...</td>\n",
       "      <td>...</td>\n",
       "      <td>...</td>\n",
       "      <td>...</td>\n",
       "      <td>...</td>\n",
       "      <td>...</td>\n",
       "      <td>...</td>\n",
       "      <td>...</td>\n",
       "      <td>...</td>\n",
       "      <td>...</td>\n",
       "      <td>...</td>\n",
       "    </tr>\n",
       "    <tr>\n",
       "      <th>14831611</th>\n",
       "      <td>2022</td>\n",
       "      <td>4</td>\n",
       "      <td>30</td>\n",
       "      <td>19</td>\n",
       "      <td>2022-04-30 19:00:00</td>\n",
       "      <td>10.7</td>\n",
       "      <td>0.0</td>\n",
       "      <td>-1</td>\n",
       "      <td>71.0</td>\n",
       "      <td>2.1</td>\n",
       "      <td>335.0</td>\n",
       "      <td>-1</td>\n",
       "      <td>구지면</td>\n",
       "      <td>9.679444</td>\n",
       "      <td>52.33503</td>\n",
       "    </tr>\n",
       "    <tr>\n",
       "      <th>14831612</th>\n",
       "      <td>2022</td>\n",
       "      <td>4</td>\n",
       "      <td>30</td>\n",
       "      <td>20</td>\n",
       "      <td>2022-04-30 20:00:00</td>\n",
       "      <td>11.0</td>\n",
       "      <td>0.0</td>\n",
       "      <td>-1</td>\n",
       "      <td>65.0</td>\n",
       "      <td>2.2</td>\n",
       "      <td>339.0</td>\n",
       "      <td>-1</td>\n",
       "      <td>구지면</td>\n",
       "      <td>9.852778</td>\n",
       "      <td>52.99350</td>\n",
       "    </tr>\n",
       "    <tr>\n",
       "      <th>14831613</th>\n",
       "      <td>2022</td>\n",
       "      <td>4</td>\n",
       "      <td>30</td>\n",
       "      <td>21</td>\n",
       "      <td>2022-04-30 21:00:00</td>\n",
       "      <td>11.9</td>\n",
       "      <td>0.0</td>\n",
       "      <td>-1</td>\n",
       "      <td>61.0</td>\n",
       "      <td>2.2</td>\n",
       "      <td>338.0</td>\n",
       "      <td>-1</td>\n",
       "      <td>구지면</td>\n",
       "      <td>10.738333</td>\n",
       "      <td>54.40241</td>\n",
       "    </tr>\n",
       "    <tr>\n",
       "      <th>14831614</th>\n",
       "      <td>2022</td>\n",
       "      <td>4</td>\n",
       "      <td>30</td>\n",
       "      <td>22</td>\n",
       "      <td>2022-04-30 22:00:00</td>\n",
       "      <td>13.4</td>\n",
       "      <td>0.0</td>\n",
       "      <td>-1</td>\n",
       "      <td>53.0</td>\n",
       "      <td>2.0</td>\n",
       "      <td>351.0</td>\n",
       "      <td>-1</td>\n",
       "      <td>구지면</td>\n",
       "      <td>12.179444</td>\n",
       "      <td>56.60598</td>\n",
       "    </tr>\n",
       "    <tr>\n",
       "      <th>14831615</th>\n",
       "      <td>2022</td>\n",
       "      <td>4</td>\n",
       "      <td>30</td>\n",
       "      <td>23</td>\n",
       "      <td>2022-04-30 23:00:00</td>\n",
       "      <td>15.1</td>\n",
       "      <td>0.0</td>\n",
       "      <td>-1</td>\n",
       "      <td>41.0</td>\n",
       "      <td>2.1</td>\n",
       "      <td>5.0</td>\n",
       "      <td>-1</td>\n",
       "      <td>구지면</td>\n",
       "      <td>13.736111</td>\n",
       "      <td>58.79709</td>\n",
       "    </tr>\n",
       "  </tbody>\n",
       "</table>\n",
       "<p>14831616 rows × 15 columns</p>\n",
       "</div>"
      ],
      "text/plain": [
       "          year  month  day  hour             datetime  temp  rainfall  \\\n",
       "0         2010      6    1     0  2010-06-01 00:00:00  16.5       0.0   \n",
       "1         2010      6    1     1  2010-06-01 01:00:00  18.1       0.0   \n",
       "2         2010      6    1     2  2010-06-01 02:00:00  19.7       0.0   \n",
       "3         2010      6    1     3  2010-06-01 03:00:00  20.8       0.0   \n",
       "4         2010      6    1     4  2010-06-01 04:00:00  22.2       0.0   \n",
       "...        ...    ...  ...   ...                  ...   ...       ...   \n",
       "14831611  2022      4   30    19  2022-04-30 19:00:00  10.7       0.0   \n",
       "14831612  2022      4   30    20  2022-04-30 20:00:00  11.0       0.0   \n",
       "14831613  2022      4   30    21  2022-04-30 21:00:00  11.9       0.0   \n",
       "14831614  2022      4   30    22  2022-04-30 22:00:00  13.4       0.0   \n",
       "14831615  2022      4   30    23  2022-04-30 23:00:00  15.1       0.0   \n",
       "\n",
       "          lightning  humidity  wind_speed  wind_direction  condition region  \\\n",
       "0                -1      53.0         NaN             NaN          1    동인동   \n",
       "1                -1      49.0         NaN             NaN          1    동인동   \n",
       "2                -1      46.0         NaN             NaN          1    동인동   \n",
       "3                -1      41.0         NaN             NaN          1    동인동   \n",
       "4                -1      36.0         NaN             NaN          2    동인동   \n",
       "...             ...       ...         ...             ...        ...    ...   \n",
       "14831611         -1      71.0         2.1           335.0         -1    구지면   \n",
       "14831612         -1      65.0         2.2           339.0         -1    구지면   \n",
       "14831613         -1      61.0         2.2           338.0         -1    구지면   \n",
       "14831614         -1      53.0         2.0           351.0         -1    구지면   \n",
       "14831615         -1      41.0         2.1             5.0         -1    구지면   \n",
       "\n",
       "                 HI        DI  \n",
       "0         15.589444  60.74355  \n",
       "1         17.245000  62.73431  \n",
       "2         18.926667  64.65038  \n",
       "3         20.006111  65.72772  \n",
       "4         21.415556  67.04608  \n",
       "...             ...       ...  \n",
       "14831611   9.679444  52.33503  \n",
       "14831612   9.852778  52.99350  \n",
       "14831613  10.738333  54.40241  \n",
       "14831614  12.179444  56.60598  \n",
       "14831615  13.736111  58.79709  \n",
       "\n",
       "[14831616 rows x 15 columns]"
      ]
     },
     "execution_count": 26,
     "metadata": {},
     "output_type": "execute_result"
    }
   ],
   "source": [
    "# 첫 호출 테스트\n",
    "df_daegu"
   ]
  },
  {
   "cell_type": "markdown",
   "metadata": {},
   "source": [
    "### 칼럼 재조정 및 날짜 보정\n",
    "* unique 함수 사용을 위해 datetime에 있는 시간 부분을 제거하고 작업\n",
    "* (05.16 추가) 시간을 떼지 말고 별도의 칼럼을 하나 더 만들어서 작업 = 기존 시간 부분 떼지 말고 진행"
   ]
  },
  {
   "cell_type": "code",
   "execution_count": 27,
   "metadata": {},
   "outputs": [
    {
     "name": "stderr",
     "output_type": "stream",
     "text": [
      "C:\\Users\\JW\\AppData\\Local\\Temp\\ipykernel_11624\\921002645.py:3: SettingWithCopyWarning: \n",
      "A value is trying to be set on a copy of a slice from a DataFrame.\n",
      "Try using .loc[row_indexer,col_indexer] = value instead\n",
      "\n",
      "See the caveats in the documentation: https://pandas.pydata.org/pandas-docs/stable/user_guide/indexing.html#returning-a-view-versus-a-copy\n",
      "  daegu['ymd'] = daegu['datetime'].str.split(' ').str[0]\n",
      "C:\\Users\\JW\\AppData\\Local\\Temp\\ipykernel_11624\\921002645.py:4: SettingWithCopyWarning: \n",
      "A value is trying to be set on a copy of a slice from a DataFrame.\n",
      "Try using .loc[row_indexer,col_indexer] = value instead\n",
      "\n",
      "See the caveats in the documentation: https://pandas.pydata.org/pandas-docs/stable/user_guide/indexing.html#returning-a-view-versus-a-copy\n",
      "  daegu['time'] = daegu['datetime'].str.split(' ').str[1]\n"
     ]
    }
   ],
   "source": [
    "# Year-Month-Day의 YMD 칼럼 생성\n",
    "daegu = df_daegu[['region','year','datetime','temp','rainfall','lightning','humidity','wind_speed','wind_direction','condition','HI','DI']]\n",
    "daegu['ymd'] = daegu['datetime'].str.split(' ').str[0]\n",
    "daegu['time'] = daegu['datetime'].str.split(' ').str[1]\n",
    "daegu = daegu[['region','datetime','year','ymd','time','temp','rainfall','lightning','humidity','wind_speed','wind_direction','condition','HI','DI']]"
   ]
  },
  {
   "cell_type": "markdown",
   "metadata": {},
   "source": [
    "* 조건에 맞는 결과값을 뽑아서 따로 저장 후\n",
    "* 해당 기간에 대한 고유값만 모아서 저장\n",
    "* 그 후 각 리스트에 모여진 (수치들의 합 / 리스트 크기) 값을 평균 폭염 발생일로 지정 "
   ]
  },
  {
   "cell_type": "code",
   "execution_count": 28,
   "metadata": {},
   "outputs": [
    {
     "name": "stdout",
     "output_type": "stream",
     "text": [
      "대구 지역 매년 폭염 발생일 수\n",
      "[63, 53, 40, 54, 24, 26, 45, 53, 53, 39, 44, 39, 0]\n",
      "대구 지역 폭염 발생일 평균 :  41.0\n"
     ]
    }
   ],
   "source": [
    "daegu_result = []\n",
    "\n",
    "for i in range(2010,2023):\n",
    "    daegu_sample = daegu[(daegu['year'] == i) & (daegu['HI'] >= 35) & (daegu['DI'] >= 80)]\n",
    "    daegu_result.append(len(daegu_sample['ymd'].unique()))\n",
    "\n",
    "print(\"대구 지역 매년 폭염 발생일 수\" )\n",
    "print(daegu_result)\n",
    "\n",
    "sum = 0\n",
    "for i in range(len(daegu_result)):\n",
    "    sum += daegu_result[i]\n",
    "\n",
    "daegu_mean = sum / len(daegu_result)\n",
    "\n",
    "\n",
    "print(\"대구 지역 폭염 발생일 평균 : \",round(daegu_mean,2))"
   ]
  },
  {
   "cell_type": "markdown",
   "metadata": {},
   "source": [
    "## 열대야 / 열섬 분석\n",
    "* 열섬 현상은 낮보다 밤에 더 뚜렷하게 나타남\n",
    "* 측정 시간은 매 시 정각이므로 시간대를 20 ~ 05 시까지 제한하고 진행"
   ]
  },
  {
   "cell_type": "code",
   "execution_count": 29,
   "metadata": {},
   "outputs": [],
   "source": [
    "# 시간대 조정\n",
    "heat_daegu = daegu[(daegu['time'] >= '20:00:00') | (daegu['time'] <= '05:00:00')]"
   ]
  },
  {
   "cell_type": "code",
   "execution_count": 30,
   "metadata": {},
   "outputs": [
    {
     "name": "stdout",
     "output_type": "stream",
     "text": [
      "대구 지역 매년 열대야 발생일 수\n",
      "[55, 48, 37, 51, 19, 24, 41, 52, 53, 37, 42, 37, 0]\n",
      "대구 지역 열대야 발생일 평균 :  38.15\n"
     ]
    }
   ],
   "source": [
    "heat_result = []\n",
    "\n",
    "for i in range(2010,2023):\n",
    "    daegu_sample = heat_daegu[(heat_daegu['year'] == i) & (heat_daegu['HI'] >= 35) & (heat_daegu['DI'] >= 80)]\n",
    "    heat_result.append(len(daegu_sample['ymd'].unique()))\n",
    "\n",
    "print(\"대구 지역 매년 열대야 발생일 수\" )\n",
    "print(heat_result)\n",
    "\n",
    "sum = 0\n",
    "for i in range(len(heat_result)):\n",
    "    sum += heat_result[i]\n",
    "\n",
    "daegu_mean = sum / len(heat_result)\n",
    "\n",
    "\n",
    "print(\"대구 지역 열대야 발생일 평균 : \",round(daegu_mean,2))"
   ]
  },
  {
   "cell_type": "markdown",
   "metadata": {},
   "source": [
    "# 대전\n",
    "* 위의 대구와 같은 작업이므로 자세한 설명 생략"
   ]
  },
  {
   "cell_type": "code",
   "execution_count": 31,
   "metadata": {},
   "outputs": [
    {
     "name": "stderr",
     "output_type": "stream",
     "text": [
      "C:\\Users\\JW\\AppData\\Local\\Temp\\ipykernel_11624\\2915251781.py:3: SettingWithCopyWarning: \n",
      "A value is trying to be set on a copy of a slice from a DataFrame.\n",
      "Try using .loc[row_indexer,col_indexer] = value instead\n",
      "\n",
      "See the caveats in the documentation: https://pandas.pydata.org/pandas-docs/stable/user_guide/indexing.html#returning-a-view-versus-a-copy\n",
      "  daejeon['ymd'] = daejeon['datetime'].str.split(' ').str[0]\n",
      "C:\\Users\\JW\\AppData\\Local\\Temp\\ipykernel_11624\\2915251781.py:4: SettingWithCopyWarning: \n",
      "A value is trying to be set on a copy of a slice from a DataFrame.\n",
      "Try using .loc[row_indexer,col_indexer] = value instead\n",
      "\n",
      "See the caveats in the documentation: https://pandas.pydata.org/pandas-docs/stable/user_guide/indexing.html#returning-a-view-versus-a-copy\n",
      "  daejeon['time'] = daejeon['datetime'].str.split(' ').str[1]\n"
     ]
    }
   ],
   "source": [
    "# Year-Month-Day의 YMD 칼럼 생성\n",
    "daejeon = df_daejeon[['region','year','datetime','temp','rainfall','lightning','humidity','wind_speed','wind_direction','condition','HI','DI']]\n",
    "daejeon['ymd'] = daejeon['datetime'].str.split(' ').str[0]\n",
    "daejeon['time'] = daejeon['datetime'].str.split(' ').str[1]\n",
    "daejeon = daejeon[['region','datetime','year','ymd','time','temp','rainfall','lightning','humidity','wind_speed','wind_direction','condition','HI','DI']]"
   ]
  },
  {
   "cell_type": "code",
   "execution_count": 32,
   "metadata": {},
   "outputs": [
    {
     "name": "stdout",
     "output_type": "stream",
     "text": [
      "대전 지역 매년 폭염 발생일 수\n",
      "[51, 37, 38, 56, 20, 23, 40, 53, 54, 30, 34, 35, 0]\n",
      "대전 지역 폭염 발생일 평균 :  36.23\n"
     ]
    }
   ],
   "source": [
    "daejeon_result = []\n",
    "\n",
    "for i in range(2010,2023):\n",
    "    daejeon_sample = daejeon[(daejeon['year'] == i) & (daejeon['HI'] >= 35) & (daejeon['DI'] >= 80)]\n",
    "    daejeon_result.append(len(daejeon_sample['ymd'].unique()))\n",
    "\n",
    "print(\"대전 지역 매년 폭염 발생일 수\" )\n",
    "print(daejeon_result)\n",
    "\n",
    "sum = 0\n",
    "for i in range(len(daejeon_result)):\n",
    "    sum += daejeon_result[i]\n",
    "\n",
    "daejeon_mean = sum / len(daejeon_result)\n",
    "\n",
    "\n",
    "print(\"대전 지역 폭염 발생일 평균 : \",round(daejeon_mean,2))"
   ]
  },
  {
   "cell_type": "code",
   "execution_count": 33,
   "metadata": {},
   "outputs": [
    {
     "name": "stdout",
     "output_type": "stream",
     "text": [
      "대전 지역 매년 열대야 발생일 수\n",
      "[46, 36, 35, 50, 16, 20, 38, 51, 52, 30, 34, 35, 0]\n",
      "대전 지역 열대야 발생일 평균 :  34.08\n"
     ]
    }
   ],
   "source": [
    "# 시간대 조정\n",
    "heat_daejeon = daejeon[(daejeon['time'] >= '20:00:00') | (daejeon['time'] <= '05:00:00')]\n",
    "\n",
    "heat_result = []\n",
    "\n",
    "for i in range(2010,2023):\n",
    "    daejeon_sample = heat_daejeon[(heat_daejeon['year'] == i) & (heat_daejeon['HI'] >= 35) & (heat_daejeon['DI'] >= 80)]\n",
    "    heat_result.append(len(daejeon_sample['ymd'].unique()))\n",
    "\n",
    "print(\"대전 지역 매년 열대야 발생일 수\" )\n",
    "print(heat_result)\n",
    "\n",
    "sum = 0\n",
    "for i in range(len(heat_result)):\n",
    "    sum += heat_result[i]\n",
    "\n",
    "heat_mean = sum / len(heat_result)\n",
    "\n",
    "\n",
    "print(\"대전 지역 열대야 발생일 평균 : \",round(heat_mean,2))"
   ]
  },
  {
   "cell_type": "markdown",
   "metadata": {},
   "source": [
    "# 청주\n",
    "* 위의 대구와 같은 작업이므로 자세한 설명 생략"
   ]
  },
  {
   "cell_type": "code",
   "execution_count": 34,
   "metadata": {},
   "outputs": [
    {
     "name": "stderr",
     "output_type": "stream",
     "text": [
      "C:\\Users\\JW\\AppData\\Local\\Temp\\ipykernel_11624\\1309749472.py:3: SettingWithCopyWarning: \n",
      "A value is trying to be set on a copy of a slice from a DataFrame.\n",
      "Try using .loc[row_indexer,col_indexer] = value instead\n",
      "\n",
      "See the caveats in the documentation: https://pandas.pydata.org/pandas-docs/stable/user_guide/indexing.html#returning-a-view-versus-a-copy\n",
      "  cheongju['ymd'] =cheongju['datetime'].str.split(' ').str[0]\n",
      "C:\\Users\\JW\\AppData\\Local\\Temp\\ipykernel_11624\\1309749472.py:4: SettingWithCopyWarning: \n",
      "A value is trying to be set on a copy of a slice from a DataFrame.\n",
      "Try using .loc[row_indexer,col_indexer] = value instead\n",
      "\n",
      "See the caveats in the documentation: https://pandas.pydata.org/pandas-docs/stable/user_guide/indexing.html#returning-a-view-versus-a-copy\n",
      "  cheongju['time'] = cheongju['datetime'].str.split(' ').str[1]\n"
     ]
    }
   ],
   "source": [
    "# Year-Month-Day의 YMD 칼럼 생성\n",
    "cheongju = df_cheongju[['region','year','datetime','temp','rainfall','lightning','humidity','wind_speed','wind_direction','condition','HI','DI']]\n",
    "cheongju['ymd'] =cheongju['datetime'].str.split(' ').str[0]\n",
    "cheongju['time'] = cheongju['datetime'].str.split(' ').str[1]\n",
    "cheongju = cheongju[['region','datetime','year','ymd','time','temp','rainfall','lightning','humidity','wind_speed','wind_direction','condition','HI','DI']]"
   ]
  },
  {
   "cell_type": "code",
   "execution_count": 35,
   "metadata": {},
   "outputs": [
    {
     "name": "stdout",
     "output_type": "stream",
     "text": [
      "청주 지역 매년 폭염 발생일 수\n",
      "[49, 37, 36, 55, 20, 21, 39, 46, 50, 38, 47, 42, 0]\n",
      "청주 지역 폭염 발생일 평균 :  36.92\n"
     ]
    }
   ],
   "source": [
    "cheongju_result = []\n",
    "\n",
    "for i in range(2010,2023):\n",
    "    cheongju_sample = cheongju[(cheongju['year'] == i) & (cheongju['HI'] >= 35) & (cheongju['DI'] >= 80)]\n",
    "    cheongju_result.append(len(cheongju_sample['ymd'].unique()))\n",
    "\n",
    "print(\"청주 지역 매년 폭염 발생일 수\" )\n",
    "print(cheongju_result)\n",
    "\n",
    "sum = 0\n",
    "for i in range(len(cheongju_result)):\n",
    "    sum += cheongju_result[i]\n",
    "\n",
    "cheongju_mean = sum / len(cheongju_result)\n",
    "\n",
    "\n",
    "print(\"청주 지역 폭염 발생일 평균 : \",round(cheongju_mean,2))"
   ]
  },
  {
   "cell_type": "code",
   "execution_count": 36,
   "metadata": {},
   "outputs": [
    {
     "name": "stdout",
     "output_type": "stream",
     "text": [
      "청주 지역 매년 열대야 발생일 수\n",
      "[44, 33, 33, 49, 16, 16, 36, 44, 48, 34, 41, 34, 0]\n",
      "청주 지역 열대야 발생일 평균 :  32.92\n"
     ]
    }
   ],
   "source": [
    "# 시간대 조정\n",
    "heat_cheongju = cheongju[(cheongju['time'] >= '20:00:00') | (cheongju['time'] <= '05:00:00')]\n",
    "\n",
    "heat_result = []\n",
    "\n",
    "for i in range(2010,2023):\n",
    "    cheongju_sample = heat_cheongju[(heat_cheongju['year'] == i) & (heat_cheongju['HI'] >= 35) & (heat_cheongju['DI'] >= 80)]\n",
    "    heat_result.append(len(cheongju_sample['ymd'].unique()))\n",
    "\n",
    "print(\"청주 지역 매년 열대야 발생일 수\" )\n",
    "print(heat_result)\n",
    "\n",
    "sum = 0\n",
    "for i in range(len(heat_result)):\n",
    "    sum += heat_result[i]\n",
    "\n",
    "heat_mean = sum / len(heat_result)\n",
    "\n",
    "\n",
    "print(\"청주 지역 열대야 발생일 평균 : \",round(heat_mean,2))"
   ]
  },
  {
   "cell_type": "markdown",
   "metadata": {},
   "source": [
    "# 춘천\n",
    "* 위의 대구와 같은 작업이므로 자세한 설명 생략"
   ]
  },
  {
   "cell_type": "code",
   "execution_count": 37,
   "metadata": {},
   "outputs": [
    {
     "name": "stderr",
     "output_type": "stream",
     "text": [
      "C:\\Users\\JW\\AppData\\Local\\Temp\\ipykernel_11624\\66805036.py:3: SettingWithCopyWarning: \n",
      "A value is trying to be set on a copy of a slice from a DataFrame.\n",
      "Try using .loc[row_indexer,col_indexer] = value instead\n",
      "\n",
      "See the caveats in the documentation: https://pandas.pydata.org/pandas-docs/stable/user_guide/indexing.html#returning-a-view-versus-a-copy\n",
      "  chuncheon['ymd'] = chuncheon['datetime'].str.split(' ').str[0]\n",
      "C:\\Users\\JW\\AppData\\Local\\Temp\\ipykernel_11624\\66805036.py:4: SettingWithCopyWarning: \n",
      "A value is trying to be set on a copy of a slice from a DataFrame.\n",
      "Try using .loc[row_indexer,col_indexer] = value instead\n",
      "\n",
      "See the caveats in the documentation: https://pandas.pydata.org/pandas-docs/stable/user_guide/indexing.html#returning-a-view-versus-a-copy\n",
      "  chuncheon['time'] = chuncheon['datetime'].str.split(' ').str[1]\n"
     ]
    }
   ],
   "source": [
    "# Year-Month-Day의 YMD 칼럼 생성\n",
    "chuncheon = df_chuncheon[['region','year','datetime','temp','rainfall','lightning','humidity','wind_speed','wind_direction','condition','HI','DI']]\n",
    "chuncheon['ymd'] = chuncheon['datetime'].str.split(' ').str[0]\n",
    "chuncheon['time'] = chuncheon['datetime'].str.split(' ').str[1]\n",
    "chuncheon = chuncheon[['region','datetime','year','ymd','time','temp','rainfall','lightning','humidity','wind_speed','wind_direction','condition','HI','DI']]"
   ]
  },
  {
   "cell_type": "code",
   "execution_count": 38,
   "metadata": {},
   "outputs": [
    {
     "data": {
      "text/html": [
       "<div>\n",
       "<style scoped>\n",
       "    .dataframe tbody tr th:only-of-type {\n",
       "        vertical-align: middle;\n",
       "    }\n",
       "\n",
       "    .dataframe tbody tr th {\n",
       "        vertical-align: top;\n",
       "    }\n",
       "\n",
       "    .dataframe thead th {\n",
       "        text-align: right;\n",
       "    }\n",
       "</style>\n",
       "<table border=\"1\" class=\"dataframe\">\n",
       "  <thead>\n",
       "    <tr style=\"text-align: right;\">\n",
       "      <th></th>\n",
       "      <th>region</th>\n",
       "      <th>datetime</th>\n",
       "      <th>year</th>\n",
       "      <th>ymd</th>\n",
       "      <th>time</th>\n",
       "      <th>temp</th>\n",
       "      <th>rainfall</th>\n",
       "      <th>lightning</th>\n",
       "      <th>humidity</th>\n",
       "      <th>wind_speed</th>\n",
       "      <th>wind_direction</th>\n",
       "      <th>condition</th>\n",
       "      <th>HI</th>\n",
       "      <th>DI</th>\n",
       "    </tr>\n",
       "  </thead>\n",
       "  <tbody>\n",
       "    <tr>\n",
       "      <th>799</th>\n",
       "      <td>강남동</td>\n",
       "      <td>2010-07-04 07:00:00</td>\n",
       "      <td>2010</td>\n",
       "      <td>2010-07-04</td>\n",
       "      <td>07:00:00</td>\n",
       "      <td>31.6</td>\n",
       "      <td>0.0</td>\n",
       "      <td>-1</td>\n",
       "      <td>56.0</td>\n",
       "      <td>NaN</td>\n",
       "      <td>NaN</td>\n",
       "      <td>2</td>\n",
       "      <td>35.081508</td>\n",
       "      <td>81.40704</td>\n",
       "    </tr>\n",
       "    <tr>\n",
       "      <th>820</th>\n",
       "      <td>강남동</td>\n",
       "      <td>2010-07-05 04:00:00</td>\n",
       "      <td>2010</td>\n",
       "      <td>2010-07-05</td>\n",
       "      <td>04:00:00</td>\n",
       "      <td>31.3</td>\n",
       "      <td>0.0</td>\n",
       "      <td>-1</td>\n",
       "      <td>59.0</td>\n",
       "      <td>NaN</td>\n",
       "      <td>NaN</td>\n",
       "      <td>3</td>\n",
       "      <td>35.229777</td>\n",
       "      <td>81.49833</td>\n",
       "    </tr>\n",
       "    <tr>\n",
       "      <th>821</th>\n",
       "      <td>강남동</td>\n",
       "      <td>2010-07-05 05:00:00</td>\n",
       "      <td>2010</td>\n",
       "      <td>2010-07-05</td>\n",
       "      <td>05:00:00</td>\n",
       "      <td>31.9</td>\n",
       "      <td>0.0</td>\n",
       "      <td>-1</td>\n",
       "      <td>54.0</td>\n",
       "      <td>NaN</td>\n",
       "      <td>NaN</td>\n",
       "      <td>2</td>\n",
       "      <td>35.171551</td>\n",
       "      <td>81.47074</td>\n",
       "    </tr>\n",
       "    <tr>\n",
       "      <th>822</th>\n",
       "      <td>강남동</td>\n",
       "      <td>2010-07-05 06:00:00</td>\n",
       "      <td>2010</td>\n",
       "      <td>2010-07-05</td>\n",
       "      <td>06:00:00</td>\n",
       "      <td>33.0</td>\n",
       "      <td>0.0</td>\n",
       "      <td>-1</td>\n",
       "      <td>47.0</td>\n",
       "      <td>NaN</td>\n",
       "      <td>NaN</td>\n",
       "      <td>2</td>\n",
       "      <td>35.461228</td>\n",
       "      <td>81.66390</td>\n",
       "    </tr>\n",
       "    <tr>\n",
       "      <th>823</th>\n",
       "      <td>강남동</td>\n",
       "      <td>2010-07-05 07:00:00</td>\n",
       "      <td>2010</td>\n",
       "      <td>2010-07-05</td>\n",
       "      <td>07:00:00</td>\n",
       "      <td>32.5</td>\n",
       "      <td>0.0</td>\n",
       "      <td>-1</td>\n",
       "      <td>50.0</td>\n",
       "      <td>NaN</td>\n",
       "      <td>NaN</td>\n",
       "      <td>2</td>\n",
       "      <td>35.303983</td>\n",
       "      <td>81.56250</td>\n",
       "    </tr>\n",
       "    <tr>\n",
       "      <th>...</th>\n",
       "      <td>...</td>\n",
       "      <td>...</td>\n",
       "      <td>...</td>\n",
       "      <td>...</td>\n",
       "      <td>...</td>\n",
       "      <td>...</td>\n",
       "      <td>...</td>\n",
       "      <td>...</td>\n",
       "      <td>...</td>\n",
       "      <td>...</td>\n",
       "      <td>...</td>\n",
       "      <td>...</td>\n",
       "      <td>...</td>\n",
       "      <td>...</td>\n",
       "    </tr>\n",
       "    <tr>\n",
       "      <th>2709244</th>\n",
       "      <td>후평3동</td>\n",
       "      <td>2021-08-07 04:00:00</td>\n",
       "      <td>2021</td>\n",
       "      <td>2021-08-07</td>\n",
       "      <td>04:00:00</td>\n",
       "      <td>32.1</td>\n",
       "      <td>0.0</td>\n",
       "      <td>-1</td>\n",
       "      <td>53.0</td>\n",
       "      <td>1.3</td>\n",
       "      <td>247.0</td>\n",
       "      <td>-1</td>\n",
       "      <td>35.309807</td>\n",
       "      <td>81.56487</td>\n",
       "    </tr>\n",
       "    <tr>\n",
       "      <th>2709246</th>\n",
       "      <td>후평3동</td>\n",
       "      <td>2021-08-07 06:00:00</td>\n",
       "      <td>2021</td>\n",
       "      <td>2021-08-07</td>\n",
       "      <td>06:00:00</td>\n",
       "      <td>32.4</td>\n",
       "      <td>0.0</td>\n",
       "      <td>-1</td>\n",
       "      <td>53.0</td>\n",
       "      <td>2.3</td>\n",
       "      <td>248.0</td>\n",
       "      <td>-1</td>\n",
       "      <td>35.916709</td>\n",
       "      <td>81.96528</td>\n",
       "    </tr>\n",
       "    <tr>\n",
       "      <th>2709247</th>\n",
       "      <td>후평3동</td>\n",
       "      <td>2021-08-07 07:00:00</td>\n",
       "      <td>2021</td>\n",
       "      <td>2021-08-07</td>\n",
       "      <td>07:00:00</td>\n",
       "      <td>32.2</td>\n",
       "      <td>0.0</td>\n",
       "      <td>-1</td>\n",
       "      <td>53.0</td>\n",
       "      <td>1.5</td>\n",
       "      <td>249.0</td>\n",
       "      <td>-1</td>\n",
       "      <td>35.510210</td>\n",
       "      <td>81.69834</td>\n",
       "    </tr>\n",
       "    <tr>\n",
       "      <th>2709248</th>\n",
       "      <td>후평3동</td>\n",
       "      <td>2021-08-07 08:00:00</td>\n",
       "      <td>2021</td>\n",
       "      <td>2021-08-07</td>\n",
       "      <td>08:00:00</td>\n",
       "      <td>31.9</td>\n",
       "      <td>0.0</td>\n",
       "      <td>-1</td>\n",
       "      <td>55.0</td>\n",
       "      <td>1.5</td>\n",
       "      <td>228.0</td>\n",
       "      <td>-1</td>\n",
       "      <td>35.434556</td>\n",
       "      <td>81.64355</td>\n",
       "    </tr>\n",
       "    <tr>\n",
       "      <th>2709267</th>\n",
       "      <td>후평3동</td>\n",
       "      <td>2021-08-08 03:00:00</td>\n",
       "      <td>2021</td>\n",
       "      <td>2021-08-08</td>\n",
       "      <td>03:00:00</td>\n",
       "      <td>32.0</td>\n",
       "      <td>0.0</td>\n",
       "      <td>-1</td>\n",
       "      <td>54.0</td>\n",
       "      <td>2.6</td>\n",
       "      <td>30.0</td>\n",
       "      <td>-1</td>\n",
       "      <td>35.372995</td>\n",
       "      <td>81.60520</td>\n",
       "    </tr>\n",
       "  </tbody>\n",
       "</table>\n",
       "<p>38982 rows × 14 columns</p>\n",
       "</div>"
      ],
      "text/plain": [
       "        region             datetime  year         ymd      time  temp  \\\n",
       "799        강남동  2010-07-04 07:00:00  2010  2010-07-04  07:00:00  31.6   \n",
       "820        강남동  2010-07-05 04:00:00  2010  2010-07-05  04:00:00  31.3   \n",
       "821        강남동  2010-07-05 05:00:00  2010  2010-07-05  05:00:00  31.9   \n",
       "822        강남동  2010-07-05 06:00:00  2010  2010-07-05  06:00:00  33.0   \n",
       "823        강남동  2010-07-05 07:00:00  2010  2010-07-05  07:00:00  32.5   \n",
       "...        ...                  ...   ...         ...       ...   ...   \n",
       "2709244   후평3동  2021-08-07 04:00:00  2021  2021-08-07  04:00:00  32.1   \n",
       "2709246   후평3동  2021-08-07 06:00:00  2021  2021-08-07  06:00:00  32.4   \n",
       "2709247   후평3동  2021-08-07 07:00:00  2021  2021-08-07  07:00:00  32.2   \n",
       "2709248   후평3동  2021-08-07 08:00:00  2021  2021-08-07  08:00:00  31.9   \n",
       "2709267   후평3동  2021-08-08 03:00:00  2021  2021-08-08  03:00:00  32.0   \n",
       "\n",
       "         rainfall  lightning  humidity  wind_speed  wind_direction  condition  \\\n",
       "799           0.0         -1      56.0         NaN             NaN          2   \n",
       "820           0.0         -1      59.0         NaN             NaN          3   \n",
       "821           0.0         -1      54.0         NaN             NaN          2   \n",
       "822           0.0         -1      47.0         NaN             NaN          2   \n",
       "823           0.0         -1      50.0         NaN             NaN          2   \n",
       "...           ...        ...       ...         ...             ...        ...   \n",
       "2709244       0.0         -1      53.0         1.3           247.0         -1   \n",
       "2709246       0.0         -1      53.0         2.3           248.0         -1   \n",
       "2709247       0.0         -1      53.0         1.5           249.0         -1   \n",
       "2709248       0.0         -1      55.0         1.5           228.0         -1   \n",
       "2709267       0.0         -1      54.0         2.6            30.0         -1   \n",
       "\n",
       "                HI        DI  \n",
       "799      35.081508  81.40704  \n",
       "820      35.229777  81.49833  \n",
       "821      35.171551  81.47074  \n",
       "822      35.461228  81.66390  \n",
       "823      35.303983  81.56250  \n",
       "...            ...       ...  \n",
       "2709244  35.309807  81.56487  \n",
       "2709246  35.916709  81.96528  \n",
       "2709247  35.510210  81.69834  \n",
       "2709248  35.434556  81.64355  \n",
       "2709267  35.372995  81.60520  \n",
       "\n",
       "[38982 rows x 14 columns]"
      ]
     },
     "execution_count": 38,
     "metadata": {},
     "output_type": "execute_result"
    }
   ],
   "source": [
    "chuncheon_sample = chuncheon[(chuncheon['HI'] >= 35) & (chuncheon['DI'] >= 80)]\n",
    "chuncheon_sample"
   ]
  },
  {
   "cell_type": "code",
   "execution_count": 39,
   "metadata": {},
   "outputs": [
    {
     "name": "stdout",
     "output_type": "stream",
     "text": [
      "춘천 지역 매년 폭염 발생일 수\n",
      "[34, 22, 28, 31, 14, 27, 41, 38, 45, 33, 29, 35, 0]\n",
      "춘천 지역 폭염 발생일 평균 :  29.0\n"
     ]
    }
   ],
   "source": [
    "chuncheon_result = []\n",
    "\n",
    "for i in range(2010,2023):\n",
    "    chuncheon_sample = chuncheon[(chuncheon['year'] == i) & (chuncheon['HI'] >= 35) & (chuncheon['DI'] >= 80)]\n",
    "    chuncheon_result.append(len(chuncheon_sample['ymd'].unique()))\n",
    "\n",
    "print(\"춘천 지역 매년 폭염 발생일 수\" )\n",
    "print(chuncheon_result)\n",
    "\n",
    "sum = 0\n",
    "for i in range(len(chuncheon_result)):\n",
    "    sum += chuncheon_result[i]\n",
    "\n",
    "chuncheon_mean = sum / len(chuncheon_result)\n",
    "\n",
    "\n",
    "print(\"춘천 지역 폭염 발생일 평균 : \",round(chuncheon_mean,2))"
   ]
  },
  {
   "cell_type": "code",
   "execution_count": 40,
   "metadata": {},
   "outputs": [
    {
     "name": "stdout",
     "output_type": "stream",
     "text": [
      "춘천 지역 매년 열대야 발생일 수\n",
      "[27, 21, 22, 27, 11, 21, 39, 35, 43, 31, 29, 35, 0]\n",
      "춘천 지역 열대야 발생일 평균 :  26.23\n"
     ]
    }
   ],
   "source": [
    "# 시간대 조정\n",
    "heat_chuncheon = chuncheon[(chuncheon['time'] >= '20:00:00') | (chuncheon['time'] <= '05:00:00')]\n",
    "\n",
    "heat_result = []\n",
    "\n",
    "for i in range(2010,2023):\n",
    "    chuncheon_sample = heat_chuncheon[(heat_chuncheon['year'] == i) & (heat_chuncheon['HI'] >= 35) & (heat_chuncheon['DI'] >= 80)]\n",
    "    heat_result.append(len(chuncheon_sample['ymd'].unique()))\n",
    "\n",
    "print(\"춘천 지역 매년 열대야 발생일 수\" )\n",
    "print(heat_result)\n",
    "\n",
    "sum = 0\n",
    "for i in range(len(heat_result)):\n",
    "    sum += heat_result[i]\n",
    "\n",
    "heat_mean = sum / len(heat_result)\n",
    "\n",
    "\n",
    "print(\"춘천 지역 열대야 발생일 평균 : \",round(heat_mean,2))"
   ]
  },
  {
   "cell_type": "markdown",
   "metadata": {},
   "source": [
    "# 간단한 그래프"
   ]
  },
  {
   "cell_type": "code",
   "execution_count": 41,
   "metadata": {},
   "outputs": [
    {
     "name": "stdout",
     "output_type": "stream",
     "text": [
      "[63, 53, 40, 54, 24, 26, 45, 53, 53, 39, 44, 39, 0]\n",
      "[51, 37, 38, 56, 20, 23, 40, 53, 54, 30, 34, 35, 0]\n",
      "[49, 37, 36, 55, 20, 21, 39, 46, 50, 38, 47, 42, 0]\n",
      "[34, 22, 28, 31, 14, 27, 41, 38, 45, 33, 29, 35, 0]\n"
     ]
    }
   ],
   "source": [
    "# 각 리스트 출력\n",
    "print(daegu_result)\n",
    "print(daejeon_result)\n",
    "print(cheongju_result)\n",
    "print(chuncheon_result)\n"
   ]
  },
  {
   "cell_type": "code",
   "execution_count": 42,
   "metadata": {},
   "outputs": [
    {
     "name": "stdout",
     "output_type": "stream",
     "text": [
      "[2010, 2011, 2012, 2013, 2014, 2015, 2016, 2017, 2018, 2019, 2020, 2021, 2022]\n"
     ]
    }
   ],
   "source": [
    "year_list = []\n",
    "for i in range(2010,2023):\n",
    "    year_list.append(i)\n",
    "\n",
    "print(year_list)"
   ]
  },
  {
   "cell_type": "code",
   "execution_count": 43,
   "metadata": {},
   "outputs": [
    {
     "data": {
      "image/png": "[encoded data removed]",
      "text/plain": [
       "<Figure size 1440x648 with 1 Axes>"
      ]
     },
     "metadata": {
      "needs_background": "light"
     },
     "output_type": "display_data"
    }
   ],
   "source": [
    "fig = plt.figure(figsize=(20,9))\n",
    "sns.countplot(data=daegu, x='year')\n",
    "plt.xticks(rotation=90)\n",
    "plt.title('Average number of heatwave days by year')\n",
    "plt.show()"
   ]
  },
  {
   "cell_type": "code",
   "execution_count": 44,
   "metadata": {},
   "outputs": [
    {
     "data": {
      "image/png": "[encoded data removed]",
      "text/plain": [
       "<Figure size 432x288 with 1 Axes>"
      ]
     },
     "metadata": {
      "needs_background": "light"
     },
     "output_type": "display_data"
    }
   ],
   "source": [
    "plt.plot(year_list,daegu_result)\n",
    "plt.xlabel('Year')\n",
    "plt.ylabel('Count of Daegu Average Heatwave')\n",
    "plt.show()"
   ]
  },
  {
   "cell_type": "code",
   "execution_count": 45,
   "metadata": {},
   "outputs": [
    {
     "data": {
      "image/png": "[encoded data removed]",
      "text/plain": [
       "<Figure size 1080x432 with 4 Axes>"
      ]
     },
     "metadata": {
      "needs_background": "light"
     },
     "output_type": "display_data"
    }
   ],
   "source": [
    "fig = plt.figure(figsize=(15,6))\n",
    "\n",
    "plt.subplot(221)\n",
    "plt.bar(year_list,daegu_result)\n",
    "plt.xlabel('Year')\n",
    "plt.ylabel('Count of Daegu')\n",
    "\n",
    "plt.subplot(222)\n",
    "plt.bar(year_list,daejeon_result)\n",
    "plt.xlabel('Year')\n",
    "plt.ylabel('Count of Daejeon')\n",
    "\n",
    "plt.subplot(223)\n",
    "plt.bar(year_list,cheongju_result)\n",
    "plt.xlabel('Year')\n",
    "plt.ylabel('Count of Cheongju')\n",
    "\n",
    "plt.subplot(224)\n",
    "plt.bar(year_list,chuncheon_result)\n",
    "plt.xlabel('Year')\n",
    "plt.ylabel('Count of Chuncheon')\n",
    "\n",
    "plt.show()"
   ]
  },
  {
   "cell_type": "code",
   "execution_count": 46,
   "metadata": {},
   "outputs": [
    {
     "data": {
      "image/png": "[encoded data removed]",
      "text/plain": [
       "<Figure size 1080x432 with 1 Axes>"
      ]
     },
     "metadata": {
      "needs_background": "light"
     },
     "output_type": "display_data"
    }
   ],
   "source": [
    "daejeon_mean = round(daejeon_mean,1)\n",
    "cheongju_mean = round(cheongju_mean,1)\n",
    "\n",
    "mean_list = [daegu_mean,daejeon_mean,cheongju_mean,chuncheon_mean]\n",
    "city_list = ['Daegu','Daejeon','Cheongju','Chuncheon']\n",
    "\n",
    "fig = plt.figure(figsize=(15,6))\n",
    "\n",
    "plt.bar(city_list,mean_list)\n",
    "plt.xlabel('City')\n",
    "plt.ylabel('Mean of Heatwave')\n",
    "\n",
    "plt.show()\n"
   ]
  }
 ],
 "metadata": {
  "interpreter": {
   "hash": "bac7091f92fc2f0b00be828225d1955fd63bf4b7c98ed2b01933ae57ce3415f0"
  },
  "kernelspec": {
   "display_name": "Python 3.10.4 ('.venv': venv)",
   "language": "python",
   "name": "python3"
  },
  "language_info": {
   "codemirror_mode": {
    "name": "ipython",
    "version": 3
   },
   "file_extension": ".py",
   "mimetype": "text/x-python",
   "name": "python",
   "nbconvert_exporter": "python",
   "pygments_lexer": "ipython3",
   "version": "3.10.4"
  },
  "orig_nbformat": 4
 },
 "nbformat": 4,
 "nbformat_minor": 2
}
