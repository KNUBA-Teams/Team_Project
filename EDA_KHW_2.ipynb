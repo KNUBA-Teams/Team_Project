{
 "cells": [
  {
   "cell_type": "markdown",
   "metadata": {},
   "source": [
    "# 1. 데이터 전처리"
   ]
  },
  {
   "cell_type": "markdown",
   "metadata": {},
   "source": [
    "### 1. 데이터 불러오기"
   ]
  },
  {
   "cell_type": "markdown",
   "metadata": {},
   "source": [
    "* 로우 데이터를 통합해 저장한 후 대구 지역만 추출하는 코드"
   ]
  },
  {
   "cell_type": "code",
   "execution_count": 835,
   "metadata": {},
   "outputs": [],
   "source": [
    "# concat_list = []\n",
    "\n",
    "# try:\n",
    "#     path = './dataset/electrocity/'\n",
    "#     files = glob.glob(path + \"*.xlsx\")\n",
    "\n",
    "#     for file_name in files:\n",
    "#         df = pd.read_excel(file_name)\n",
    "#         df = pd.DataFrame(df)\n",
    "#         concat_list.append(df)\n",
    "\n",
    "# except Exception as ex:\n",
    "#     print('error' + str(ex))\n",
    "\n",
    "\n",
    "# df1 = pd.concat(concat_list)\n",
    "\n",
    "# df1\n",
    "\n",
    "# elect_daegu = df1[df1['시도'] == '대구광역시']\n",
    "\n",
    "# elect_daegu.to_csv('./output/elec_daegu.csv')"
   ]
  },
  {
   "cell_type": "markdown",
   "metadata": {},
   "source": [
    "* 저장한 데이터 불러오기"
   ]
  },
  {
   "cell_type": "code",
   "execution_count": 836,
   "metadata": {},
   "outputs": [
    {
     "name": "stderr",
     "output_type": "stream",
     "text": [
      "C:\\Users\\trap1\\AppData\\Local\\Temp\\ipykernel_8616\\3510301853.py:5: DtypeWarning: Columns (5,7,10) have mixed types. Specify dtype option on import or set low_memory=False.\n",
      "  elec_daegu = pd.read_csv('./output/elec_daegu.csv', index_col=0)\n"
     ]
    },
    {
     "data": {
      "text/html": [
       "<div>\n",
       "<style scoped>\n",
       "    .dataframe tbody tr th:only-of-type {\n",
       "        vertical-align: middle;\n",
       "    }\n",
       "\n",
       "    .dataframe tbody tr th {\n",
       "        vertical-align: top;\n",
       "    }\n",
       "\n",
       "    .dataframe thead th {\n",
       "        text-align: right;\n",
       "    }\n",
       "</style>\n",
       "<table border=\"1\" class=\"dataframe\">\n",
       "  <thead>\n",
       "    <tr style=\"text-align: right;\">\n",
       "      <th></th>\n",
       "      <th>년도</th>\n",
       "      <th>월</th>\n",
       "      <th>시도</th>\n",
       "      <th>시군구</th>\n",
       "      <th>읍면동(행정동)</th>\n",
       "      <th>계약종별</th>\n",
       "      <th>고객호수</th>\n",
       "      <th>판매량</th>\n",
       "      <th>판매요금</th>\n",
       "      <th>행정동</th>\n",
       "      <th>사용량</th>\n",
       "      <th>전기요금</th>\n",
       "      <th>행정동코드</th>\n",
       "      <th>호수</th>\n",
       "      <th>전력사용량</th>\n",
       "    </tr>\n",
       "  </thead>\n",
       "  <tbody>\n",
       "    <tr>\n",
       "      <th>5309</th>\n",
       "      <td>2022</td>\n",
       "      <td>1</td>\n",
       "      <td>대구광역시</td>\n",
       "      <td>남구</td>\n",
       "      <td>송현2동</td>\n",
       "      <td>가로등</td>\n",
       "      <td>62447</td>\n",
       "      <td>5486690.0</td>\n",
       "      <td>3.219613e+08</td>\n",
       "      <td>NaN</td>\n",
       "      <td>NaN</td>\n",
       "      <td>NaN</td>\n",
       "      <td>NaN</td>\n",
       "      <td>NaN</td>\n",
       "      <td>NaN</td>\n",
       "    </tr>\n",
       "    <tr>\n",
       "      <th>5310</th>\n",
       "      <td>2022</td>\n",
       "      <td>1</td>\n",
       "      <td>대구광역시</td>\n",
       "      <td>남구</td>\n",
       "      <td>송현2동</td>\n",
       "      <td>교육용</td>\n",
       "      <td>632214</td>\n",
       "      <td>166331209.0</td>\n",
       "      <td>2.015713e+10</td>\n",
       "      <td>NaN</td>\n",
       "      <td>NaN</td>\n",
       "      <td>NaN</td>\n",
       "      <td>NaN</td>\n",
       "      <td>NaN</td>\n",
       "      <td>NaN</td>\n",
       "    </tr>\n",
       "    <tr>\n",
       "      <th>5311</th>\n",
       "      <td>2022</td>\n",
       "      <td>1</td>\n",
       "      <td>대구광역시</td>\n",
       "      <td>남구</td>\n",
       "      <td>송현2동</td>\n",
       "      <td>농사용</td>\n",
       "      <td>176</td>\n",
       "      <td>231066.0</td>\n",
       "      <td>9.040889e+06</td>\n",
       "      <td>NaN</td>\n",
       "      <td>NaN</td>\n",
       "      <td>NaN</td>\n",
       "      <td>NaN</td>\n",
       "      <td>NaN</td>\n",
       "      <td>NaN</td>\n",
       "    </tr>\n",
       "    <tr>\n",
       "      <th>5312</th>\n",
       "      <td>2022</td>\n",
       "      <td>1</td>\n",
       "      <td>대구광역시</td>\n",
       "      <td>남구</td>\n",
       "      <td>송현2동</td>\n",
       "      <td>산업용</td>\n",
       "      <td>2662</td>\n",
       "      <td>7105615.0</td>\n",
       "      <td>8.271090e+08</td>\n",
       "      <td>NaN</td>\n",
       "      <td>NaN</td>\n",
       "      <td>NaN</td>\n",
       "      <td>NaN</td>\n",
       "      <td>NaN</td>\n",
       "      <td>NaN</td>\n",
       "    </tr>\n",
       "    <tr>\n",
       "      <th>5313</th>\n",
       "      <td>2022</td>\n",
       "      <td>1</td>\n",
       "      <td>대구광역시</td>\n",
       "      <td>남구</td>\n",
       "      <td>송현2동</td>\n",
       "      <td>심야</td>\n",
       "      <td>21571</td>\n",
       "      <td>26705734.0</td>\n",
       "      <td>1.933639e+09</td>\n",
       "      <td>NaN</td>\n",
       "      <td>NaN</td>\n",
       "      <td>NaN</td>\n",
       "      <td>NaN</td>\n",
       "      <td>NaN</td>\n",
       "      <td>NaN</td>\n",
       "    </tr>\n",
       "    <tr>\n",
       "      <th>...</th>\n",
       "      <td>...</td>\n",
       "      <td>...</td>\n",
       "      <td>...</td>\n",
       "      <td>...</td>\n",
       "      <td>...</td>\n",
       "      <td>...</td>\n",
       "      <td>...</td>\n",
       "      <td>...</td>\n",
       "      <td>...</td>\n",
       "      <td>...</td>\n",
       "      <td>...</td>\n",
       "      <td>...</td>\n",
       "      <td>...</td>\n",
       "      <td>...</td>\n",
       "      <td>...</td>\n",
       "    </tr>\n",
       "    <tr>\n",
       "      <th>20421</th>\n",
       "      <td>2022</td>\n",
       "      <td>2</td>\n",
       "      <td>대구광역시</td>\n",
       "      <td>중구</td>\n",
       "      <td>NaN</td>\n",
       "      <td>일반용</td>\n",
       "      <td>5473</td>\n",
       "      <td>NaN</td>\n",
       "      <td>NaN</td>\n",
       "      <td>성내3동</td>\n",
       "      <td>16725392.0</td>\n",
       "      <td>2.214401e+09</td>\n",
       "      <td>NaN</td>\n",
       "      <td>NaN</td>\n",
       "      <td>NaN</td>\n",
       "    </tr>\n",
       "    <tr>\n",
       "      <th>20422</th>\n",
       "      <td>2022</td>\n",
       "      <td>2</td>\n",
       "      <td>대구광역시</td>\n",
       "      <td>중구</td>\n",
       "      <td>NaN</td>\n",
       "      <td>주택용</td>\n",
       "      <td>7905</td>\n",
       "      <td>NaN</td>\n",
       "      <td>NaN</td>\n",
       "      <td>대봉2동</td>\n",
       "      <td>4518507.0</td>\n",
       "      <td>5.833351e+08</td>\n",
       "      <td>NaN</td>\n",
       "      <td>NaN</td>\n",
       "      <td>NaN</td>\n",
       "    </tr>\n",
       "    <tr>\n",
       "      <th>20423</th>\n",
       "      <td>2022</td>\n",
       "      <td>2</td>\n",
       "      <td>대구광역시</td>\n",
       "      <td>중구</td>\n",
       "      <td>NaN</td>\n",
       "      <td>일반용</td>\n",
       "      <td>9136</td>\n",
       "      <td>NaN</td>\n",
       "      <td>NaN</td>\n",
       "      <td>남산4동</td>\n",
       "      <td>21528292.0</td>\n",
       "      <td>2.816247e+09</td>\n",
       "      <td>NaN</td>\n",
       "      <td>NaN</td>\n",
       "      <td>NaN</td>\n",
       "    </tr>\n",
       "    <tr>\n",
       "      <th>20424</th>\n",
       "      <td>2022</td>\n",
       "      <td>2</td>\n",
       "      <td>대구광역시</td>\n",
       "      <td>중구</td>\n",
       "      <td>NaN</td>\n",
       "      <td>주택용</td>\n",
       "      <td>9824</td>\n",
       "      <td>NaN</td>\n",
       "      <td>NaN</td>\n",
       "      <td>성내3동</td>\n",
       "      <td>5313300.0</td>\n",
       "      <td>6.625160e+08</td>\n",
       "      <td>NaN</td>\n",
       "      <td>NaN</td>\n",
       "      <td>NaN</td>\n",
       "    </tr>\n",
       "    <tr>\n",
       "      <th>20425</th>\n",
       "      <td>2022</td>\n",
       "      <td>2</td>\n",
       "      <td>대구광역시</td>\n",
       "      <td>중구</td>\n",
       "      <td>NaN</td>\n",
       "      <td>주택용</td>\n",
       "      <td>25784</td>\n",
       "      <td>NaN</td>\n",
       "      <td>NaN</td>\n",
       "      <td>남산4동</td>\n",
       "      <td>18313188.0</td>\n",
       "      <td>2.207009e+09</td>\n",
       "      <td>NaN</td>\n",
       "      <td>NaN</td>\n",
       "      <td>NaN</td>\n",
       "    </tr>\n",
       "  </tbody>\n",
       "</table>\n",
       "<p>188321 rows × 15 columns</p>\n",
       "</div>"
      ],
      "text/plain": [
       "         년도  월     시도 시군구 읍면동(행정동) 계약종별    고객호수          판매량          판매요금  \\\n",
       "5309   2022  1  대구광역시  남구     송현2동  가로등   62447    5486690.0  3.219613e+08   \n",
       "5310   2022  1  대구광역시  남구     송현2동  교육용  632214  166331209.0  2.015713e+10   \n",
       "5311   2022  1  대구광역시  남구     송현2동  농사용     176     231066.0  9.040889e+06   \n",
       "5312   2022  1  대구광역시  남구     송현2동  산업용    2662    7105615.0  8.271090e+08   \n",
       "5313   2022  1  대구광역시  남구     송현2동   심야   21571   26705734.0  1.933639e+09   \n",
       "...     ... ..    ...  ..      ...  ...     ...          ...           ...   \n",
       "20421  2022  2  대구광역시  중구      NaN  일반용    5473          NaN           NaN   \n",
       "20422  2022  2  대구광역시  중구      NaN  주택용    7905          NaN           NaN   \n",
       "20423  2022  2  대구광역시  중구      NaN  일반용    9136          NaN           NaN   \n",
       "20424  2022  2  대구광역시  중구      NaN  주택용    9824          NaN           NaN   \n",
       "20425  2022  2  대구광역시  중구      NaN  주택용   25784          NaN           NaN   \n",
       "\n",
       "        행정동         사용량          전기요금 행정동코드   호수  전력사용량  \n",
       "5309    NaN         NaN           NaN   NaN  NaN    NaN  \n",
       "5310    NaN         NaN           NaN   NaN  NaN    NaN  \n",
       "5311    NaN         NaN           NaN   NaN  NaN    NaN  \n",
       "5312    NaN         NaN           NaN   NaN  NaN    NaN  \n",
       "5313    NaN         NaN           NaN   NaN  NaN    NaN  \n",
       "...     ...         ...           ...   ...  ...    ...  \n",
       "20421  성내3동  16725392.0  2.214401e+09   NaN  NaN    NaN  \n",
       "20422  대봉2동   4518507.0  5.833351e+08   NaN  NaN    NaN  \n",
       "20423  남산4동  21528292.0  2.816247e+09   NaN  NaN    NaN  \n",
       "20424  성내3동   5313300.0  6.625160e+08   NaN  NaN    NaN  \n",
       "20425  남산4동  18313188.0  2.207009e+09   NaN  NaN    NaN  \n",
       "\n",
       "[188321 rows x 15 columns]"
      ]
     },
     "execution_count": 836,
     "metadata": {},
     "output_type": "execute_result"
    }
   ],
   "source": [
    "import pandas as pd\n",
    "import glob\n",
    "import openpyxl\n",
    "\n",
    "elec_daegu = pd.read_csv('./output/elec_daegu.csv', index_col=0)\n",
    "\n",
    "elec_daegu"
   ]
  },
  {
   "cell_type": "markdown",
   "metadata": {},
   "source": [
    "### 2. 데이터 전처리"
   ]
  },
  {
   "cell_type": "markdown",
   "metadata": {},
   "source": [
    "column명이 분리되어 있다\n",
    "\n",
    "판매량 = 사용량 = 전력사용량  \n",
    "판매요금 = 전기요금  \n",
    "읍면동(행정동) = 행정동  \n",
    "고객호수 = 호수"
   ]
  },
  {
   "cell_type": "code",
   "execution_count": 837,
   "metadata": {},
   "outputs": [
    {
     "name": "stdout",
     "output_type": "stream",
     "text": [
      "판매량 not null 값 수 : 15913\n",
      "사용량 not null 값 수 : 11087\n",
      "전력사용량 not null 값 수 : 129481\n"
     ]
    }
   ],
   "source": [
    "print('판매량 not null 값 수 :', elec_daegu['판매량'].notnull().sum())\n",
    "print('사용량 not null 값 수 :', elec_daegu['사용량'].notnull().sum())\n",
    "print('전력사용량 not null 값 수 :', elec_daegu['전력사용량'].notnull().sum())"
   ]
  },
  {
   "cell_type": "markdown",
   "metadata": {},
   "source": [
    "판매량, 사용량, 전력사용량"
   ]
  },
  {
   "cell_type": "markdown",
   "metadata": {},
   "source": [
    "* 겹치는 경우가 있는지 확인"
   ]
  },
  {
   "cell_type": "code",
   "execution_count": 838,
   "metadata": {},
   "outputs": [
    {
     "data": {
      "text/html": [
       "<div>\n",
       "<style scoped>\n",
       "    .dataframe tbody tr th:only-of-type {\n",
       "        vertical-align: middle;\n",
       "    }\n",
       "\n",
       "    .dataframe tbody tr th {\n",
       "        vertical-align: top;\n",
       "    }\n",
       "\n",
       "    .dataframe thead th {\n",
       "        text-align: right;\n",
       "    }\n",
       "</style>\n",
       "<table border=\"1\" class=\"dataframe\">\n",
       "  <thead>\n",
       "    <tr style=\"text-align: right;\">\n",
       "      <th></th>\n",
       "      <th>년도</th>\n",
       "      <th>월</th>\n",
       "      <th>시도</th>\n",
       "      <th>시군구</th>\n",
       "      <th>읍면동(행정동)</th>\n",
       "      <th>계약종별</th>\n",
       "      <th>고객호수</th>\n",
       "      <th>판매량</th>\n",
       "      <th>판매요금</th>\n",
       "      <th>행정동</th>\n",
       "      <th>사용량</th>\n",
       "      <th>전기요금</th>\n",
       "      <th>행정동코드</th>\n",
       "      <th>호수</th>\n",
       "      <th>전력사용량</th>\n",
       "    </tr>\n",
       "  </thead>\n",
       "  <tbody>\n",
       "  </tbody>\n",
       "</table>\n",
       "</div>"
      ],
      "text/plain": [
       "Empty DataFrame\n",
       "Columns: [년도, 월, 시도, 시군구, 읍면동(행정동), 계약종별, 고객호수, 판매량, 판매요금, 행정동, 사용량, 전기요금, 행정동코드, 호수, 전력사용량]\n",
       "Index: []"
      ]
     },
     "execution_count": 838,
     "metadata": {},
     "output_type": "execute_result"
    }
   ],
   "source": [
    "elec_daegu[elec_daegu['판매량'].notnull() & elec_daegu['전력사용량'].notnull()]"
   ]
  },
  {
   "cell_type": "code",
   "execution_count": 839,
   "metadata": {},
   "outputs": [
    {
     "data": {
      "text/html": [
       "<div>\n",
       "<style scoped>\n",
       "    .dataframe tbody tr th:only-of-type {\n",
       "        vertical-align: middle;\n",
       "    }\n",
       "\n",
       "    .dataframe tbody tr th {\n",
       "        vertical-align: top;\n",
       "    }\n",
       "\n",
       "    .dataframe thead th {\n",
       "        text-align: right;\n",
       "    }\n",
       "</style>\n",
       "<table border=\"1\" class=\"dataframe\">\n",
       "  <thead>\n",
       "    <tr style=\"text-align: right;\">\n",
       "      <th></th>\n",
       "      <th>년도</th>\n",
       "      <th>월</th>\n",
       "      <th>시도</th>\n",
       "      <th>시군구</th>\n",
       "      <th>읍면동(행정동)</th>\n",
       "      <th>계약종별</th>\n",
       "      <th>고객호수</th>\n",
       "      <th>판매량</th>\n",
       "      <th>판매요금</th>\n",
       "      <th>행정동</th>\n",
       "      <th>사용량</th>\n",
       "      <th>전기요금</th>\n",
       "      <th>행정동코드</th>\n",
       "      <th>호수</th>\n",
       "      <th>전력사용량</th>\n",
       "    </tr>\n",
       "  </thead>\n",
       "  <tbody>\n",
       "  </tbody>\n",
       "</table>\n",
       "</div>"
      ],
      "text/plain": [
       "Empty DataFrame\n",
       "Columns: [년도, 월, 시도, 시군구, 읍면동(행정동), 계약종별, 고객호수, 판매량, 판매요금, 행정동, 사용량, 전기요금, 행정동코드, 호수, 전력사용량]\n",
       "Index: []"
      ]
     },
     "execution_count": 839,
     "metadata": {},
     "output_type": "execute_result"
    }
   ],
   "source": [
    "elec_daegu[elec_daegu['판매량'].notnull() & elec_daegu['사용량'].notnull()]"
   ]
  },
  {
   "cell_type": "code",
   "execution_count": 840,
   "metadata": {},
   "outputs": [
    {
     "data": {
      "text/html": [
       "<div>\n",
       "<style scoped>\n",
       "    .dataframe tbody tr th:only-of-type {\n",
       "        vertical-align: middle;\n",
       "    }\n",
       "\n",
       "    .dataframe tbody tr th {\n",
       "        vertical-align: top;\n",
       "    }\n",
       "\n",
       "    .dataframe thead th {\n",
       "        text-align: right;\n",
       "    }\n",
       "</style>\n",
       "<table border=\"1\" class=\"dataframe\">\n",
       "  <thead>\n",
       "    <tr style=\"text-align: right;\">\n",
       "      <th></th>\n",
       "      <th>년도</th>\n",
       "      <th>월</th>\n",
       "      <th>시도</th>\n",
       "      <th>시군구</th>\n",
       "      <th>읍면동(행정동)</th>\n",
       "      <th>계약종별</th>\n",
       "      <th>고객호수</th>\n",
       "      <th>판매량</th>\n",
       "      <th>판매요금</th>\n",
       "      <th>행정동</th>\n",
       "      <th>사용량</th>\n",
       "      <th>전기요금</th>\n",
       "      <th>행정동코드</th>\n",
       "      <th>호수</th>\n",
       "      <th>전력사용량</th>\n",
       "    </tr>\n",
       "  </thead>\n",
       "  <tbody>\n",
       "  </tbody>\n",
       "</table>\n",
       "</div>"
      ],
      "text/plain": [
       "Empty DataFrame\n",
       "Columns: [년도, 월, 시도, 시군구, 읍면동(행정동), 계약종별, 고객호수, 판매량, 판매요금, 행정동, 사용량, 전기요금, 행정동코드, 호수, 전력사용량]\n",
       "Index: []"
      ]
     },
     "execution_count": 840,
     "metadata": {},
     "output_type": "execute_result"
    }
   ],
   "source": [
    "elec_daegu[elec_daegu['사용량'].notnull() & elec_daegu['전력사용량'].notnull()]"
   ]
  },
  {
   "cell_type": "code",
   "execution_count": 841,
   "metadata": {},
   "outputs": [
    {
     "data": {
      "text/html": [
       "<div>\n",
       "<style scoped>\n",
       "    .dataframe tbody tr th:only-of-type {\n",
       "        vertical-align: middle;\n",
       "    }\n",
       "\n",
       "    .dataframe tbody tr th {\n",
       "        vertical-align: top;\n",
       "    }\n",
       "\n",
       "    .dataframe thead th {\n",
       "        text-align: right;\n",
       "    }\n",
       "</style>\n",
       "<table border=\"1\" class=\"dataframe\">\n",
       "  <thead>\n",
       "    <tr style=\"text-align: right;\">\n",
       "      <th></th>\n",
       "      <th>년도</th>\n",
       "      <th>월</th>\n",
       "      <th>시도</th>\n",
       "      <th>시군구</th>\n",
       "      <th>읍면동(행정동)</th>\n",
       "      <th>계약종별</th>\n",
       "      <th>고객호수</th>\n",
       "      <th>판매량</th>\n",
       "      <th>판매요금</th>\n",
       "      <th>행정동</th>\n",
       "      <th>사용량</th>\n",
       "      <th>전기요금</th>\n",
       "      <th>행정동코드</th>\n",
       "      <th>호수</th>\n",
       "      <th>전력사용량</th>\n",
       "    </tr>\n",
       "  </thead>\n",
       "  <tbody>\n",
       "  </tbody>\n",
       "</table>\n",
       "</div>"
      ],
      "text/plain": [
       "Empty DataFrame\n",
       "Columns: [년도, 월, 시도, 시군구, 읍면동(행정동), 계약종별, 고객호수, 판매량, 판매요금, 행정동, 사용량, 전기요금, 행정동코드, 호수, 전력사용량]\n",
       "Index: []"
      ]
     },
     "execution_count": 841,
     "metadata": {},
     "output_type": "execute_result"
    }
   ],
   "source": [
    "elec_daegu[elec_daegu['판매량'].notnull() & elec_daegu['사용량'].notnull() & elec_daegu['전력사용량'].notnull()]"
   ]
  },
  {
   "cell_type": "markdown",
   "metadata": {},
   "source": [
    "* 전력사용량 column에 다른 column의 값을 채워준다"
   ]
  },
  {
   "cell_type": "code",
   "execution_count": 842,
   "metadata": {},
   "outputs": [],
   "source": [
    "elec_daegu.loc[elec_daegu['전력사용량'].isnull() & elec_daegu['사용량'].notnull(), '전력사용량'] = elec_daegu.loc[elec_daegu['사용량'].notnull(), '사용량']"
   ]
  },
  {
   "cell_type": "code",
   "execution_count": 843,
   "metadata": {},
   "outputs": [],
   "source": [
    "elec_daegu.loc[elec_daegu['전력사용량'].isnull() & elec_daegu['판매량'].notnull(), '전력사용량'] = elec_daegu.loc[elec_daegu['판매량'].notnull(), '판매량']"
   ]
  },
  {
   "cell_type": "code",
   "execution_count": 844,
   "metadata": {},
   "outputs": [
    {
     "name": "stdout",
     "output_type": "stream",
     "text": [
      "판매량 not null 값 수 : 15913\n",
      "사용량 not null 값 수 : 11087\n",
      "전력사용량 not null 값 수 : 156481\n"
     ]
    }
   ],
   "source": [
    "print('판매량 not null 값 수 :', elec_daegu['판매량'].notnull().sum())\n",
    "print('사용량 not null 값 수 :', elec_daegu['사용량'].notnull().sum())\n",
    "print('전력사용량 not null 값 수 :', elec_daegu['전력사용량'].notnull().sum())"
   ]
  },
  {
   "cell_type": "markdown",
   "metadata": {},
   "source": [
    "* 전력사용량 외 다른 column 제거"
   ]
  },
  {
   "cell_type": "code",
   "execution_count": 845,
   "metadata": {},
   "outputs": [],
   "source": [
    "elec_daegu.drop(columns= ['판매량','사용량'], inplace=True)"
   ]
  },
  {
   "cell_type": "markdown",
   "metadata": {},
   "source": [
    "판매요금, 전기요금"
   ]
  },
  {
   "cell_type": "markdown",
   "metadata": {},
   "source": [
    "* 더 직관적인 전력사용량 column이 있기때문에 제거"
   ]
  },
  {
   "cell_type": "code",
   "execution_count": 846,
   "metadata": {},
   "outputs": [],
   "source": [
    "elec_daegu.drop(columns=['판매요금','전기요금'], inplace=True)"
   ]
  },
  {
   "cell_type": "markdown",
   "metadata": {},
   "source": [
    "읍면동(행정동), 행정동, 행정동코드"
   ]
  },
  {
   "cell_type": "code",
   "execution_count": 847,
   "metadata": {},
   "outputs": [
    {
     "name": "stdout",
     "output_type": "stream",
     "text": [
      "읍면동(행정동) not null 값 수 : 18721\n",
      "행정동 not null 값 수 : 2765\n",
      "행정동코드 not null 값 수 : 166835\n"
     ]
    }
   ],
   "source": [
    "print('읍면동(행정동) not null 값 수 :', elec_daegu['읍면동(행정동)'].notnull().sum())\n",
    "print('행정동 not null 값 수 :', elec_daegu['행정동'].notnull().sum())\n",
    "print('행정동코드 not null 값 수 :', elec_daegu['행정동코드'].notnull().sum())"
   ]
  },
  {
   "cell_type": "markdown",
   "metadata": {},
   "source": [
    "* 겹치는 경우가 있는지 확인"
   ]
  },
  {
   "cell_type": "code",
   "execution_count": 848,
   "metadata": {},
   "outputs": [
    {
     "data": {
      "text/html": [
       "<div>\n",
       "<style scoped>\n",
       "    .dataframe tbody tr th:only-of-type {\n",
       "        vertical-align: middle;\n",
       "    }\n",
       "\n",
       "    .dataframe tbody tr th {\n",
       "        vertical-align: top;\n",
       "    }\n",
       "\n",
       "    .dataframe thead th {\n",
       "        text-align: right;\n",
       "    }\n",
       "</style>\n",
       "<table border=\"1\" class=\"dataframe\">\n",
       "  <thead>\n",
       "    <tr style=\"text-align: right;\">\n",
       "      <th></th>\n",
       "      <th>년도</th>\n",
       "      <th>월</th>\n",
       "      <th>시도</th>\n",
       "      <th>시군구</th>\n",
       "      <th>읍면동(행정동)</th>\n",
       "      <th>계약종별</th>\n",
       "      <th>고객호수</th>\n",
       "      <th>행정동</th>\n",
       "      <th>행정동코드</th>\n",
       "      <th>호수</th>\n",
       "      <th>전력사용량</th>\n",
       "    </tr>\n",
       "  </thead>\n",
       "  <tbody>\n",
       "  </tbody>\n",
       "</table>\n",
       "</div>"
      ],
      "text/plain": [
       "Empty DataFrame\n",
       "Columns: [년도, 월, 시도, 시군구, 읍면동(행정동), 계약종별, 고객호수, 행정동, 행정동코드, 호수, 전력사용량]\n",
       "Index: []"
      ]
     },
     "execution_count": 848,
     "metadata": {},
     "output_type": "execute_result"
    }
   ],
   "source": [
    "elec_daegu[elec_daegu['읍면동(행정동)'].notnull() & elec_daegu['행정동'].notnull()]"
   ]
  },
  {
   "cell_type": "markdown",
   "metadata": {},
   "source": [
    "* 행정동 column에 다른 column의 값을 채워준다"
   ]
  },
  {
   "cell_type": "code",
   "execution_count": 849,
   "metadata": {},
   "outputs": [],
   "source": [
    "elec_daegu.loc[elec_daegu['행정동'].isnull() & elec_daegu['읍면동(행정동)'].notnull(), '행정동'] = elec_daegu.loc[elec_daegu['읍면동(행정동)'].notnull(), '읍면동(행정동)']"
   ]
  },
  {
   "cell_type": "code",
   "execution_count": 850,
   "metadata": {},
   "outputs": [],
   "source": [
    "elec_daegu.loc[elec_daegu['행정동'].isnull() & elec_daegu['행정동코드'].notnull(), '행정동'] = elec_daegu.loc[elec_daegu['행정동코드'].notnull(), '행정동코드']"
   ]
  },
  {
   "cell_type": "code",
   "execution_count": 851,
   "metadata": {},
   "outputs": [
    {
     "name": "stdout",
     "output_type": "stream",
     "text": [
      "행정동 not null 값 수 : 188321\n"
     ]
    }
   ],
   "source": [
    "print('행정동 not null 값 수 :', elec_daegu['행정동'].notnull().sum())"
   ]
  },
  {
   "cell_type": "markdown",
   "metadata": {},
   "source": [
    "* 행정동 외 다른 column 제거"
   ]
  },
  {
   "cell_type": "code",
   "execution_count": 852,
   "metadata": {},
   "outputs": [],
   "source": [
    "elec_daegu.drop(columns= ['읍면동(행정동)','행정동코드'], inplace=True)"
   ]
  },
  {
   "cell_type": "markdown",
   "metadata": {},
   "source": [
    "고객호수, 호수"
   ]
  },
  {
   "cell_type": "code",
   "execution_count": 853,
   "metadata": {},
   "outputs": [
    {
     "name": "stdout",
     "output_type": "stream",
     "text": [
      "고객호수 not null 값 수 : 31868\n",
      "호수 not null 값 수 : 156453\n"
     ]
    }
   ],
   "source": [
    "print('고객호수 not null 값 수 :', elec_daegu['고객호수'].notnull().sum())\n",
    "print('호수 not null 값 수 :', elec_daegu['호수'].notnull().sum())"
   ]
  },
  {
   "cell_type": "markdown",
   "metadata": {},
   "source": [
    "* 겹치는 경우가 있는지 확인"
   ]
  },
  {
   "cell_type": "code",
   "execution_count": 854,
   "metadata": {},
   "outputs": [
    {
     "data": {
      "text/html": [
       "<div>\n",
       "<style scoped>\n",
       "    .dataframe tbody tr th:only-of-type {\n",
       "        vertical-align: middle;\n",
       "    }\n",
       "\n",
       "    .dataframe tbody tr th {\n",
       "        vertical-align: top;\n",
       "    }\n",
       "\n",
       "    .dataframe thead th {\n",
       "        text-align: right;\n",
       "    }\n",
       "</style>\n",
       "<table border=\"1\" class=\"dataframe\">\n",
       "  <thead>\n",
       "    <tr style=\"text-align: right;\">\n",
       "      <th></th>\n",
       "      <th>년도</th>\n",
       "      <th>월</th>\n",
       "      <th>시도</th>\n",
       "      <th>시군구</th>\n",
       "      <th>계약종별</th>\n",
       "      <th>고객호수</th>\n",
       "      <th>행정동</th>\n",
       "      <th>호수</th>\n",
       "      <th>전력사용량</th>\n",
       "    </tr>\n",
       "  </thead>\n",
       "  <tbody>\n",
       "  </tbody>\n",
       "</table>\n",
       "</div>"
      ],
      "text/plain": [
       "Empty DataFrame\n",
       "Columns: [년도, 월, 시도, 시군구, 계약종별, 고객호수, 행정동, 호수, 전력사용량]\n",
       "Index: []"
      ]
     },
     "execution_count": 854,
     "metadata": {},
     "output_type": "execute_result"
    }
   ],
   "source": [
    "elec_daegu[elec_daegu['고객호수'].notnull() & elec_daegu['호수'].notnull()]"
   ]
  },
  {
   "cell_type": "markdown",
   "metadata": {},
   "source": [
    "* 호수 column에 다른 column의 값을 채워준다"
   ]
  },
  {
   "cell_type": "code",
   "execution_count": 855,
   "metadata": {},
   "outputs": [],
   "source": [
    "elec_daegu.loc[elec_daegu['호수'].isnull() & elec_daegu['고객호수'].notnull(), '호수'] = elec_daegu.loc[elec_daegu['고객호수'].notnull(), '고객호수']"
   ]
  },
  {
   "cell_type": "code",
   "execution_count": 856,
   "metadata": {},
   "outputs": [
    {
     "name": "stdout",
     "output_type": "stream",
     "text": [
      "호수 not null 값 수 : 188321\n"
     ]
    }
   ],
   "source": [
    "print('호수 not null 값 수 :', elec_daegu['호수'].notnull().sum())"
   ]
  },
  {
   "cell_type": "markdown",
   "metadata": {},
   "source": [
    "* 호수 외 다른 column 제거"
   ]
  },
  {
   "cell_type": "code",
   "execution_count": 857,
   "metadata": {},
   "outputs": [],
   "source": [
    "elec_daegu.drop(columns= ['고객호수', '시도', '시군구'], inplace=True)"
   ]
  },
  {
   "cell_type": "code",
   "execution_count": 858,
   "metadata": {},
   "outputs": [
    {
     "data": {
      "text/html": [
       "<div>\n",
       "<style scoped>\n",
       "    .dataframe tbody tr th:only-of-type {\n",
       "        vertical-align: middle;\n",
       "    }\n",
       "\n",
       "    .dataframe tbody tr th {\n",
       "        vertical-align: top;\n",
       "    }\n",
       "\n",
       "    .dataframe thead th {\n",
       "        text-align: right;\n",
       "    }\n",
       "</style>\n",
       "<table border=\"1\" class=\"dataframe\">\n",
       "  <thead>\n",
       "    <tr style=\"text-align: right;\">\n",
       "      <th></th>\n",
       "      <th>년도</th>\n",
       "      <th>월</th>\n",
       "      <th>계약종별</th>\n",
       "      <th>행정동</th>\n",
       "      <th>호수</th>\n",
       "      <th>전력사용량</th>\n",
       "    </tr>\n",
       "  </thead>\n",
       "  <tbody>\n",
       "    <tr>\n",
       "      <th>5309</th>\n",
       "      <td>2022</td>\n",
       "      <td>1</td>\n",
       "      <td>가로등</td>\n",
       "      <td>송현2동</td>\n",
       "      <td>62447</td>\n",
       "      <td>5486690.0</td>\n",
       "    </tr>\n",
       "    <tr>\n",
       "      <th>5310</th>\n",
       "      <td>2022</td>\n",
       "      <td>1</td>\n",
       "      <td>교육용</td>\n",
       "      <td>송현2동</td>\n",
       "      <td>632214</td>\n",
       "      <td>166331209.0</td>\n",
       "    </tr>\n",
       "    <tr>\n",
       "      <th>5311</th>\n",
       "      <td>2022</td>\n",
       "      <td>1</td>\n",
       "      <td>농사용</td>\n",
       "      <td>송현2동</td>\n",
       "      <td>176</td>\n",
       "      <td>231066.0</td>\n",
       "    </tr>\n",
       "    <tr>\n",
       "      <th>5312</th>\n",
       "      <td>2022</td>\n",
       "      <td>1</td>\n",
       "      <td>산업용</td>\n",
       "      <td>송현2동</td>\n",
       "      <td>2662</td>\n",
       "      <td>7105615.0</td>\n",
       "    </tr>\n",
       "    <tr>\n",
       "      <th>5313</th>\n",
       "      <td>2022</td>\n",
       "      <td>1</td>\n",
       "      <td>심야</td>\n",
       "      <td>송현2동</td>\n",
       "      <td>21571</td>\n",
       "      <td>26705734.0</td>\n",
       "    </tr>\n",
       "    <tr>\n",
       "      <th>...</th>\n",
       "      <td>...</td>\n",
       "      <td>...</td>\n",
       "      <td>...</td>\n",
       "      <td>...</td>\n",
       "      <td>...</td>\n",
       "      <td>...</td>\n",
       "    </tr>\n",
       "    <tr>\n",
       "      <th>20421</th>\n",
       "      <td>2022</td>\n",
       "      <td>2</td>\n",
       "      <td>일반용</td>\n",
       "      <td>성내3동</td>\n",
       "      <td>5473</td>\n",
       "      <td>16725392.0</td>\n",
       "    </tr>\n",
       "    <tr>\n",
       "      <th>20422</th>\n",
       "      <td>2022</td>\n",
       "      <td>2</td>\n",
       "      <td>주택용</td>\n",
       "      <td>대봉2동</td>\n",
       "      <td>7905</td>\n",
       "      <td>4518507.0</td>\n",
       "    </tr>\n",
       "    <tr>\n",
       "      <th>20423</th>\n",
       "      <td>2022</td>\n",
       "      <td>2</td>\n",
       "      <td>일반용</td>\n",
       "      <td>남산4동</td>\n",
       "      <td>9136</td>\n",
       "      <td>21528292.0</td>\n",
       "    </tr>\n",
       "    <tr>\n",
       "      <th>20424</th>\n",
       "      <td>2022</td>\n",
       "      <td>2</td>\n",
       "      <td>주택용</td>\n",
       "      <td>성내3동</td>\n",
       "      <td>9824</td>\n",
       "      <td>5313300.0</td>\n",
       "    </tr>\n",
       "    <tr>\n",
       "      <th>20425</th>\n",
       "      <td>2022</td>\n",
       "      <td>2</td>\n",
       "      <td>주택용</td>\n",
       "      <td>남산4동</td>\n",
       "      <td>25784</td>\n",
       "      <td>18313188.0</td>\n",
       "    </tr>\n",
       "  </tbody>\n",
       "</table>\n",
       "<p>188321 rows × 6 columns</p>\n",
       "</div>"
      ],
      "text/plain": [
       "         년도  월 계약종별   행정동      호수        전력사용량\n",
       "5309   2022  1  가로등  송현2동   62447    5486690.0\n",
       "5310   2022  1  교육용  송현2동  632214  166331209.0\n",
       "5311   2022  1  농사용  송현2동     176     231066.0\n",
       "5312   2022  1  산업용  송현2동    2662    7105615.0\n",
       "5313   2022  1   심야  송현2동   21571   26705734.0\n",
       "...     ... ..  ...   ...     ...          ...\n",
       "20421  2022  2  일반용  성내3동    5473   16725392.0\n",
       "20422  2022  2  주택용  대봉2동    7905    4518507.0\n",
       "20423  2022  2  일반용  남산4동    9136   21528292.0\n",
       "20424  2022  2  주택용  성내3동    9824    5313300.0\n",
       "20425  2022  2  주택용  남산4동   25784   18313188.0\n",
       "\n",
       "[188321 rows x 6 columns]"
      ]
     },
     "execution_count": 858,
     "metadata": {},
     "output_type": "execute_result"
    }
   ],
   "source": [
    "elec_daegu"
   ]
  },
  {
   "cell_type": "code",
   "execution_count": 859,
   "metadata": {},
   "outputs": [
    {
     "data": {
      "text/html": [
       "<div>\n",
       "<style scoped>\n",
       "    .dataframe tbody tr th:only-of-type {\n",
       "        vertical-align: middle;\n",
       "    }\n",
       "\n",
       "    .dataframe tbody tr th {\n",
       "        vertical-align: top;\n",
       "    }\n",
       "\n",
       "    .dataframe thead th {\n",
       "        text-align: right;\n",
       "    }\n",
       "</style>\n",
       "<table border=\"1\" class=\"dataframe\">\n",
       "  <thead>\n",
       "    <tr style=\"text-align: right;\">\n",
       "      <th></th>\n",
       "      <th>year</th>\n",
       "      <th>month</th>\n",
       "      <th>type</th>\n",
       "      <th>region</th>\n",
       "      <th>unitcount</th>\n",
       "      <th>elecusage</th>\n",
       "    </tr>\n",
       "  </thead>\n",
       "  <tbody>\n",
       "    <tr>\n",
       "      <th>5309</th>\n",
       "      <td>2022</td>\n",
       "      <td>1</td>\n",
       "      <td>가로등</td>\n",
       "      <td>송현2동</td>\n",
       "      <td>62447</td>\n",
       "      <td>5486690.0</td>\n",
       "    </tr>\n",
       "    <tr>\n",
       "      <th>5310</th>\n",
       "      <td>2022</td>\n",
       "      <td>1</td>\n",
       "      <td>교육용</td>\n",
       "      <td>송현2동</td>\n",
       "      <td>632214</td>\n",
       "      <td>166331209.0</td>\n",
       "    </tr>\n",
       "    <tr>\n",
       "      <th>5311</th>\n",
       "      <td>2022</td>\n",
       "      <td>1</td>\n",
       "      <td>농사용</td>\n",
       "      <td>송현2동</td>\n",
       "      <td>176</td>\n",
       "      <td>231066.0</td>\n",
       "    </tr>\n",
       "    <tr>\n",
       "      <th>5312</th>\n",
       "      <td>2022</td>\n",
       "      <td>1</td>\n",
       "      <td>산업용</td>\n",
       "      <td>송현2동</td>\n",
       "      <td>2662</td>\n",
       "      <td>7105615.0</td>\n",
       "    </tr>\n",
       "    <tr>\n",
       "      <th>5313</th>\n",
       "      <td>2022</td>\n",
       "      <td>1</td>\n",
       "      <td>심야</td>\n",
       "      <td>송현2동</td>\n",
       "      <td>21571</td>\n",
       "      <td>26705734.0</td>\n",
       "    </tr>\n",
       "    <tr>\n",
       "      <th>...</th>\n",
       "      <td>...</td>\n",
       "      <td>...</td>\n",
       "      <td>...</td>\n",
       "      <td>...</td>\n",
       "      <td>...</td>\n",
       "      <td>...</td>\n",
       "    </tr>\n",
       "    <tr>\n",
       "      <th>20421</th>\n",
       "      <td>2022</td>\n",
       "      <td>2</td>\n",
       "      <td>일반용</td>\n",
       "      <td>성내3동</td>\n",
       "      <td>5473</td>\n",
       "      <td>16725392.0</td>\n",
       "    </tr>\n",
       "    <tr>\n",
       "      <th>20422</th>\n",
       "      <td>2022</td>\n",
       "      <td>2</td>\n",
       "      <td>주택용</td>\n",
       "      <td>대봉2동</td>\n",
       "      <td>7905</td>\n",
       "      <td>4518507.0</td>\n",
       "    </tr>\n",
       "    <tr>\n",
       "      <th>20423</th>\n",
       "      <td>2022</td>\n",
       "      <td>2</td>\n",
       "      <td>일반용</td>\n",
       "      <td>남산4동</td>\n",
       "      <td>9136</td>\n",
       "      <td>21528292.0</td>\n",
       "    </tr>\n",
       "    <tr>\n",
       "      <th>20424</th>\n",
       "      <td>2022</td>\n",
       "      <td>2</td>\n",
       "      <td>주택용</td>\n",
       "      <td>성내3동</td>\n",
       "      <td>9824</td>\n",
       "      <td>5313300.0</td>\n",
       "    </tr>\n",
       "    <tr>\n",
       "      <th>20425</th>\n",
       "      <td>2022</td>\n",
       "      <td>2</td>\n",
       "      <td>주택용</td>\n",
       "      <td>남산4동</td>\n",
       "      <td>25784</td>\n",
       "      <td>18313188.0</td>\n",
       "    </tr>\n",
       "  </tbody>\n",
       "</table>\n",
       "<p>188321 rows × 6 columns</p>\n",
       "</div>"
      ],
      "text/plain": [
       "       year  month type region unitcount    elecusage\n",
       "5309   2022      1  가로등   송현2동     62447    5486690.0\n",
       "5310   2022      1  교육용   송현2동    632214  166331209.0\n",
       "5311   2022      1  농사용   송현2동       176     231066.0\n",
       "5312   2022      1  산업용   송현2동      2662    7105615.0\n",
       "5313   2022      1   심야   송현2동     21571   26705734.0\n",
       "...     ...    ...  ...    ...       ...          ...\n",
       "20421  2022      2  일반용   성내3동      5473   16725392.0\n",
       "20422  2022      2  주택용   대봉2동      7905    4518507.0\n",
       "20423  2022      2  일반용   남산4동      9136   21528292.0\n",
       "20424  2022      2  주택용   성내3동      9824    5313300.0\n",
       "20425  2022      2  주택용   남산4동     25784   18313188.0\n",
       "\n",
       "[188321 rows x 6 columns]"
      ]
     },
     "execution_count": 859,
     "metadata": {},
     "output_type": "execute_result"
    }
   ],
   "source": [
    "elec_daegu.rename(columns= {'년도':'year','월':'month', '시군구':'city', '행정동':'region', '계약종별':'type', '호수':'unitcount', '전력사용량':'elecusage'}, inplace=True)\n",
    "\n",
    "elec_daegu"
   ]
  },
  {
   "cell_type": "markdown",
   "metadata": {},
   "source": [
    "### 3. 열지수 데이터와 join"
   ]
  },
  {
   "cell_type": "markdown",
   "metadata": {},
   "source": [
    "데이터 불러오기"
   ]
  },
  {
   "cell_type": "code",
   "execution_count": 860,
   "metadata": {},
   "outputs": [
    {
     "data": {
      "text/html": [
       "<div>\n",
       "<style scoped>\n",
       "    .dataframe tbody tr th:only-of-type {\n",
       "        vertical-align: middle;\n",
       "    }\n",
       "\n",
       "    .dataframe tbody tr th {\n",
       "        vertical-align: top;\n",
       "    }\n",
       "\n",
       "    .dataframe thead th {\n",
       "        text-align: right;\n",
       "    }\n",
       "</style>\n",
       "<table border=\"1\" class=\"dataframe\">\n",
       "  <thead>\n",
       "    <tr style=\"text-align: right;\">\n",
       "      <th></th>\n",
       "      <th>region</th>\n",
       "      <th>year</th>\n",
       "      <th>month</th>\n",
       "      <th>HI</th>\n",
       "    </tr>\n",
       "  </thead>\n",
       "  <tbody>\n",
       "    <tr>\n",
       "      <th>0</th>\n",
       "      <td>가창면</td>\n",
       "      <td>2010</td>\n",
       "      <td>6</td>\n",
       "      <td>23.305656</td>\n",
       "    </tr>\n",
       "    <tr>\n",
       "      <th>1</th>\n",
       "      <td>가창면</td>\n",
       "      <td>2010</td>\n",
       "      <td>7</td>\n",
       "      <td>26.223425</td>\n",
       "    </tr>\n",
       "    <tr>\n",
       "      <th>2</th>\n",
       "      <td>가창면</td>\n",
       "      <td>2010</td>\n",
       "      <td>8</td>\n",
       "      <td>29.701307</td>\n",
       "    </tr>\n",
       "    <tr>\n",
       "      <th>3</th>\n",
       "      <td>가창면</td>\n",
       "      <td>2010</td>\n",
       "      <td>9</td>\n",
       "      <td>22.066710</td>\n",
       "    </tr>\n",
       "    <tr>\n",
       "      <th>4</th>\n",
       "      <td>가창면</td>\n",
       "      <td>2010</td>\n",
       "      <td>10</td>\n",
       "      <td>14.002856</td>\n",
       "    </tr>\n",
       "    <tr>\n",
       "      <th>...</th>\n",
       "      <td>...</td>\n",
       "      <td>...</td>\n",
       "      <td>...</td>\n",
       "      <td>...</td>\n",
       "    </tr>\n",
       "    <tr>\n",
       "      <th>20301</th>\n",
       "      <td>효목2동</td>\n",
       "      <td>2021</td>\n",
       "      <td>12</td>\n",
       "      <td>2.357998</td>\n",
       "    </tr>\n",
       "    <tr>\n",
       "      <th>20302</th>\n",
       "      <td>효목2동</td>\n",
       "      <td>2022</td>\n",
       "      <td>1</td>\n",
       "      <td>0.478563</td>\n",
       "    </tr>\n",
       "    <tr>\n",
       "      <th>20303</th>\n",
       "      <td>효목2동</td>\n",
       "      <td>2022</td>\n",
       "      <td>2</td>\n",
       "      <td>1.146696</td>\n",
       "    </tr>\n",
       "    <tr>\n",
       "      <th>20304</th>\n",
       "      <td>효목2동</td>\n",
       "      <td>2022</td>\n",
       "      <td>3</td>\n",
       "      <td>8.569070</td>\n",
       "    </tr>\n",
       "    <tr>\n",
       "      <th>20305</th>\n",
       "      <td>효목2동</td>\n",
       "      <td>2022</td>\n",
       "      <td>4</td>\n",
       "      <td>15.072408</td>\n",
       "    </tr>\n",
       "  </tbody>\n",
       "</table>\n",
       "<p>20306 rows × 4 columns</p>\n",
       "</div>"
      ],
      "text/plain": [
       "      region  year  month         HI\n",
       "0        가창면  2010      6  23.305656\n",
       "1        가창면  2010      7  26.223425\n",
       "2        가창면  2010      8  29.701307\n",
       "3        가창면  2010      9  22.066710\n",
       "4        가창면  2010     10  14.002856\n",
       "...      ...   ...    ...        ...\n",
       "20301   효목2동  2021     12   2.357998\n",
       "20302   효목2동  2022      1   0.478563\n",
       "20303   효목2동  2022      2   1.146696\n",
       "20304   효목2동  2022      3   8.569070\n",
       "20305   효목2동  2022      4  15.072408\n",
       "\n",
       "[20306 rows x 4 columns]"
      ]
     },
     "execution_count": 860,
     "metadata": {},
     "output_type": "execute_result"
    }
   ],
   "source": [
    "df_month_HI = pd.read_csv('output/daegu_final_month.csv', index_col=0)\n",
    "\n",
    "df_month_HI"
   ]
  },
  {
   "cell_type": "code",
   "execution_count": 861,
   "metadata": {},
   "outputs": [
    {
     "data": {
      "text/html": [
       "<div>\n",
       "<style scoped>\n",
       "    .dataframe tbody tr th:only-of-type {\n",
       "        vertical-align: middle;\n",
       "    }\n",
       "\n",
       "    .dataframe tbody tr th {\n",
       "        vertical-align: top;\n",
       "    }\n",
       "\n",
       "    .dataframe thead th {\n",
       "        text-align: right;\n",
       "    }\n",
       "</style>\n",
       "<table border=\"1\" class=\"dataframe\">\n",
       "  <thead>\n",
       "    <tr style=\"text-align: right;\">\n",
       "      <th></th>\n",
       "      <th>region</th>\n",
       "      <th>year</th>\n",
       "      <th>month</th>\n",
       "      <th>HI</th>\n",
       "      <th>type</th>\n",
       "      <th>unitcount</th>\n",
       "      <th>elecusage</th>\n",
       "    </tr>\n",
       "  </thead>\n",
       "  <tbody>\n",
       "    <tr>\n",
       "      <th>0</th>\n",
       "      <td>가창면</td>\n",
       "      <td>2010</td>\n",
       "      <td>6</td>\n",
       "      <td>23.305656</td>\n",
       "      <td>NaN</td>\n",
       "      <td>NaN</td>\n",
       "      <td>NaN</td>\n",
       "    </tr>\n",
       "    <tr>\n",
       "      <th>1</th>\n",
       "      <td>가창면</td>\n",
       "      <td>2010</td>\n",
       "      <td>7</td>\n",
       "      <td>26.223425</td>\n",
       "      <td>NaN</td>\n",
       "      <td>NaN</td>\n",
       "      <td>NaN</td>\n",
       "    </tr>\n",
       "    <tr>\n",
       "      <th>2</th>\n",
       "      <td>가창면</td>\n",
       "      <td>2010</td>\n",
       "      <td>8</td>\n",
       "      <td>29.701307</td>\n",
       "      <td>NaN</td>\n",
       "      <td>NaN</td>\n",
       "      <td>NaN</td>\n",
       "    </tr>\n",
       "    <tr>\n",
       "      <th>3</th>\n",
       "      <td>가창면</td>\n",
       "      <td>2010</td>\n",
       "      <td>9</td>\n",
       "      <td>22.066710</td>\n",
       "      <td>NaN</td>\n",
       "      <td>NaN</td>\n",
       "      <td>NaN</td>\n",
       "    </tr>\n",
       "    <tr>\n",
       "      <th>4</th>\n",
       "      <td>가창면</td>\n",
       "      <td>2010</td>\n",
       "      <td>10</td>\n",
       "      <td>14.002856</td>\n",
       "      <td>NaN</td>\n",
       "      <td>NaN</td>\n",
       "      <td>NaN</td>\n",
       "    </tr>\n",
       "    <tr>\n",
       "      <th>...</th>\n",
       "      <td>...</td>\n",
       "      <td>...</td>\n",
       "      <td>...</td>\n",
       "      <td>...</td>\n",
       "      <td>...</td>\n",
       "      <td>...</td>\n",
       "      <td>...</td>\n",
       "    </tr>\n",
       "    <tr>\n",
       "      <th>197311</th>\n",
       "      <td>다사읍서재출장소</td>\n",
       "      <td>2022</td>\n",
       "      <td>2</td>\n",
       "      <td>NaN</td>\n",
       "      <td>농사용</td>\n",
       "      <td>122</td>\n",
       "      <td>62876.0</td>\n",
       "    </tr>\n",
       "    <tr>\n",
       "      <th>197312</th>\n",
       "      <td>다사읍서재출장소</td>\n",
       "      <td>2022</td>\n",
       "      <td>2</td>\n",
       "      <td>NaN</td>\n",
       "      <td>가로등</td>\n",
       "      <td>842</td>\n",
       "      <td>426872.0</td>\n",
       "    </tr>\n",
       "    <tr>\n",
       "      <th>197313</th>\n",
       "      <td>다사읍서재출장소</td>\n",
       "      <td>2022</td>\n",
       "      <td>2</td>\n",
       "      <td>NaN</td>\n",
       "      <td>산업용</td>\n",
       "      <td>1134</td>\n",
       "      <td>35268918.0</td>\n",
       "    </tr>\n",
       "    <tr>\n",
       "      <th>197314</th>\n",
       "      <td>다사읍서재출장소</td>\n",
       "      <td>2022</td>\n",
       "      <td>2</td>\n",
       "      <td>NaN</td>\n",
       "      <td>일반용</td>\n",
       "      <td>3614</td>\n",
       "      <td>7394266.0</td>\n",
       "    </tr>\n",
       "    <tr>\n",
       "      <th>197315</th>\n",
       "      <td>다사읍서재출장소</td>\n",
       "      <td>2022</td>\n",
       "      <td>2</td>\n",
       "      <td>NaN</td>\n",
       "      <td>주택용</td>\n",
       "      <td>5128</td>\n",
       "      <td>9964474.0</td>\n",
       "    </tr>\n",
       "  </tbody>\n",
       "</table>\n",
       "<p>197316 rows × 7 columns</p>\n",
       "</div>"
      ],
      "text/plain": [
       "          region  year  month         HI type unitcount   elecusage\n",
       "0            가창면  2010      6  23.305656  NaN       NaN         NaN\n",
       "1            가창면  2010      7  26.223425  NaN       NaN         NaN\n",
       "2            가창면  2010      8  29.701307  NaN       NaN         NaN\n",
       "3            가창면  2010      9  22.066710  NaN       NaN         NaN\n",
       "4            가창면  2010     10  14.002856  NaN       NaN         NaN\n",
       "...          ...   ...    ...        ...  ...       ...         ...\n",
       "197311  다사읍서재출장소  2022      2        NaN  농사용       122     62876.0\n",
       "197312  다사읍서재출장소  2022      2        NaN  가로등       842    426872.0\n",
       "197313  다사읍서재출장소  2022      2        NaN  산업용      1134  35268918.0\n",
       "197314  다사읍서재출장소  2022      2        NaN  일반용      3614   7394266.0\n",
       "197315  다사읍서재출장소  2022      2        NaN  주택용      5128   9964474.0\n",
       "\n",
       "[197316 rows x 7 columns]"
      ]
     },
     "execution_count": 861,
     "metadata": {},
     "output_type": "execute_result"
    }
   ],
   "source": [
    "df_join = pd.merge(df_month_HI, elec_daegu, left_on=['region','year','month'], right_on = ['region','year','month'], how='outer')\n",
    "\n",
    "df_join"
   ]
  },
  {
   "cell_type": "markdown",
   "metadata": {},
   "source": [
    "null 값 확인"
   ]
  },
  {
   "cell_type": "code",
   "execution_count": 862,
   "metadata": {},
   "outputs": [
    {
     "data": {
      "text/html": [
       "<div>\n",
       "<style scoped>\n",
       "    .dataframe tbody tr th:only-of-type {\n",
       "        vertical-align: middle;\n",
       "    }\n",
       "\n",
       "    .dataframe tbody tr th {\n",
       "        vertical-align: top;\n",
       "    }\n",
       "\n",
       "    .dataframe thead th {\n",
       "        text-align: right;\n",
       "    }\n",
       "</style>\n",
       "<table border=\"1\" class=\"dataframe\">\n",
       "  <thead>\n",
       "    <tr style=\"text-align: right;\">\n",
       "      <th></th>\n",
       "      <th>region</th>\n",
       "      <th>year</th>\n",
       "      <th>month</th>\n",
       "      <th>HI</th>\n",
       "      <th>type</th>\n",
       "      <th>unitcount</th>\n",
       "      <th>elecusage</th>\n",
       "    </tr>\n",
       "  </thead>\n",
       "  <tbody>\n",
       "  </tbody>\n",
       "</table>\n",
       "</div>"
      ],
      "text/plain": [
       "Empty DataFrame\n",
       "Columns: [region, year, month, HI, type, unitcount, elecusage]\n",
       "Index: []"
      ]
     },
     "execution_count": 862,
     "metadata": {},
     "output_type": "execute_result"
    }
   ],
   "source": [
    "df_join.loc[df_join['region'].isnull()]"
   ]
  },
  {
   "cell_type": "code",
   "execution_count": 863,
   "metadata": {},
   "outputs": [
    {
     "data": {
      "text/plain": [
       "array(['유천동', '논공읍공단출장소', '다사읍서재출장소', '옥포면', '유가면', '현풍면', '대명7동', '대명8동',\n",
       "       '이천2동', '대명2,8동', '대명3,7동', '대곡동', '이곡동', '두류1동', '두류2동', '성당1동',\n",
       "       '성당2동', '성서1동', '성서3동', '구지면 내리', '구지면 징리', '구지면 창리', '논공읍 남리',\n",
       "       '논공읍 북리', '논공읍 상리', '논공읍 하리', '유가읍 금리', '유가읍 봉리', '유가읍 상리',\n",
       "       '유가읍 양리', '유가읍 용리', '유가읍 음리', '하빈면 묘리', '현풍읍 대리', '현풍읍 부리',\n",
       "       '현풍읍 상리', '현풍읍 중리', '현풍읍 지리', '현풍읍 하리', '가창면 냉천리', '가창면 단산리',\n",
       "       '가창면 대일리', '가창면 삼산리', '가창면 상원리', '가창면 오동리', '가창면 옥분리', '가창면 용계리',\n",
       "       '가창면 우록리', '가창면 정대리', '가창면 주동리', '가창면 행정리', '구지면 가천리', '구지면 고봉리',\n",
       "       '구지면 대암리', '구지면 도동리', '구지면 목단리', '구지면 수리리', '구지면 예현리', '구지면 오설리',\n",
       "       '구지면 유산리', '구지면 응암리', '구지면 평촌리', '구지면 화산리', '논공읍 금포리', '논공읍 노이리',\n",
       "       '논공읍 본리리', '논공읍 삼리리', '논공읍 위천리', '다사읍 달천리', '다사읍 매곡리', '다사읍 문산리',\n",
       "       '다사읍 문양리', '다사읍 박곡리', '다사읍 방천리', '다사읍 부곡리', '다사읍 서재리', '다사읍 세천리',\n",
       "       '다사읍 이천리', '다사읍 죽곡리', '옥포읍 간경리', '옥포읍 강림리', '옥포읍 교항리', '옥포읍 기세리',\n",
       "       '옥포읍 김흥리', '옥포읍 반송리', '옥포읍 본리리', '옥포읍 송촌리', '옥포읍 신당리', '유가읍 가태리',\n",
       "       '유가읍 도의리', '유가읍 본말리', '유가읍 쌍계리', '유가읍 유곡리', '유가읍 초곡리', '유가읍 한정리',\n",
       "       '하빈면 감문리', '하빈면 기곡리', '하빈면 대평리', '하빈면 동곡리', '하빈면 무등리', '하빈면 봉촌리',\n",
       "       '하빈면 하산리', '하빈면 현내리', '현풍읍 성하리', '현풍읍 신기리', '현풍읍 오산리', '현풍읍 원교리',\n",
       "       '현풍읍 자모리', '화원읍 구라리', '화원읍 명곡리', '화원읍 본리리', '화원읍 설화리', '화원읍 성산리',\n",
       "       '화원읍 천내리', '도동', '검사동', '둔산동', '봉무동', '불로동', '송정동', '신평동', '입석동',\n",
       "       '평광동', '검사1동', '공산1동', '공산2동', '신천1동', '신천2동', '둔산부동', '노곡동',\n",
       "       '태전동', '노원3동', '칠곡1동', '칠곡2동', '칠곡3동', '노원1,2동', '비산3동', '내당2,3동',\n",
       "       '비산2,3동', '매호동', '수성동1가', '수성동2가', '수성동3가', '수성동4가', '대신1동',\n",
       "       '대신2동', '동인1,2,4가동', '달성군'], dtype=object)"
      ]
     },
     "execution_count": 863,
     "metadata": {},
     "output_type": "execute_result"
    }
   ],
   "source": [
    "df_join.loc[df_join['HI'].isnull(), 'region'].unique()"
   ]
  },
  {
   "cell_type": "markdown",
   "metadata": {},
   "source": [
    "두 테이블 사이에 안 겹치는 region을 다시 처리해준다"
   ]
  },
  {
   "cell_type": "code",
   "execution_count": 864,
   "metadata": {},
   "outputs": [
    {
     "data": {
      "text/plain": [
       "{'구암동',\n",
       " '내당2.3동',\n",
       " '대명2동',\n",
       " '대명3동',\n",
       " '대신동',\n",
       " '동촌동',\n",
       " '비산2.3동',\n",
       " '수성1가동',\n",
       " '신천1.2동',\n",
       " '안심3.4동',\n",
       " '용산1동',\n",
       " '이곡1동',\n",
       " '태전1동'}"
      ]
     },
     "execution_count": 864,
     "metadata": {},
     "output_type": "execute_result"
    }
   ],
   "source": [
    "set(df_month_HI['region'].unique()) - set(elec_daegu['region'].unique())"
   ]
  },
  {
   "cell_type": "code",
   "execution_count": 865,
   "metadata": {},
   "outputs": [
    {
     "data": {
      "text/plain": [
       "{'가창면 냉천리',\n",
       " '가창면 단산리',\n",
       " '가창면 대일리',\n",
       " '가창면 삼산리',\n",
       " '가창면 상원리',\n",
       " '가창면 오동리',\n",
       " '가창면 옥분리',\n",
       " '가창면 용계리',\n",
       " '가창면 우록리',\n",
       " '가창면 정대리',\n",
       " '가창면 주동리',\n",
       " '가창면 행정리',\n",
       " '검사1동',\n",
       " '검사동',\n",
       " '공산1동',\n",
       " '공산2동',\n",
       " '구지면 가천리',\n",
       " '구지면 고봉리',\n",
       " '구지면 내리',\n",
       " '구지면 대암리',\n",
       " '구지면 도동리',\n",
       " '구지면 목단리',\n",
       " '구지면 수리리',\n",
       " '구지면 예현리',\n",
       " '구지면 오설리',\n",
       " '구지면 유산리',\n",
       " '구지면 응암리',\n",
       " '구지면 징리',\n",
       " '구지면 창리',\n",
       " '구지면 평촌리',\n",
       " '구지면 화산리',\n",
       " '내당2,3동',\n",
       " '노곡동',\n",
       " '노원1,2동',\n",
       " '노원3동',\n",
       " '논공읍 금포리',\n",
       " '논공읍 남리',\n",
       " '논공읍 노이리',\n",
       " '논공읍 본리리',\n",
       " '논공읍 북리',\n",
       " '논공읍 삼리리',\n",
       " '논공읍 상리',\n",
       " '논공읍 위천리',\n",
       " '논공읍 하리',\n",
       " '논공읍공단출장소',\n",
       " '다사읍 달천리',\n",
       " '다사읍 매곡리',\n",
       " '다사읍 문산리',\n",
       " '다사읍 문양리',\n",
       " '다사읍 박곡리',\n",
       " '다사읍 방천리',\n",
       " '다사읍 부곡리',\n",
       " '다사읍 서재리',\n",
       " '다사읍 세천리',\n",
       " '다사읍 이천리',\n",
       " '다사읍 죽곡리',\n",
       " '다사읍서재출장소',\n",
       " '달성군',\n",
       " '대곡동',\n",
       " '대명2,8동',\n",
       " '대명3,7동',\n",
       " '대명7동',\n",
       " '대명8동',\n",
       " '대신1동',\n",
       " '대신2동',\n",
       " '도동',\n",
       " '동인1,2,4가동',\n",
       " '두류1동',\n",
       " '두류2동',\n",
       " '둔산동',\n",
       " '둔산부동',\n",
       " '매호동',\n",
       " '봉무동',\n",
       " '불로동',\n",
       " '비산2,3동',\n",
       " '비산3동',\n",
       " '성당1동',\n",
       " '성당2동',\n",
       " '성서1동',\n",
       " '성서3동',\n",
       " '송정동',\n",
       " '수성동1가',\n",
       " '수성동2가',\n",
       " '수성동3가',\n",
       " '수성동4가',\n",
       " '신천1동',\n",
       " '신천2동',\n",
       " '신평동',\n",
       " '옥포면',\n",
       " '옥포읍 간경리',\n",
       " '옥포읍 강림리',\n",
       " '옥포읍 교항리',\n",
       " '옥포읍 기세리',\n",
       " '옥포읍 김흥리',\n",
       " '옥포읍 반송리',\n",
       " '옥포읍 본리리',\n",
       " '옥포읍 송촌리',\n",
       " '옥포읍 신당리',\n",
       " '유가면',\n",
       " '유가읍 가태리',\n",
       " '유가읍 금리',\n",
       " '유가읍 도의리',\n",
       " '유가읍 본말리',\n",
       " '유가읍 봉리',\n",
       " '유가읍 상리',\n",
       " '유가읍 쌍계리',\n",
       " '유가읍 양리',\n",
       " '유가읍 용리',\n",
       " '유가읍 유곡리',\n",
       " '유가읍 음리',\n",
       " '유가읍 초곡리',\n",
       " '유가읍 한정리',\n",
       " '유천동',\n",
       " '이곡동',\n",
       " '이천2동',\n",
       " '입석동',\n",
       " '칠곡1동',\n",
       " '칠곡2동',\n",
       " '칠곡3동',\n",
       " '태전동',\n",
       " '평광동',\n",
       " '하빈면 감문리',\n",
       " '하빈면 기곡리',\n",
       " '하빈면 대평리',\n",
       " '하빈면 동곡리',\n",
       " '하빈면 묘리',\n",
       " '하빈면 무등리',\n",
       " '하빈면 봉촌리',\n",
       " '하빈면 하산리',\n",
       " '하빈면 현내리',\n",
       " '현풍면',\n",
       " '현풍읍 대리',\n",
       " '현풍읍 부리',\n",
       " '현풍읍 상리',\n",
       " '현풍읍 성하리',\n",
       " '현풍읍 신기리',\n",
       " '현풍읍 오산리',\n",
       " '현풍읍 원교리',\n",
       " '현풍읍 자모리',\n",
       " '현풍읍 중리',\n",
       " '현풍읍 지리',\n",
       " '현풍읍 하리',\n",
       " '화원읍 구라리',\n",
       " '화원읍 명곡리',\n",
       " '화원읍 본리리',\n",
       " '화원읍 설화리',\n",
       " '화원읍 성산리',\n",
       " '화원읍 천내리'}"
      ]
     },
     "execution_count": 865,
     "metadata": {},
     "output_type": "execute_result"
    }
   ],
   "source": [
    "set(elec_daegu['region'].unique()) - set(df_month_HI['region'].unique())"
   ]
  },
  {
   "cell_type": "code",
   "execution_count": 866,
   "metadata": {},
   "outputs": [
    {
     "data": {
      "text/plain": [
       "array(['송현2동', '이천동', '도원동', '본리동', '성당동', '신당동', '용산2동', '유천동', '이곡2동',\n",
       "       '장기동', '죽전동', '진천동', '가창면', '구지면', '논공읍', '논공읍공단출장소', '다사읍',\n",
       "       '다사읍서재출장소', '옥포면', '옥포읍', '유가면', '유가읍', '하빈면', '현풍면', '현풍읍', '화원읍',\n",
       "       '공산동', '도평동', '불로.봉무동', '신암5동', '신천4동', '안심2동', '안심3동', '안심4동',\n",
       "       '지저동', '해안동', '혁신동', '효목2동', '고성동', '관문동', '관음동', '국우동', '노원동',\n",
       "       '동천동', '무태조야동', '산격2동', '산격3동', '산격4동', '읍내동', '칠성동', '침산1동',\n",
       "       '침산3동', '태전2동', '두류1.2동', '상중이동', '원대동', '평리6동', '고산1동', '고산2동',\n",
       "       '고산3동', '만촌3동', '범물2동', '상동', '수성2.3가동', '수성4가동', '중동', '지산2동',\n",
       "       '파동', '황금1동', '황금2동', '남산4동', '대봉2동', '동인동', '삼덕동', '성내1동', '성내2동',\n",
       "       '성내3동', '대명1동', '대명4동', '대명5동', '대명6동', '대명7동', '대명8동', '대명9동',\n",
       "       '봉덕1동', '봉덕2동', '봉덕3동', '이천2동', '대명10동', '대명11동', '대명2,8동',\n",
       "       '대명3,7동', '본동', '감삼동', '대곡동', '이곡동', '두류1동', '두류2동', '두류3동',\n",
       "       '상인1동', '상인2동', '상인3동', '성당1동', '성당2동', '성서1동', '성서3동', '송현1동',\n",
       "       '월성1동', '월성2동', '구지면 내리', '구지면 징리', '구지면 창리', '논공읍 남리', '논공읍 북리',\n",
       "       '논공읍 상리', '논공읍 하리', '유가읍 금리', '유가읍 봉리', '유가읍 상리', '유가읍 양리',\n",
       "       '유가읍 용리', '유가읍 음리', '하빈면 묘리', '현풍읍 대리', '현풍읍 부리', '현풍읍 상리',\n",
       "       '현풍읍 중리', '현풍읍 지리', '현풍읍 하리', '가창면 냉천리', '가창면 단산리', '가창면 대일리',\n",
       "       '가창면 삼산리', '가창면 상원리', '가창면 오동리', '가창면 옥분리', '가창면 용계리', '가창면 우록리',\n",
       "       '가창면 정대리', '가창면 주동리', '가창면 행정리', '구지면 가천리', '구지면 고봉리', '구지면 대암리',\n",
       "       '구지면 도동리', '구지면 목단리', '구지면 수리리', '구지면 예현리', '구지면 오설리', '구지면 유산리',\n",
       "       '구지면 응암리', '구지면 평촌리', '구지면 화산리', '논공읍 금포리', '논공읍 노이리', '논공읍 본리리',\n",
       "       '논공읍 삼리리', '논공읍 위천리', '다사읍 달천리', '다사읍 매곡리', '다사읍 문산리', '다사읍 문양리',\n",
       "       '다사읍 박곡리', '다사읍 방천리', '다사읍 부곡리', '다사읍 서재리', '다사읍 세천리', '다사읍 이천리',\n",
       "       '다사읍 죽곡리', '옥포읍 간경리', '옥포읍 강림리', '옥포읍 교항리', '옥포읍 기세리', '옥포읍 김흥리',\n",
       "       '옥포읍 반송리', '옥포읍 본리리', '옥포읍 송촌리', '옥포읍 신당리', '유가읍 가태리', '유가읍 도의리',\n",
       "       '유가읍 본말리', '유가읍 쌍계리', '유가읍 유곡리', '유가읍 초곡리', '유가읍 한정리', '하빈면 감문리',\n",
       "       '하빈면 기곡리', '하빈면 대평리', '하빈면 동곡리', '하빈면 무등리', '하빈면 봉촌리', '하빈면 하산리',\n",
       "       '하빈면 현내리', '현풍읍 성하리', '현풍읍 신기리', '현풍읍 오산리', '현풍읍 원교리', '현풍읍 자모리',\n",
       "       '화원읍 구라리', '화원읍 명곡리', '화원읍 본리리', '화원읍 설화리', '화원읍 성산리', '화원읍 천내리',\n",
       "       '도동', '검사동', '둔산동', '방촌동', '봉무동', '불로동', '송정동', '신평동', '입석동',\n",
       "       '평광동', '검사1동', '공산1동', '공산2동', '신암1동', '신암2동', '신암3동', '신암4동',\n",
       "       '신천1동', '신천2동', '신천3동', '안심1동', '효목1동', '둔산부동', '검단동', '노곡동',\n",
       "       '대현동', '태전동', '노원3동', '복현1동', '복현2동', '산격1동', '칠곡1동', '칠곡2동',\n",
       "       '칠곡3동', '침산2동', '노원1,2동', '내당1동', '내당4동', '비산1동', '비산3동', '비산4동',\n",
       "       '비산5동', '비산6동', '비산7동', '평리1동', '평리2동', '평리3동', '평리4동', '평리5동',\n",
       "       '내당2,3동', '비산2,3동', '두산동', '매호동', '만촌1동', '만촌2동', '범물1동', '범어1동',\n",
       "       '범어2동', '범어3동', '범어4동', '지산1동', '수성동1가', '수성동2가', '수성동3가', '수성동4가',\n",
       "       '남산1동', '남산2동', '남산3동', '대봉1동', '대신1동', '대신2동', '동인1,2,4가동', '달성군'],\n",
       "      dtype=object)"
      ]
     },
     "execution_count": 866,
     "metadata": {},
     "output_type": "execute_result"
    }
   ],
   "source": [
    "elec_daegu['region'].unique()"
   ]
  },
  {
   "cell_type": "code",
   "execution_count": 867,
   "metadata": {},
   "outputs": [
    {
     "data": {
      "text/plain": [
       "array(['가창면', '감삼동', '검단동', '고산1동', '고산2동', '고산3동', '고성동', '공산동', '관문동',\n",
       "       '관음동', '구암동', '구지면', '국우동', '남산1동', '남산2동', '남산3동', '남산4동', '내당1동',\n",
       "       '내당2.3동', '내당4동', '노원동', '논공읍', '다사읍', '대명10동', '대명11동', '대명1동',\n",
       "       '대명2동', '대명3동', '대명4동', '대명5동', '대명6동', '대명9동', '대봉1동', '대봉2동',\n",
       "       '대신동', '대현동', '도원동', '도평동', '동인동', '동천동', '동촌동', '두류1.2동', '두류3동',\n",
       "       '두산동', '만촌1동', '만촌2동', '만촌3동', '무태조야동', '방촌동', '범물1동', '범물2동',\n",
       "       '범어1동', '범어2동', '범어3동', '범어4동', '복현1동', '복현2동', '본동', '본리동',\n",
       "       '봉덕1동', '봉덕2동', '봉덕3동', '불로.봉무동', '비산1동', '비산2.3동', '비산4동', '비산5동',\n",
       "       '비산6동', '비산7동', '산격1동', '산격2동', '산격3동', '산격4동', '삼덕동', '상동',\n",
       "       '상인1동', '상인2동', '상인3동', '상중이동', '성내1동', '성내2동', '성내3동', '성당동',\n",
       "       '송현1동', '송현2동', '수성1가동', '수성2.3가동', '수성4가동', '신당동', '신암1동', '신암2동',\n",
       "       '신암3동', '신암4동', '신암5동', '신천1.2동', '신천3동', '신천4동', '안심1동', '안심2동',\n",
       "       '안심3.4동', '안심3동', '안심4동', '옥포읍', '용산1동', '용산2동', '원대동', '월성1동',\n",
       "       '월성2동', '유가읍', '읍내동', '이곡1동', '이곡2동', '이천동', '장기동', '죽전동', '중동',\n",
       "       '지산1동', '지산2동', '지저동', '진천동', '칠성동', '침산1동', '침산2동', '침산3동',\n",
       "       '태전1동', '태전2동', '파동', '평리1동', '평리2동', '평리3동', '평리4동', '평리5동',\n",
       "       '평리6동', '하빈면', '해안동', '혁신동', '현풍읍', '화원읍', '황금1동', '황금2동', '효목1동',\n",
       "       '효목2동'], dtype=object)"
      ]
     },
     "execution_count": 867,
     "metadata": {},
     "output_type": "execute_result"
    }
   ],
   "source": [
    "df_month_HI['region'].unique()"
   ]
  },
  {
   "cell_type": "code",
   "execution_count": 868,
   "metadata": {},
   "outputs": [
    {
     "data": {
      "text/plain": [
       "array(['유천동', '논공읍공단출장소', '다사읍서재출장소', '옥포면', '유가면', '현풍면', '대명7동', '대명8동',\n",
       "       '이천2동', '대명2,8동', '대명3,7동', '대곡동', '이곡동', '두류1동', '두류2동', '성당1동',\n",
       "       '성당2동', '성서1동', '성서3동', '구지면 내리', '구지면 징리', '구지면 창리', '논공읍 남리',\n",
       "       '논공읍 북리', '논공읍 상리', '논공읍 하리', '유가읍 금리', '유가읍 봉리', '유가읍 상리',\n",
       "       '유가읍 양리', '유가읍 용리', '유가읍 음리', '하빈면 묘리', '현풍읍 대리', '현풍읍 부리',\n",
       "       '현풍읍 상리', '현풍읍 중리', '현풍읍 지리', '현풍읍 하리', '가창면 냉천리', '가창면 단산리',\n",
       "       '가창면 대일리', '가창면 삼산리', '가창면 상원리', '가창면 오동리', '가창면 옥분리', '가창면 용계리',\n",
       "       '가창면 우록리', '가창면 정대리', '가창면 주동리', '가창면 행정리', '구지면 가천리', '구지면 고봉리',\n",
       "       '구지면 대암리', '구지면 도동리', '구지면 목단리', '구지면 수리리', '구지면 예현리', '구지면 오설리',\n",
       "       '구지면 유산리', '구지면 응암리', '구지면 평촌리', '구지면 화산리', '논공읍 금포리', '논공읍 노이리',\n",
       "       '논공읍 본리리', '논공읍 삼리리', '논공읍 위천리', '다사읍 달천리', '다사읍 매곡리', '다사읍 문산리',\n",
       "       '다사읍 문양리', '다사읍 박곡리', '다사읍 방천리', '다사읍 부곡리', '다사읍 서재리', '다사읍 세천리',\n",
       "       '다사읍 이천리', '다사읍 죽곡리', '옥포읍 간경리', '옥포읍 강림리', '옥포읍 교항리', '옥포읍 기세리',\n",
       "       '옥포읍 김흥리', '옥포읍 반송리', '옥포읍 본리리', '옥포읍 송촌리', '옥포읍 신당리', '유가읍 가태리',\n",
       "       '유가읍 도의리', '유가읍 본말리', '유가읍 쌍계리', '유가읍 유곡리', '유가읍 초곡리', '유가읍 한정리',\n",
       "       '하빈면 감문리', '하빈면 기곡리', '하빈면 대평리', '하빈면 동곡리', '하빈면 무등리', '하빈면 봉촌리',\n",
       "       '하빈면 하산리', '하빈면 현내리', '현풍읍 성하리', '현풍읍 신기리', '현풍읍 오산리', '현풍읍 원교리',\n",
       "       '현풍읍 자모리', '화원읍 구라리', '화원읍 명곡리', '화원읍 본리리', '화원읍 설화리', '화원읍 성산리',\n",
       "       '화원읍 천내리', '도동', '검사동', '둔산동', '봉무동', '불로동', '송정동', '신평동', '입석동',\n",
       "       '평광동', '검사1동', '공산1동', '공산2동', '신천1동', '신천2동', '둔산부동', '노곡동',\n",
       "       '태전동', '노원3동', '칠곡1동', '칠곡2동', '칠곡3동', '노원1,2동', '비산3동', '내당2,3동',\n",
       "       '비산2,3동', '매호동', '수성동1가', '수성동2가', '수성동3가', '수성동4가', '대신1동',\n",
       "       '대신2동', '동인1,2,4가동', '달성군'], dtype=object)"
      ]
     },
     "execution_count": 868,
     "metadata": {},
     "output_type": "execute_result"
    }
   ],
   "source": [
    "df_join.loc[df_join['HI'].isnull(), 'region'].unique()"
   ]
  },
  {
   "cell_type": "markdown",
   "metadata": {},
   "source": [
    "* 리로 세분화되어 있는 region은 읍면으로 통일"
   ]
  },
  {
   "cell_type": "code",
   "execution_count": 869,
   "metadata": {},
   "outputs": [],
   "source": [
    "ri_list = ['구지면 내리', '구지면 징리', '구지면 창리', '논공읍 남리',\n",
    "       '논공읍 북리', '논공읍 상리', '논공읍 하리', '유가읍 금리', '유가읍 봉리', '유가읍 상리',\n",
    "       '유가읍 양리', '유가읍 용리', '유가읍 음리', '하빈면 묘리', '현풍읍 대리', '현풍읍 부리',\n",
    "       '현풍읍 상리', '현풍읍 중리', '현풍읍 지리', '현풍읍 하리', '가창면 냉천리', '가창면 단산리',\n",
    "       '가창면 대일리', '가창면 삼산리', '가창면 상원리', '가창면 오동리', '가창면 옥분리', '가창면 용계리',\n",
    "       '가창면 우록리', '가창면 정대리', '가창면 주동리', '가창면 행정리', '구지면 가천리', '구지면 고봉리',\n",
    "       '구지면 대암리', '구지면 도동리', '구지면 목단리', '구지면 수리리', '구지면 예현리', '구지면 오설리',\n",
    "       '구지면 유산리', '구지면 응암리', '구지면 평촌리', '구지면 화산리', '논공읍 금포리', '논공읍 노이리',\n",
    "       '논공읍 본리리', '논공읍 삼리리', '논공읍 위천리', '다사읍 달천리', '다사읍 매곡리', '다사읍 문산리',\n",
    "       '다사읍 문양리', '다사읍 박곡리', '다사읍 방천리', '다사읍 부곡리', '다사읍 서재리', '다사읍 세천리',\n",
    "       '다사읍 이천리', '다사읍 죽곡리', '옥포읍 간경리', '옥포읍 강림리', '옥포읍 교항리', '옥포읍 기세리',\n",
    "       '옥포읍 김흥리', '옥포읍 반송리', '옥포읍 본리리', '옥포읍 송촌리', '옥포읍 신당리', '유가읍 가태리',\n",
    "       '유가읍 도의리', '유가읍 본말리', '유가읍 쌍계리', '유가읍 유곡리', '유가읍 초곡리', '유가읍 한정리',\n",
    "       '하빈면 감문리', '하빈면 기곡리', '하빈면 대평리', '하빈면 동곡리', '하빈면 무등리', '하빈면 봉촌리',\n",
    "       '하빈면 하산리', '하빈면 현내리', '현풍읍 성하리', '현풍읍 신기리', '현풍읍 오산리', '현풍읍 원교리',\n",
    "       '현풍읍 자모리', '화원읍 구라리', '화원읍 명곡리', '화원읍 본리리', '화원읍 설화리', '화원읍 성산리',\n",
    "       '화원읍 천내리']\n",
    "\n",
    "for i in range(len(ri_list)):\n",
    "    elec_daegu.loc[(elec_daegu['region'] == ri_list[i]), 'region'] = ri_list[i][:3]"
   ]
  },
  {
   "cell_type": "code",
   "execution_count": 870,
   "metadata": {},
   "outputs": [
    {
     "data": {
      "text/plain": [
       "array(['가창면', '감삼동', '검단동', '고산1동', '고산2동', '고산3동', '고성동', '공산동', '관문동',\n",
       "       '관음동', '구암동', '구지면', '국우동', '남산1동', '남산2동', '남산3동', '남산4동', '내당1동',\n",
       "       '내당2.3동', '내당4동', '노원동', '논공읍', '다사읍', '대명10동', '대명11동', '대명1동',\n",
       "       '대명2동', '대명3동', '대명4동', '대명5동', '대명6동', '대명9동', '대봉1동', '대봉2동',\n",
       "       '대신동', '대현동', '도원동', '도평동', '동인동', '동천동', '동촌동', '두류1.2동', '두류3동',\n",
       "       '두산동', '만촌1동', '만촌2동', '만촌3동', '무태조야동', '방촌동', '범물1동', '범물2동',\n",
       "       '범어1동', '범어2동', '범어3동', '범어4동', '복현1동', '복현2동', '본동', '본리동',\n",
       "       '봉덕1동', '봉덕2동', '봉덕3동', '불로.봉무동', '비산1동', '비산2.3동', '비산4동', '비산5동',\n",
       "       '비산6동', '비산7동', '산격1동', '산격2동', '산격3동', '산격4동', '삼덕동', '상동',\n",
       "       '상인1동', '상인2동', '상인3동', '상중이동', '성내1동', '성내2동', '성내3동', '성당동',\n",
       "       '송현1동', '송현2동', '수성1가동', '수성2.3가동', '수성4가동', '신당동', '신암1동', '신암2동',\n",
       "       '신암3동', '신암4동', '신암5동', '신천1.2동', '신천3동', '신천4동', '안심1동', '안심2동',\n",
       "       '안심3.4동', '안심3동', '안심4동', '옥포읍', '용산1동', '용산2동', '원대동', '월성1동',\n",
       "       '월성2동', '유가읍', '읍내동', '이곡1동', '이곡2동', '이천동', '장기동', '죽전동', '중동',\n",
       "       '지산1동', '지산2동', '지저동', '진천동', '칠성동', '침산1동', '침산2동', '침산3동',\n",
       "       '태전1동', '태전2동', '파동', '평리1동', '평리2동', '평리3동', '평리4동', '평리5동',\n",
       "       '평리6동', '하빈면', '해안동', '혁신동', '현풍읍', '화원읍', '황금1동', '황금2동', '효목1동',\n",
       "       '효목2동'], dtype=object)"
      ]
     },
     "execution_count": 870,
     "metadata": {},
     "output_type": "execute_result"
    }
   ],
   "source": [
    "df_month_HI['region'].unique()"
   ]
  },
  {
   "cell_type": "code",
   "execution_count": 871,
   "metadata": {},
   "outputs": [
    {
     "name": "stdout",
     "output_type": "stream",
     "text": [
      "['가창면', '감삼동', '검단동', '검사1동', '검사동', '고산1동', '고산2동', '고산3동', '고성동', '공산1동', '공산2동', '공산동', '관문동', '관음동', '구지면', '국우동', '남산1동', '남산2동', '남산3동', '남산4동', '내당1동', '내당2,3동', '내당4동', '노곡동', '노원1,2동', '노원3동', '노원동', '논공읍', '논공읍공단출장소', '다사읍', '다사읍서재출장소', '달성군', '대곡동', '대명10동', '대명11동', '대명1동', '대명2,8동', '대명3,7동', '대명4동', '대명5동', '대명6동', '대명7동', '대명8동', '대명9동', '대봉1동', '대봉2동', '대신1동', '대신2동', '대현동', '도동', '도원동', '도평동', '동인1,2,4가동', '동인동', '동천동', '두류1.2동', '두류1동', '두류2동', '두류3동', '두산동', '둔산동', '둔산부동', '만촌1동', '만촌2동', '만촌3동', '매호동', '무태조야동', '방촌동', '범물1동', '범물2동', '범어1동', '범어2동', '범어3동', '범어4동', '복현1동', '복현2동', '본동', '본리동', '봉덕1동', '봉덕2동', '봉덕3동', '봉무동', '불로.봉무동', '불로동', '비산1동', '비산2,3동', '비산3동', '비산4동', '비산5동', '비산6동', '비산7동', '산격1동', '산격2동', '산격3동', '산격4동', '삼덕동', '상동', '상인1동', '상인2동', '상인3동', '상중이동', '성내1동', '성내2동', '성내3동', '성당1동', '성당2동', '성당동', '성서1동', '성서3동', '송정동', '송현1동', '송현2동', '수성2.3가동', '수성4가동', '수성동1가', '수성동2가', '수성동3가', '수성동4가', '신당동', '신암1동', '신암2동', '신암3동', '신암4동', '신암5동', '신천1동', '신천2동', '신천3동', '신천4동', '신평동', '안심1동', '안심2동', '안심3동', '안심4동', '옥포면', '옥포읍', '용산2동', '원대동', '월성1동', '월성2동', '유가면', '유가읍', '유천동', '읍내동', '이곡2동', '이곡동', '이천2동', '이천동', '입석동', '장기동', '죽전동', '중동', '지산1동', '지산2동', '지저동', '진천동', '칠곡1동', '칠곡2동', '칠곡3동', '칠성동', '침산1동', '침산2동', '침산3동', '태전2동', '태전동', '파동', '평광동', '평리1동', '평리2동', '평리3동', '평리4동', '평리5동', '평리6동', '하빈면', '해안동', '혁신동', '현풍면', '현풍읍', '화원읍', '황금1동', '황금2동', '효목1동', '효목2동']\n"
     ]
    }
   ],
   "source": [
    "print(sorted(list(elec_daegu['region'].unique())))"
   ]
  },
  {
   "cell_type": "code",
   "execution_count": 872,
   "metadata": {},
   "outputs": [
    {
     "data": {
      "text/plain": [
       "{'구암동',\n",
       " '내당2.3동',\n",
       " '대명2동',\n",
       " '대명3동',\n",
       " '대신동',\n",
       " '동촌동',\n",
       " '비산2.3동',\n",
       " '수성1가동',\n",
       " '신천1.2동',\n",
       " '안심3.4동',\n",
       " '용산1동',\n",
       " '이곡1동',\n",
       " '태전1동'}"
      ]
     },
     "execution_count": 872,
     "metadata": {},
     "output_type": "execute_result"
    }
   ],
   "source": [
    "set(df_month_HI['region'].unique()) - set(elec_daegu['region'].unique())"
   ]
  },
  {
   "cell_type": "markdown",
   "metadata": {},
   "source": [
    "전처리 해야할 것  \n",
    "\n",
    "\n",
    "1. 내당2,3동을 '내당2.3동'으로 변경  \n",
    "1. 신천1동과 2동을 '신천1.2동'으로 통합  \n",
    "1. 안심3동과 4동을 2020년 7월 이전까지 '안심3.4동'으로 통합  \n",
    "1. 대명2,8동을 '대명2동'으로 변경  \n",
    "1. 대명3,7동을 '대명3동'으로 변경  \n",
    "1. 대신1동과 2동을 '대신동'으로 통합  \n",
    "1. 비산2,3동을 '비산2.3동'으로 변경  \n",
    "1. 수성동1가를 '수성1가동'으로 변경  \n",
    "1. 이곡동을 '이곡1동'으로 변경  \n",
    "1. 태전동을 '태전1동'으로 변경  \n",
    "1. 검사동,검사1동,입석동을 '동촌동'으로 통합"
   ]
  },
  {
   "cell_type": "code",
   "execution_count": 873,
   "metadata": {},
   "outputs": [],
   "source": [
    "# ['구암동', '내당2.3동', '대명2동', '대명3동', '대신동', '동촌동', '비산2.3동', '수성1가동', '신천1.2동', '안심3.4동', '용산1동', '이곡1동', '태전1동']\n",
    "\n",
    "# 변경\n",
    "elec_daegu.loc[elec_daegu['region'] == '내당2,3동', 'region'] = '내당2.3동'\n",
    "elec_daegu.loc[elec_daegu['region'] == '대명2,8동', 'region'] = '대명2동'\n",
    "elec_daegu.loc[elec_daegu['region'] == '대명3,7동', 'region'] = '대명3동'\n",
    "elec_daegu.loc[elec_daegu['region'] == '비산2,3동', 'region'] = '비산2.3동'\n",
    "elec_daegu.loc[elec_daegu['region'] == '수성동1가', 'region'] = '수성1가동'\n",
    "elec_daegu.loc[elec_daegu['region'] == '이곡동', 'region'] = '이곡1동'\n",
    "elec_daegu.loc[elec_daegu['region'] == '태전동', 'region'] = '태전1동'\n",
    "\n",
    "# 통합\n",
    "elec_daegu.loc[(elec_daegu['region'] == '신천1동') | (elec_daegu['region'] == '신천2동'), 'region'] = '신천1.2동'\n",
    "elec_daegu.loc[((elec_daegu['region'] == '안심3동') | (elec_daegu['region'] == '안심4동')) & (((elec_daegu['year'] == 2020) & (elec_daegu['month'] < 7)) | (elec_daegu['year'] < 2020)), 'region'] = '안심3.4동'\n",
    "elec_daegu.loc[(elec_daegu['region'] == '대신1동') | (elec_daegu['region'] == '대신2동'), 'region'] = '대신동'\n",
    "elec_daegu.loc[(elec_daegu['region'] == '검사동') | (elec_daegu['region'] == '검사1동') | (elec_daegu['region'] == '입석동'), 'region'] = '동촌동'"
   ]
  },
  {
   "cell_type": "code",
   "execution_count": 874,
   "metadata": {},
   "outputs": [
    {
     "data": {
      "text/plain": [
       "{'구암동', '용산1동'}"
      ]
     },
     "execution_count": 874,
     "metadata": {},
     "output_type": "execute_result"
    }
   ],
   "source": [
    "set(df_month_HI['region'].unique()) - set(elec_daegu['region'].unique())"
   ]
  },
  {
   "cell_type": "code",
   "execution_count": 875,
   "metadata": {},
   "outputs": [
    {
     "data": {
      "text/plain": [
       "list[{'성서3동', '유천동', '대곡동', '노원1,2동', '송정동', '이천2동', '대명8동', '둔산부동', '칠곡3동', '성당1동', '동인1,2,4가동', '달성군', '봉무동', '매호동', '다사읍서재출장소', '칠곡1동', '수성동2가', '성당2동', '평광동', '신평동', '수성동3가', '비산3동', '성서1동', '둔산동', '공산1동', '수성동4가', '노원3동', '대명7동', '옥포면', '도동', '불로동', '두류2동', '칠곡2동', '유가면', '두류1동', '논공읍공단출장소', '현풍면', '노곡동', '공산2동'}]"
      ]
     },
     "execution_count": 875,
     "metadata": {},
     "output_type": "execute_result"
    }
   ],
   "source": [
    "list[set(elec_daegu['region'].unique()) - set(df_month_HI['region'].unique())]"
   ]
  },
  {
   "cell_type": "markdown",
   "metadata": {},
   "source": [
    "구암동, 용산1동은 전력데이터개방포털 문의예정"
   ]
  }
 ],
 "metadata": {
  "interpreter": {
   "hash": "8fa7ec4a218315ecd4fc57d93876c8458759dcb960de50ebce5572c8952fea93"
  },
  "kernelspec": {
   "display_name": "Python 3.10.4 ('.venv': venv)",
   "language": "python",
   "name": "python3"
  },
  "language_info": {
   "codemirror_mode": {
    "name": "ipython",
    "version": 3
   },
   "file_extension": ".py",
   "mimetype": "text/x-python",
   "name": "python",
   "nbconvert_exporter": "python",
   "pygments_lexer": "ipython3",
   "version": "3.10.4"
  },
  "orig_nbformat": 4
 },
 "nbformat": 4,
 "nbformat_minor": 2
}
