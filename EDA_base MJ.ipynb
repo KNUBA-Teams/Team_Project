{
 "cells": [
  {
   "cell_type": "markdown",
   "metadata": {},
   "source": [
    "# ※ 필요한 패키지 및 데이터 불러오기"
   ]
  },
  {
   "cell_type": "code",
   "execution_count": 2,
   "metadata": {},
   "outputs": [],
   "source": [
    "import pandas as pd\n",
    "import numpy as np\n",
    "\n",
    "import matplotlib.pyplot as plt\n",
    "import seaborn as sns"
   ]
  },
  {
   "cell_type": "code",
   "execution_count": 3,
   "metadata": {},
   "outputs": [],
   "source": [
    "df = pd.read_csv('daegu.csv', encoding = 'cp949')"
   ]
  },
  {
   "cell_type": "code",
   "execution_count": 4,
   "metadata": {},
   "outputs": [],
   "source": [
    "# 아래의 전처리부분을 전부 실행하면 daegu.csv 파일이 생성됨\n",
    "# 파일이 있으면 여기를 실행해서 아래의 EDA를 할 것\n",
    "df_pre = pd.read_csv('daegu_pre.csv')"
   ]
  },
  {
   "cell_type": "markdown",
   "metadata": {},
   "source": [
    "<hr>"
   ]
  },
  {
   "cell_type": "markdown",
   "metadata": {},
   "source": [
    "# Preprocessing\n",
    "#### Period\n",
    "- 2022-05-06\n",
    "\n",
    "#### Index\n",
    "0. 전처리 전\n",
    "\n",
    "1. Column : hour\n",
    "2. Column : lightning\n",
    "3. Column : condtion\n",
    "4. Column : month\n",
    "5. 전처리 후"
   ]
  },
  {
   "cell_type": "markdown",
   "metadata": {},
   "source": [
    "# 0. 전처리 전"
   ]
  },
  {
   "cell_type": "code",
   "execution_count": 4,
   "metadata": {},
   "outputs": [
    {
     "data": {
      "text/html": [
       "<div>\n",
       "<style scoped>\n",
       "    .dataframe tbody tr th:only-of-type {\n",
       "        vertical-align: middle;\n",
       "    }\n",
       "\n",
       "    .dataframe tbody tr th {\n",
       "        vertical-align: top;\n",
       "    }\n",
       "\n",
       "    .dataframe thead th {\n",
       "        text-align: right;\n",
       "    }\n",
       "</style>\n",
       "<table border=\"1\" class=\"dataframe\">\n",
       "  <thead>\n",
       "    <tr style=\"text-align: right;\">\n",
       "      <th></th>\n",
       "      <th>day</th>\n",
       "      <th>hour</th>\n",
       "      <th>rainfall</th>\n",
       "      <th>temp</th>\n",
       "      <th>lightning</th>\n",
       "      <th>humidity</th>\n",
       "      <th>wind_speed</th>\n",
       "      <th>wind_direction</th>\n",
       "      <th>condition</th>\n",
       "      <th>month</th>\n",
       "      <th>year</th>\n",
       "      <th>region</th>\n",
       "    </tr>\n",
       "  </thead>\n",
       "  <tbody>\n",
       "    <tr>\n",
       "      <th>0</th>\n",
       "      <td>1</td>\n",
       "      <td>0.0</td>\n",
       "      <td>0.0</td>\n",
       "      <td>16.500000</td>\n",
       "      <td>-1.0</td>\n",
       "      <td>53.0</td>\n",
       "      <td>53.0</td>\n",
       "      <td>390.0</td>\n",
       "      <td>1.0</td>\n",
       "      <td>6.0</td>\n",
       "      <td>2010</td>\n",
       "      <td>동인동</td>\n",
       "    </tr>\n",
       "    <tr>\n",
       "      <th>1</th>\n",
       "      <td>1</td>\n",
       "      <td>100.0</td>\n",
       "      <td>0.0</td>\n",
       "      <td>18.100000</td>\n",
       "      <td>-1.0</td>\n",
       "      <td>49.0</td>\n",
       "      <td>53.0</td>\n",
       "      <td>390.0</td>\n",
       "      <td>1.0</td>\n",
       "      <td>6.0</td>\n",
       "      <td>2010</td>\n",
       "      <td>동인동</td>\n",
       "    </tr>\n",
       "    <tr>\n",
       "      <th>2</th>\n",
       "      <td>1</td>\n",
       "      <td>200.0</td>\n",
       "      <td>0.0</td>\n",
       "      <td>19.700001</td>\n",
       "      <td>-1.0</td>\n",
       "      <td>46.0</td>\n",
       "      <td>53.0</td>\n",
       "      <td>390.0</td>\n",
       "      <td>1.0</td>\n",
       "      <td>6.0</td>\n",
       "      <td>2010</td>\n",
       "      <td>동인동</td>\n",
       "    </tr>\n",
       "    <tr>\n",
       "      <th>3</th>\n",
       "      <td>1</td>\n",
       "      <td>300.0</td>\n",
       "      <td>0.0</td>\n",
       "      <td>20.799999</td>\n",
       "      <td>-1.0</td>\n",
       "      <td>41.0</td>\n",
       "      <td>53.0</td>\n",
       "      <td>390.0</td>\n",
       "      <td>1.0</td>\n",
       "      <td>6.0</td>\n",
       "      <td>2010</td>\n",
       "      <td>동인동</td>\n",
       "    </tr>\n",
       "    <tr>\n",
       "      <th>4</th>\n",
       "      <td>1</td>\n",
       "      <td>400.0</td>\n",
       "      <td>0.0</td>\n",
       "      <td>22.200001</td>\n",
       "      <td>-1.0</td>\n",
       "      <td>36.0</td>\n",
       "      <td>53.0</td>\n",
       "      <td>390.0</td>\n",
       "      <td>2.0</td>\n",
       "      <td>6.0</td>\n",
       "      <td>2010</td>\n",
       "      <td>동인동</td>\n",
       "    </tr>\n",
       "    <tr>\n",
       "      <th>...</th>\n",
       "      <td>...</td>\n",
       "      <td>...</td>\n",
       "      <td>...</td>\n",
       "      <td>...</td>\n",
       "      <td>...</td>\n",
       "      <td>...</td>\n",
       "      <td>...</td>\n",
       "      <td>...</td>\n",
       "      <td>...</td>\n",
       "      <td>...</td>\n",
       "      <td>...</td>\n",
       "      <td>...</td>\n",
       "    </tr>\n",
       "    <tr>\n",
       "      <th>14831611</th>\n",
       "      <td>30</td>\n",
       "      <td>1900.0</td>\n",
       "      <td>0.0</td>\n",
       "      <td>10.700000</td>\n",
       "      <td>NaN</td>\n",
       "      <td>71.0</td>\n",
       "      <td>2.1</td>\n",
       "      <td>335.0</td>\n",
       "      <td>NaN</td>\n",
       "      <td>4.0</td>\n",
       "      <td>2022</td>\n",
       "      <td>구지면</td>\n",
       "    </tr>\n",
       "    <tr>\n",
       "      <th>14831612</th>\n",
       "      <td>30</td>\n",
       "      <td>2000.0</td>\n",
       "      <td>0.0</td>\n",
       "      <td>11.000000</td>\n",
       "      <td>NaN</td>\n",
       "      <td>65.0</td>\n",
       "      <td>2.2</td>\n",
       "      <td>339.0</td>\n",
       "      <td>NaN</td>\n",
       "      <td>4.0</td>\n",
       "      <td>2022</td>\n",
       "      <td>구지면</td>\n",
       "    </tr>\n",
       "    <tr>\n",
       "      <th>14831613</th>\n",
       "      <td>30</td>\n",
       "      <td>2100.0</td>\n",
       "      <td>0.0</td>\n",
       "      <td>11.900000</td>\n",
       "      <td>NaN</td>\n",
       "      <td>61.0</td>\n",
       "      <td>2.2</td>\n",
       "      <td>338.0</td>\n",
       "      <td>NaN</td>\n",
       "      <td>4.0</td>\n",
       "      <td>2022</td>\n",
       "      <td>구지면</td>\n",
       "    </tr>\n",
       "    <tr>\n",
       "      <th>14831614</th>\n",
       "      <td>30</td>\n",
       "      <td>2200.0</td>\n",
       "      <td>0.0</td>\n",
       "      <td>13.400000</td>\n",
       "      <td>NaN</td>\n",
       "      <td>53.0</td>\n",
       "      <td>2.0</td>\n",
       "      <td>351.0</td>\n",
       "      <td>NaN</td>\n",
       "      <td>4.0</td>\n",
       "      <td>2022</td>\n",
       "      <td>구지면</td>\n",
       "    </tr>\n",
       "    <tr>\n",
       "      <th>14831615</th>\n",
       "      <td>30</td>\n",
       "      <td>2300.0</td>\n",
       "      <td>0.0</td>\n",
       "      <td>15.100000</td>\n",
       "      <td>NaN</td>\n",
       "      <td>41.0</td>\n",
       "      <td>2.1</td>\n",
       "      <td>5.0</td>\n",
       "      <td>NaN</td>\n",
       "      <td>4.0</td>\n",
       "      <td>2022</td>\n",
       "      <td>구지면</td>\n",
       "    </tr>\n",
       "  </tbody>\n",
       "</table>\n",
       "<p>14831616 rows × 12 columns</p>\n",
       "</div>"
      ],
      "text/plain": [
       "          day    hour  rainfall       temp  lightning  humidity  wind_speed  \\\n",
       "0           1     0.0       0.0  16.500000       -1.0      53.0        53.0   \n",
       "1           1   100.0       0.0  18.100000       -1.0      49.0        53.0   \n",
       "2           1   200.0       0.0  19.700001       -1.0      46.0        53.0   \n",
       "3           1   300.0       0.0  20.799999       -1.0      41.0        53.0   \n",
       "4           1   400.0       0.0  22.200001       -1.0      36.0        53.0   \n",
       "...       ...     ...       ...        ...        ...       ...         ...   \n",
       "14831611   30  1900.0       0.0  10.700000        NaN      71.0         2.1   \n",
       "14831612   30  2000.0       0.0  11.000000        NaN      65.0         2.2   \n",
       "14831613   30  2100.0       0.0  11.900000        NaN      61.0         2.2   \n",
       "14831614   30  2200.0       0.0  13.400000        NaN      53.0         2.0   \n",
       "14831615   30  2300.0       0.0  15.100000        NaN      41.0         2.1   \n",
       "\n",
       "          wind_direction  condition  month  year region  \n",
       "0                  390.0        1.0    6.0  2010    동인동  \n",
       "1                  390.0        1.0    6.0  2010    동인동  \n",
       "2                  390.0        1.0    6.0  2010    동인동  \n",
       "3                  390.0        1.0    6.0  2010    동인동  \n",
       "4                  390.0        2.0    6.0  2010    동인동  \n",
       "...                  ...        ...    ...   ...    ...  \n",
       "14831611           335.0        NaN    4.0  2022    구지면  \n",
       "14831612           339.0        NaN    4.0  2022    구지면  \n",
       "14831613           338.0        NaN    4.0  2022    구지면  \n",
       "14831614           351.0        NaN    4.0  2022    구지면  \n",
       "14831615             5.0        NaN    4.0  2022    구지면  \n",
       "\n",
       "[14831616 rows x 12 columns]"
      ]
     },
     "execution_count": 4,
     "metadata": {},
     "output_type": "execute_result"
    }
   ],
   "source": [
    "df"
   ]
  },
  {
   "cell_type": "markdown",
   "metadata": {},
   "source": [
    "## 1. Column :  hour\n",
    "- 시간이 24시간 형식으로 되어있음\n",
    "- 시간뒤에 분을 나타내는 00이 따라옴\n",
    "<br><br>\n",
    "- 분은 항상 00으로 표시되므로 필요없는 데이터로 제거"
   ]
  },
  {
   "cell_type": "code",
   "execution_count": 5,
   "metadata": {},
   "outputs": [],
   "source": [
    "df1 = df[:]\n",
    "df1['hour'] = df['hour']/100\n",
    "df1['hour'] = df1['hour'].astype(int)"
   ]
  },
  {
   "cell_type": "code",
   "execution_count": 6,
   "metadata": {},
   "outputs": [
    {
     "data": {
      "text/html": [
       "<div>\n",
       "<style scoped>\n",
       "    .dataframe tbody tr th:only-of-type {\n",
       "        vertical-align: middle;\n",
       "    }\n",
       "\n",
       "    .dataframe tbody tr th {\n",
       "        vertical-align: top;\n",
       "    }\n",
       "\n",
       "    .dataframe thead th {\n",
       "        text-align: right;\n",
       "    }\n",
       "</style>\n",
       "<table border=\"1\" class=\"dataframe\">\n",
       "  <thead>\n",
       "    <tr style=\"text-align: right;\">\n",
       "      <th></th>\n",
       "      <th>day</th>\n",
       "      <th>hour</th>\n",
       "      <th>rainfall</th>\n",
       "      <th>temp</th>\n",
       "      <th>lightning</th>\n",
       "      <th>humidity</th>\n",
       "      <th>wind_speed</th>\n",
       "      <th>wind_direction</th>\n",
       "      <th>condition</th>\n",
       "      <th>month</th>\n",
       "      <th>year</th>\n",
       "      <th>region</th>\n",
       "    </tr>\n",
       "  </thead>\n",
       "  <tbody>\n",
       "    <tr>\n",
       "      <th>0</th>\n",
       "      <td>1</td>\n",
       "      <td>0</td>\n",
       "      <td>0.0</td>\n",
       "      <td>16.500000</td>\n",
       "      <td>-1.0</td>\n",
       "      <td>53.0</td>\n",
       "      <td>53.0</td>\n",
       "      <td>390.0</td>\n",
       "      <td>1.0</td>\n",
       "      <td>6.0</td>\n",
       "      <td>2010</td>\n",
       "      <td>동인동</td>\n",
       "    </tr>\n",
       "    <tr>\n",
       "      <th>1</th>\n",
       "      <td>1</td>\n",
       "      <td>1</td>\n",
       "      <td>0.0</td>\n",
       "      <td>18.100000</td>\n",
       "      <td>-1.0</td>\n",
       "      <td>49.0</td>\n",
       "      <td>53.0</td>\n",
       "      <td>390.0</td>\n",
       "      <td>1.0</td>\n",
       "      <td>6.0</td>\n",
       "      <td>2010</td>\n",
       "      <td>동인동</td>\n",
       "    </tr>\n",
       "    <tr>\n",
       "      <th>2</th>\n",
       "      <td>1</td>\n",
       "      <td>2</td>\n",
       "      <td>0.0</td>\n",
       "      <td>19.700001</td>\n",
       "      <td>-1.0</td>\n",
       "      <td>46.0</td>\n",
       "      <td>53.0</td>\n",
       "      <td>390.0</td>\n",
       "      <td>1.0</td>\n",
       "      <td>6.0</td>\n",
       "      <td>2010</td>\n",
       "      <td>동인동</td>\n",
       "    </tr>\n",
       "    <tr>\n",
       "      <th>3</th>\n",
       "      <td>1</td>\n",
       "      <td>3</td>\n",
       "      <td>0.0</td>\n",
       "      <td>20.799999</td>\n",
       "      <td>-1.0</td>\n",
       "      <td>41.0</td>\n",
       "      <td>53.0</td>\n",
       "      <td>390.0</td>\n",
       "      <td>1.0</td>\n",
       "      <td>6.0</td>\n",
       "      <td>2010</td>\n",
       "      <td>동인동</td>\n",
       "    </tr>\n",
       "    <tr>\n",
       "      <th>4</th>\n",
       "      <td>1</td>\n",
       "      <td>4</td>\n",
       "      <td>0.0</td>\n",
       "      <td>22.200001</td>\n",
       "      <td>-1.0</td>\n",
       "      <td>36.0</td>\n",
       "      <td>53.0</td>\n",
       "      <td>390.0</td>\n",
       "      <td>2.0</td>\n",
       "      <td>6.0</td>\n",
       "      <td>2010</td>\n",
       "      <td>동인동</td>\n",
       "    </tr>\n",
       "    <tr>\n",
       "      <th>...</th>\n",
       "      <td>...</td>\n",
       "      <td>...</td>\n",
       "      <td>...</td>\n",
       "      <td>...</td>\n",
       "      <td>...</td>\n",
       "      <td>...</td>\n",
       "      <td>...</td>\n",
       "      <td>...</td>\n",
       "      <td>...</td>\n",
       "      <td>...</td>\n",
       "      <td>...</td>\n",
       "      <td>...</td>\n",
       "    </tr>\n",
       "    <tr>\n",
       "      <th>14831611</th>\n",
       "      <td>30</td>\n",
       "      <td>19</td>\n",
       "      <td>0.0</td>\n",
       "      <td>10.700000</td>\n",
       "      <td>NaN</td>\n",
       "      <td>71.0</td>\n",
       "      <td>2.1</td>\n",
       "      <td>335.0</td>\n",
       "      <td>NaN</td>\n",
       "      <td>4.0</td>\n",
       "      <td>2022</td>\n",
       "      <td>구지면</td>\n",
       "    </tr>\n",
       "    <tr>\n",
       "      <th>14831612</th>\n",
       "      <td>30</td>\n",
       "      <td>20</td>\n",
       "      <td>0.0</td>\n",
       "      <td>11.000000</td>\n",
       "      <td>NaN</td>\n",
       "      <td>65.0</td>\n",
       "      <td>2.2</td>\n",
       "      <td>339.0</td>\n",
       "      <td>NaN</td>\n",
       "      <td>4.0</td>\n",
       "      <td>2022</td>\n",
       "      <td>구지면</td>\n",
       "    </tr>\n",
       "    <tr>\n",
       "      <th>14831613</th>\n",
       "      <td>30</td>\n",
       "      <td>21</td>\n",
       "      <td>0.0</td>\n",
       "      <td>11.900000</td>\n",
       "      <td>NaN</td>\n",
       "      <td>61.0</td>\n",
       "      <td>2.2</td>\n",
       "      <td>338.0</td>\n",
       "      <td>NaN</td>\n",
       "      <td>4.0</td>\n",
       "      <td>2022</td>\n",
       "      <td>구지면</td>\n",
       "    </tr>\n",
       "    <tr>\n",
       "      <th>14831614</th>\n",
       "      <td>30</td>\n",
       "      <td>22</td>\n",
       "      <td>0.0</td>\n",
       "      <td>13.400000</td>\n",
       "      <td>NaN</td>\n",
       "      <td>53.0</td>\n",
       "      <td>2.0</td>\n",
       "      <td>351.0</td>\n",
       "      <td>NaN</td>\n",
       "      <td>4.0</td>\n",
       "      <td>2022</td>\n",
       "      <td>구지면</td>\n",
       "    </tr>\n",
       "    <tr>\n",
       "      <th>14831615</th>\n",
       "      <td>30</td>\n",
       "      <td>23</td>\n",
       "      <td>0.0</td>\n",
       "      <td>15.100000</td>\n",
       "      <td>NaN</td>\n",
       "      <td>41.0</td>\n",
       "      <td>2.1</td>\n",
       "      <td>5.0</td>\n",
       "      <td>NaN</td>\n",
       "      <td>4.0</td>\n",
       "      <td>2022</td>\n",
       "      <td>구지면</td>\n",
       "    </tr>\n",
       "  </tbody>\n",
       "</table>\n",
       "<p>14831616 rows × 12 columns</p>\n",
       "</div>"
      ],
      "text/plain": [
       "          day  hour  rainfall       temp  lightning  humidity  wind_speed  \\\n",
       "0           1     0       0.0  16.500000       -1.0      53.0        53.0   \n",
       "1           1     1       0.0  18.100000       -1.0      49.0        53.0   \n",
       "2           1     2       0.0  19.700001       -1.0      46.0        53.0   \n",
       "3           1     3       0.0  20.799999       -1.0      41.0        53.0   \n",
       "4           1     4       0.0  22.200001       -1.0      36.0        53.0   \n",
       "...       ...   ...       ...        ...        ...       ...         ...   \n",
       "14831611   30    19       0.0  10.700000        NaN      71.0         2.1   \n",
       "14831612   30    20       0.0  11.000000        NaN      65.0         2.2   \n",
       "14831613   30    21       0.0  11.900000        NaN      61.0         2.2   \n",
       "14831614   30    22       0.0  13.400000        NaN      53.0         2.0   \n",
       "14831615   30    23       0.0  15.100000        NaN      41.0         2.1   \n",
       "\n",
       "          wind_direction  condition  month  year region  \n",
       "0                  390.0        1.0    6.0  2010    동인동  \n",
       "1                  390.0        1.0    6.0  2010    동인동  \n",
       "2                  390.0        1.0    6.0  2010    동인동  \n",
       "3                  390.0        1.0    6.0  2010    동인동  \n",
       "4                  390.0        2.0    6.0  2010    동인동  \n",
       "...                  ...        ...    ...   ...    ...  \n",
       "14831611           335.0        NaN    4.0  2022    구지면  \n",
       "14831612           339.0        NaN    4.0  2022    구지면  \n",
       "14831613           338.0        NaN    4.0  2022    구지면  \n",
       "14831614           351.0        NaN    4.0  2022    구지면  \n",
       "14831615             5.0        NaN    4.0  2022    구지면  \n",
       "\n",
       "[14831616 rows x 12 columns]"
      ]
     },
     "execution_count": 6,
     "metadata": {},
     "output_type": "execute_result"
    }
   ],
   "source": [
    "df1"
   ]
  },
  {
   "cell_type": "markdown",
   "metadata": {},
   "source": [
    "## 2. Column : lightning\n",
    "- 0, 1 로 번개의 여부를 표현\n",
    "    0 : 번개 X\n",
    "    1 : 번개 O\n",
    "    -1 : 미측정\n",
    "- 어느날을 기준으로 측정하지 않아 None 값이 저장\n",
    "<br><br>\n",
    "- -1과 None 값을 통일시켜줄 필요가 있음"
   ]
  },
  {
   "cell_type": "code",
   "execution_count": 6,
   "metadata": {},
   "outputs": [],
   "source": [
    "df2 = df1[:]\n",
    "df2['lightning'] = df2['lightning'].fillna(-1)\n",
    "df2['lightning'] = df2['lightning'].astype(int)"
   ]
  },
  {
   "cell_type": "code",
   "execution_count": 8,
   "metadata": {},
   "outputs": [
    {
     "data": {
      "text/html": [
       "<div>\n",
       "<style scoped>\n",
       "    .dataframe tbody tr th:only-of-type {\n",
       "        vertical-align: middle;\n",
       "    }\n",
       "\n",
       "    .dataframe tbody tr th {\n",
       "        vertical-align: top;\n",
       "    }\n",
       "\n",
       "    .dataframe thead th {\n",
       "        text-align: right;\n",
       "    }\n",
       "</style>\n",
       "<table border=\"1\" class=\"dataframe\">\n",
       "  <thead>\n",
       "    <tr style=\"text-align: right;\">\n",
       "      <th></th>\n",
       "      <th>day</th>\n",
       "      <th>hour</th>\n",
       "      <th>rainfall</th>\n",
       "      <th>temp</th>\n",
       "      <th>lightning</th>\n",
       "      <th>humidity</th>\n",
       "      <th>wind_speed</th>\n",
       "      <th>wind_direction</th>\n",
       "      <th>condition</th>\n",
       "      <th>month</th>\n",
       "      <th>year</th>\n",
       "      <th>region</th>\n",
       "    </tr>\n",
       "  </thead>\n",
       "  <tbody>\n",
       "    <tr>\n",
       "      <th>0</th>\n",
       "      <td>1</td>\n",
       "      <td>0</td>\n",
       "      <td>0.0</td>\n",
       "      <td>16.500000</td>\n",
       "      <td>-1</td>\n",
       "      <td>53.0</td>\n",
       "      <td>53.0</td>\n",
       "      <td>390.0</td>\n",
       "      <td>1.0</td>\n",
       "      <td>6.0</td>\n",
       "      <td>2010</td>\n",
       "      <td>동인동</td>\n",
       "    </tr>\n",
       "    <tr>\n",
       "      <th>1</th>\n",
       "      <td>1</td>\n",
       "      <td>1</td>\n",
       "      <td>0.0</td>\n",
       "      <td>18.100000</td>\n",
       "      <td>-1</td>\n",
       "      <td>49.0</td>\n",
       "      <td>53.0</td>\n",
       "      <td>390.0</td>\n",
       "      <td>1.0</td>\n",
       "      <td>6.0</td>\n",
       "      <td>2010</td>\n",
       "      <td>동인동</td>\n",
       "    </tr>\n",
       "    <tr>\n",
       "      <th>2</th>\n",
       "      <td>1</td>\n",
       "      <td>2</td>\n",
       "      <td>0.0</td>\n",
       "      <td>19.700001</td>\n",
       "      <td>-1</td>\n",
       "      <td>46.0</td>\n",
       "      <td>53.0</td>\n",
       "      <td>390.0</td>\n",
       "      <td>1.0</td>\n",
       "      <td>6.0</td>\n",
       "      <td>2010</td>\n",
       "      <td>동인동</td>\n",
       "    </tr>\n",
       "    <tr>\n",
       "      <th>3</th>\n",
       "      <td>1</td>\n",
       "      <td>3</td>\n",
       "      <td>0.0</td>\n",
       "      <td>20.799999</td>\n",
       "      <td>-1</td>\n",
       "      <td>41.0</td>\n",
       "      <td>53.0</td>\n",
       "      <td>390.0</td>\n",
       "      <td>1.0</td>\n",
       "      <td>6.0</td>\n",
       "      <td>2010</td>\n",
       "      <td>동인동</td>\n",
       "    </tr>\n",
       "    <tr>\n",
       "      <th>4</th>\n",
       "      <td>1</td>\n",
       "      <td>4</td>\n",
       "      <td>0.0</td>\n",
       "      <td>22.200001</td>\n",
       "      <td>-1</td>\n",
       "      <td>36.0</td>\n",
       "      <td>53.0</td>\n",
       "      <td>390.0</td>\n",
       "      <td>2.0</td>\n",
       "      <td>6.0</td>\n",
       "      <td>2010</td>\n",
       "      <td>동인동</td>\n",
       "    </tr>\n",
       "    <tr>\n",
       "      <th>...</th>\n",
       "      <td>...</td>\n",
       "      <td>...</td>\n",
       "      <td>...</td>\n",
       "      <td>...</td>\n",
       "      <td>...</td>\n",
       "      <td>...</td>\n",
       "      <td>...</td>\n",
       "      <td>...</td>\n",
       "      <td>...</td>\n",
       "      <td>...</td>\n",
       "      <td>...</td>\n",
       "      <td>...</td>\n",
       "    </tr>\n",
       "    <tr>\n",
       "      <th>14831611</th>\n",
       "      <td>30</td>\n",
       "      <td>19</td>\n",
       "      <td>0.0</td>\n",
       "      <td>10.700000</td>\n",
       "      <td>-1</td>\n",
       "      <td>71.0</td>\n",
       "      <td>2.1</td>\n",
       "      <td>335.0</td>\n",
       "      <td>NaN</td>\n",
       "      <td>4.0</td>\n",
       "      <td>2022</td>\n",
       "      <td>구지면</td>\n",
       "    </tr>\n",
       "    <tr>\n",
       "      <th>14831612</th>\n",
       "      <td>30</td>\n",
       "      <td>20</td>\n",
       "      <td>0.0</td>\n",
       "      <td>11.000000</td>\n",
       "      <td>-1</td>\n",
       "      <td>65.0</td>\n",
       "      <td>2.2</td>\n",
       "      <td>339.0</td>\n",
       "      <td>NaN</td>\n",
       "      <td>4.0</td>\n",
       "      <td>2022</td>\n",
       "      <td>구지면</td>\n",
       "    </tr>\n",
       "    <tr>\n",
       "      <th>14831613</th>\n",
       "      <td>30</td>\n",
       "      <td>21</td>\n",
       "      <td>0.0</td>\n",
       "      <td>11.900000</td>\n",
       "      <td>-1</td>\n",
       "      <td>61.0</td>\n",
       "      <td>2.2</td>\n",
       "      <td>338.0</td>\n",
       "      <td>NaN</td>\n",
       "      <td>4.0</td>\n",
       "      <td>2022</td>\n",
       "      <td>구지면</td>\n",
       "    </tr>\n",
       "    <tr>\n",
       "      <th>14831614</th>\n",
       "      <td>30</td>\n",
       "      <td>22</td>\n",
       "      <td>0.0</td>\n",
       "      <td>13.400000</td>\n",
       "      <td>-1</td>\n",
       "      <td>53.0</td>\n",
       "      <td>2.0</td>\n",
       "      <td>351.0</td>\n",
       "      <td>NaN</td>\n",
       "      <td>4.0</td>\n",
       "      <td>2022</td>\n",
       "      <td>구지면</td>\n",
       "    </tr>\n",
       "    <tr>\n",
       "      <th>14831615</th>\n",
       "      <td>30</td>\n",
       "      <td>23</td>\n",
       "      <td>0.0</td>\n",
       "      <td>15.100000</td>\n",
       "      <td>-1</td>\n",
       "      <td>41.0</td>\n",
       "      <td>2.1</td>\n",
       "      <td>5.0</td>\n",
       "      <td>NaN</td>\n",
       "      <td>4.0</td>\n",
       "      <td>2022</td>\n",
       "      <td>구지면</td>\n",
       "    </tr>\n",
       "  </tbody>\n",
       "</table>\n",
       "<p>14831616 rows × 12 columns</p>\n",
       "</div>"
      ],
      "text/plain": [
       "          day  hour  rainfall       temp  lightning  humidity  wind_speed  \\\n",
       "0           1     0       0.0  16.500000         -1      53.0        53.0   \n",
       "1           1     1       0.0  18.100000         -1      49.0        53.0   \n",
       "2           1     2       0.0  19.700001         -1      46.0        53.0   \n",
       "3           1     3       0.0  20.799999         -1      41.0        53.0   \n",
       "4           1     4       0.0  22.200001         -1      36.0        53.0   \n",
       "...       ...   ...       ...        ...        ...       ...         ...   \n",
       "14831611   30    19       0.0  10.700000         -1      71.0         2.1   \n",
       "14831612   30    20       0.0  11.000000         -1      65.0         2.2   \n",
       "14831613   30    21       0.0  11.900000         -1      61.0         2.2   \n",
       "14831614   30    22       0.0  13.400000         -1      53.0         2.0   \n",
       "14831615   30    23       0.0  15.100000         -1      41.0         2.1   \n",
       "\n",
       "          wind_direction  condition  month  year region  \n",
       "0                  390.0        1.0    6.0  2010    동인동  \n",
       "1                  390.0        1.0    6.0  2010    동인동  \n",
       "2                  390.0        1.0    6.0  2010    동인동  \n",
       "3                  390.0        1.0    6.0  2010    동인동  \n",
       "4                  390.0        2.0    6.0  2010    동인동  \n",
       "...                  ...        ...    ...   ...    ...  \n",
       "14831611           335.0        NaN    4.0  2022    구지면  \n",
       "14831612           339.0        NaN    4.0  2022    구지면  \n",
       "14831613           338.0        NaN    4.0  2022    구지면  \n",
       "14831614           351.0        NaN    4.0  2022    구지면  \n",
       "14831615             5.0        NaN    4.0  2022    구지면  \n",
       "\n",
       "[14831616 rows x 12 columns]"
      ]
     },
     "execution_count": 8,
     "metadata": {},
     "output_type": "execute_result"
    }
   ],
   "source": [
    "df2"
   ]
  },
  {
   "cell_type": "markdown",
   "metadata": {},
   "source": [
    "## 3. Column : condition\n",
    "- 1,2,3,4 로 구름의 양을 표현\n",
    "    - 1 : 맑음\n",
    "    - 2 : 구름 조금\n",
    "    - 3 : 구름 많음\n",
    "    - 4 : 흐림\n",
    "    - -1 : 미측정\n",
    "- 어느날을 기준으로 측정하지 않아 None 값이 저장\n",
    "<br><br>\n",
    "- -1과 None 값을 통일시켜줄 필요가 있음"
   ]
  },
  {
   "cell_type": "code",
   "execution_count": 7,
   "metadata": {},
   "outputs": [],
   "source": [
    "df3 = df2[:]\n",
    "df3['condition'] = df3['condition'].fillna(-1)\n",
    "df3['condition'] = df3['condition'].astype(int)"
   ]
  },
  {
   "cell_type": "code",
   "execution_count": 10,
   "metadata": {},
   "outputs": [
    {
     "data": {
      "text/html": [
       "<div>\n",
       "<style scoped>\n",
       "    .dataframe tbody tr th:only-of-type {\n",
       "        vertical-align: middle;\n",
       "    }\n",
       "\n",
       "    .dataframe tbody tr th {\n",
       "        vertical-align: top;\n",
       "    }\n",
       "\n",
       "    .dataframe thead th {\n",
       "        text-align: right;\n",
       "    }\n",
       "</style>\n",
       "<table border=\"1\" class=\"dataframe\">\n",
       "  <thead>\n",
       "    <tr style=\"text-align: right;\">\n",
       "      <th></th>\n",
       "      <th>day</th>\n",
       "      <th>hour</th>\n",
       "      <th>rainfall</th>\n",
       "      <th>temp</th>\n",
       "      <th>lightning</th>\n",
       "      <th>humidity</th>\n",
       "      <th>wind_speed</th>\n",
       "      <th>wind_direction</th>\n",
       "      <th>condition</th>\n",
       "      <th>month</th>\n",
       "      <th>year</th>\n",
       "      <th>region</th>\n",
       "    </tr>\n",
       "  </thead>\n",
       "  <tbody>\n",
       "    <tr>\n",
       "      <th>0</th>\n",
       "      <td>1</td>\n",
       "      <td>0</td>\n",
       "      <td>0.0</td>\n",
       "      <td>16.500000</td>\n",
       "      <td>-1</td>\n",
       "      <td>53.0</td>\n",
       "      <td>53.0</td>\n",
       "      <td>390.0</td>\n",
       "      <td>1</td>\n",
       "      <td>6.0</td>\n",
       "      <td>2010</td>\n",
       "      <td>동인동</td>\n",
       "    </tr>\n",
       "    <tr>\n",
       "      <th>1</th>\n",
       "      <td>1</td>\n",
       "      <td>1</td>\n",
       "      <td>0.0</td>\n",
       "      <td>18.100000</td>\n",
       "      <td>-1</td>\n",
       "      <td>49.0</td>\n",
       "      <td>53.0</td>\n",
       "      <td>390.0</td>\n",
       "      <td>1</td>\n",
       "      <td>6.0</td>\n",
       "      <td>2010</td>\n",
       "      <td>동인동</td>\n",
       "    </tr>\n",
       "    <tr>\n",
       "      <th>2</th>\n",
       "      <td>1</td>\n",
       "      <td>2</td>\n",
       "      <td>0.0</td>\n",
       "      <td>19.700001</td>\n",
       "      <td>-1</td>\n",
       "      <td>46.0</td>\n",
       "      <td>53.0</td>\n",
       "      <td>390.0</td>\n",
       "      <td>1</td>\n",
       "      <td>6.0</td>\n",
       "      <td>2010</td>\n",
       "      <td>동인동</td>\n",
       "    </tr>\n",
       "    <tr>\n",
       "      <th>3</th>\n",
       "      <td>1</td>\n",
       "      <td>3</td>\n",
       "      <td>0.0</td>\n",
       "      <td>20.799999</td>\n",
       "      <td>-1</td>\n",
       "      <td>41.0</td>\n",
       "      <td>53.0</td>\n",
       "      <td>390.0</td>\n",
       "      <td>1</td>\n",
       "      <td>6.0</td>\n",
       "      <td>2010</td>\n",
       "      <td>동인동</td>\n",
       "    </tr>\n",
       "    <tr>\n",
       "      <th>4</th>\n",
       "      <td>1</td>\n",
       "      <td>4</td>\n",
       "      <td>0.0</td>\n",
       "      <td>22.200001</td>\n",
       "      <td>-1</td>\n",
       "      <td>36.0</td>\n",
       "      <td>53.0</td>\n",
       "      <td>390.0</td>\n",
       "      <td>2</td>\n",
       "      <td>6.0</td>\n",
       "      <td>2010</td>\n",
       "      <td>동인동</td>\n",
       "    </tr>\n",
       "    <tr>\n",
       "      <th>...</th>\n",
       "      <td>...</td>\n",
       "      <td>...</td>\n",
       "      <td>...</td>\n",
       "      <td>...</td>\n",
       "      <td>...</td>\n",
       "      <td>...</td>\n",
       "      <td>...</td>\n",
       "      <td>...</td>\n",
       "      <td>...</td>\n",
       "      <td>...</td>\n",
       "      <td>...</td>\n",
       "      <td>...</td>\n",
       "    </tr>\n",
       "    <tr>\n",
       "      <th>14831611</th>\n",
       "      <td>30</td>\n",
       "      <td>19</td>\n",
       "      <td>0.0</td>\n",
       "      <td>10.700000</td>\n",
       "      <td>-1</td>\n",
       "      <td>71.0</td>\n",
       "      <td>2.1</td>\n",
       "      <td>335.0</td>\n",
       "      <td>-1</td>\n",
       "      <td>4.0</td>\n",
       "      <td>2022</td>\n",
       "      <td>구지면</td>\n",
       "    </tr>\n",
       "    <tr>\n",
       "      <th>14831612</th>\n",
       "      <td>30</td>\n",
       "      <td>20</td>\n",
       "      <td>0.0</td>\n",
       "      <td>11.000000</td>\n",
       "      <td>-1</td>\n",
       "      <td>65.0</td>\n",
       "      <td>2.2</td>\n",
       "      <td>339.0</td>\n",
       "      <td>-1</td>\n",
       "      <td>4.0</td>\n",
       "      <td>2022</td>\n",
       "      <td>구지면</td>\n",
       "    </tr>\n",
       "    <tr>\n",
       "      <th>14831613</th>\n",
       "      <td>30</td>\n",
       "      <td>21</td>\n",
       "      <td>0.0</td>\n",
       "      <td>11.900000</td>\n",
       "      <td>-1</td>\n",
       "      <td>61.0</td>\n",
       "      <td>2.2</td>\n",
       "      <td>338.0</td>\n",
       "      <td>-1</td>\n",
       "      <td>4.0</td>\n",
       "      <td>2022</td>\n",
       "      <td>구지면</td>\n",
       "    </tr>\n",
       "    <tr>\n",
       "      <th>14831614</th>\n",
       "      <td>30</td>\n",
       "      <td>22</td>\n",
       "      <td>0.0</td>\n",
       "      <td>13.400000</td>\n",
       "      <td>-1</td>\n",
       "      <td>53.0</td>\n",
       "      <td>2.0</td>\n",
       "      <td>351.0</td>\n",
       "      <td>-1</td>\n",
       "      <td>4.0</td>\n",
       "      <td>2022</td>\n",
       "      <td>구지면</td>\n",
       "    </tr>\n",
       "    <tr>\n",
       "      <th>14831615</th>\n",
       "      <td>30</td>\n",
       "      <td>23</td>\n",
       "      <td>0.0</td>\n",
       "      <td>15.100000</td>\n",
       "      <td>-1</td>\n",
       "      <td>41.0</td>\n",
       "      <td>2.1</td>\n",
       "      <td>5.0</td>\n",
       "      <td>-1</td>\n",
       "      <td>4.0</td>\n",
       "      <td>2022</td>\n",
       "      <td>구지면</td>\n",
       "    </tr>\n",
       "  </tbody>\n",
       "</table>\n",
       "<p>14831616 rows × 12 columns</p>\n",
       "</div>"
      ],
      "text/plain": [
       "          day  hour  rainfall       temp  lightning  humidity  wind_speed  \\\n",
       "0           1     0       0.0  16.500000         -1      53.0        53.0   \n",
       "1           1     1       0.0  18.100000         -1      49.0        53.0   \n",
       "2           1     2       0.0  19.700001         -1      46.0        53.0   \n",
       "3           1     3       0.0  20.799999         -1      41.0        53.0   \n",
       "4           1     4       0.0  22.200001         -1      36.0        53.0   \n",
       "...       ...   ...       ...        ...        ...       ...         ...   \n",
       "14831611   30    19       0.0  10.700000         -1      71.0         2.1   \n",
       "14831612   30    20       0.0  11.000000         -1      65.0         2.2   \n",
       "14831613   30    21       0.0  11.900000         -1      61.0         2.2   \n",
       "14831614   30    22       0.0  13.400000         -1      53.0         2.0   \n",
       "14831615   30    23       0.0  15.100000         -1      41.0         2.1   \n",
       "\n",
       "          wind_direction  condition  month  year region  \n",
       "0                  390.0          1    6.0  2010    동인동  \n",
       "1                  390.0          1    6.0  2010    동인동  \n",
       "2                  390.0          1    6.0  2010    동인동  \n",
       "3                  390.0          1    6.0  2010    동인동  \n",
       "4                  390.0          2    6.0  2010    동인동  \n",
       "...                  ...        ...    ...   ...    ...  \n",
       "14831611           335.0         -1    4.0  2022    구지면  \n",
       "14831612           339.0         -1    4.0  2022    구지면  \n",
       "14831613           338.0         -1    4.0  2022    구지면  \n",
       "14831614           351.0         -1    4.0  2022    구지면  \n",
       "14831615             5.0         -1    4.0  2022    구지면  \n",
       "\n",
       "[14831616 rows x 12 columns]"
      ]
     },
     "execution_count": 10,
     "metadata": {},
     "output_type": "execute_result"
    }
   ],
   "source": [
    "df3"
   ]
  },
  {
   "cell_type": "markdown",
   "metadata": {},
   "source": [
    "## 4. Column : month\n",
    "- 월을 정수형으로 표현"
   ]
  },
  {
   "cell_type": "code",
   "execution_count": 8,
   "metadata": {},
   "outputs": [],
   "source": [
    "df4 = df3[:]\n",
    "df4['month'] = df4['month'].astype(int)"
   ]
  },
  {
   "cell_type": "code",
   "execution_count": 12,
   "metadata": {},
   "outputs": [
    {
     "data": {
      "text/html": [
       "<div>\n",
       "<style scoped>\n",
       "    .dataframe tbody tr th:only-of-type {\n",
       "        vertical-align: middle;\n",
       "    }\n",
       "\n",
       "    .dataframe tbody tr th {\n",
       "        vertical-align: top;\n",
       "    }\n",
       "\n",
       "    .dataframe thead th {\n",
       "        text-align: right;\n",
       "    }\n",
       "</style>\n",
       "<table border=\"1\" class=\"dataframe\">\n",
       "  <thead>\n",
       "    <tr style=\"text-align: right;\">\n",
       "      <th></th>\n",
       "      <th>day</th>\n",
       "      <th>hour</th>\n",
       "      <th>rainfall</th>\n",
       "      <th>temp</th>\n",
       "      <th>lightning</th>\n",
       "      <th>humidity</th>\n",
       "      <th>wind_speed</th>\n",
       "      <th>wind_direction</th>\n",
       "      <th>condition</th>\n",
       "      <th>month</th>\n",
       "      <th>year</th>\n",
       "      <th>region</th>\n",
       "    </tr>\n",
       "  </thead>\n",
       "  <tbody>\n",
       "    <tr>\n",
       "      <th>0</th>\n",
       "      <td>1</td>\n",
       "      <td>0</td>\n",
       "      <td>0.0</td>\n",
       "      <td>16.500000</td>\n",
       "      <td>-1</td>\n",
       "      <td>53.0</td>\n",
       "      <td>53.0</td>\n",
       "      <td>390.0</td>\n",
       "      <td>1</td>\n",
       "      <td>6</td>\n",
       "      <td>2010</td>\n",
       "      <td>동인동</td>\n",
       "    </tr>\n",
       "    <tr>\n",
       "      <th>1</th>\n",
       "      <td>1</td>\n",
       "      <td>1</td>\n",
       "      <td>0.0</td>\n",
       "      <td>18.100000</td>\n",
       "      <td>-1</td>\n",
       "      <td>49.0</td>\n",
       "      <td>53.0</td>\n",
       "      <td>390.0</td>\n",
       "      <td>1</td>\n",
       "      <td>6</td>\n",
       "      <td>2010</td>\n",
       "      <td>동인동</td>\n",
       "    </tr>\n",
       "    <tr>\n",
       "      <th>2</th>\n",
       "      <td>1</td>\n",
       "      <td>2</td>\n",
       "      <td>0.0</td>\n",
       "      <td>19.700001</td>\n",
       "      <td>-1</td>\n",
       "      <td>46.0</td>\n",
       "      <td>53.0</td>\n",
       "      <td>390.0</td>\n",
       "      <td>1</td>\n",
       "      <td>6</td>\n",
       "      <td>2010</td>\n",
       "      <td>동인동</td>\n",
       "    </tr>\n",
       "    <tr>\n",
       "      <th>3</th>\n",
       "      <td>1</td>\n",
       "      <td>3</td>\n",
       "      <td>0.0</td>\n",
       "      <td>20.799999</td>\n",
       "      <td>-1</td>\n",
       "      <td>41.0</td>\n",
       "      <td>53.0</td>\n",
       "      <td>390.0</td>\n",
       "      <td>1</td>\n",
       "      <td>6</td>\n",
       "      <td>2010</td>\n",
       "      <td>동인동</td>\n",
       "    </tr>\n",
       "    <tr>\n",
       "      <th>4</th>\n",
       "      <td>1</td>\n",
       "      <td>4</td>\n",
       "      <td>0.0</td>\n",
       "      <td>22.200001</td>\n",
       "      <td>-1</td>\n",
       "      <td>36.0</td>\n",
       "      <td>53.0</td>\n",
       "      <td>390.0</td>\n",
       "      <td>2</td>\n",
       "      <td>6</td>\n",
       "      <td>2010</td>\n",
       "      <td>동인동</td>\n",
       "    </tr>\n",
       "    <tr>\n",
       "      <th>...</th>\n",
       "      <td>...</td>\n",
       "      <td>...</td>\n",
       "      <td>...</td>\n",
       "      <td>...</td>\n",
       "      <td>...</td>\n",
       "      <td>...</td>\n",
       "      <td>...</td>\n",
       "      <td>...</td>\n",
       "      <td>...</td>\n",
       "      <td>...</td>\n",
       "      <td>...</td>\n",
       "      <td>...</td>\n",
       "    </tr>\n",
       "    <tr>\n",
       "      <th>14831611</th>\n",
       "      <td>30</td>\n",
       "      <td>19</td>\n",
       "      <td>0.0</td>\n",
       "      <td>10.700000</td>\n",
       "      <td>-1</td>\n",
       "      <td>71.0</td>\n",
       "      <td>2.1</td>\n",
       "      <td>335.0</td>\n",
       "      <td>-1</td>\n",
       "      <td>4</td>\n",
       "      <td>2022</td>\n",
       "      <td>구지면</td>\n",
       "    </tr>\n",
       "    <tr>\n",
       "      <th>14831612</th>\n",
       "      <td>30</td>\n",
       "      <td>20</td>\n",
       "      <td>0.0</td>\n",
       "      <td>11.000000</td>\n",
       "      <td>-1</td>\n",
       "      <td>65.0</td>\n",
       "      <td>2.2</td>\n",
       "      <td>339.0</td>\n",
       "      <td>-1</td>\n",
       "      <td>4</td>\n",
       "      <td>2022</td>\n",
       "      <td>구지면</td>\n",
       "    </tr>\n",
       "    <tr>\n",
       "      <th>14831613</th>\n",
       "      <td>30</td>\n",
       "      <td>21</td>\n",
       "      <td>0.0</td>\n",
       "      <td>11.900000</td>\n",
       "      <td>-1</td>\n",
       "      <td>61.0</td>\n",
       "      <td>2.2</td>\n",
       "      <td>338.0</td>\n",
       "      <td>-1</td>\n",
       "      <td>4</td>\n",
       "      <td>2022</td>\n",
       "      <td>구지면</td>\n",
       "    </tr>\n",
       "    <tr>\n",
       "      <th>14831614</th>\n",
       "      <td>30</td>\n",
       "      <td>22</td>\n",
       "      <td>0.0</td>\n",
       "      <td>13.400000</td>\n",
       "      <td>-1</td>\n",
       "      <td>53.0</td>\n",
       "      <td>2.0</td>\n",
       "      <td>351.0</td>\n",
       "      <td>-1</td>\n",
       "      <td>4</td>\n",
       "      <td>2022</td>\n",
       "      <td>구지면</td>\n",
       "    </tr>\n",
       "    <tr>\n",
       "      <th>14831615</th>\n",
       "      <td>30</td>\n",
       "      <td>23</td>\n",
       "      <td>0.0</td>\n",
       "      <td>15.100000</td>\n",
       "      <td>-1</td>\n",
       "      <td>41.0</td>\n",
       "      <td>2.1</td>\n",
       "      <td>5.0</td>\n",
       "      <td>-1</td>\n",
       "      <td>4</td>\n",
       "      <td>2022</td>\n",
       "      <td>구지면</td>\n",
       "    </tr>\n",
       "  </tbody>\n",
       "</table>\n",
       "<p>14831616 rows × 12 columns</p>\n",
       "</div>"
      ],
      "text/plain": [
       "          day  hour  rainfall       temp  lightning  humidity  wind_speed  \\\n",
       "0           1     0       0.0  16.500000         -1      53.0        53.0   \n",
       "1           1     1       0.0  18.100000         -1      49.0        53.0   \n",
       "2           1     2       0.0  19.700001         -1      46.0        53.0   \n",
       "3           1     3       0.0  20.799999         -1      41.0        53.0   \n",
       "4           1     4       0.0  22.200001         -1      36.0        53.0   \n",
       "...       ...   ...       ...        ...        ...       ...         ...   \n",
       "14831611   30    19       0.0  10.700000         -1      71.0         2.1   \n",
       "14831612   30    20       0.0  11.000000         -1      65.0         2.2   \n",
       "14831613   30    21       0.0  11.900000         -1      61.0         2.2   \n",
       "14831614   30    22       0.0  13.400000         -1      53.0         2.0   \n",
       "14831615   30    23       0.0  15.100000         -1      41.0         2.1   \n",
       "\n",
       "          wind_direction  condition  month  year region  \n",
       "0                  390.0          1      6  2010    동인동  \n",
       "1                  390.0          1      6  2010    동인동  \n",
       "2                  390.0          1      6  2010    동인동  \n",
       "3                  390.0          1      6  2010    동인동  \n",
       "4                  390.0          2      6  2010    동인동  \n",
       "...                  ...        ...    ...   ...    ...  \n",
       "14831611           335.0         -1      4  2022    구지면  \n",
       "14831612           339.0         -1      4  2022    구지면  \n",
       "14831613           338.0         -1      4  2022    구지면  \n",
       "14831614           351.0         -1      4  2022    구지면  \n",
       "14831615             5.0         -1      4  2022    구지면  \n",
       "\n",
       "[14831616 rows x 12 columns]"
      ]
     },
     "execution_count": 12,
     "metadata": {},
     "output_type": "execute_result"
    }
   ],
   "source": [
    "df4"
   ]
  },
  {
   "cell_type": "markdown",
   "metadata": {},
   "source": [
    "## 5. 전처리 후"
   ]
  },
  {
   "cell_type": "code",
   "execution_count": 9,
   "metadata": {},
   "outputs": [
    {
     "data": {
      "text/html": [
       "<div>\n",
       "<style scoped>\n",
       "    .dataframe tbody tr th:only-of-type {\n",
       "        vertical-align: middle;\n",
       "    }\n",
       "\n",
       "    .dataframe tbody tr th {\n",
       "        vertical-align: top;\n",
       "    }\n",
       "\n",
       "    .dataframe thead th {\n",
       "        text-align: right;\n",
       "    }\n",
       "</style>\n",
       "<table border=\"1\" class=\"dataframe\">\n",
       "  <thead>\n",
       "    <tr style=\"text-align: right;\">\n",
       "      <th></th>\n",
       "      <th>day</th>\n",
       "      <th>hour</th>\n",
       "      <th>rainfall</th>\n",
       "      <th>temp</th>\n",
       "      <th>lightning</th>\n",
       "      <th>humidity</th>\n",
       "      <th>wind_speed</th>\n",
       "      <th>wind_direction</th>\n",
       "      <th>condition</th>\n",
       "      <th>month</th>\n",
       "      <th>year</th>\n",
       "      <th>region</th>\n",
       "    </tr>\n",
       "  </thead>\n",
       "  <tbody>\n",
       "    <tr>\n",
       "      <th>0</th>\n",
       "      <td>1</td>\n",
       "      <td>0</td>\n",
       "      <td>0.0</td>\n",
       "      <td>16.500000</td>\n",
       "      <td>-1</td>\n",
       "      <td>53.0</td>\n",
       "      <td>53.0</td>\n",
       "      <td>390.0</td>\n",
       "      <td>1</td>\n",
       "      <td>6</td>\n",
       "      <td>2010</td>\n",
       "      <td>동인동</td>\n",
       "    </tr>\n",
       "    <tr>\n",
       "      <th>1</th>\n",
       "      <td>1</td>\n",
       "      <td>1</td>\n",
       "      <td>0.0</td>\n",
       "      <td>18.100000</td>\n",
       "      <td>-1</td>\n",
       "      <td>49.0</td>\n",
       "      <td>53.0</td>\n",
       "      <td>390.0</td>\n",
       "      <td>1</td>\n",
       "      <td>6</td>\n",
       "      <td>2010</td>\n",
       "      <td>동인동</td>\n",
       "    </tr>\n",
       "    <tr>\n",
       "      <th>2</th>\n",
       "      <td>1</td>\n",
       "      <td>2</td>\n",
       "      <td>0.0</td>\n",
       "      <td>19.700001</td>\n",
       "      <td>-1</td>\n",
       "      <td>46.0</td>\n",
       "      <td>53.0</td>\n",
       "      <td>390.0</td>\n",
       "      <td>1</td>\n",
       "      <td>6</td>\n",
       "      <td>2010</td>\n",
       "      <td>동인동</td>\n",
       "    </tr>\n",
       "    <tr>\n",
       "      <th>3</th>\n",
       "      <td>1</td>\n",
       "      <td>3</td>\n",
       "      <td>0.0</td>\n",
       "      <td>20.799999</td>\n",
       "      <td>-1</td>\n",
       "      <td>41.0</td>\n",
       "      <td>53.0</td>\n",
       "      <td>390.0</td>\n",
       "      <td>1</td>\n",
       "      <td>6</td>\n",
       "      <td>2010</td>\n",
       "      <td>동인동</td>\n",
       "    </tr>\n",
       "    <tr>\n",
       "      <th>4</th>\n",
       "      <td>1</td>\n",
       "      <td>4</td>\n",
       "      <td>0.0</td>\n",
       "      <td>22.200001</td>\n",
       "      <td>-1</td>\n",
       "      <td>36.0</td>\n",
       "      <td>53.0</td>\n",
       "      <td>390.0</td>\n",
       "      <td>2</td>\n",
       "      <td>6</td>\n",
       "      <td>2010</td>\n",
       "      <td>동인동</td>\n",
       "    </tr>\n",
       "    <tr>\n",
       "      <th>...</th>\n",
       "      <td>...</td>\n",
       "      <td>...</td>\n",
       "      <td>...</td>\n",
       "      <td>...</td>\n",
       "      <td>...</td>\n",
       "      <td>...</td>\n",
       "      <td>...</td>\n",
       "      <td>...</td>\n",
       "      <td>...</td>\n",
       "      <td>...</td>\n",
       "      <td>...</td>\n",
       "      <td>...</td>\n",
       "    </tr>\n",
       "    <tr>\n",
       "      <th>14831611</th>\n",
       "      <td>30</td>\n",
       "      <td>19</td>\n",
       "      <td>0.0</td>\n",
       "      <td>10.700000</td>\n",
       "      <td>-1</td>\n",
       "      <td>71.0</td>\n",
       "      <td>2.1</td>\n",
       "      <td>335.0</td>\n",
       "      <td>-1</td>\n",
       "      <td>4</td>\n",
       "      <td>2022</td>\n",
       "      <td>구지면</td>\n",
       "    </tr>\n",
       "    <tr>\n",
       "      <th>14831612</th>\n",
       "      <td>30</td>\n",
       "      <td>20</td>\n",
       "      <td>0.0</td>\n",
       "      <td>11.000000</td>\n",
       "      <td>-1</td>\n",
       "      <td>65.0</td>\n",
       "      <td>2.2</td>\n",
       "      <td>339.0</td>\n",
       "      <td>-1</td>\n",
       "      <td>4</td>\n",
       "      <td>2022</td>\n",
       "      <td>구지면</td>\n",
       "    </tr>\n",
       "    <tr>\n",
       "      <th>14831613</th>\n",
       "      <td>30</td>\n",
       "      <td>21</td>\n",
       "      <td>0.0</td>\n",
       "      <td>11.900000</td>\n",
       "      <td>-1</td>\n",
       "      <td>61.0</td>\n",
       "      <td>2.2</td>\n",
       "      <td>338.0</td>\n",
       "      <td>-1</td>\n",
       "      <td>4</td>\n",
       "      <td>2022</td>\n",
       "      <td>구지면</td>\n",
       "    </tr>\n",
       "    <tr>\n",
       "      <th>14831614</th>\n",
       "      <td>30</td>\n",
       "      <td>22</td>\n",
       "      <td>0.0</td>\n",
       "      <td>13.400000</td>\n",
       "      <td>-1</td>\n",
       "      <td>53.0</td>\n",
       "      <td>2.0</td>\n",
       "      <td>351.0</td>\n",
       "      <td>-1</td>\n",
       "      <td>4</td>\n",
       "      <td>2022</td>\n",
       "      <td>구지면</td>\n",
       "    </tr>\n",
       "    <tr>\n",
       "      <th>14831615</th>\n",
       "      <td>30</td>\n",
       "      <td>23</td>\n",
       "      <td>0.0</td>\n",
       "      <td>15.100000</td>\n",
       "      <td>-1</td>\n",
       "      <td>41.0</td>\n",
       "      <td>2.1</td>\n",
       "      <td>5.0</td>\n",
       "      <td>-1</td>\n",
       "      <td>4</td>\n",
       "      <td>2022</td>\n",
       "      <td>구지면</td>\n",
       "    </tr>\n",
       "  </tbody>\n",
       "</table>\n",
       "<p>14831616 rows × 12 columns</p>\n",
       "</div>"
      ],
      "text/plain": [
       "          day  hour  rainfall       temp  lightning  humidity  wind_speed  \\\n",
       "0           1     0       0.0  16.500000         -1      53.0        53.0   \n",
       "1           1     1       0.0  18.100000         -1      49.0        53.0   \n",
       "2           1     2       0.0  19.700001         -1      46.0        53.0   \n",
       "3           1     3       0.0  20.799999         -1      41.0        53.0   \n",
       "4           1     4       0.0  22.200001         -1      36.0        53.0   \n",
       "...       ...   ...       ...        ...        ...       ...         ...   \n",
       "14831611   30    19       0.0  10.700000         -1      71.0         2.1   \n",
       "14831612   30    20       0.0  11.000000         -1      65.0         2.2   \n",
       "14831613   30    21       0.0  11.900000         -1      61.0         2.2   \n",
       "14831614   30    22       0.0  13.400000         -1      53.0         2.0   \n",
       "14831615   30    23       0.0  15.100000         -1      41.0         2.1   \n",
       "\n",
       "          wind_direction  condition  month  year region  \n",
       "0                  390.0          1      6  2010    동인동  \n",
       "1                  390.0          1      6  2010    동인동  \n",
       "2                  390.0          1      6  2010    동인동  \n",
       "3                  390.0          1      6  2010    동인동  \n",
       "4                  390.0          2      6  2010    동인동  \n",
       "...                  ...        ...    ...   ...    ...  \n",
       "14831611           335.0         -1      4  2022    구지면  \n",
       "14831612           339.0         -1      4  2022    구지면  \n",
       "14831613           338.0         -1      4  2022    구지면  \n",
       "14831614           351.0         -1      4  2022    구지면  \n",
       "14831615             5.0         -1      4  2022    구지면  \n",
       "\n",
       "[14831616 rows x 12 columns]"
      ]
     },
     "execution_count": 9,
     "metadata": {},
     "output_type": "execute_result"
    }
   ],
   "source": [
    "df_final = df4\n",
    "df_final"
   ]
  },
  {
   "cell_type": "code",
   "execution_count": 14,
   "metadata": {},
   "outputs": [],
   "source": [
    "# 전처리된 데이터프레임을 저장한 뒤 이후에는 해당 파일을 불러서 사용\n",
    "df_final.to_csv('daegu_pre.csv', index_label=False)"
   ]
  },
  {
   "cell_type": "markdown",
   "metadata": {},
   "source": [
    "<hr>"
   ]
  },
  {
   "cell_type": "markdown",
   "metadata": {},
   "source": [
    "# EDA\n",
    "\n",
    "#### Period\n",
    "- 2022-05-06 ~ ???\n",
    "\n",
    "#### Index\n",
    "0. 기본적인 데이터 탐색\n",
    "\n",
    "1. 겨울에 따뜻하면 여름에 폭염이 나타난다.\n",
    "2. 인구밀도가 높은 지역은 상대적으로 열지수가 높다.\n",
    "3. 지역용도에 따라 열지수의 차이가 나타난다.( 공단,상업,주거,산지,빌딩숲 등)\n",
    "4. 기저질환 환자가 온열질환 취약계층이다.\n",
    "5. 대구의 지형 특징상(분지) 열섬현상이 자주 발생한다.\n",
    "6. 겨울에 추우면 전력 소비량과 온실 가스 배출량이 늘어 여름에 덥다.\n",
    "7. 교통량이 많으면 엔진의 열배출이 기온에 영향을 미친다. \n",
    "8. 비가 온 날이 많으면 폭염기간에 열지수가 높다. (폭염과 습도의 관계)\n",
    "9. 대기중의 미세먼지 농도가 높으면 온도가 높다.(‘미세먼지가 많으면 통풍이 잘 안된다’ 속설 검증)\n",
    "10. 나무를 많이 심으면 온도가 떨어진다. (대구 녹지사업 참고)"
   ]
  },
  {
   "cell_type": "markdown",
   "metadata": {},
   "source": [
    "## 0. 기본적인 데이터 탐색\n",
    "- made by SSJ"
   ]
  },
  {
   "cell_type": "markdown",
   "metadata": {},
   "source": [
    "#### 1. year\n",
    "요약\n",
    "- 값이 없는 None이 없음\n",
    "- 2010년부터 2022년까지 존재\n",
    "- 2010년과 2022년은 모든 월이 있는게 아니므로 일수가 적음\n",
    "- 윤년에 해당하는 날은 하루치인 296개의 데이터가 더 존재"
   ]
  },
  {
   "cell_type": "code",
   "execution_count": 10,
   "metadata": {},
   "outputs": [
    {
     "data": {
      "text/plain": [
       "0"
      ]
     },
     "execution_count": 10,
     "metadata": {},
     "output_type": "execute_result"
    }
   ],
   "source": [
    "df_final['year'].isna().sum()"
   ]
  },
  {
   "cell_type": "code",
   "execution_count": 11,
   "metadata": {},
   "outputs": [
    {
     "name": "stderr",
     "output_type": "stream",
     "text": [
      "c:\\github\\Team_Project\\.venv\\lib\\site-packages\\seaborn\\_decorators.py:36: FutureWarning: Pass the following variable as a keyword arg: x. From version 0.12, the only valid positional argument will be `data`, and passing other arguments without an explicit keyword will result in an error or misinterpretation.\n",
      "  warnings.warn(\n"
     ]
    },
    {
     "data": {
      "image/png": "[encoded data removed]",
      "text/plain": [
       "<Figure size 1080x432 with 1 Axes>"
      ]
     },
     "metadata": {
      "needs_background": "light"
     },
     "output_type": "display_data"
    }
   ],
   "source": [
    "fig = plt.figure(figsize=(15,6))\n",
    "ax = sns.countplot(df_final['year'])\n",
    "plt.title('year')\n",
    "plt.show()"
   ]
  },
  {
   "cell_type": "code",
   "execution_count": 12,
   "metadata": {},
   "outputs": [
    {
     "name": "stdout",
     "output_type": "stream",
     "text": [
      "2010년 :  8751744\n",
      "2011년 : 14927040\n",
      "2012년 : 14967936\n",
      "2013년 : 14927040\n",
      "2014년 : 14927040\n",
      "2015년 : 14927040\n",
      "2016년 : 14967936\n",
      "2017년 : 14927040\n",
      "2018년 : 14927040\n",
      "2019년 : 14927040\n",
      "2020년 : 14967936\n",
      "2021년 : 14927040\n",
      "2022년 :  4907520\n"
     ]
    }
   ],
   "source": [
    "temp = []\n",
    "for i in range(2010,2023):\n",
    "    result = df_final[df_final['year'] == i].size\n",
    "    print(\"{0:>4}년 :\".format(i), \"{0:>8}\".format(result))\n",
    "    temp.append(result)"
   ]
  },
  {
   "cell_type": "markdown",
   "metadata": {},
   "source": [
    "#### 2. month\n",
    "요약\n",
    "- 2010년에는 6월부터 데이터가 존재\n",
    "- 2022년에는 5월부터 데이터가 없음"
   ]
  },
  {
   "cell_type": "code",
   "execution_count": 13,
   "metadata": {},
   "outputs": [
    {
     "name": "stderr",
     "output_type": "stream",
     "text": [
      "C:\\Users\\User\\AppData\\Local\\Temp\\ipykernel_11816\\1351274675.py:2: SettingWithCopyWarning: \n",
      "A value is trying to be set on a copy of a slice from a DataFrame.\n",
      "Try using .loc[row_indexer,col_indexer] = value instead\n",
      "\n",
      "See the caveats in the documentation: https://pandas.pydata.org/pandas-docs/stable/user_guide/indexing.html#returning-a-view-versus-a-copy\n",
      "  df_[col_n+'_sin'] = np.sin(2*np.pi*df_[col_n]/max_val)\n",
      "C:\\Users\\User\\AppData\\Local\\Temp\\ipykernel_11816\\1351274675.py:3: SettingWithCopyWarning: \n",
      "A value is trying to be set on a copy of a slice from a DataFrame.\n",
      "Try using .loc[row_indexer,col_indexer] = value instead\n",
      "\n",
      "See the caveats in the documentation: https://pandas.pydata.org/pandas-docs/stable/user_guide/indexing.html#returning-a-view-versus-a-copy\n",
      "  df_[col_n+'_cos'] = np.cos(2*np.pi*df_[col_n]/max_val)\n",
      "C:\\Users\\User\\AppData\\Local\\Temp\\ipykernel_11816\\1351274675.py:2: SettingWithCopyWarning: \n",
      "A value is trying to be set on a copy of a slice from a DataFrame.\n",
      "Try using .loc[row_indexer,col_indexer] = value instead\n",
      "\n",
      "See the caveats in the documentation: https://pandas.pydata.org/pandas-docs/stable/user_guide/indexing.html#returning-a-view-versus-a-copy\n",
      "  df_[col_n+'_sin'] = np.sin(2*np.pi*df_[col_n]/max_val)\n",
      "C:\\Users\\User\\AppData\\Local\\Temp\\ipykernel_11816\\1351274675.py:3: SettingWithCopyWarning: \n",
      "A value is trying to be set on a copy of a slice from a DataFrame.\n",
      "Try using .loc[row_indexer,col_indexer] = value instead\n",
      "\n",
      "See the caveats in the documentation: https://pandas.pydata.org/pandas-docs/stable/user_guide/indexing.html#returning-a-view-versus-a-copy\n",
      "  df_[col_n+'_cos'] = np.cos(2*np.pi*df_[col_n]/max_val)\n"
     ]
    }
   ],
   "source": [
    "def encode_sin_cos(df_,col_n,max_val):\n",
    "    df_[col_n+'_sin'] = np.sin(2*np.pi*df_[col_n]/max_val)\n",
    "    df_[col_n+'_cos'] = np.cos(2*np.pi*df_[col_n]/max_val)\n",
    "    \n",
    "    return df_\n",
    "\n",
    "df_month = df_pre[['day','hour','month','year']]\n",
    "\n",
    "data_month = encode_sin_cos(df_month,'month',12)\n",
    "data_month = encode_sin_cos(df_month,'day',31)"
   ]
  },
  {
   "cell_type": "code",
   "execution_count": 14,
   "metadata": {},
   "outputs": [
    {
     "data": {
      "image/png": "[encoded data removed]",
      "text/plain": [
       "<Figure size 1296x720 with 13 Axes>"
      ]
     },
     "metadata": {
      "needs_background": "light"
     },
     "output_type": "display_data"
    }
   ],
   "source": [
    "year = [2010,2011,2012,2013,2014,2015,2016,2017,2018,2019,2020,2021,2022]\n",
    "\n",
    "fig = plt.figure(figsize=(18,10))\n",
    "plt.rc('font', family = 'Malgun Gothic')\n",
    "for n,y in enumerate(year):\n",
    "    ax = plt.subplot(3,5,n+1)\n",
    "    sns.scatterplot(x=\"month_sin\",y=\"month_cos\",data=data_month[data_month['year'] == y])\n",
    "    plt.xticks([-1, 0, 1])\n",
    "    plt.yticks([-1, 0, 1])\n",
    "    ax.xaxis.set_visible(False)\n",
    "    ax.yaxis.set_visible(False)\n",
    "    plt.title(str(y)+\"년\")\n",
    "    "
   ]
  },
  {
   "cell_type": "markdown",
   "metadata": {},
   "source": [
    "#### 3. day\n",
    "- 1일부터 28일까지 동일한 값이 나옴\n",
    "- 29, 30, 31로 갈수록 count가 점점 줄어듦"
   ]
  },
  {
   "cell_type": "code",
   "execution_count": 15,
   "metadata": {},
   "outputs": [
    {
     "name": "stderr",
     "output_type": "stream",
     "text": [
      "c:\\github\\Team_Project\\.venv\\lib\\site-packages\\seaborn\\_decorators.py:36: FutureWarning: Pass the following variable as a keyword arg: x. From version 0.12, the only valid positional argument will be `data`, and passing other arguments without an explicit keyword will result in an error or misinterpretation.\n",
      "  warnings.warn(\n"
     ]
    },
    {
     "data": {
      "image/png": "[encoded data removed]",
      "text/plain": [
       "<Figure size 1080x432 with 1 Axes>"
      ]
     },
     "metadata": {
      "needs_background": "light"
     },
     "output_type": "display_data"
    }
   ],
   "source": [
    "fig = plt.figure(figsize=(15,6))\n",
    "ax = sns.countplot(df_final['day'])\n",
    "plt.title('day')\n",
    "plt.show()"
   ]
  },
  {
   "cell_type": "code",
   "execution_count": 16,
   "metadata": {},
   "outputs": [
    {
     "name": "stdout",
     "output_type": "stream",
     "text": [
      " 1일 5848128\t\t 2일 5848128\t\t 3일 5848128\t\t 4일 5848128\t\t\n",
      " 5일 5848128\t\t 6일 5848128\t\t 7일 5848128\t\t 8일 5848128\t\t\n",
      " 9일 5848128\t\t10일 5848128\t\t11일 5848128\t\t12일 5848128\t\t\n",
      "13일 5848128\t\t14일 5848128\t\t15일 5848128\t\t16일 5848128\t\t\n",
      "17일 5848128\t\t18일 5848128\t\t19일 5848128\t\t20일 5848128\t\t\n",
      "21일 5848128\t\t22일 5848128\t\t23일 5848128\t\t24일 5848128\t\t\n",
      "25일 5848128\t\t26일 5848128\t\t27일 5848128\t\t28일 5848128\t\t\n",
      "29일 5480064\t\t30일 5357376\t\t31일 3394368\t\t"
     ]
    }
   ],
   "source": [
    "for i in range(1,32):\n",
    "    result = df_final[df_final['day'] == i].size\n",
    "    print(\"{0:>2}일\".format(i), result, end='\\t\\t')\n",
    "    if i % 4 == 0:\n",
    "        print('')"
   ]
  },
  {
   "cell_type": "markdown",
   "metadata": {},
   "source": [
    "#### 4. hour"
   ]
  },
  {
   "cell_type": "markdown",
   "metadata": {},
   "source": [
    "# 1. 겨울에 따뜻하면 여름에 폭염이 나타난다.\n",
    "- made by "
   ]
  },
  {
   "cell_type": "code",
   "execution_count": null,
   "metadata": {},
   "outputs": [],
   "source": []
  },
  {
   "cell_type": "markdown",
   "metadata": {},
   "source": [
    "# 2. 인구밀도가 높은 지역은 상대적으로 열지수가 높다.\n",
    "- made by "
   ]
  },
  {
   "cell_type": "code",
   "execution_count": null,
   "metadata": {},
   "outputs": [],
   "source": []
  },
  {
   "cell_type": "markdown",
   "metadata": {},
   "source": [
    "# 3. 지역용도에 따라 열지수의 차이가 나타난다.( 공단,상업,주거,산지,빌딩숲 등)\n",
    "- made by "
   ]
  },
  {
   "cell_type": "code",
   "execution_count": null,
   "metadata": {},
   "outputs": [],
   "source": []
  },
  {
   "cell_type": "markdown",
   "metadata": {},
   "source": [
    "# 4. 기저질환 환자가 온열질환 취약계층이다.\n",
    "- made by "
   ]
  },
  {
   "cell_type": "code",
   "execution_count": null,
   "metadata": {},
   "outputs": [],
   "source": []
  },
  {
   "cell_type": "markdown",
   "metadata": {},
   "source": [
    "# 5. 대구의 지형 특징상(분지) 열섬현상이 자주 발생한다.\n",
    "- made by "
   ]
  },
  {
   "cell_type": "code",
   "execution_count": null,
   "metadata": {},
   "outputs": [],
   "source": []
  },
  {
   "cell_type": "markdown",
   "metadata": {},
   "source": [
    "# 6. 겨울에 추우면 전력 소비량과 온실 가스 배출량이 늘어 여름에 덥다.\n",
    "- made by "
   ]
  },
  {
   "cell_type": "code",
   "execution_count": null,
   "metadata": {},
   "outputs": [],
   "source": []
  },
  {
   "cell_type": "markdown",
   "metadata": {},
   "source": [
    "# 7. 교통량이 많으면 엔진의 열배출이 기온에 영향을 미친다. \n",
    "- made by "
   ]
  },
  {
   "cell_type": "code",
   "execution_count": null,
   "metadata": {},
   "outputs": [],
   "source": []
  },
  {
   "cell_type": "markdown",
   "metadata": {},
   "source": [
    "# 8. 비가 온 날이 많으면 폭염기간에 열지수가 높다. (폭염과 습도의 관계)\n",
    "- made by MJ\n",
    "- 05/10 (화) 열지수로 수정하는 중"
   ]
  },
  {
   "cell_type": "markdown",
   "metadata": {},
   "source": [
    " - 수정 중"
   ]
  },
  {
   "cell_type": "code",
   "execution_count": 18,
   "metadata": {},
   "outputs": [
    {
     "name": "stderr",
     "output_type": "stream",
     "text": [
      "C:\\Users\\User\\AppData\\Local\\Temp\\ipykernel_11816\\2801911579.py:3: SettingWithCopyWarning: \n",
      "A value is trying to be set on a copy of a slice from a DataFrame.\n",
      "Try using .loc[row_indexer,col_indexer] = value instead\n",
      "\n",
      "See the caveats in the documentation: https://pandas.pydata.org/pandas-docs/stable/user_guide/indexing.html#returning-a-view-versus-a-copy\n",
      "  df5['temp_F'] = df5['temp'] * 1.8 + 32\n",
      "C:\\Users\\User\\AppData\\Local\\Temp\\ipykernel_11816\\2801911579.py:5: SettingWithCopyWarning: \n",
      "A value is trying to be set on a copy of a slice from a DataFrame.\n",
      "Try using .loc[row_indexer,col_indexer] = value instead\n",
      "\n",
      "See the caveats in the documentation: https://pandas.pydata.org/pandas-docs/stable/user_guide/indexing.html#returning-a-view-versus-a-copy\n",
      "  df5['HI'] =  -42.379 + 2.04901523*df5['temp_F'] + 10.14333127*df5['humidity'] - .22475541*df5['temp_F']*df5['humidity'] - .00683783*df5['temp_F']*df5['temp_F'] - .05481717*df5['humidity']*df5['humidity'] + .00122874*df5['temp_F']*df5['temp_F']*df5['humidity'] + .00085282*df5['temp_F']*df5['humidity']*df5['humidity'] - .00000199*df5['temp_F']*df5['temp_F']*df5['humidity']*df5['humidity']\n",
      "C:\\Users\\User\\AppData\\Local\\Temp\\ipykernel_11816\\2801911579.py:13: SettingWithCopyWarning: \n",
      "A value is trying to be set on a copy of a slice from a DataFrame.\n",
      "Try using .loc[row_indexer,col_indexer] = value instead\n",
      "\n",
      "See the caveats in the documentation: https://pandas.pydata.org/pandas-docs/stable/user_guide/indexing.html#returning-a-view-versus-a-copy\n",
      "  df5['A'] = -10.3 + 1.1 * df5['temp_F'] + 0.047 * df5['humidity']\n",
      "C:\\Users\\User\\AppData\\Local\\Temp\\ipykernel_11816\\2801911579.py:20: SettingWithCopyWarning: \n",
      "A value is trying to be set on a copy of a slice from a DataFrame\n",
      "\n",
      "See the caveats in the documentation: https://pandas.pydata.org/pandas-docs/stable/user_guide/indexing.html#returning-a-view-versus-a-copy\n",
      "  df5.drop(columns = ['A'], axis=1, inplace=True)\n",
      "C:\\Users\\User\\AppData\\Local\\Temp\\ipykernel_11816\\2801911579.py:21: SettingWithCopyWarning: \n",
      "A value is trying to be set on a copy of a slice from a DataFrame\n",
      "\n",
      "See the caveats in the documentation: https://pandas.pydata.org/pandas-docs/stable/user_guide/indexing.html#returning-a-view-versus-a-copy\n",
      "  df5.drop(columns = 'temp_F', axis=1, inplace=True)\n",
      "C:\\Users\\User\\AppData\\Local\\Temp\\ipykernel_11816\\2801911579.py:22: SettingWithCopyWarning: \n",
      "A value is trying to be set on a copy of a slice from a DataFrame.\n",
      "Try using .loc[row_indexer,col_indexer] = value instead\n",
      "\n",
      "See the caveats in the documentation: https://pandas.pydata.org/pandas-docs/stable/user_guide/indexing.html#returning-a-view-versus-a-copy\n",
      "  df5['HI'] = (df5['HI'] - 32) / 1.8\n"
     ]
    },
    {
     "data": {
      "text/html": [
       "<div>\n",
       "<style scoped>\n",
       "    .dataframe tbody tr th:only-of-type {\n",
       "        vertical-align: middle;\n",
       "    }\n",
       "\n",
       "    .dataframe tbody tr th {\n",
       "        vertical-align: top;\n",
       "    }\n",
       "\n",
       "    .dataframe thead th {\n",
       "        text-align: right;\n",
       "    }\n",
       "</style>\n",
       "<table border=\"1\" class=\"dataframe\">\n",
       "  <thead>\n",
       "    <tr style=\"text-align: right;\">\n",
       "      <th></th>\n",
       "      <th>day</th>\n",
       "      <th>hour</th>\n",
       "      <th>rainfall</th>\n",
       "      <th>temp</th>\n",
       "      <th>lightning</th>\n",
       "      <th>humidity</th>\n",
       "      <th>wind_speed</th>\n",
       "      <th>wind_direction</th>\n",
       "      <th>condition</th>\n",
       "      <th>month</th>\n",
       "      <th>year</th>\n",
       "      <th>region</th>\n",
       "      <th>HI</th>\n",
       "    </tr>\n",
       "  </thead>\n",
       "  <tbody>\n",
       "    <tr>\n",
       "      <th>0</th>\n",
       "      <td>1</td>\n",
       "      <td>0</td>\n",
       "      <td>0.0</td>\n",
       "      <td>16.500000</td>\n",
       "      <td>-1</td>\n",
       "      <td>53.0</td>\n",
       "      <td>53.0</td>\n",
       "      <td>390.0</td>\n",
       "      <td>1</td>\n",
       "      <td>6</td>\n",
       "      <td>2010</td>\n",
       "      <td>동인동</td>\n",
       "      <td>15.589444</td>\n",
       "    </tr>\n",
       "    <tr>\n",
       "      <th>1</th>\n",
       "      <td>1</td>\n",
       "      <td>1</td>\n",
       "      <td>0.0</td>\n",
       "      <td>18.100000</td>\n",
       "      <td>-1</td>\n",
       "      <td>49.0</td>\n",
       "      <td>53.0</td>\n",
       "      <td>390.0</td>\n",
       "      <td>1</td>\n",
       "      <td>6</td>\n",
       "      <td>2010</td>\n",
       "      <td>동인동</td>\n",
       "      <td>17.245000</td>\n",
       "    </tr>\n",
       "    <tr>\n",
       "      <th>2</th>\n",
       "      <td>1</td>\n",
       "      <td>2</td>\n",
       "      <td>0.0</td>\n",
       "      <td>19.700001</td>\n",
       "      <td>-1</td>\n",
       "      <td>46.0</td>\n",
       "      <td>53.0</td>\n",
       "      <td>390.0</td>\n",
       "      <td>1</td>\n",
       "      <td>6</td>\n",
       "      <td>2010</td>\n",
       "      <td>동인동</td>\n",
       "      <td>18.926668</td>\n",
       "    </tr>\n",
       "    <tr>\n",
       "      <th>3</th>\n",
       "      <td>1</td>\n",
       "      <td>3</td>\n",
       "      <td>0.0</td>\n",
       "      <td>20.799999</td>\n",
       "      <td>-1</td>\n",
       "      <td>41.0</td>\n",
       "      <td>53.0</td>\n",
       "      <td>390.0</td>\n",
       "      <td>1</td>\n",
       "      <td>6</td>\n",
       "      <td>2010</td>\n",
       "      <td>동인동</td>\n",
       "      <td>20.006110</td>\n",
       "    </tr>\n",
       "    <tr>\n",
       "      <th>4</th>\n",
       "      <td>1</td>\n",
       "      <td>4</td>\n",
       "      <td>0.0</td>\n",
       "      <td>22.200001</td>\n",
       "      <td>-1</td>\n",
       "      <td>36.0</td>\n",
       "      <td>53.0</td>\n",
       "      <td>390.0</td>\n",
       "      <td>2</td>\n",
       "      <td>6</td>\n",
       "      <td>2010</td>\n",
       "      <td>동인동</td>\n",
       "      <td>21.415557</td>\n",
       "    </tr>\n",
       "    <tr>\n",
       "      <th>...</th>\n",
       "      <td>...</td>\n",
       "      <td>...</td>\n",
       "      <td>...</td>\n",
       "      <td>...</td>\n",
       "      <td>...</td>\n",
       "      <td>...</td>\n",
       "      <td>...</td>\n",
       "      <td>...</td>\n",
       "      <td>...</td>\n",
       "      <td>...</td>\n",
       "      <td>...</td>\n",
       "      <td>...</td>\n",
       "      <td>...</td>\n",
       "    </tr>\n",
       "    <tr>\n",
       "      <th>14831611</th>\n",
       "      <td>30</td>\n",
       "      <td>19</td>\n",
       "      <td>0.0</td>\n",
       "      <td>10.700000</td>\n",
       "      <td>-1</td>\n",
       "      <td>71.0</td>\n",
       "      <td>2.1</td>\n",
       "      <td>335.0</td>\n",
       "      <td>-1</td>\n",
       "      <td>4</td>\n",
       "      <td>2022</td>\n",
       "      <td>구지면</td>\n",
       "      <td>9.679444</td>\n",
       "    </tr>\n",
       "    <tr>\n",
       "      <th>14831612</th>\n",
       "      <td>30</td>\n",
       "      <td>20</td>\n",
       "      <td>0.0</td>\n",
       "      <td>11.000000</td>\n",
       "      <td>-1</td>\n",
       "      <td>65.0</td>\n",
       "      <td>2.2</td>\n",
       "      <td>339.0</td>\n",
       "      <td>-1</td>\n",
       "      <td>4</td>\n",
       "      <td>2022</td>\n",
       "      <td>구지면</td>\n",
       "      <td>9.852778</td>\n",
       "    </tr>\n",
       "    <tr>\n",
       "      <th>14831613</th>\n",
       "      <td>30</td>\n",
       "      <td>21</td>\n",
       "      <td>0.0</td>\n",
       "      <td>11.900000</td>\n",
       "      <td>-1</td>\n",
       "      <td>61.0</td>\n",
       "      <td>2.2</td>\n",
       "      <td>338.0</td>\n",
       "      <td>-1</td>\n",
       "      <td>4</td>\n",
       "      <td>2022</td>\n",
       "      <td>구지면</td>\n",
       "      <td>10.738333</td>\n",
       "    </tr>\n",
       "    <tr>\n",
       "      <th>14831614</th>\n",
       "      <td>30</td>\n",
       "      <td>22</td>\n",
       "      <td>0.0</td>\n",
       "      <td>13.400000</td>\n",
       "      <td>-1</td>\n",
       "      <td>53.0</td>\n",
       "      <td>2.0</td>\n",
       "      <td>351.0</td>\n",
       "      <td>-1</td>\n",
       "      <td>4</td>\n",
       "      <td>2022</td>\n",
       "      <td>구지면</td>\n",
       "      <td>12.179444</td>\n",
       "    </tr>\n",
       "    <tr>\n",
       "      <th>14831615</th>\n",
       "      <td>30</td>\n",
       "      <td>23</td>\n",
       "      <td>0.0</td>\n",
       "      <td>15.100000</td>\n",
       "      <td>-1</td>\n",
       "      <td>41.0</td>\n",
       "      <td>2.1</td>\n",
       "      <td>5.0</td>\n",
       "      <td>-1</td>\n",
       "      <td>4</td>\n",
       "      <td>2022</td>\n",
       "      <td>구지면</td>\n",
       "      <td>13.736111</td>\n",
       "    </tr>\n",
       "  </tbody>\n",
       "</table>\n",
       "<p>14831616 rows × 13 columns</p>\n",
       "</div>"
      ],
      "text/plain": [
       "          day  hour  rainfall       temp  lightning  humidity  wind_speed  \\\n",
       "0           1     0       0.0  16.500000         -1      53.0        53.0   \n",
       "1           1     1       0.0  18.100000         -1      49.0        53.0   \n",
       "2           1     2       0.0  19.700001         -1      46.0        53.0   \n",
       "3           1     3       0.0  20.799999         -1      41.0        53.0   \n",
       "4           1     4       0.0  22.200001         -1      36.0        53.0   \n",
       "...       ...   ...       ...        ...        ...       ...         ...   \n",
       "14831611   30    19       0.0  10.700000         -1      71.0         2.1   \n",
       "14831612   30    20       0.0  11.000000         -1      65.0         2.2   \n",
       "14831613   30    21       0.0  11.900000         -1      61.0         2.2   \n",
       "14831614   30    22       0.0  13.400000         -1      53.0         2.0   \n",
       "14831615   30    23       0.0  15.100000         -1      41.0         2.1   \n",
       "\n",
       "          wind_direction  condition  month  year region         HI  \n",
       "0                  390.0          1      6  2010    동인동  15.589444  \n",
       "1                  390.0          1      6  2010    동인동  17.245000  \n",
       "2                  390.0          1      6  2010    동인동  18.926668  \n",
       "3                  390.0          1      6  2010    동인동  20.006110  \n",
       "4                  390.0          2      6  2010    동인동  21.415557  \n",
       "...                  ...        ...    ...   ...    ...        ...  \n",
       "14831611           335.0         -1      4  2022    구지면   9.679444  \n",
       "14831612           339.0         -1      4  2022    구지면   9.852778  \n",
       "14831613           338.0         -1      4  2022    구지면  10.738333  \n",
       "14831614           351.0         -1      4  2022    구지면  12.179444  \n",
       "14831615             5.0         -1      4  2022    구지면  13.736111  \n",
       "\n",
       "[14831616 rows x 13 columns]"
      ]
     },
     "execution_count": 18,
     "metadata": {},
     "output_type": "execute_result"
    }
   ],
   "source": [
    "df5 = df4[:]\n",
    "\n",
    "df5['temp_F'] = df5['temp'] * 1.8 + 32\n",
    "\n",
    "df5['HI'] =  -42.379 + 2.04901523*df5['temp_F'] + 10.14333127*df5['humidity'] - .22475541*df5['temp_F']*df5['humidity'] - .00683783*df5['temp_F']*df5['temp_F'] - .05481717*df5['humidity']*df5['humidity'] + .00122874*df5['temp_F']*df5['temp_F']*df5['humidity'] + .00085282*df5['temp_F']*df5['humidity']*df5['humidity'] - .00000199*df5['temp_F']*df5['temp_F']*df5['humidity']*df5['humidity']\n",
    "\n",
    "index = list(df5[(df5['humidity'] <= 13) & (df5['temp_F'] >= 80) & (df5['temp_F'] <= 112)].index)\n",
    "df5.loc[index,'HI'] = df5.loc[index,'HI'] - ((13 - df5.loc[index,'humidity']) / 4) * ((17 - abs(df5.loc[index,'temp_F'] - 95)) / 17) ** 0.5\n",
    "\n",
    "index = list(df5[(df5['humidity'] > 85) & (df5['temp_F'] >= 80) & (df5['temp_F'] <= 87)].index)\n",
    "df5.loc[index,'HI'] = df5.loc[index,'HI'] + 0.02 * (df5.loc[index,'humidity'] - 85) * (87 - df5.loc[index,'temp_F'])\n",
    "\n",
    "df5['A'] = -10.3 + 1.1 * df5['temp_F'] + 0.047 * df5['humidity']\n",
    "index = list(df5.loc[df5['A'] < 79].index)\n",
    "df5.loc[index,'HI'] = df5.loc[index,'A']\n",
    "\n",
    "index = list(df5.loc[df5['temp_F'] < 40].index)\n",
    "df5.loc[index,'HI'] = df5.loc[index,'temp_F']\n",
    "\n",
    "df5.drop(columns = ['A'], axis=1, inplace=True)\n",
    "df5.drop(columns = 'temp_F', axis=1, inplace=True)\n",
    "df5['HI'] = (df5['HI'] - 32) / 1.8\n",
    "df5"
   ]
  },
  {
   "cell_type": "code",
   "execution_count": 45,
   "metadata": {},
   "outputs": [],
   "source": [
    "# 복사본으로 작업\n",
    "df_final = df5.copy()"
   ]
  },
  {
   "cell_type": "markdown",
   "metadata": {},
   "source": [
    "- 수정 전"
   ]
  },
  {
   "cell_type": "code",
   "execution_count": 46,
   "metadata": {},
   "outputs": [],
   "source": [
    "# 복사본으로 작업\n",
    "EDAset = df_final.copy()"
   ]
  },
  {
   "cell_type": "code",
   "execution_count": 47,
   "metadata": {},
   "outputs": [],
   "source": [
    "# 날짜 컬럼 생성\n",
    "EDAset['date'] = pd.to_datetime(EDAset[['year', 'month', 'day','hour']])\n",
    "\n",
    "# 관측오류, 결측치를 nan 값으로 통일\n",
    "EDAset = EDAset.replace({'humidity':-1.0,'rainfall':-1.0, 'temp':-50}, np.nan)\n",
    "# 관측오류, 결측치를 이전 값으로 대체\n",
    "EDAset = EDAset.fillna(method='bfill') "
   ]
  },
  {
   "cell_type": "markdown",
   "metadata": {},
   "source": [
    "##### 전체 구역에 대해 그 달의 비가 온 날을 카운트한 막대그래프 & 그 달의 최고기온을 그린 선그래프\n",
    "1. (해결) 그 해 달마다 비가 온 날을 카운트하고 그 해 최고 열지수 값을 구한다.\n",
    "2. (해결) 해마다 일일 평균 강수량과 열지수를 그래프로 나타낸다.\n",
    "3. (해결) 습도와 기온의 상관관계를 그래프로 나타낸다.\n",
    "4. (해결) 해마다 그 달의 평균 습도와 평균 기온을 그래프로 나타낸다.\n",
    "5. (해결) 전체 달의 평균 기온과 평균 강수량을 그래프로 나타낸다."
   ]
  },
  {
   "cell_type": "markdown",
   "metadata": {},
   "source": [
    "#### 1. 각 해, 달마다 비가 온 날의 수와 최고 열지수"
   ]
  },
  {
   "cell_type": "code",
   "execution_count": 48,
   "metadata": {},
   "outputs": [],
   "source": [
    "# 2011년, 동인동 기준\n",
    "cond1 = EDAset['year'] == 2011\n",
    "cond2 = EDAset['region'] == '동인동'\n",
    "df2011 = EDAset[cond1 & cond2]\n",
    "rainfall = df2011.copy()"
   ]
  },
  {
   "cell_type": "code",
   "execution_count": 53,
   "metadata": {},
   "outputs": [
    {
     "name": "stdout",
     "output_type": "stream",
     "text": [
      "측정달 [1, 2, 3, 4, 5, 6, 7, 8, 9, 10, 11, 12]\n",
      "우천 발생수 (시간당) [0, 47, 8, 60, 59, 50, 86, 73, 21, 37, 49, 10]\n",
      "최고 열지수 [4.2, 17.69, 20.22, 27.02, 28.47, 35.64, 39.06, 37.96, 35.92, 25.72, 24.7, 10.15]\n",
      "최고 습도 [89.0, 90.0, 90.0, 93.0, 93.0, 91.0, 93.0, 98.0, 93.0, 100.0, 95.0, 91.0]\n"
     ]
    }
   ],
   "source": [
    "# 비 온 날 카운트\n",
    "count_rain = []\n",
    "max_HI = []\n",
    "max_hum = []\n",
    "month = []\n",
    "\n",
    "\n",
    "for i in range(1,13) :\n",
    "    rain_temp = rainfall[rainfall['month'] == i]\n",
    "    # 비 온 날 카운트 리스트\n",
    "    cond = rain_temp[rain_temp['rainfall'] > 0.0]\n",
    "    count_rain.append(cond.count())\n",
    "    # 최고기온 리스트\n",
    "    max_HI.append(round(rain_temp['HI'].max(),2))\n",
    "    # 최고습도 리스트\n",
    "    max_hum.append(rain_temp['humidity'].max())\n",
    "    # 데이터 있는 달 리스트\n",
    "    month.append(i)\n",
    "\n",
    "# 출력\n",
    "counts_rain = [i[0] for i in count_rain]\n",
    "\n",
    "print(\"측정달\", month)\n",
    "print(\"우천 발생수 (시간당)\", counts_rain)\n",
    "print(\"최고 열지수\", max_HI)\n",
    "print(\"최고 습도\", max_hum)"
   ]
  },
  {
   "cell_type": "code",
   "execution_count": 55,
   "metadata": {},
   "outputs": [
    {
     "data": {
      "image/png": "[encoded data removed]",
      "text/plain": [
       "<Figure size 1296x288 with 1 Axes>"
      ]
     },
     "metadata": {
      "needs_background": "light"
     },
     "output_type": "display_data"
    }
   ],
   "source": [
    "# 시각화\n",
    "plt.figure(figsize=(18,4))\n",
    "\n",
    "plt.title('2011년, 동인동의 우천 발생수')\n",
    "plt.plot(month, counts_rain, color='blue', marker = 's', label='우천 발생수', linestyle='-')\n",
    "plt.plot(month, max_HI, color='red', marker = 's', label='최고 열지수', linestyle='-')\n",
    "plt.plot(month, max_hum, color='orange', marker = 's', label='최고 습도', linestyle='-')\n",
    "plt.legend(loc=2)\n",
    "plt.xticks(month)\n",
    "plt.show()"
   ]
  },
  {
   "cell_type": "markdown",
   "metadata": {},
   "source": [
    "- 전체 데이터 (추가할 것)"
   ]
  },
  {
   "cell_type": "code",
   "execution_count": 78,
   "metadata": {},
   "outputs": [],
   "source": [
    "# 전체 비 온 날 카운트\n",
    "count_rain = []\n",
    "month = []\n",
    "\n",
    "for i in range(1,13) :\n",
    "    # 비 온 날 카운트\n",
    "    try:\n",
    "        rain_month = rainfall[rainfall['month'] == i]\n",
    "        # 비 온 날 카운트 리스트\n",
    "        cond = rain_month[rain_month['rainfall'] > 0.0]\n",
    "        count_rain.append(cond.count())\n",
    "        # 데이터 있는 달 리스트\n",
    "        month.append(i)\n",
    "    \n",
    "    # 그 달 데이터가 없을 경우\n",
    "    except:\n",
    "        pass\n"
   ]
  },
  {
   "cell_type": "markdown",
   "metadata": {},
   "source": [
    "#### 2. 매년 일일 평균 강수량 + 열지수"
   ]
  },
  {
   "cell_type": "code",
   "execution_count": 56,
   "metadata": {},
   "outputs": [],
   "source": [
    "# 동인동 기준\n",
    "df2011 = EDAset[cond2]\n",
    "rainheat = df2011.copy()"
   ]
  },
  {
   "cell_type": "code",
   "execution_count": 57,
   "metadata": {},
   "outputs": [],
   "source": [
    "day_rain = [] # 일별 평균 강수량\n",
    "day_HI = [] # 일별 평균 온도\n",
    "datelist = []\n",
    "\n",
    "for i in year :\n",
    "    rainheat_year = rainheat[rainheat['year'] == i]\n",
    "    for j in range (1,13) :\n",
    "        rainheat_month = rainheat[rainheat['month'] == j]\n",
    "        if j<10:\n",
    "            j = str(0)+str(j)\n",
    "\n",
    "        for k in range (1,32) :\n",
    "            rainheat_day = rainheat[rainheat['day'] == k]\n",
    "            if k<10:\n",
    "                k = str(0)+str(k)\n",
    "\n",
    "            day_rain.append(round(rainheat_day['rainfall'].mean(),2))\n",
    "            day_HI.append(round(rainheat_day['HI'].mean(),2))\n",
    "\n",
    "            tp ='{0}-{1}-{2}'.format(i, j, k)\n",
    "            datelist.append(tp)\n"
   ]
  },
  {
   "cell_type": "code",
   "execution_count": 58,
   "metadata": {},
   "outputs": [],
   "source": [
    "# 인덱스와 열 이름 지정\n",
    "df_mean = pd.DataFrame(zip(datelist, day_rain, day_HI), columns = ['date', 'rainfall', 'HI'])\n",
    "\n",
    "df_mean['date'] = df_mean['date'].astype('str')\n",
    "df_mean['year'] = df_mean['date'].str.split('-').str[0]\n",
    "df_mean['month'] = df_mean['date'].str.split('-').str[1]\n",
    "df_mean['day'] = df_mean['date'].str.split('-').str[2]"
   ]
  },
  {
   "cell_type": "code",
   "execution_count": 59,
   "metadata": {},
   "outputs": [],
   "source": [
    "temp_mean = df_mean.loc[:,['year','month','day','rainfall','HI']]\n",
    "temp_mean['date'] = pd.to_datetime(temp_mean[['year', 'month', 'day']], format='%Y-%m-%d', errors='coerce')\n",
    "\n",
    "tt_mean = temp_mean.copy()\n",
    "tt_mean = tt_mean.astype({'year':'int', 'month':'int', 'day':'int'})\n",
    "tt_mean = tt_mean.dropna(how='any')"
   ]
  },
  {
   "cell_type": "markdown",
   "metadata": {},
   "source": [
    "### 연도별 그래프"
   ]
  },
  {
   "cell_type": "code",
   "execution_count": 62,
   "metadata": {},
   "outputs": [
    {
     "data": {
      "image/png": "[encoded data removed]",
      "text/plain": [
       "<Figure size 1296x1296 with 1 Axes>"
      ]
     },
     "metadata": {
      "needs_background": "light"
     },
     "output_type": "display_data"
    },
    {
     "data": {
      "image/png": "[encoded data removed]",
      "text/plain": [
       "<Figure size 1296x1296 with 1 Axes>"
      ]
     },
     "metadata": {
      "needs_background": "light"
     },
     "output_type": "display_data"
    },
    {
     "data": {
      "image/png": "[encoded data removed]",
      "text/plain": [
       "<Figure size 1296x1296 with 1 Axes>"
      ]
     },
     "metadata": {
      "needs_background": "light"
     },
     "output_type": "display_data"
    },
    {
     "data": {
      "image/png": "[encoded data removed]",
      "text/plain": [
       "<Figure size 1296x1296 with 1 Axes>"
      ]
     },
     "metadata": {
      "needs_background": "light"
     },
     "output_type": "display_data"
    },
    {
     "data": {
      "image/png": "[encoded data removed]",
      "text/plain": [
       "<Figure size 1296x1296 with 1 Axes>"
      ]
     },
     "metadata": {
      "needs_background": "light"
     },
     "output_type": "display_data"
    },
    {
     "data": {
      "image/png": "[encoded data removed]",
      "text/plain": [
       "<Figure size 1296x1296 with 1 Axes>"
      ]
     },
     "metadata": {
      "needs_background": "light"
     },
     "output_type": "display_data"
    },
    {
     "data": {
      "image/png": "[encoded data removed]",
      "text/plain": [
       "<Figure size 1296x1296 with 1 Axes>"
      ]
     },
     "metadata": {
      "needs_background": "light"
     },
     "output_type": "display_data"
    },
    {
     "data": {
      "image/png": "[encoded data removed]",
      "text/plain": [
       "<Figure size 1296x1296 with 1 Axes>"
      ]
     },
     "metadata": {
      "needs_background": "light"
     },
     "output_type": "display_data"
    },
    {
     "data": {
      "image/png": "[encoded data removed]",
      "text/plain": [
       "<Figure size 1296x1296 with 1 Axes>"
      ]
     },
     "metadata": {
      "needs_background": "light"
     },
     "output_type": "display_data"
    },
    {
     "data": {
      "image/png": "[encoded data removed]",
      "text/plain": [
       "<Figure size 1296x1296 with 1 Axes>"
      ]
     },
     "metadata": {
      "needs_background": "light"
     },
     "output_type": "display_data"
    },
    {
     "data": {
      "image/png": "[encoded data removed]",
      "text/plain": [
       "<Figure size 1296x1296 with 1 Axes>"
      ]
     },
     "metadata": {
      "needs_background": "light"
     },
     "output_type": "display_data"
    },
    {
     "data": {
      "image/png": "[encoded data removed]",
      "text/plain": [
       "<Figure size 1296x1296 with 1 Axes>"
      ]
     },
     "metadata": {
      "needs_background": "light"
     },
     "output_type": "display_data"
    },
    {
     "data": {
      "image/png": "[encoded data removed]",
      "text/plain": [
       "<Figure size 1296x1296 with 1 Axes>"
      ]
     },
     "metadata": {
      "needs_background": "light"
     },
     "output_type": "display_data"
    }
   ],
   "source": [
    "for i in range(2010,2023):\n",
    "    temp_mean = tt_mean[tt_mean['year'] == i]\n",
    "\n",
    "    x = temp_mean['date']\n",
    "    y = temp_mean['rainfall']\n",
    "    z = temp_mean['HI']\n",
    "\n",
    "    plt.figure(figsize=(18,18))\n",
    "    plt.subplot(13,1,i-2009)\n",
    "\n",
    "    plt.bar(x, 100*y, alpha = 0.7)\n",
    "    plt.plot(x, z, color='red')\n",
    "    plt.show()"
   ]
  },
  {
   "cell_type": "markdown",
   "metadata": {},
   "source": [
    "#### 3. 습도+기온 상관관계 그래프"
   ]
  },
  {
   "cell_type": "code",
   "execution_count": 63,
   "metadata": {},
   "outputs": [],
   "source": [
    "# 동인동 기준\n",
    "df2011 = EDAset[cond2]\n",
    "humheat = df2011.copy()"
   ]
  },
  {
   "cell_type": "code",
   "execution_count": 65,
   "metadata": {},
   "outputs": [
    {
     "name": "stdout",
     "output_type": "stream",
     "text": [
      "                         day          hour  rainfall      temp  lightning  \\\n",
      "day             1.000000e+00  1.138786e-17 -0.011828  0.008958  -0.000079   \n",
      "hour            1.138786e-17  1.000000e+00  0.004850 -0.209047  -0.000728   \n",
      "rainfall       -1.182842e-02  4.850153e-03  1.000000  0.055760   0.018512   \n",
      "temp            8.957623e-03 -2.090465e-01  0.055760  1.000000   0.069688   \n",
      "lightning      -7.892722e-05 -7.280889e-04  0.018512  0.069688   1.000000   \n",
      "humidity        1.097454e-02  3.901959e-01  0.207452  0.171576   0.022973   \n",
      "wind_speed     -9.673544e-03 -3.038010e-02  0.017480  0.132038  -0.259785   \n",
      "wind_direction -1.148035e-03 -1.196051e-01 -0.034649 -0.068691  -0.046028   \n",
      "condition      -1.486562e-03 -9.509045e-03  0.088662  0.170089   0.717462   \n",
      "month           1.066542e-02  3.523576e-16  0.021134  0.207874   0.016379   \n",
      "year           -1.701954e-03  1.265251e-15 -0.020369 -0.048361  -0.476501   \n",
      "HI              8.032308e-03 -1.864247e-01  0.060324  0.985180   0.075196   \n",
      "\n",
      "                humidity  wind_speed  wind_direction  condition         month  \\\n",
      "day             0.010975   -0.009674       -0.001148  -0.001487  1.066542e-02   \n",
      "hour            0.390196   -0.030380       -0.119605  -0.009509  3.523576e-16   \n",
      "rainfall        0.207452    0.017480       -0.034649   0.088662  2.113355e-02   \n",
      "temp            0.171576    0.132038       -0.068691   0.170089  2.078739e-01   \n",
      "lightning       0.022973   -0.259785       -0.046028   0.717462  1.637896e-02   \n",
      "humidity        1.000000   -0.001944       -0.297179   0.195656  2.216619e-01   \n",
      "wind_speed     -0.001944    1.000000        0.353923   0.113418  1.112403e-01   \n",
      "wind_direction -0.297179    0.353923        1.000000   0.020635 -2.880363e-02   \n",
      "condition       0.195656    0.113418        0.020635   1.000000  3.565386e-02   \n",
      "month           0.221662    0.111240       -0.028804   0.035654  1.000000e+00   \n",
      "year            0.003352   -0.370506       -0.151622  -0.626400 -1.166514e-01   \n",
      "HI              0.210002    0.133082       -0.067571   0.179459  2.105941e-01   \n",
      "\n",
      "                        year        HI  \n",
      "day            -1.701954e-03  0.008032  \n",
      "hour            1.265251e-15 -0.186425  \n",
      "rainfall       -2.036942e-02  0.060324  \n",
      "temp           -4.836112e-02  0.985180  \n",
      "lightning      -4.765015e-01  0.075196  \n",
      "humidity        3.352127e-03  0.210002  \n",
      "wind_speed     -3.705061e-01  0.133082  \n",
      "wind_direction -1.516216e-01 -0.067571  \n",
      "condition      -6.263999e-01  0.179459  \n",
      "month          -1.166514e-01  0.210594  \n",
      "year            1.000000e+00 -0.053723  \n",
      "HI             -5.372260e-02  1.000000  \n"
     ]
    }
   ],
   "source": [
    "corr = humheat.corr()\n",
    "print(corr)"
   ]
  },
  {
   "cell_type": "code",
   "execution_count": 66,
   "metadata": {},
   "outputs": [
    {
     "name": "stderr",
     "output_type": "stream",
     "text": [
      "c:\\github\\Team_Project\\.venv\\lib\\site-packages\\seaborn\\utils.py:95: UserWarning: Glyph 8722 (\\N{MINUS SIGN}) missing from current font.\n",
      "  fig.canvas.draw()\n",
      "c:\\github\\Team_Project\\.venv\\lib\\site-packages\\IPython\\core\\pylabtools.py:151: UserWarning: Glyph 8722 (\\N{MINUS SIGN}) missing from current font.\n",
      "  fig.canvas.print_figure(bytes_io, **kw)\n"
     ]
    },
    {
     "data": {
      "image/png": "[encoded data removed]",
      "text/plain": [
       "<Figure size 432x288 with 2 Axes>"
      ]
     },
     "metadata": {
      "needs_background": "light"
     },
     "output_type": "display_data"
    }
   ],
   "source": [
    "sns.heatmap(corr, cmap='viridis')\n",
    "plt.show()"
   ]
  },
  {
   "cell_type": "markdown",
   "metadata": {},
   "source": [
    "- 삼각형 상관관계 그래프"
   ]
  },
  {
   "cell_type": "code",
   "execution_count": 67,
   "metadata": {},
   "outputs": [
    {
     "name": "stderr",
     "output_type": "stream",
     "text": [
      "C:\\Users\\User\\AppData\\Local\\Temp\\ipykernel_11816\\3583271932.py:6: DeprecationWarning: `np.bool` is a deprecated alias for the builtin `bool`. To silence this warning, use `bool` by itself. Doing this will not modify any behavior and is safe. If you specifically wanted the numpy scalar type, use `np.bool_` here.\n",
      "Deprecated in NumPy 1.20; for more details and guidance: https://numpy.org/devdocs/release/1.20.0-notes.html#deprecations\n",
      "  mask = np.zeros_like(df_corr, dtype=np.bool)\n",
      "c:\\github\\Team_Project\\.venv\\lib\\site-packages\\seaborn\\utils.py:95: UserWarning: Glyph 8722 (\\N{MINUS SIGN}) missing from current font.\n",
      "  fig.canvas.draw()\n",
      "c:\\github\\Team_Project\\.venv\\lib\\site-packages\\IPython\\core\\pylabtools.py:151: UserWarning: Glyph 8722 (\\N{MINUS SIGN}) missing from current font.\n",
      "  fig.canvas.print_figure(bytes_io, **kw)\n"
     ]
    },
    {
     "data": {
      "image/png": "[encoded data removed]",
      "text/plain": [
       "<Figure size 504x504 with 2 Axes>"
      ]
     },
     "metadata": {
      "needs_background": "light"
     },
     "output_type": "display_data"
    }
   ],
   "source": [
    "df_corr = humheat.corr()\n",
    "# 그림 사이즈 지정\n",
    "fig, ax = plt.subplots( figsize=(7,7) )\n",
    "\n",
    "# 삼각형 마스크를 만든다(위 쪽 삼각형에 True, 아래 삼각형에 False)\n",
    "mask = np.zeros_like(df_corr, dtype=np.bool)\n",
    "mask[np.triu_indices_from(mask)] = True\n",
    "\n",
    "# 히트맵을 그린다\n",
    "sns.heatmap(df_corr, \n",
    "            cmap = 'RdYlBu_r', \n",
    "            annot = True,   # 실제 값을 표시한다\n",
    "            mask=mask,      # 표시하지 않을 마스크 부분을 지정한다\n",
    "            linewidths=.5,  # 경계면 실선으로 구분하기\n",
    "            cbar_kws={\"shrink\": .5},# 컬러바 크기 절반으로 줄이기\n",
    "            vmin = -1,vmax = 1   # 컬러바 범위 -1 ~ 1\n",
    "           )  \n",
    "plt.show()"
   ]
  },
  {
   "cell_type": "code",
   "execution_count": null,
   "metadata": {},
   "outputs": [],
   "source": []
  },
  {
   "cell_type": "code",
   "execution_count": null,
   "metadata": {},
   "outputs": [
    {
     "data": {
      "image/png": "[encoded data removed]",
      "text/plain": [
       "<Figure size 432x288 with 1 Axes>"
      ]
     },
     "metadata": {
      "needs_background": "light"
     },
     "output_type": "display_data"
    }
   ],
   "source": [
    "\n",
    "\n",
    "sns.barplot(\n",
    "    data = rainheat,\n",
    "    x = \"date\",\n",
    "    y = \"humidity\"\n",
    ")\n",
    "\n",
    "plt.show()"
   ]
  },
  {
   "cell_type": "markdown",
   "metadata": {},
   "source": [
    "#### 4. 년도별 매달 평균 습도 + 평균 기온"
   ]
  },
  {
   "cell_type": "code",
   "execution_count": 225,
   "metadata": {},
   "outputs": [],
   "source": [
    "# 동인동 기준\n",
    "df2011 = EDAset[cond2]\n",
    "humheat = df2011.copy()"
   ]
  },
  {
   "cell_type": "code",
   "execution_count": 226,
   "metadata": {},
   "outputs": [],
   "source": [
    "day_hum = [] # 일별 평균 습도\n",
    "day_temp2 = [] # 일별 평균 온도 (방법2와 동일한 변수)\n",
    "datelist2 = [] # (방법2와 동일한 변수)\n",
    "\n",
    "for i in year :\n",
    "    humheat_year = humheat[humheat['year'] == i]\n",
    "    for j in range (1,13) :\n",
    "        humheat_month = humheat[humheat['month'] == j]\n",
    "        if j<10:\n",
    "            j = str(0)+str(j)\n",
    "\n",
    "        for k in range (1,32) :\n",
    "            humheat_day = humheat[humheat['day'] == k]\n",
    "            if k<10:\n",
    "                k = str(0)+str(k)\n",
    "\n",
    "            day_hum.append(round(humheat_day['humidity'].mean(),2))\n",
    "            day_temp2.append(round(humheat_day['temp'].mean(),2))\n",
    "\n",
    "            tp ='{0}-{1}-{2}'.format(i, j, k)\n",
    "            datelist2.append(tp)\n"
   ]
  },
  {
   "cell_type": "code",
   "execution_count": 227,
   "metadata": {},
   "outputs": [],
   "source": [
    "# 인덱스와 열 이름 지정\n",
    "df_mean2 = pd.DataFrame(zip(datelist2, day_hum, day_temp), columns = ['date', 'humidity', 'temp'])\n",
    "\n",
    "df_mean2['date'] = df_mean2['date'].astype('str')\n",
    "df_mean2['year'] = df_mean2['date'].str.split('-').str[0]\n",
    "df_mean2['month'] = df_mean2['date'].str.split('-').str[1]\n",
    "df_mean2['day'] = df_mean2['date'].str.split('-').str[2]"
   ]
  },
  {
   "cell_type": "code",
   "execution_count": 228,
   "metadata": {},
   "outputs": [],
   "source": [
    "temp_mean2 = df_mean2.loc[:,['year','month','day','humidity','temp']]\n",
    "temp_mean2['date'] = pd.to_datetime(temp_mean2[['year', 'month', 'day']], format='%Y-%m-%d', errors='coerce')\n",
    "\n",
    "tt_mean2 = temp_mean2.copy()\n",
    "tt_mean2 = tt_mean2.astype({'year':'int', 'month':'int', 'day':'int'})\n",
    "tt_mean2 = tt_mean2.dropna(how='any')"
   ]
  },
  {
   "cell_type": "code",
   "execution_count": 229,
   "metadata": {},
   "outputs": [
    {
     "data": {
      "image/png": "[encoded data removed]",
      "text/plain": [
       "<Figure size 1296x1296 with 1 Axes>"
      ]
     },
     "metadata": {
      "needs_background": "light"
     },
     "output_type": "display_data"
    },
    {
     "data": {
      "image/png": "[encoded data removed]",
      "text/plain": [
       "<Figure size 1296x1296 with 1 Axes>"
      ]
     },
     "metadata": {
      "needs_background": "light"
     },
     "output_type": "display_data"
    },
    {
     "data": {
      "image/png": "[encoded data removed]",
      "text/plain": [
       "<Figure size 1296x1296 with 1 Axes>"
      ]
     },
     "metadata": {
      "needs_background": "light"
     },
     "output_type": "display_data"
    },
    {
     "data": {
      "image/png": "[encoded data removed]",
      "text/plain": [
       "<Figure size 1296x1296 with 1 Axes>"
      ]
     },
     "metadata": {
      "needs_background": "light"
     },
     "output_type": "display_data"
    },
    {
     "data": {
      "image/png": "[encoded data removed]",
      "text/plain": [
       "<Figure size 1296x1296 with 1 Axes>"
      ]
     },
     "metadata": {
      "needs_background": "light"
     },
     "output_type": "display_data"
    },
    {
     "data": {
      "image/png": "[encoded data removed]",
      "text/plain": [
       "<Figure size 1296x1296 with 1 Axes>"
      ]
     },
     "metadata": {
      "needs_background": "light"
     },
     "output_type": "display_data"
    },
    {
     "data": {
      "image/png": "[encoded data removed]",
      "text/plain": [
       "<Figure size 1296x1296 with 1 Axes>"
      ]
     },
     "metadata": {
      "needs_background": "light"
     },
     "output_type": "display_data"
    },
    {
     "data": {
      "image/png": "[encoded data removed]",
      "text/plain": [
       "<Figure size 1296x1296 with 1 Axes>"
      ]
     },
     "metadata": {
      "needs_background": "light"
     },
     "output_type": "display_data"
    },
    {
     "data": {
      "image/png": "[encoded data removed]",
      "text/plain": [
       "<Figure size 1296x1296 with 1 Axes>"
      ]
     },
     "metadata": {
      "needs_background": "light"
     },
     "output_type": "display_data"
    },
    {
     "data": {
      "image/png": "[encoded data removed]",
      "text/plain": [
       "<Figure size 1296x1296 with 1 Axes>"
      ]
     },
     "metadata": {
      "needs_background": "light"
     },
     "output_type": "display_data"
    },
    {
     "data": {
      "image/png": "[encoded data removed]",
      "text/plain": [
       "<Figure size 1296x1296 with 1 Axes>"
      ]
     },
     "metadata": {
      "needs_background": "light"
     },
     "output_type": "display_data"
    },
    {
     "data": {
      "image/png": "[encoded data removed]",
      "text/plain": [
       "<Figure size 1296x1296 with 1 Axes>"
      ]
     },
     "metadata": {
      "needs_background": "light"
     },
     "output_type": "display_data"
    },
    {
     "data": {
      "image/png": "[encoded data removed]",
      "text/plain": [
       "<Figure size 1296x1296 with 1 Axes>"
      ]
     },
     "metadata": {
      "needs_background": "light"
     },
     "output_type": "display_data"
    }
   ],
   "source": [
    "for i in range(2010,2023):\n",
    "    temp_mean2 = tt_mean2[tt_mean2['year'] == i]\n",
    "\n",
    "    x = temp_mean2['date']\n",
    "    y = temp_mean2['humidity']\n",
    "    z = temp_mean2['temp']\n",
    "\n",
    "    plt.figure(figsize=(18,18))\n",
    "    plt.subplot(13,1,i-2009)\n",
    "\n",
    "    plt.bar(x, y*0.05)\n",
    "    plt.plot(x, np.log(z), color='red', linewidth = 2.5, alpha = 0.7)\n",
    "    plt.show()"
   ]
  },
  {
   "cell_type": "markdown",
   "metadata": {},
   "source": [
    "##### 우천 데이터프레임으로 작업"
   ]
  },
  {
   "cell_type": "code",
   "execution_count": 34,
   "metadata": {},
   "outputs": [],
   "source": [
    "# 그냥 해봄\n",
    "cond = EDAset['humidity'] != 0.0\n",
    "df_rain = EDAset[cond]\n",
    "\n",
    "print(\"우천 일 수 :\",len(df_rain))"
   ]
  },
  {
   "cell_type": "code",
   "execution_count": 38,
   "metadata": {},
   "outputs": [
    {
     "data": {
      "text/plain": [
       "<Figure size 1080x432 with 0 Axes>"
      ]
     },
     "metadata": {},
     "output_type": "display_data"
    },
    {
     "data": {
      "image/png": "[encoded data removed]",
      "text/plain": [
       "<Figure size 432x288 with 1 Axes>"
      ]
     },
     "metadata": {
      "needs_background": "light"
     },
     "output_type": "display_data"
    }
   ],
   "source": [
    "fig = plt.figure(figsize=(15,6))\n",
    "EDAset.plot(x='date', y='rainfall')\n",
    "plt.show()"
   ]
  },
  {
   "cell_type": "markdown",
   "metadata": {},
   "source": [
    "#### 5. 모든 달의 평균 강수량 + 평균 기온"
   ]
  },
  {
   "cell_type": "code",
   "execution_count": 28,
   "metadata": {},
   "outputs": [],
   "source": [
    "# 평균계산\n",
    "temp = []\n",
    "humd = []\n",
    "month = []\n",
    "\n",
    "for i in range(1,13) :\n",
    "    humd_high = EDAset[EDAset['date'].dt.month == i]\n",
    "\n",
    "    #최고기온 평균\n",
    "    temp.append(round(humd_high['temp'].mean(),1))\n",
    "\n",
    "    #강수량 평균\n",
    "    humd.append(round(humd_high['humidity'].mean(),1))\n",
    "\n",
    "    month.append(i)"
   ]
  },
  {
   "cell_type": "code",
   "execution_count": 29,
   "metadata": {},
   "outputs": [
    {
     "data": {
      "image/png": "[encoded data removed]",
      "text/plain": [
       "<Figure size 1296x288 with 1 Axes>"
      ]
     },
     "metadata": {
      "needs_background": "light"
     },
     "output_type": "display_data"
    }
   ],
   "source": [
    "# 그래프 그리기\n",
    "x_axis = EDAset['date'].dt.month.unique()\n",
    "\n",
    "plt. figure(figsize=(18,4))\n",
    "\n",
    "#plt.title('%s년부터 %s년까지 %s월의 기온 변화' % (year_start, year_end, i_month))\n",
    "plt.plot(month, temp, color='red', marker = 's', label='평균기온', linestyle='-')\n",
    "plt.plot(month, humd, color='blue', marker = 's', label='평균습도', linestyle='-')\n",
    "#plt.legend(loc=2)\n",
    "plt.xticks(month)\n",
    "plt.show()"
   ]
  },
  {
   "cell_type": "markdown",
   "metadata": {},
   "source": [
    "##### 특정 동 (도심에 해당하는 포정동, 종로, 동성로)에 대하여 EDA?"
   ]
  },
  {
   "cell_type": "code",
   "execution_count": null,
   "metadata": {},
   "outputs": [],
   "source": []
  },
  {
   "cell_type": "markdown",
   "metadata": {},
   "source": [
    "# 9. 대기중의 미세먼지 농도가 높으면 온도가 높다.(‘미세먼지가 많으면 통풍이 잘 안된다’ 속설 검증)\n",
    "- made by MJ"
   ]
  },
  {
   "cell_type": "code",
   "execution_count": null,
   "metadata": {},
   "outputs": [],
   "source": []
  },
  {
   "cell_type": "markdown",
   "metadata": {},
   "source": [
    "# 10. 나무를 많이 심으면 온도가 떨어진다. (대구 녹지사업 참고)\n",
    "- made by "
   ]
  },
  {
   "cell_type": "code",
   "execution_count": 22,
   "metadata": {},
   "outputs": [
    {
     "name": "stderr",
     "output_type": "stream",
     "text": [
      "C:\\Users\\User\\AppData\\Local\\Temp\\ipykernel_14672\\3447070485.py:1: DtypeWarning: Columns (0,1,2) have mixed types. Specify dtype option on import or set low_memory=False.\n",
      "  df_region = pd.read_csv('./dataset/0 REGION.csv')\n"
     ]
    },
    {
     "data": {
      "text/html": [
       "<div>\n",
       "<style scoped>\n",
       "    .dataframe tbody tr th:only-of-type {\n",
       "        vertical-align: middle;\n",
       "    }\n",
       "\n",
       "    .dataframe tbody tr th {\n",
       "        vertical-align: top;\n",
       "    }\n",
       "\n",
       "    .dataframe thead th {\n",
       "        text-align: right;\n",
       "    }\n",
       "</style>\n",
       "<table border=\"1\" class=\"dataframe\">\n",
       "  <thead>\n",
       "    <tr style=\"text-align: right;\">\n",
       "      <th></th>\n",
       "      <th>1단계</th>\n",
       "      <th>2단계</th>\n",
       "      <th>3단계</th>\n",
       "    </tr>\n",
       "  </thead>\n",
       "  <tbody>\n",
       "    <tr>\n",
       "      <th>0</th>\n",
       "      <td>대구광역시</td>\n",
       "      <td>중구</td>\n",
       "      <td>동인동</td>\n",
       "    </tr>\n",
       "    <tr>\n",
       "      <th>1</th>\n",
       "      <td>대구광역시</td>\n",
       "      <td>중구</td>\n",
       "      <td>삼덕동</td>\n",
       "    </tr>\n",
       "    <tr>\n",
       "      <th>2</th>\n",
       "      <td>대구광역시</td>\n",
       "      <td>중구</td>\n",
       "      <td>성내1동</td>\n",
       "    </tr>\n",
       "    <tr>\n",
       "      <th>3</th>\n",
       "      <td>대구광역시</td>\n",
       "      <td>중구</td>\n",
       "      <td>성내2동</td>\n",
       "    </tr>\n",
       "    <tr>\n",
       "      <th>4</th>\n",
       "      <td>대구광역시</td>\n",
       "      <td>중구</td>\n",
       "      <td>성내3동</td>\n",
       "    </tr>\n",
       "    <tr>\n",
       "      <th>...</th>\n",
       "      <td>...</td>\n",
       "      <td>...</td>\n",
       "      <td>...</td>\n",
       "    </tr>\n",
       "    <tr>\n",
       "      <th>1044924</th>\n",
       "      <td>NaN</td>\n",
       "      <td>NaN</td>\n",
       "      <td>NaN</td>\n",
       "    </tr>\n",
       "    <tr>\n",
       "      <th>1044925</th>\n",
       "      <td>NaN</td>\n",
       "      <td>NaN</td>\n",
       "      <td>NaN</td>\n",
       "    </tr>\n",
       "    <tr>\n",
       "      <th>1044926</th>\n",
       "      <td>NaN</td>\n",
       "      <td>NaN</td>\n",
       "      <td>NaN</td>\n",
       "    </tr>\n",
       "    <tr>\n",
       "      <th>1044927</th>\n",
       "      <td>NaN</td>\n",
       "      <td>NaN</td>\n",
       "      <td>NaN</td>\n",
       "    </tr>\n",
       "    <tr>\n",
       "      <th>1044928</th>\n",
       "      <td>NaN</td>\n",
       "      <td>NaN</td>\n",
       "      <td>NaN</td>\n",
       "    </tr>\n",
       "  </tbody>\n",
       "</table>\n",
       "<p>1044929 rows × 3 columns</p>\n",
       "</div>"
      ],
      "text/plain": [
       "           1단계  2단계   3단계\n",
       "0        대구광역시   중구   동인동\n",
       "1        대구광역시   중구   삼덕동\n",
       "2        대구광역시   중구  성내1동\n",
       "3        대구광역시   중구  성내2동\n",
       "4        대구광역시   중구  성내3동\n",
       "...        ...  ...   ...\n",
       "1044924    NaN  NaN   NaN\n",
       "1044925    NaN  NaN   NaN\n",
       "1044926    NaN  NaN   NaN\n",
       "1044927    NaN  NaN   NaN\n",
       "1044928    NaN  NaN   NaN\n",
       "\n",
       "[1044929 rows x 3 columns]"
      ]
     },
     "execution_count": 22,
     "metadata": {},
     "output_type": "execute_result"
    }
   ],
   "source": [
    "df_region = pd.read_csv('./dataset/0 REGION.csv')\n",
    "df_region"
   ]
  },
  {
   "cell_type": "code",
   "execution_count": 23,
   "metadata": {},
   "outputs": [],
   "source": [
    "index_None = df_region[df_region['1단계'].isna()].index\n",
    "df_region.drop(index_None, inplace=True)\n",
    "df_region.drop('1단계', axis=1, inplace=True)\n",
    "df_region.columns = ['region2','region']"
   ]
  },
  {
   "cell_type": "code",
   "execution_count": 24,
   "metadata": {},
   "outputs": [
    {
     "data": {
      "text/html": [
       "<div>\n",
       "<style scoped>\n",
       "    .dataframe tbody tr th:only-of-type {\n",
       "        vertical-align: middle;\n",
       "    }\n",
       "\n",
       "    .dataframe tbody tr th {\n",
       "        vertical-align: top;\n",
       "    }\n",
       "\n",
       "    .dataframe thead th {\n",
       "        text-align: right;\n",
       "    }\n",
       "</style>\n",
       "<table border=\"1\" class=\"dataframe\">\n",
       "  <thead>\n",
       "    <tr style=\"text-align: right;\">\n",
       "      <th></th>\n",
       "      <th>region2</th>\n",
       "      <th>region</th>\n",
       "    </tr>\n",
       "  </thead>\n",
       "  <tbody>\n",
       "    <tr>\n",
       "      <th>0</th>\n",
       "      <td>중구</td>\n",
       "      <td>동인동</td>\n",
       "    </tr>\n",
       "    <tr>\n",
       "      <th>1</th>\n",
       "      <td>중구</td>\n",
       "      <td>삼덕동</td>\n",
       "    </tr>\n",
       "    <tr>\n",
       "      <th>2</th>\n",
       "      <td>중구</td>\n",
       "      <td>성내1동</td>\n",
       "    </tr>\n",
       "    <tr>\n",
       "      <th>3</th>\n",
       "      <td>중구</td>\n",
       "      <td>성내2동</td>\n",
       "    </tr>\n",
       "    <tr>\n",
       "      <th>4</th>\n",
       "      <td>중구</td>\n",
       "      <td>성내3동</td>\n",
       "    </tr>\n",
       "    <tr>\n",
       "      <th>...</th>\n",
       "      <td>...</td>\n",
       "      <td>...</td>\n",
       "    </tr>\n",
       "    <tr>\n",
       "      <th>137</th>\n",
       "      <td>달성군</td>\n",
       "      <td>옥포읍</td>\n",
       "    </tr>\n",
       "    <tr>\n",
       "      <th>138</th>\n",
       "      <td>달성군</td>\n",
       "      <td>현풍읍</td>\n",
       "    </tr>\n",
       "    <tr>\n",
       "      <th>139</th>\n",
       "      <td>달성군</td>\n",
       "      <td>가창면</td>\n",
       "    </tr>\n",
       "    <tr>\n",
       "      <th>140</th>\n",
       "      <td>달성군</td>\n",
       "      <td>하빈면</td>\n",
       "    </tr>\n",
       "    <tr>\n",
       "      <th>141</th>\n",
       "      <td>달성군</td>\n",
       "      <td>구지면</td>\n",
       "    </tr>\n",
       "  </tbody>\n",
       "</table>\n",
       "<p>142 rows × 2 columns</p>\n",
       "</div>"
      ],
      "text/plain": [
       "    region2 region\n",
       "0        중구    동인동\n",
       "1        중구    삼덕동\n",
       "2        중구   성내1동\n",
       "3        중구   성내2동\n",
       "4        중구   성내3동\n",
       "..      ...    ...\n",
       "137     달성군    옥포읍\n",
       "138     달성군    현풍읍\n",
       "139     달성군    가창면\n",
       "140     달성군    하빈면\n",
       "141     달성군    구지면\n",
       "\n",
       "[142 rows x 2 columns]"
      ]
     },
     "execution_count": 24,
     "metadata": {},
     "output_type": "execute_result"
    }
   ],
   "source": [
    "df_region"
   ]
  },
  {
   "cell_type": "code",
   "execution_count": 25,
   "metadata": {},
   "outputs": [
    {
     "data": {
      "text/html": [
       "<div>\n",
       "<style scoped>\n",
       "    .dataframe tbody tr th:only-of-type {\n",
       "        vertical-align: middle;\n",
       "    }\n",
       "\n",
       "    .dataframe tbody tr th {\n",
       "        vertical-align: top;\n",
       "    }\n",
       "\n",
       "    .dataframe thead th {\n",
       "        text-align: right;\n",
       "    }\n",
       "</style>\n",
       "<table border=\"1\" class=\"dataframe\">\n",
       "  <thead>\n",
       "    <tr style=\"text-align: right;\">\n",
       "      <th></th>\n",
       "      <th>day</th>\n",
       "      <th>hour</th>\n",
       "      <th>rainfall</th>\n",
       "      <th>temp</th>\n",
       "      <th>lightning</th>\n",
       "      <th>humidity</th>\n",
       "      <th>wind_speed</th>\n",
       "      <th>wind_direction</th>\n",
       "      <th>condition</th>\n",
       "      <th>month</th>\n",
       "      <th>year</th>\n",
       "      <th>region</th>\n",
       "    </tr>\n",
       "  </thead>\n",
       "  <tbody>\n",
       "    <tr>\n",
       "      <th>0</th>\n",
       "      <td>1</td>\n",
       "      <td>0</td>\n",
       "      <td>0.0</td>\n",
       "      <td>16.500000</td>\n",
       "      <td>-1</td>\n",
       "      <td>53.0</td>\n",
       "      <td>53.0</td>\n",
       "      <td>390.0</td>\n",
       "      <td>1</td>\n",
       "      <td>6</td>\n",
       "      <td>2010</td>\n",
       "      <td>동인동</td>\n",
       "    </tr>\n",
       "    <tr>\n",
       "      <th>1</th>\n",
       "      <td>1</td>\n",
       "      <td>1</td>\n",
       "      <td>0.0</td>\n",
       "      <td>18.100000</td>\n",
       "      <td>-1</td>\n",
       "      <td>49.0</td>\n",
       "      <td>53.0</td>\n",
       "      <td>390.0</td>\n",
       "      <td>1</td>\n",
       "      <td>6</td>\n",
       "      <td>2010</td>\n",
       "      <td>동인동</td>\n",
       "    </tr>\n",
       "    <tr>\n",
       "      <th>2</th>\n",
       "      <td>1</td>\n",
       "      <td>2</td>\n",
       "      <td>0.0</td>\n",
       "      <td>19.700001</td>\n",
       "      <td>-1</td>\n",
       "      <td>46.0</td>\n",
       "      <td>53.0</td>\n",
       "      <td>390.0</td>\n",
       "      <td>1</td>\n",
       "      <td>6</td>\n",
       "      <td>2010</td>\n",
       "      <td>동인동</td>\n",
       "    </tr>\n",
       "    <tr>\n",
       "      <th>3</th>\n",
       "      <td>1</td>\n",
       "      <td>3</td>\n",
       "      <td>0.0</td>\n",
       "      <td>20.799999</td>\n",
       "      <td>-1</td>\n",
       "      <td>41.0</td>\n",
       "      <td>53.0</td>\n",
       "      <td>390.0</td>\n",
       "      <td>1</td>\n",
       "      <td>6</td>\n",
       "      <td>2010</td>\n",
       "      <td>동인동</td>\n",
       "    </tr>\n",
       "    <tr>\n",
       "      <th>4</th>\n",
       "      <td>1</td>\n",
       "      <td>4</td>\n",
       "      <td>0.0</td>\n",
       "      <td>22.200001</td>\n",
       "      <td>-1</td>\n",
       "      <td>36.0</td>\n",
       "      <td>53.0</td>\n",
       "      <td>390.0</td>\n",
       "      <td>2</td>\n",
       "      <td>6</td>\n",
       "      <td>2010</td>\n",
       "      <td>동인동</td>\n",
       "    </tr>\n",
       "    <tr>\n",
       "      <th>...</th>\n",
       "      <td>...</td>\n",
       "      <td>...</td>\n",
       "      <td>...</td>\n",
       "      <td>...</td>\n",
       "      <td>...</td>\n",
       "      <td>...</td>\n",
       "      <td>...</td>\n",
       "      <td>...</td>\n",
       "      <td>...</td>\n",
       "      <td>...</td>\n",
       "      <td>...</td>\n",
       "      <td>...</td>\n",
       "    </tr>\n",
       "    <tr>\n",
       "      <th>14831611</th>\n",
       "      <td>30</td>\n",
       "      <td>19</td>\n",
       "      <td>0.0</td>\n",
       "      <td>10.700000</td>\n",
       "      <td>-1</td>\n",
       "      <td>71.0</td>\n",
       "      <td>2.1</td>\n",
       "      <td>335.0</td>\n",
       "      <td>-1</td>\n",
       "      <td>4</td>\n",
       "      <td>2022</td>\n",
       "      <td>구지면</td>\n",
       "    </tr>\n",
       "    <tr>\n",
       "      <th>14831612</th>\n",
       "      <td>30</td>\n",
       "      <td>20</td>\n",
       "      <td>0.0</td>\n",
       "      <td>11.000000</td>\n",
       "      <td>-1</td>\n",
       "      <td>65.0</td>\n",
       "      <td>2.2</td>\n",
       "      <td>339.0</td>\n",
       "      <td>-1</td>\n",
       "      <td>4</td>\n",
       "      <td>2022</td>\n",
       "      <td>구지면</td>\n",
       "    </tr>\n",
       "    <tr>\n",
       "      <th>14831613</th>\n",
       "      <td>30</td>\n",
       "      <td>21</td>\n",
       "      <td>0.0</td>\n",
       "      <td>11.900000</td>\n",
       "      <td>-1</td>\n",
       "      <td>61.0</td>\n",
       "      <td>2.2</td>\n",
       "      <td>338.0</td>\n",
       "      <td>-1</td>\n",
       "      <td>4</td>\n",
       "      <td>2022</td>\n",
       "      <td>구지면</td>\n",
       "    </tr>\n",
       "    <tr>\n",
       "      <th>14831614</th>\n",
       "      <td>30</td>\n",
       "      <td>22</td>\n",
       "      <td>0.0</td>\n",
       "      <td>13.400000</td>\n",
       "      <td>-1</td>\n",
       "      <td>53.0</td>\n",
       "      <td>2.0</td>\n",
       "      <td>351.0</td>\n",
       "      <td>-1</td>\n",
       "      <td>4</td>\n",
       "      <td>2022</td>\n",
       "      <td>구지면</td>\n",
       "    </tr>\n",
       "    <tr>\n",
       "      <th>14831615</th>\n",
       "      <td>30</td>\n",
       "      <td>23</td>\n",
       "      <td>0.0</td>\n",
       "      <td>15.100000</td>\n",
       "      <td>-1</td>\n",
       "      <td>41.0</td>\n",
       "      <td>2.1</td>\n",
       "      <td>5.0</td>\n",
       "      <td>-1</td>\n",
       "      <td>4</td>\n",
       "      <td>2022</td>\n",
       "      <td>구지면</td>\n",
       "    </tr>\n",
       "  </tbody>\n",
       "</table>\n",
       "<p>14831616 rows × 12 columns</p>\n",
       "</div>"
      ],
      "text/plain": [
       "          day  hour  rainfall       temp  lightning  humidity  wind_speed  \\\n",
       "0           1     0       0.0  16.500000         -1      53.0        53.0   \n",
       "1           1     1       0.0  18.100000         -1      49.0        53.0   \n",
       "2           1     2       0.0  19.700001         -1      46.0        53.0   \n",
       "3           1     3       0.0  20.799999         -1      41.0        53.0   \n",
       "4           1     4       0.0  22.200001         -1      36.0        53.0   \n",
       "...       ...   ...       ...        ...        ...       ...         ...   \n",
       "14831611   30    19       0.0  10.700000         -1      71.0         2.1   \n",
       "14831612   30    20       0.0  11.000000         -1      65.0         2.2   \n",
       "14831613   30    21       0.0  11.900000         -1      61.0         2.2   \n",
       "14831614   30    22       0.0  13.400000         -1      53.0         2.0   \n",
       "14831615   30    23       0.0  15.100000         -1      41.0         2.1   \n",
       "\n",
       "          wind_direction  condition  month  year region  \n",
       "0                  390.0          1      6  2010    동인동  \n",
       "1                  390.0          1      6  2010    동인동  \n",
       "2                  390.0          1      6  2010    동인동  \n",
       "3                  390.0          1      6  2010    동인동  \n",
       "4                  390.0          2      6  2010    동인동  \n",
       "...                  ...        ...    ...   ...    ...  \n",
       "14831611           335.0         -1      4  2022    구지면  \n",
       "14831612           339.0         -1      4  2022    구지면  \n",
       "14831613           338.0         -1      4  2022    구지면  \n",
       "14831614           351.0         -1      4  2022    구지면  \n",
       "14831615             5.0         -1      4  2022    구지면  \n",
       "\n",
       "[14831616 rows x 12 columns]"
      ]
     },
     "execution_count": 25,
     "metadata": {},
     "output_type": "execute_result"
    }
   ],
   "source": [
    "df_pre"
   ]
  },
  {
   "cell_type": "code",
   "execution_count": 26,
   "metadata": {},
   "outputs": [],
   "source": [
    "df_10 = df_pre.merge(df_region, on='region')"
   ]
  },
  {
   "cell_type": "code",
   "execution_count": 27,
   "metadata": {},
   "outputs": [
    {
     "data": {
      "text/html": [
       "<div>\n",
       "<style scoped>\n",
       "    .dataframe tbody tr th:only-of-type {\n",
       "        vertical-align: middle;\n",
       "    }\n",
       "\n",
       "    .dataframe tbody tr th {\n",
       "        vertical-align: top;\n",
       "    }\n",
       "\n",
       "    .dataframe thead th {\n",
       "        text-align: right;\n",
       "    }\n",
       "</style>\n",
       "<table border=\"1\" class=\"dataframe\">\n",
       "  <thead>\n",
       "    <tr style=\"text-align: right;\">\n",
       "      <th></th>\n",
       "      <th>day</th>\n",
       "      <th>hour</th>\n",
       "      <th>rainfall</th>\n",
       "      <th>temp</th>\n",
       "      <th>lightning</th>\n",
       "      <th>humidity</th>\n",
       "      <th>wind_speed</th>\n",
       "      <th>wind_direction</th>\n",
       "      <th>condition</th>\n",
       "      <th>month</th>\n",
       "      <th>year</th>\n",
       "      <th>region</th>\n",
       "      <th>region2</th>\n",
       "    </tr>\n",
       "  </thead>\n",
       "  <tbody>\n",
       "    <tr>\n",
       "      <th>0</th>\n",
       "      <td>1</td>\n",
       "      <td>0</td>\n",
       "      <td>0.0</td>\n",
       "      <td>16.500000</td>\n",
       "      <td>-1</td>\n",
       "      <td>53.0</td>\n",
       "      <td>53.0</td>\n",
       "      <td>390.0</td>\n",
       "      <td>1</td>\n",
       "      <td>6</td>\n",
       "      <td>2010</td>\n",
       "      <td>동인동</td>\n",
       "      <td>중구</td>\n",
       "    </tr>\n",
       "    <tr>\n",
       "      <th>1</th>\n",
       "      <td>1</td>\n",
       "      <td>1</td>\n",
       "      <td>0.0</td>\n",
       "      <td>18.100000</td>\n",
       "      <td>-1</td>\n",
       "      <td>49.0</td>\n",
       "      <td>53.0</td>\n",
       "      <td>390.0</td>\n",
       "      <td>1</td>\n",
       "      <td>6</td>\n",
       "      <td>2010</td>\n",
       "      <td>동인동</td>\n",
       "      <td>중구</td>\n",
       "    </tr>\n",
       "    <tr>\n",
       "      <th>2</th>\n",
       "      <td>1</td>\n",
       "      <td>2</td>\n",
       "      <td>0.0</td>\n",
       "      <td>19.700001</td>\n",
       "      <td>-1</td>\n",
       "      <td>46.0</td>\n",
       "      <td>53.0</td>\n",
       "      <td>390.0</td>\n",
       "      <td>1</td>\n",
       "      <td>6</td>\n",
       "      <td>2010</td>\n",
       "      <td>동인동</td>\n",
       "      <td>중구</td>\n",
       "    </tr>\n",
       "    <tr>\n",
       "      <th>3</th>\n",
       "      <td>1</td>\n",
       "      <td>3</td>\n",
       "      <td>0.0</td>\n",
       "      <td>20.799999</td>\n",
       "      <td>-1</td>\n",
       "      <td>41.0</td>\n",
       "      <td>53.0</td>\n",
       "      <td>390.0</td>\n",
       "      <td>1</td>\n",
       "      <td>6</td>\n",
       "      <td>2010</td>\n",
       "      <td>동인동</td>\n",
       "      <td>중구</td>\n",
       "    </tr>\n",
       "    <tr>\n",
       "      <th>4</th>\n",
       "      <td>1</td>\n",
       "      <td>4</td>\n",
       "      <td>0.0</td>\n",
       "      <td>22.200001</td>\n",
       "      <td>-1</td>\n",
       "      <td>36.0</td>\n",
       "      <td>53.0</td>\n",
       "      <td>390.0</td>\n",
       "      <td>2</td>\n",
       "      <td>6</td>\n",
       "      <td>2010</td>\n",
       "      <td>동인동</td>\n",
       "      <td>중구</td>\n",
       "    </tr>\n",
       "    <tr>\n",
       "      <th>...</th>\n",
       "      <td>...</td>\n",
       "      <td>...</td>\n",
       "      <td>...</td>\n",
       "      <td>...</td>\n",
       "      <td>...</td>\n",
       "      <td>...</td>\n",
       "      <td>...</td>\n",
       "      <td>...</td>\n",
       "      <td>...</td>\n",
       "      <td>...</td>\n",
       "      <td>...</td>\n",
       "      <td>...</td>\n",
       "      <td>...</td>\n",
       "    </tr>\n",
       "    <tr>\n",
       "      <th>14727163</th>\n",
       "      <td>30</td>\n",
       "      <td>19</td>\n",
       "      <td>0.0</td>\n",
       "      <td>10.700000</td>\n",
       "      <td>-1</td>\n",
       "      <td>71.0</td>\n",
       "      <td>2.1</td>\n",
       "      <td>335.0</td>\n",
       "      <td>-1</td>\n",
       "      <td>4</td>\n",
       "      <td>2022</td>\n",
       "      <td>구지면</td>\n",
       "      <td>달성군</td>\n",
       "    </tr>\n",
       "    <tr>\n",
       "      <th>14727164</th>\n",
       "      <td>30</td>\n",
       "      <td>20</td>\n",
       "      <td>0.0</td>\n",
       "      <td>11.000000</td>\n",
       "      <td>-1</td>\n",
       "      <td>65.0</td>\n",
       "      <td>2.2</td>\n",
       "      <td>339.0</td>\n",
       "      <td>-1</td>\n",
       "      <td>4</td>\n",
       "      <td>2022</td>\n",
       "      <td>구지면</td>\n",
       "      <td>달성군</td>\n",
       "    </tr>\n",
       "    <tr>\n",
       "      <th>14727165</th>\n",
       "      <td>30</td>\n",
       "      <td>21</td>\n",
       "      <td>0.0</td>\n",
       "      <td>11.900000</td>\n",
       "      <td>-1</td>\n",
       "      <td>61.0</td>\n",
       "      <td>2.2</td>\n",
       "      <td>338.0</td>\n",
       "      <td>-1</td>\n",
       "      <td>4</td>\n",
       "      <td>2022</td>\n",
       "      <td>구지면</td>\n",
       "      <td>달성군</td>\n",
       "    </tr>\n",
       "    <tr>\n",
       "      <th>14727166</th>\n",
       "      <td>30</td>\n",
       "      <td>22</td>\n",
       "      <td>0.0</td>\n",
       "      <td>13.400000</td>\n",
       "      <td>-1</td>\n",
       "      <td>53.0</td>\n",
       "      <td>2.0</td>\n",
       "      <td>351.0</td>\n",
       "      <td>-1</td>\n",
       "      <td>4</td>\n",
       "      <td>2022</td>\n",
       "      <td>구지면</td>\n",
       "      <td>달성군</td>\n",
       "    </tr>\n",
       "    <tr>\n",
       "      <th>14727167</th>\n",
       "      <td>30</td>\n",
       "      <td>23</td>\n",
       "      <td>0.0</td>\n",
       "      <td>15.100000</td>\n",
       "      <td>-1</td>\n",
       "      <td>41.0</td>\n",
       "      <td>2.1</td>\n",
       "      <td>5.0</td>\n",
       "      <td>-1</td>\n",
       "      <td>4</td>\n",
       "      <td>2022</td>\n",
       "      <td>구지면</td>\n",
       "      <td>달성군</td>\n",
       "    </tr>\n",
       "  </tbody>\n",
       "</table>\n",
       "<p>14727168 rows × 13 columns</p>\n",
       "</div>"
      ],
      "text/plain": [
       "          day  hour  rainfall       temp  lightning  humidity  wind_speed  \\\n",
       "0           1     0       0.0  16.500000         -1      53.0        53.0   \n",
       "1           1     1       0.0  18.100000         -1      49.0        53.0   \n",
       "2           1     2       0.0  19.700001         -1      46.0        53.0   \n",
       "3           1     3       0.0  20.799999         -1      41.0        53.0   \n",
       "4           1     4       0.0  22.200001         -1      36.0        53.0   \n",
       "...       ...   ...       ...        ...        ...       ...         ...   \n",
       "14727163   30    19       0.0  10.700000         -1      71.0         2.1   \n",
       "14727164   30    20       0.0  11.000000         -1      65.0         2.2   \n",
       "14727165   30    21       0.0  11.900000         -1      61.0         2.2   \n",
       "14727166   30    22       0.0  13.400000         -1      53.0         2.0   \n",
       "14727167   30    23       0.0  15.100000         -1      41.0         2.1   \n",
       "\n",
       "          wind_direction  condition  month  year region region2  \n",
       "0                  390.0          1      6  2010    동인동      중구  \n",
       "1                  390.0          1      6  2010    동인동      중구  \n",
       "2                  390.0          1      6  2010    동인동      중구  \n",
       "3                  390.0          1      6  2010    동인동      중구  \n",
       "4                  390.0          2      6  2010    동인동      중구  \n",
       "...                  ...        ...    ...   ...    ...     ...  \n",
       "14727163           335.0         -1      4  2022    구지면     달성군  \n",
       "14727164           339.0         -1      4  2022    구지면     달성군  \n",
       "14727165           338.0         -1      4  2022    구지면     달성군  \n",
       "14727166           351.0         -1      4  2022    구지면     달성군  \n",
       "14727167             5.0         -1      4  2022    구지면     달성군  \n",
       "\n",
       "[14727168 rows x 13 columns]"
      ]
     },
     "execution_count": 27,
     "metadata": {},
     "output_type": "execute_result"
    }
   ],
   "source": [
    "df_10"
   ]
  },
  {
   "cell_type": "code",
   "execution_count": null,
   "metadata": {},
   "outputs": [],
   "source": []
  }
 ],
 "metadata": {
  "interpreter": {
   "hash": "a361ab2d5bcaf6ce52bdf68136849a2f83cd149430793ce39e0b5f62eae2684c"
  },
  "kernelspec": {
   "display_name": "Python 3.10.4 ('.venv': venv)",
   "language": "python",
   "name": "python3"
  },
  "language_info": {
   "codemirror_mode": {
    "name": "ipython",
    "version": 3
   },
   "file_extension": ".py",
   "mimetype": "text/x-python",
   "name": "python",
   "nbconvert_exporter": "python",
   "pygments_lexer": "ipython3",
   "version": "3.10.4"
  },
  "orig_nbformat": 4
 },
 "nbformat": 4,
 "nbformat_minor": 2
}
