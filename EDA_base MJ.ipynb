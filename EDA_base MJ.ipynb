{
 "cells": [
  {
   "cell_type": "markdown",
   "metadata": {},
   "source": [
    "# ※ 필요한 패키지 및 데이터 불러오기"
   ]
  },
  {
   "cell_type": "code",
   "execution_count": 1,
   "metadata": {},
   "outputs": [],
   "source": [
    "import pandas as pd\n",
    "import numpy as np\n",
    "\n",
    "import matplotlib.pyplot as plt\n",
    "import seaborn as sns\n",
    "import matplotlib\n",
    "import platform"
   ]
  },
  {
   "cell_type": "code",
   "execution_count": 2,
   "metadata": {},
   "outputs": [],
   "source": [
    "df = pd.read_csv('output/daegu.csv', encoding = 'cp949')"
   ]
  },
  {
   "cell_type": "code",
   "execution_count": 3,
   "metadata": {},
   "outputs": [],
   "source": [
    "# 아래의 전처리부분을 전부 실행하면 daegu.csv 파일이 생성됨\n",
    "# 파일이 있으면 여기를 실행해서 아래의 EDA를 할 것\n",
    "df_pre = pd.read_csv('output/daegu_final.csv')"
   ]
  },
  {
   "cell_type": "markdown",
   "metadata": {},
   "source": [
    "<hr>"
   ]
  },
  {
   "cell_type": "markdown",
   "metadata": {},
   "source": [
    "# Preprocessing\n",
    "#### Period\n",
    "- 2022-05-06\n",
    "\n",
    "#### Index\n",
    "0. 전처리 전\n",
    "\n",
    "1. Column : hour\n",
    "2. Column : lightning\n",
    "3. Column : condtion\n",
    "4. Column : month\n",
    "5. 전처리 후"
   ]
  },
  {
   "cell_type": "markdown",
   "metadata": {},
   "source": [
    "# 0. 전처리 전"
   ]
  },
  {
   "cell_type": "code",
   "execution_count": 4,
   "metadata": {},
   "outputs": [
    {
     "data": {
      "text/html": [
       "<div>\n",
       "<style scoped>\n",
       "    .dataframe tbody tr th:only-of-type {\n",
       "        vertical-align: middle;\n",
       "    }\n",
       "\n",
       "    .dataframe tbody tr th {\n",
       "        vertical-align: top;\n",
       "    }\n",
       "\n",
       "    .dataframe thead th {\n",
       "        text-align: right;\n",
       "    }\n",
       "</style>\n",
       "<table border=\"1\" class=\"dataframe\">\n",
       "  <thead>\n",
       "    <tr style=\"text-align: right;\">\n",
       "      <th></th>\n",
       "      <th>day</th>\n",
       "      <th>hour</th>\n",
       "      <th>rainfall</th>\n",
       "      <th>temp</th>\n",
       "      <th>lightning</th>\n",
       "      <th>humidity</th>\n",
       "      <th>wind_speed</th>\n",
       "      <th>wind_direction</th>\n",
       "      <th>condition</th>\n",
       "      <th>month</th>\n",
       "      <th>year</th>\n",
       "      <th>region</th>\n",
       "    </tr>\n",
       "  </thead>\n",
       "  <tbody>\n",
       "    <tr>\n",
       "      <th>0</th>\n",
       "      <td>1</td>\n",
       "      <td>0.0</td>\n",
       "      <td>0.0</td>\n",
       "      <td>16.500000</td>\n",
       "      <td>-1.0</td>\n",
       "      <td>53.0</td>\n",
       "      <td>53.0</td>\n",
       "      <td>390.0</td>\n",
       "      <td>1.0</td>\n",
       "      <td>6.0</td>\n",
       "      <td>2010</td>\n",
       "      <td>동인동</td>\n",
       "    </tr>\n",
       "    <tr>\n",
       "      <th>1</th>\n",
       "      <td>1</td>\n",
       "      <td>100.0</td>\n",
       "      <td>0.0</td>\n",
       "      <td>18.100000</td>\n",
       "      <td>-1.0</td>\n",
       "      <td>49.0</td>\n",
       "      <td>53.0</td>\n",
       "      <td>390.0</td>\n",
       "      <td>1.0</td>\n",
       "      <td>6.0</td>\n",
       "      <td>2010</td>\n",
       "      <td>동인동</td>\n",
       "    </tr>\n",
       "    <tr>\n",
       "      <th>2</th>\n",
       "      <td>1</td>\n",
       "      <td>200.0</td>\n",
       "      <td>0.0</td>\n",
       "      <td>19.700001</td>\n",
       "      <td>-1.0</td>\n",
       "      <td>46.0</td>\n",
       "      <td>53.0</td>\n",
       "      <td>390.0</td>\n",
       "      <td>1.0</td>\n",
       "      <td>6.0</td>\n",
       "      <td>2010</td>\n",
       "      <td>동인동</td>\n",
       "    </tr>\n",
       "    <tr>\n",
       "      <th>3</th>\n",
       "      <td>1</td>\n",
       "      <td>300.0</td>\n",
       "      <td>0.0</td>\n",
       "      <td>20.799999</td>\n",
       "      <td>-1.0</td>\n",
       "      <td>41.0</td>\n",
       "      <td>53.0</td>\n",
       "      <td>390.0</td>\n",
       "      <td>1.0</td>\n",
       "      <td>6.0</td>\n",
       "      <td>2010</td>\n",
       "      <td>동인동</td>\n",
       "    </tr>\n",
       "    <tr>\n",
       "      <th>4</th>\n",
       "      <td>1</td>\n",
       "      <td>400.0</td>\n",
       "      <td>0.0</td>\n",
       "      <td>22.200001</td>\n",
       "      <td>-1.0</td>\n",
       "      <td>36.0</td>\n",
       "      <td>53.0</td>\n",
       "      <td>390.0</td>\n",
       "      <td>2.0</td>\n",
       "      <td>6.0</td>\n",
       "      <td>2010</td>\n",
       "      <td>동인동</td>\n",
       "    </tr>\n",
       "    <tr>\n",
       "      <th>...</th>\n",
       "      <td>...</td>\n",
       "      <td>...</td>\n",
       "      <td>...</td>\n",
       "      <td>...</td>\n",
       "      <td>...</td>\n",
       "      <td>...</td>\n",
       "      <td>...</td>\n",
       "      <td>...</td>\n",
       "      <td>...</td>\n",
       "      <td>...</td>\n",
       "      <td>...</td>\n",
       "      <td>...</td>\n",
       "    </tr>\n",
       "    <tr>\n",
       "      <th>14831611</th>\n",
       "      <td>30</td>\n",
       "      <td>1900.0</td>\n",
       "      <td>0.0</td>\n",
       "      <td>10.700000</td>\n",
       "      <td>NaN</td>\n",
       "      <td>71.0</td>\n",
       "      <td>2.1</td>\n",
       "      <td>335.0</td>\n",
       "      <td>NaN</td>\n",
       "      <td>4.0</td>\n",
       "      <td>2022</td>\n",
       "      <td>구지면</td>\n",
       "    </tr>\n",
       "    <tr>\n",
       "      <th>14831612</th>\n",
       "      <td>30</td>\n",
       "      <td>2000.0</td>\n",
       "      <td>0.0</td>\n",
       "      <td>11.000000</td>\n",
       "      <td>NaN</td>\n",
       "      <td>65.0</td>\n",
       "      <td>2.2</td>\n",
       "      <td>339.0</td>\n",
       "      <td>NaN</td>\n",
       "      <td>4.0</td>\n",
       "      <td>2022</td>\n",
       "      <td>구지면</td>\n",
       "    </tr>\n",
       "    <tr>\n",
       "      <th>14831613</th>\n",
       "      <td>30</td>\n",
       "      <td>2100.0</td>\n",
       "      <td>0.0</td>\n",
       "      <td>11.900000</td>\n",
       "      <td>NaN</td>\n",
       "      <td>61.0</td>\n",
       "      <td>2.2</td>\n",
       "      <td>338.0</td>\n",
       "      <td>NaN</td>\n",
       "      <td>4.0</td>\n",
       "      <td>2022</td>\n",
       "      <td>구지면</td>\n",
       "    </tr>\n",
       "    <tr>\n",
       "      <th>14831614</th>\n",
       "      <td>30</td>\n",
       "      <td>2200.0</td>\n",
       "      <td>0.0</td>\n",
       "      <td>13.400000</td>\n",
       "      <td>NaN</td>\n",
       "      <td>53.0</td>\n",
       "      <td>2.0</td>\n",
       "      <td>351.0</td>\n",
       "      <td>NaN</td>\n",
       "      <td>4.0</td>\n",
       "      <td>2022</td>\n",
       "      <td>구지면</td>\n",
       "    </tr>\n",
       "    <tr>\n",
       "      <th>14831615</th>\n",
       "      <td>30</td>\n",
       "      <td>2300.0</td>\n",
       "      <td>0.0</td>\n",
       "      <td>15.100000</td>\n",
       "      <td>NaN</td>\n",
       "      <td>41.0</td>\n",
       "      <td>2.1</td>\n",
       "      <td>5.0</td>\n",
       "      <td>NaN</td>\n",
       "      <td>4.0</td>\n",
       "      <td>2022</td>\n",
       "      <td>구지면</td>\n",
       "    </tr>\n",
       "  </tbody>\n",
       "</table>\n",
       "<p>14831616 rows × 12 columns</p>\n",
       "</div>"
      ],
      "text/plain": [
       "          day    hour  rainfall       temp  lightning  humidity  wind_speed  \\\n",
       "0           1     0.0       0.0  16.500000       -1.0      53.0        53.0   \n",
       "1           1   100.0       0.0  18.100000       -1.0      49.0        53.0   \n",
       "2           1   200.0       0.0  19.700001       -1.0      46.0        53.0   \n",
       "3           1   300.0       0.0  20.799999       -1.0      41.0        53.0   \n",
       "4           1   400.0       0.0  22.200001       -1.0      36.0        53.0   \n",
       "...       ...     ...       ...        ...        ...       ...         ...   \n",
       "14831611   30  1900.0       0.0  10.700000        NaN      71.0         2.1   \n",
       "14831612   30  2000.0       0.0  11.000000        NaN      65.0         2.2   \n",
       "14831613   30  2100.0       0.0  11.900000        NaN      61.0         2.2   \n",
       "14831614   30  2200.0       0.0  13.400000        NaN      53.0         2.0   \n",
       "14831615   30  2300.0       0.0  15.100000        NaN      41.0         2.1   \n",
       "\n",
       "          wind_direction  condition  month  year region  \n",
       "0                  390.0        1.0    6.0  2010    동인동  \n",
       "1                  390.0        1.0    6.0  2010    동인동  \n",
       "2                  390.0        1.0    6.0  2010    동인동  \n",
       "3                  390.0        1.0    6.0  2010    동인동  \n",
       "4                  390.0        2.0    6.0  2010    동인동  \n",
       "...                  ...        ...    ...   ...    ...  \n",
       "14831611           335.0        NaN    4.0  2022    구지면  \n",
       "14831612           339.0        NaN    4.0  2022    구지면  \n",
       "14831613           338.0        NaN    4.0  2022    구지면  \n",
       "14831614           351.0        NaN    4.0  2022    구지면  \n",
       "14831615             5.0        NaN    4.0  2022    구지면  \n",
       "\n",
       "[14831616 rows x 12 columns]"
      ]
     },
     "execution_count": 4,
     "metadata": {},
     "output_type": "execute_result"
    }
   ],
   "source": [
    "df"
   ]
  },
  {
   "cell_type": "markdown",
   "metadata": {},
   "source": [
    "## 1. Column :  hour\n",
    "- 시간이 24시간 형식으로 되어있음\n",
    "- 시간뒤에 분을 나타내는 00이 따라옴\n",
    "<br><br>\n",
    "- 분은 항상 00으로 표시되므로 필요없는 데이터로 제거"
   ]
  },
  {
   "cell_type": "code",
   "execution_count": 5,
   "metadata": {},
   "outputs": [],
   "source": [
    "df1 = df[:]\n",
    "df1['hour'] = df['hour']/100\n",
    "df1['hour'] = df1['hour'].astype(int)"
   ]
  },
  {
   "cell_type": "code",
   "execution_count": 6,
   "metadata": {},
   "outputs": [
    {
     "data": {
      "text/html": [
       "<div>\n",
       "<style scoped>\n",
       "    .dataframe tbody tr th:only-of-type {\n",
       "        vertical-align: middle;\n",
       "    }\n",
       "\n",
       "    .dataframe tbody tr th {\n",
       "        vertical-align: top;\n",
       "    }\n",
       "\n",
       "    .dataframe thead th {\n",
       "        text-align: right;\n",
       "    }\n",
       "</style>\n",
       "<table border=\"1\" class=\"dataframe\">\n",
       "  <thead>\n",
       "    <tr style=\"text-align: right;\">\n",
       "      <th></th>\n",
       "      <th>day</th>\n",
       "      <th>hour</th>\n",
       "      <th>rainfall</th>\n",
       "      <th>temp</th>\n",
       "      <th>lightning</th>\n",
       "      <th>humidity</th>\n",
       "      <th>wind_speed</th>\n",
       "      <th>wind_direction</th>\n",
       "      <th>condition</th>\n",
       "      <th>month</th>\n",
       "      <th>year</th>\n",
       "      <th>region</th>\n",
       "    </tr>\n",
       "  </thead>\n",
       "  <tbody>\n",
       "    <tr>\n",
       "      <th>0</th>\n",
       "      <td>1</td>\n",
       "      <td>0</td>\n",
       "      <td>0.0</td>\n",
       "      <td>16.500000</td>\n",
       "      <td>-1.0</td>\n",
       "      <td>53.0</td>\n",
       "      <td>53.0</td>\n",
       "      <td>390.0</td>\n",
       "      <td>1.0</td>\n",
       "      <td>6.0</td>\n",
       "      <td>2010</td>\n",
       "      <td>동인동</td>\n",
       "    </tr>\n",
       "    <tr>\n",
       "      <th>1</th>\n",
       "      <td>1</td>\n",
       "      <td>1</td>\n",
       "      <td>0.0</td>\n",
       "      <td>18.100000</td>\n",
       "      <td>-1.0</td>\n",
       "      <td>49.0</td>\n",
       "      <td>53.0</td>\n",
       "      <td>390.0</td>\n",
       "      <td>1.0</td>\n",
       "      <td>6.0</td>\n",
       "      <td>2010</td>\n",
       "      <td>동인동</td>\n",
       "    </tr>\n",
       "    <tr>\n",
       "      <th>2</th>\n",
       "      <td>1</td>\n",
       "      <td>2</td>\n",
       "      <td>0.0</td>\n",
       "      <td>19.700001</td>\n",
       "      <td>-1.0</td>\n",
       "      <td>46.0</td>\n",
       "      <td>53.0</td>\n",
       "      <td>390.0</td>\n",
       "      <td>1.0</td>\n",
       "      <td>6.0</td>\n",
       "      <td>2010</td>\n",
       "      <td>동인동</td>\n",
       "    </tr>\n",
       "    <tr>\n",
       "      <th>3</th>\n",
       "      <td>1</td>\n",
       "      <td>3</td>\n",
       "      <td>0.0</td>\n",
       "      <td>20.799999</td>\n",
       "      <td>-1.0</td>\n",
       "      <td>41.0</td>\n",
       "      <td>53.0</td>\n",
       "      <td>390.0</td>\n",
       "      <td>1.0</td>\n",
       "      <td>6.0</td>\n",
       "      <td>2010</td>\n",
       "      <td>동인동</td>\n",
       "    </tr>\n",
       "    <tr>\n",
       "      <th>4</th>\n",
       "      <td>1</td>\n",
       "      <td>4</td>\n",
       "      <td>0.0</td>\n",
       "      <td>22.200001</td>\n",
       "      <td>-1.0</td>\n",
       "      <td>36.0</td>\n",
       "      <td>53.0</td>\n",
       "      <td>390.0</td>\n",
       "      <td>2.0</td>\n",
       "      <td>6.0</td>\n",
       "      <td>2010</td>\n",
       "      <td>동인동</td>\n",
       "    </tr>\n",
       "    <tr>\n",
       "      <th>...</th>\n",
       "      <td>...</td>\n",
       "      <td>...</td>\n",
       "      <td>...</td>\n",
       "      <td>...</td>\n",
       "      <td>...</td>\n",
       "      <td>...</td>\n",
       "      <td>...</td>\n",
       "      <td>...</td>\n",
       "      <td>...</td>\n",
       "      <td>...</td>\n",
       "      <td>...</td>\n",
       "      <td>...</td>\n",
       "    </tr>\n",
       "    <tr>\n",
       "      <th>14831611</th>\n",
       "      <td>30</td>\n",
       "      <td>19</td>\n",
       "      <td>0.0</td>\n",
       "      <td>10.700000</td>\n",
       "      <td>NaN</td>\n",
       "      <td>71.0</td>\n",
       "      <td>2.1</td>\n",
       "      <td>335.0</td>\n",
       "      <td>NaN</td>\n",
       "      <td>4.0</td>\n",
       "      <td>2022</td>\n",
       "      <td>구지면</td>\n",
       "    </tr>\n",
       "    <tr>\n",
       "      <th>14831612</th>\n",
       "      <td>30</td>\n",
       "      <td>20</td>\n",
       "      <td>0.0</td>\n",
       "      <td>11.000000</td>\n",
       "      <td>NaN</td>\n",
       "      <td>65.0</td>\n",
       "      <td>2.2</td>\n",
       "      <td>339.0</td>\n",
       "      <td>NaN</td>\n",
       "      <td>4.0</td>\n",
       "      <td>2022</td>\n",
       "      <td>구지면</td>\n",
       "    </tr>\n",
       "    <tr>\n",
       "      <th>14831613</th>\n",
       "      <td>30</td>\n",
       "      <td>21</td>\n",
       "      <td>0.0</td>\n",
       "      <td>11.900000</td>\n",
       "      <td>NaN</td>\n",
       "      <td>61.0</td>\n",
       "      <td>2.2</td>\n",
       "      <td>338.0</td>\n",
       "      <td>NaN</td>\n",
       "      <td>4.0</td>\n",
       "      <td>2022</td>\n",
       "      <td>구지면</td>\n",
       "    </tr>\n",
       "    <tr>\n",
       "      <th>14831614</th>\n",
       "      <td>30</td>\n",
       "      <td>22</td>\n",
       "      <td>0.0</td>\n",
       "      <td>13.400000</td>\n",
       "      <td>NaN</td>\n",
       "      <td>53.0</td>\n",
       "      <td>2.0</td>\n",
       "      <td>351.0</td>\n",
       "      <td>NaN</td>\n",
       "      <td>4.0</td>\n",
       "      <td>2022</td>\n",
       "      <td>구지면</td>\n",
       "    </tr>\n",
       "    <tr>\n",
       "      <th>14831615</th>\n",
       "      <td>30</td>\n",
       "      <td>23</td>\n",
       "      <td>0.0</td>\n",
       "      <td>15.100000</td>\n",
       "      <td>NaN</td>\n",
       "      <td>41.0</td>\n",
       "      <td>2.1</td>\n",
       "      <td>5.0</td>\n",
       "      <td>NaN</td>\n",
       "      <td>4.0</td>\n",
       "      <td>2022</td>\n",
       "      <td>구지면</td>\n",
       "    </tr>\n",
       "  </tbody>\n",
       "</table>\n",
       "<p>14831616 rows × 12 columns</p>\n",
       "</div>"
      ],
      "text/plain": [
       "          day  hour  rainfall       temp  lightning  humidity  wind_speed  \\\n",
       "0           1     0       0.0  16.500000       -1.0      53.0        53.0   \n",
       "1           1     1       0.0  18.100000       -1.0      49.0        53.0   \n",
       "2           1     2       0.0  19.700001       -1.0      46.0        53.0   \n",
       "3           1     3       0.0  20.799999       -1.0      41.0        53.0   \n",
       "4           1     4       0.0  22.200001       -1.0      36.0        53.0   \n",
       "...       ...   ...       ...        ...        ...       ...         ...   \n",
       "14831611   30    19       0.0  10.700000        NaN      71.0         2.1   \n",
       "14831612   30    20       0.0  11.000000        NaN      65.0         2.2   \n",
       "14831613   30    21       0.0  11.900000        NaN      61.0         2.2   \n",
       "14831614   30    22       0.0  13.400000        NaN      53.0         2.0   \n",
       "14831615   30    23       0.0  15.100000        NaN      41.0         2.1   \n",
       "\n",
       "          wind_direction  condition  month  year region  \n",
       "0                  390.0        1.0    6.0  2010    동인동  \n",
       "1                  390.0        1.0    6.0  2010    동인동  \n",
       "2                  390.0        1.0    6.0  2010    동인동  \n",
       "3                  390.0        1.0    6.0  2010    동인동  \n",
       "4                  390.0        2.0    6.0  2010    동인동  \n",
       "...                  ...        ...    ...   ...    ...  \n",
       "14831611           335.0        NaN    4.0  2022    구지면  \n",
       "14831612           339.0        NaN    4.0  2022    구지면  \n",
       "14831613           338.0        NaN    4.0  2022    구지면  \n",
       "14831614           351.0        NaN    4.0  2022    구지면  \n",
       "14831615             5.0        NaN    4.0  2022    구지면  \n",
       "\n",
       "[14831616 rows x 12 columns]"
      ]
     },
     "execution_count": 6,
     "metadata": {},
     "output_type": "execute_result"
    }
   ],
   "source": [
    "df1"
   ]
  },
  {
   "cell_type": "markdown",
   "metadata": {},
   "source": [
    "## 2. Column : lightning\n",
    "- 0, 1 로 번개의 여부를 표현\n",
    "    0 : 번개 X\n",
    "    1 : 번개 O\n",
    "    -1 : 미측정\n",
    "- 어느날을 기준으로 측정하지 않아 None 값이 저장\n",
    "<br><br>\n",
    "- -1과 None 값을 통일시켜줄 필요가 있음"
   ]
  },
  {
   "cell_type": "code",
   "execution_count": 7,
   "metadata": {},
   "outputs": [],
   "source": [
    "df2 = df1[:]\n",
    "df2['lightning'] = df2['lightning'].fillna(-1)\n",
    "df2['lightning'] = df2['lightning'].astype(int)"
   ]
  },
  {
   "cell_type": "code",
   "execution_count": 8,
   "metadata": {},
   "outputs": [
    {
     "data": {
      "text/html": [
       "<div>\n",
       "<style scoped>\n",
       "    .dataframe tbody tr th:only-of-type {\n",
       "        vertical-align: middle;\n",
       "    }\n",
       "\n",
       "    .dataframe tbody tr th {\n",
       "        vertical-align: top;\n",
       "    }\n",
       "\n",
       "    .dataframe thead th {\n",
       "        text-align: right;\n",
       "    }\n",
       "</style>\n",
       "<table border=\"1\" class=\"dataframe\">\n",
       "  <thead>\n",
       "    <tr style=\"text-align: right;\">\n",
       "      <th></th>\n",
       "      <th>day</th>\n",
       "      <th>hour</th>\n",
       "      <th>rainfall</th>\n",
       "      <th>temp</th>\n",
       "      <th>lightning</th>\n",
       "      <th>humidity</th>\n",
       "      <th>wind_speed</th>\n",
       "      <th>wind_direction</th>\n",
       "      <th>condition</th>\n",
       "      <th>month</th>\n",
       "      <th>year</th>\n",
       "      <th>region</th>\n",
       "    </tr>\n",
       "  </thead>\n",
       "  <tbody>\n",
       "    <tr>\n",
       "      <th>0</th>\n",
       "      <td>1</td>\n",
       "      <td>0</td>\n",
       "      <td>0.0</td>\n",
       "      <td>16.500000</td>\n",
       "      <td>-1</td>\n",
       "      <td>53.0</td>\n",
       "      <td>53.0</td>\n",
       "      <td>390.0</td>\n",
       "      <td>1.0</td>\n",
       "      <td>6.0</td>\n",
       "      <td>2010</td>\n",
       "      <td>동인동</td>\n",
       "    </tr>\n",
       "    <tr>\n",
       "      <th>1</th>\n",
       "      <td>1</td>\n",
       "      <td>1</td>\n",
       "      <td>0.0</td>\n",
       "      <td>18.100000</td>\n",
       "      <td>-1</td>\n",
       "      <td>49.0</td>\n",
       "      <td>53.0</td>\n",
       "      <td>390.0</td>\n",
       "      <td>1.0</td>\n",
       "      <td>6.0</td>\n",
       "      <td>2010</td>\n",
       "      <td>동인동</td>\n",
       "    </tr>\n",
       "    <tr>\n",
       "      <th>2</th>\n",
       "      <td>1</td>\n",
       "      <td>2</td>\n",
       "      <td>0.0</td>\n",
       "      <td>19.700001</td>\n",
       "      <td>-1</td>\n",
       "      <td>46.0</td>\n",
       "      <td>53.0</td>\n",
       "      <td>390.0</td>\n",
       "      <td>1.0</td>\n",
       "      <td>6.0</td>\n",
       "      <td>2010</td>\n",
       "      <td>동인동</td>\n",
       "    </tr>\n",
       "    <tr>\n",
       "      <th>3</th>\n",
       "      <td>1</td>\n",
       "      <td>3</td>\n",
       "      <td>0.0</td>\n",
       "      <td>20.799999</td>\n",
       "      <td>-1</td>\n",
       "      <td>41.0</td>\n",
       "      <td>53.0</td>\n",
       "      <td>390.0</td>\n",
       "      <td>1.0</td>\n",
       "      <td>6.0</td>\n",
       "      <td>2010</td>\n",
       "      <td>동인동</td>\n",
       "    </tr>\n",
       "    <tr>\n",
       "      <th>4</th>\n",
       "      <td>1</td>\n",
       "      <td>4</td>\n",
       "      <td>0.0</td>\n",
       "      <td>22.200001</td>\n",
       "      <td>-1</td>\n",
       "      <td>36.0</td>\n",
       "      <td>53.0</td>\n",
       "      <td>390.0</td>\n",
       "      <td>2.0</td>\n",
       "      <td>6.0</td>\n",
       "      <td>2010</td>\n",
       "      <td>동인동</td>\n",
       "    </tr>\n",
       "    <tr>\n",
       "      <th>...</th>\n",
       "      <td>...</td>\n",
       "      <td>...</td>\n",
       "      <td>...</td>\n",
       "      <td>...</td>\n",
       "      <td>...</td>\n",
       "      <td>...</td>\n",
       "      <td>...</td>\n",
       "      <td>...</td>\n",
       "      <td>...</td>\n",
       "      <td>...</td>\n",
       "      <td>...</td>\n",
       "      <td>...</td>\n",
       "    </tr>\n",
       "    <tr>\n",
       "      <th>14831611</th>\n",
       "      <td>30</td>\n",
       "      <td>19</td>\n",
       "      <td>0.0</td>\n",
       "      <td>10.700000</td>\n",
       "      <td>-1</td>\n",
       "      <td>71.0</td>\n",
       "      <td>2.1</td>\n",
       "      <td>335.0</td>\n",
       "      <td>NaN</td>\n",
       "      <td>4.0</td>\n",
       "      <td>2022</td>\n",
       "      <td>구지면</td>\n",
       "    </tr>\n",
       "    <tr>\n",
       "      <th>14831612</th>\n",
       "      <td>30</td>\n",
       "      <td>20</td>\n",
       "      <td>0.0</td>\n",
       "      <td>11.000000</td>\n",
       "      <td>-1</td>\n",
       "      <td>65.0</td>\n",
       "      <td>2.2</td>\n",
       "      <td>339.0</td>\n",
       "      <td>NaN</td>\n",
       "      <td>4.0</td>\n",
       "      <td>2022</td>\n",
       "      <td>구지면</td>\n",
       "    </tr>\n",
       "    <tr>\n",
       "      <th>14831613</th>\n",
       "      <td>30</td>\n",
       "      <td>21</td>\n",
       "      <td>0.0</td>\n",
       "      <td>11.900000</td>\n",
       "      <td>-1</td>\n",
       "      <td>61.0</td>\n",
       "      <td>2.2</td>\n",
       "      <td>338.0</td>\n",
       "      <td>NaN</td>\n",
       "      <td>4.0</td>\n",
       "      <td>2022</td>\n",
       "      <td>구지면</td>\n",
       "    </tr>\n",
       "    <tr>\n",
       "      <th>14831614</th>\n",
       "      <td>30</td>\n",
       "      <td>22</td>\n",
       "      <td>0.0</td>\n",
       "      <td>13.400000</td>\n",
       "      <td>-1</td>\n",
       "      <td>53.0</td>\n",
       "      <td>2.0</td>\n",
       "      <td>351.0</td>\n",
       "      <td>NaN</td>\n",
       "      <td>4.0</td>\n",
       "      <td>2022</td>\n",
       "      <td>구지면</td>\n",
       "    </tr>\n",
       "    <tr>\n",
       "      <th>14831615</th>\n",
       "      <td>30</td>\n",
       "      <td>23</td>\n",
       "      <td>0.0</td>\n",
       "      <td>15.100000</td>\n",
       "      <td>-1</td>\n",
       "      <td>41.0</td>\n",
       "      <td>2.1</td>\n",
       "      <td>5.0</td>\n",
       "      <td>NaN</td>\n",
       "      <td>4.0</td>\n",
       "      <td>2022</td>\n",
       "      <td>구지면</td>\n",
       "    </tr>\n",
       "  </tbody>\n",
       "</table>\n",
       "<p>14831616 rows × 12 columns</p>\n",
       "</div>"
      ],
      "text/plain": [
       "          day  hour  rainfall       temp  lightning  humidity  wind_speed  \\\n",
       "0           1     0       0.0  16.500000         -1      53.0        53.0   \n",
       "1           1     1       0.0  18.100000         -1      49.0        53.0   \n",
       "2           1     2       0.0  19.700001         -1      46.0        53.0   \n",
       "3           1     3       0.0  20.799999         -1      41.0        53.0   \n",
       "4           1     4       0.0  22.200001         -1      36.0        53.0   \n",
       "...       ...   ...       ...        ...        ...       ...         ...   \n",
       "14831611   30    19       0.0  10.700000         -1      71.0         2.1   \n",
       "14831612   30    20       0.0  11.000000         -1      65.0         2.2   \n",
       "14831613   30    21       0.0  11.900000         -1      61.0         2.2   \n",
       "14831614   30    22       0.0  13.400000         -1      53.0         2.0   \n",
       "14831615   30    23       0.0  15.100000         -1      41.0         2.1   \n",
       "\n",
       "          wind_direction  condition  month  year region  \n",
       "0                  390.0        1.0    6.0  2010    동인동  \n",
       "1                  390.0        1.0    6.0  2010    동인동  \n",
       "2                  390.0        1.0    6.0  2010    동인동  \n",
       "3                  390.0        1.0    6.0  2010    동인동  \n",
       "4                  390.0        2.0    6.0  2010    동인동  \n",
       "...                  ...        ...    ...   ...    ...  \n",
       "14831611           335.0        NaN    4.0  2022    구지면  \n",
       "14831612           339.0        NaN    4.0  2022    구지면  \n",
       "14831613           338.0        NaN    4.0  2022    구지면  \n",
       "14831614           351.0        NaN    4.0  2022    구지면  \n",
       "14831615             5.0        NaN    4.0  2022    구지면  \n",
       "\n",
       "[14831616 rows x 12 columns]"
      ]
     },
     "execution_count": 8,
     "metadata": {},
     "output_type": "execute_result"
    }
   ],
   "source": [
    "df2"
   ]
  },
  {
   "cell_type": "markdown",
   "metadata": {},
   "source": [
    "## 3. Column : condition\n",
    "- 1,2,3,4 로 구름의 양을 표현\n",
    "    - 1 : 맑음\n",
    "    - 2 : 구름 조금\n",
    "    - 3 : 구름 많음\n",
    "    - 4 : 흐림\n",
    "    - -1 : 미측정\n",
    "- 어느날을 기준으로 측정하지 않아 None 값이 저장\n",
    "<br><br>\n",
    "- -1과 None 값을 통일시켜줄 필요가 있음"
   ]
  },
  {
   "cell_type": "code",
   "execution_count": 9,
   "metadata": {},
   "outputs": [],
   "source": [
    "df3 = df2[:]\n",
    "df3['condition'] = df3['condition'].fillna(-1)\n",
    "df3['condition'] = df3['condition'].astype(int)"
   ]
  },
  {
   "cell_type": "code",
   "execution_count": 10,
   "metadata": {},
   "outputs": [
    {
     "data": {
      "text/html": [
       "<div>\n",
       "<style scoped>\n",
       "    .dataframe tbody tr th:only-of-type {\n",
       "        vertical-align: middle;\n",
       "    }\n",
       "\n",
       "    .dataframe tbody tr th {\n",
       "        vertical-align: top;\n",
       "    }\n",
       "\n",
       "    .dataframe thead th {\n",
       "        text-align: right;\n",
       "    }\n",
       "</style>\n",
       "<table border=\"1\" class=\"dataframe\">\n",
       "  <thead>\n",
       "    <tr style=\"text-align: right;\">\n",
       "      <th></th>\n",
       "      <th>day</th>\n",
       "      <th>hour</th>\n",
       "      <th>rainfall</th>\n",
       "      <th>temp</th>\n",
       "      <th>lightning</th>\n",
       "      <th>humidity</th>\n",
       "      <th>wind_speed</th>\n",
       "      <th>wind_direction</th>\n",
       "      <th>condition</th>\n",
       "      <th>month</th>\n",
       "      <th>year</th>\n",
       "      <th>region</th>\n",
       "    </tr>\n",
       "  </thead>\n",
       "  <tbody>\n",
       "    <tr>\n",
       "      <th>0</th>\n",
       "      <td>1</td>\n",
       "      <td>0</td>\n",
       "      <td>0.0</td>\n",
       "      <td>16.500000</td>\n",
       "      <td>-1</td>\n",
       "      <td>53.0</td>\n",
       "      <td>53.0</td>\n",
       "      <td>390.0</td>\n",
       "      <td>1</td>\n",
       "      <td>6.0</td>\n",
       "      <td>2010</td>\n",
       "      <td>동인동</td>\n",
       "    </tr>\n",
       "    <tr>\n",
       "      <th>1</th>\n",
       "      <td>1</td>\n",
       "      <td>1</td>\n",
       "      <td>0.0</td>\n",
       "      <td>18.100000</td>\n",
       "      <td>-1</td>\n",
       "      <td>49.0</td>\n",
       "      <td>53.0</td>\n",
       "      <td>390.0</td>\n",
       "      <td>1</td>\n",
       "      <td>6.0</td>\n",
       "      <td>2010</td>\n",
       "      <td>동인동</td>\n",
       "    </tr>\n",
       "    <tr>\n",
       "      <th>2</th>\n",
       "      <td>1</td>\n",
       "      <td>2</td>\n",
       "      <td>0.0</td>\n",
       "      <td>19.700001</td>\n",
       "      <td>-1</td>\n",
       "      <td>46.0</td>\n",
       "      <td>53.0</td>\n",
       "      <td>390.0</td>\n",
       "      <td>1</td>\n",
       "      <td>6.0</td>\n",
       "      <td>2010</td>\n",
       "      <td>동인동</td>\n",
       "    </tr>\n",
       "    <tr>\n",
       "      <th>3</th>\n",
       "      <td>1</td>\n",
       "      <td>3</td>\n",
       "      <td>0.0</td>\n",
       "      <td>20.799999</td>\n",
       "      <td>-1</td>\n",
       "      <td>41.0</td>\n",
       "      <td>53.0</td>\n",
       "      <td>390.0</td>\n",
       "      <td>1</td>\n",
       "      <td>6.0</td>\n",
       "      <td>2010</td>\n",
       "      <td>동인동</td>\n",
       "    </tr>\n",
       "    <tr>\n",
       "      <th>4</th>\n",
       "      <td>1</td>\n",
       "      <td>4</td>\n",
       "      <td>0.0</td>\n",
       "      <td>22.200001</td>\n",
       "      <td>-1</td>\n",
       "      <td>36.0</td>\n",
       "      <td>53.0</td>\n",
       "      <td>390.0</td>\n",
       "      <td>2</td>\n",
       "      <td>6.0</td>\n",
       "      <td>2010</td>\n",
       "      <td>동인동</td>\n",
       "    </tr>\n",
       "    <tr>\n",
       "      <th>...</th>\n",
       "      <td>...</td>\n",
       "      <td>...</td>\n",
       "      <td>...</td>\n",
       "      <td>...</td>\n",
       "      <td>...</td>\n",
       "      <td>...</td>\n",
       "      <td>...</td>\n",
       "      <td>...</td>\n",
       "      <td>...</td>\n",
       "      <td>...</td>\n",
       "      <td>...</td>\n",
       "      <td>...</td>\n",
       "    </tr>\n",
       "    <tr>\n",
       "      <th>14831611</th>\n",
       "      <td>30</td>\n",
       "      <td>19</td>\n",
       "      <td>0.0</td>\n",
       "      <td>10.700000</td>\n",
       "      <td>-1</td>\n",
       "      <td>71.0</td>\n",
       "      <td>2.1</td>\n",
       "      <td>335.0</td>\n",
       "      <td>-1</td>\n",
       "      <td>4.0</td>\n",
       "      <td>2022</td>\n",
       "      <td>구지면</td>\n",
       "    </tr>\n",
       "    <tr>\n",
       "      <th>14831612</th>\n",
       "      <td>30</td>\n",
       "      <td>20</td>\n",
       "      <td>0.0</td>\n",
       "      <td>11.000000</td>\n",
       "      <td>-1</td>\n",
       "      <td>65.0</td>\n",
       "      <td>2.2</td>\n",
       "      <td>339.0</td>\n",
       "      <td>-1</td>\n",
       "      <td>4.0</td>\n",
       "      <td>2022</td>\n",
       "      <td>구지면</td>\n",
       "    </tr>\n",
       "    <tr>\n",
       "      <th>14831613</th>\n",
       "      <td>30</td>\n",
       "      <td>21</td>\n",
       "      <td>0.0</td>\n",
       "      <td>11.900000</td>\n",
       "      <td>-1</td>\n",
       "      <td>61.0</td>\n",
       "      <td>2.2</td>\n",
       "      <td>338.0</td>\n",
       "      <td>-1</td>\n",
       "      <td>4.0</td>\n",
       "      <td>2022</td>\n",
       "      <td>구지면</td>\n",
       "    </tr>\n",
       "    <tr>\n",
       "      <th>14831614</th>\n",
       "      <td>30</td>\n",
       "      <td>22</td>\n",
       "      <td>0.0</td>\n",
       "      <td>13.400000</td>\n",
       "      <td>-1</td>\n",
       "      <td>53.0</td>\n",
       "      <td>2.0</td>\n",
       "      <td>351.0</td>\n",
       "      <td>-1</td>\n",
       "      <td>4.0</td>\n",
       "      <td>2022</td>\n",
       "      <td>구지면</td>\n",
       "    </tr>\n",
       "    <tr>\n",
       "      <th>14831615</th>\n",
       "      <td>30</td>\n",
       "      <td>23</td>\n",
       "      <td>0.0</td>\n",
       "      <td>15.100000</td>\n",
       "      <td>-1</td>\n",
       "      <td>41.0</td>\n",
       "      <td>2.1</td>\n",
       "      <td>5.0</td>\n",
       "      <td>-1</td>\n",
       "      <td>4.0</td>\n",
       "      <td>2022</td>\n",
       "      <td>구지면</td>\n",
       "    </tr>\n",
       "  </tbody>\n",
       "</table>\n",
       "<p>14831616 rows × 12 columns</p>\n",
       "</div>"
      ],
      "text/plain": [
       "          day  hour  rainfall       temp  lightning  humidity  wind_speed  \\\n",
       "0           1     0       0.0  16.500000         -1      53.0        53.0   \n",
       "1           1     1       0.0  18.100000         -1      49.0        53.0   \n",
       "2           1     2       0.0  19.700001         -1      46.0        53.0   \n",
       "3           1     3       0.0  20.799999         -1      41.0        53.0   \n",
       "4           1     4       0.0  22.200001         -1      36.0        53.0   \n",
       "...       ...   ...       ...        ...        ...       ...         ...   \n",
       "14831611   30    19       0.0  10.700000         -1      71.0         2.1   \n",
       "14831612   30    20       0.0  11.000000         -1      65.0         2.2   \n",
       "14831613   30    21       0.0  11.900000         -1      61.0         2.2   \n",
       "14831614   30    22       0.0  13.400000         -1      53.0         2.0   \n",
       "14831615   30    23       0.0  15.100000         -1      41.0         2.1   \n",
       "\n",
       "          wind_direction  condition  month  year region  \n",
       "0                  390.0          1    6.0  2010    동인동  \n",
       "1                  390.0          1    6.0  2010    동인동  \n",
       "2                  390.0          1    6.0  2010    동인동  \n",
       "3                  390.0          1    6.0  2010    동인동  \n",
       "4                  390.0          2    6.0  2010    동인동  \n",
       "...                  ...        ...    ...   ...    ...  \n",
       "14831611           335.0         -1    4.0  2022    구지면  \n",
       "14831612           339.0         -1    4.0  2022    구지면  \n",
       "14831613           338.0         -1    4.0  2022    구지면  \n",
       "14831614           351.0         -1    4.0  2022    구지면  \n",
       "14831615             5.0         -1    4.0  2022    구지면  \n",
       "\n",
       "[14831616 rows x 12 columns]"
      ]
     },
     "execution_count": 10,
     "metadata": {},
     "output_type": "execute_result"
    }
   ],
   "source": [
    "df3"
   ]
  },
  {
   "cell_type": "markdown",
   "metadata": {},
   "source": [
    "## 4. Column : month\n",
    "- 월을 정수형으로 표현"
   ]
  },
  {
   "cell_type": "code",
   "execution_count": 11,
   "metadata": {},
   "outputs": [],
   "source": [
    "df4 = df3[:]\n",
    "df4['month'] = df4['month'].astype(int)"
   ]
  },
  {
   "cell_type": "code",
   "execution_count": 12,
   "metadata": {},
   "outputs": [
    {
     "data": {
      "text/html": [
       "<div>\n",
       "<style scoped>\n",
       "    .dataframe tbody tr th:only-of-type {\n",
       "        vertical-align: middle;\n",
       "    }\n",
       "\n",
       "    .dataframe tbody tr th {\n",
       "        vertical-align: top;\n",
       "    }\n",
       "\n",
       "    .dataframe thead th {\n",
       "        text-align: right;\n",
       "    }\n",
       "</style>\n",
       "<table border=\"1\" class=\"dataframe\">\n",
       "  <thead>\n",
       "    <tr style=\"text-align: right;\">\n",
       "      <th></th>\n",
       "      <th>day</th>\n",
       "      <th>hour</th>\n",
       "      <th>rainfall</th>\n",
       "      <th>temp</th>\n",
       "      <th>lightning</th>\n",
       "      <th>humidity</th>\n",
       "      <th>wind_speed</th>\n",
       "      <th>wind_direction</th>\n",
       "      <th>condition</th>\n",
       "      <th>month</th>\n",
       "      <th>year</th>\n",
       "      <th>region</th>\n",
       "    </tr>\n",
       "  </thead>\n",
       "  <tbody>\n",
       "    <tr>\n",
       "      <th>0</th>\n",
       "      <td>1</td>\n",
       "      <td>0</td>\n",
       "      <td>0.0</td>\n",
       "      <td>16.500000</td>\n",
       "      <td>-1</td>\n",
       "      <td>53.0</td>\n",
       "      <td>53.0</td>\n",
       "      <td>390.0</td>\n",
       "      <td>1</td>\n",
       "      <td>6</td>\n",
       "      <td>2010</td>\n",
       "      <td>동인동</td>\n",
       "    </tr>\n",
       "    <tr>\n",
       "      <th>1</th>\n",
       "      <td>1</td>\n",
       "      <td>1</td>\n",
       "      <td>0.0</td>\n",
       "      <td>18.100000</td>\n",
       "      <td>-1</td>\n",
       "      <td>49.0</td>\n",
       "      <td>53.0</td>\n",
       "      <td>390.0</td>\n",
       "      <td>1</td>\n",
       "      <td>6</td>\n",
       "      <td>2010</td>\n",
       "      <td>동인동</td>\n",
       "    </tr>\n",
       "    <tr>\n",
       "      <th>2</th>\n",
       "      <td>1</td>\n",
       "      <td>2</td>\n",
       "      <td>0.0</td>\n",
       "      <td>19.700001</td>\n",
       "      <td>-1</td>\n",
       "      <td>46.0</td>\n",
       "      <td>53.0</td>\n",
       "      <td>390.0</td>\n",
       "      <td>1</td>\n",
       "      <td>6</td>\n",
       "      <td>2010</td>\n",
       "      <td>동인동</td>\n",
       "    </tr>\n",
       "    <tr>\n",
       "      <th>3</th>\n",
       "      <td>1</td>\n",
       "      <td>3</td>\n",
       "      <td>0.0</td>\n",
       "      <td>20.799999</td>\n",
       "      <td>-1</td>\n",
       "      <td>41.0</td>\n",
       "      <td>53.0</td>\n",
       "      <td>390.0</td>\n",
       "      <td>1</td>\n",
       "      <td>6</td>\n",
       "      <td>2010</td>\n",
       "      <td>동인동</td>\n",
       "    </tr>\n",
       "    <tr>\n",
       "      <th>4</th>\n",
       "      <td>1</td>\n",
       "      <td>4</td>\n",
       "      <td>0.0</td>\n",
       "      <td>22.200001</td>\n",
       "      <td>-1</td>\n",
       "      <td>36.0</td>\n",
       "      <td>53.0</td>\n",
       "      <td>390.0</td>\n",
       "      <td>2</td>\n",
       "      <td>6</td>\n",
       "      <td>2010</td>\n",
       "      <td>동인동</td>\n",
       "    </tr>\n",
       "    <tr>\n",
       "      <th>...</th>\n",
       "      <td>...</td>\n",
       "      <td>...</td>\n",
       "      <td>...</td>\n",
       "      <td>...</td>\n",
       "      <td>...</td>\n",
       "      <td>...</td>\n",
       "      <td>...</td>\n",
       "      <td>...</td>\n",
       "      <td>...</td>\n",
       "      <td>...</td>\n",
       "      <td>...</td>\n",
       "      <td>...</td>\n",
       "    </tr>\n",
       "    <tr>\n",
       "      <th>14831611</th>\n",
       "      <td>30</td>\n",
       "      <td>19</td>\n",
       "      <td>0.0</td>\n",
       "      <td>10.700000</td>\n",
       "      <td>-1</td>\n",
       "      <td>71.0</td>\n",
       "      <td>2.1</td>\n",
       "      <td>335.0</td>\n",
       "      <td>-1</td>\n",
       "      <td>4</td>\n",
       "      <td>2022</td>\n",
       "      <td>구지면</td>\n",
       "    </tr>\n",
       "    <tr>\n",
       "      <th>14831612</th>\n",
       "      <td>30</td>\n",
       "      <td>20</td>\n",
       "      <td>0.0</td>\n",
       "      <td>11.000000</td>\n",
       "      <td>-1</td>\n",
       "      <td>65.0</td>\n",
       "      <td>2.2</td>\n",
       "      <td>339.0</td>\n",
       "      <td>-1</td>\n",
       "      <td>4</td>\n",
       "      <td>2022</td>\n",
       "      <td>구지면</td>\n",
       "    </tr>\n",
       "    <tr>\n",
       "      <th>14831613</th>\n",
       "      <td>30</td>\n",
       "      <td>21</td>\n",
       "      <td>0.0</td>\n",
       "      <td>11.900000</td>\n",
       "      <td>-1</td>\n",
       "      <td>61.0</td>\n",
       "      <td>2.2</td>\n",
       "      <td>338.0</td>\n",
       "      <td>-1</td>\n",
       "      <td>4</td>\n",
       "      <td>2022</td>\n",
       "      <td>구지면</td>\n",
       "    </tr>\n",
       "    <tr>\n",
       "      <th>14831614</th>\n",
       "      <td>30</td>\n",
       "      <td>22</td>\n",
       "      <td>0.0</td>\n",
       "      <td>13.400000</td>\n",
       "      <td>-1</td>\n",
       "      <td>53.0</td>\n",
       "      <td>2.0</td>\n",
       "      <td>351.0</td>\n",
       "      <td>-1</td>\n",
       "      <td>4</td>\n",
       "      <td>2022</td>\n",
       "      <td>구지면</td>\n",
       "    </tr>\n",
       "    <tr>\n",
       "      <th>14831615</th>\n",
       "      <td>30</td>\n",
       "      <td>23</td>\n",
       "      <td>0.0</td>\n",
       "      <td>15.100000</td>\n",
       "      <td>-1</td>\n",
       "      <td>41.0</td>\n",
       "      <td>2.1</td>\n",
       "      <td>5.0</td>\n",
       "      <td>-1</td>\n",
       "      <td>4</td>\n",
       "      <td>2022</td>\n",
       "      <td>구지면</td>\n",
       "    </tr>\n",
       "  </tbody>\n",
       "</table>\n",
       "<p>14831616 rows × 12 columns</p>\n",
       "</div>"
      ],
      "text/plain": [
       "          day  hour  rainfall       temp  lightning  humidity  wind_speed  \\\n",
       "0           1     0       0.0  16.500000         -1      53.0        53.0   \n",
       "1           1     1       0.0  18.100000         -1      49.0        53.0   \n",
       "2           1     2       0.0  19.700001         -1      46.0        53.0   \n",
       "3           1     3       0.0  20.799999         -1      41.0        53.0   \n",
       "4           1     4       0.0  22.200001         -1      36.0        53.0   \n",
       "...       ...   ...       ...        ...        ...       ...         ...   \n",
       "14831611   30    19       0.0  10.700000         -1      71.0         2.1   \n",
       "14831612   30    20       0.0  11.000000         -1      65.0         2.2   \n",
       "14831613   30    21       0.0  11.900000         -1      61.0         2.2   \n",
       "14831614   30    22       0.0  13.400000         -1      53.0         2.0   \n",
       "14831615   30    23       0.0  15.100000         -1      41.0         2.1   \n",
       "\n",
       "          wind_direction  condition  month  year region  \n",
       "0                  390.0          1      6  2010    동인동  \n",
       "1                  390.0          1      6  2010    동인동  \n",
       "2                  390.0          1      6  2010    동인동  \n",
       "3                  390.0          1      6  2010    동인동  \n",
       "4                  390.0          2      6  2010    동인동  \n",
       "...                  ...        ...    ...   ...    ...  \n",
       "14831611           335.0         -1      4  2022    구지면  \n",
       "14831612           339.0         -1      4  2022    구지면  \n",
       "14831613           338.0         -1      4  2022    구지면  \n",
       "14831614           351.0         -1      4  2022    구지면  \n",
       "14831615             5.0         -1      4  2022    구지면  \n",
       "\n",
       "[14831616 rows x 12 columns]"
      ]
     },
     "execution_count": 12,
     "metadata": {},
     "output_type": "execute_result"
    }
   ],
   "source": [
    "df4"
   ]
  },
  {
   "cell_type": "markdown",
   "metadata": {},
   "source": [
    "## 5. 전처리 후"
   ]
  },
  {
   "cell_type": "code",
   "execution_count": 13,
   "metadata": {},
   "outputs": [
    {
     "data": {
      "text/html": [
       "<div>\n",
       "<style scoped>\n",
       "    .dataframe tbody tr th:only-of-type {\n",
       "        vertical-align: middle;\n",
       "    }\n",
       "\n",
       "    .dataframe tbody tr th {\n",
       "        vertical-align: top;\n",
       "    }\n",
       "\n",
       "    .dataframe thead th {\n",
       "        text-align: right;\n",
       "    }\n",
       "</style>\n",
       "<table border=\"1\" class=\"dataframe\">\n",
       "  <thead>\n",
       "    <tr style=\"text-align: right;\">\n",
       "      <th></th>\n",
       "      <th>day</th>\n",
       "      <th>hour</th>\n",
       "      <th>rainfall</th>\n",
       "      <th>temp</th>\n",
       "      <th>lightning</th>\n",
       "      <th>humidity</th>\n",
       "      <th>wind_speed</th>\n",
       "      <th>wind_direction</th>\n",
       "      <th>condition</th>\n",
       "      <th>month</th>\n",
       "      <th>year</th>\n",
       "      <th>region</th>\n",
       "    </tr>\n",
       "  </thead>\n",
       "  <tbody>\n",
       "    <tr>\n",
       "      <th>0</th>\n",
       "      <td>1</td>\n",
       "      <td>0</td>\n",
       "      <td>0.0</td>\n",
       "      <td>16.500000</td>\n",
       "      <td>-1</td>\n",
       "      <td>53.0</td>\n",
       "      <td>53.0</td>\n",
       "      <td>390.0</td>\n",
       "      <td>1</td>\n",
       "      <td>6</td>\n",
       "      <td>2010</td>\n",
       "      <td>동인동</td>\n",
       "    </tr>\n",
       "    <tr>\n",
       "      <th>1</th>\n",
       "      <td>1</td>\n",
       "      <td>1</td>\n",
       "      <td>0.0</td>\n",
       "      <td>18.100000</td>\n",
       "      <td>-1</td>\n",
       "      <td>49.0</td>\n",
       "      <td>53.0</td>\n",
       "      <td>390.0</td>\n",
       "      <td>1</td>\n",
       "      <td>6</td>\n",
       "      <td>2010</td>\n",
       "      <td>동인동</td>\n",
       "    </tr>\n",
       "    <tr>\n",
       "      <th>2</th>\n",
       "      <td>1</td>\n",
       "      <td>2</td>\n",
       "      <td>0.0</td>\n",
       "      <td>19.700001</td>\n",
       "      <td>-1</td>\n",
       "      <td>46.0</td>\n",
       "      <td>53.0</td>\n",
       "      <td>390.0</td>\n",
       "      <td>1</td>\n",
       "      <td>6</td>\n",
       "      <td>2010</td>\n",
       "      <td>동인동</td>\n",
       "    </tr>\n",
       "    <tr>\n",
       "      <th>3</th>\n",
       "      <td>1</td>\n",
       "      <td>3</td>\n",
       "      <td>0.0</td>\n",
       "      <td>20.799999</td>\n",
       "      <td>-1</td>\n",
       "      <td>41.0</td>\n",
       "      <td>53.0</td>\n",
       "      <td>390.0</td>\n",
       "      <td>1</td>\n",
       "      <td>6</td>\n",
       "      <td>2010</td>\n",
       "      <td>동인동</td>\n",
       "    </tr>\n",
       "    <tr>\n",
       "      <th>4</th>\n",
       "      <td>1</td>\n",
       "      <td>4</td>\n",
       "      <td>0.0</td>\n",
       "      <td>22.200001</td>\n",
       "      <td>-1</td>\n",
       "      <td>36.0</td>\n",
       "      <td>53.0</td>\n",
       "      <td>390.0</td>\n",
       "      <td>2</td>\n",
       "      <td>6</td>\n",
       "      <td>2010</td>\n",
       "      <td>동인동</td>\n",
       "    </tr>\n",
       "    <tr>\n",
       "      <th>...</th>\n",
       "      <td>...</td>\n",
       "      <td>...</td>\n",
       "      <td>...</td>\n",
       "      <td>...</td>\n",
       "      <td>...</td>\n",
       "      <td>...</td>\n",
       "      <td>...</td>\n",
       "      <td>...</td>\n",
       "      <td>...</td>\n",
       "      <td>...</td>\n",
       "      <td>...</td>\n",
       "      <td>...</td>\n",
       "    </tr>\n",
       "    <tr>\n",
       "      <th>14831611</th>\n",
       "      <td>30</td>\n",
       "      <td>19</td>\n",
       "      <td>0.0</td>\n",
       "      <td>10.700000</td>\n",
       "      <td>-1</td>\n",
       "      <td>71.0</td>\n",
       "      <td>2.1</td>\n",
       "      <td>335.0</td>\n",
       "      <td>-1</td>\n",
       "      <td>4</td>\n",
       "      <td>2022</td>\n",
       "      <td>구지면</td>\n",
       "    </tr>\n",
       "    <tr>\n",
       "      <th>14831612</th>\n",
       "      <td>30</td>\n",
       "      <td>20</td>\n",
       "      <td>0.0</td>\n",
       "      <td>11.000000</td>\n",
       "      <td>-1</td>\n",
       "      <td>65.0</td>\n",
       "      <td>2.2</td>\n",
       "      <td>339.0</td>\n",
       "      <td>-1</td>\n",
       "      <td>4</td>\n",
       "      <td>2022</td>\n",
       "      <td>구지면</td>\n",
       "    </tr>\n",
       "    <tr>\n",
       "      <th>14831613</th>\n",
       "      <td>30</td>\n",
       "      <td>21</td>\n",
       "      <td>0.0</td>\n",
       "      <td>11.900000</td>\n",
       "      <td>-1</td>\n",
       "      <td>61.0</td>\n",
       "      <td>2.2</td>\n",
       "      <td>338.0</td>\n",
       "      <td>-1</td>\n",
       "      <td>4</td>\n",
       "      <td>2022</td>\n",
       "      <td>구지면</td>\n",
       "    </tr>\n",
       "    <tr>\n",
       "      <th>14831614</th>\n",
       "      <td>30</td>\n",
       "      <td>22</td>\n",
       "      <td>0.0</td>\n",
       "      <td>13.400000</td>\n",
       "      <td>-1</td>\n",
       "      <td>53.0</td>\n",
       "      <td>2.0</td>\n",
       "      <td>351.0</td>\n",
       "      <td>-1</td>\n",
       "      <td>4</td>\n",
       "      <td>2022</td>\n",
       "      <td>구지면</td>\n",
       "    </tr>\n",
       "    <tr>\n",
       "      <th>14831615</th>\n",
       "      <td>30</td>\n",
       "      <td>23</td>\n",
       "      <td>0.0</td>\n",
       "      <td>15.100000</td>\n",
       "      <td>-1</td>\n",
       "      <td>41.0</td>\n",
       "      <td>2.1</td>\n",
       "      <td>5.0</td>\n",
       "      <td>-1</td>\n",
       "      <td>4</td>\n",
       "      <td>2022</td>\n",
       "      <td>구지면</td>\n",
       "    </tr>\n",
       "  </tbody>\n",
       "</table>\n",
       "<p>14831616 rows × 12 columns</p>\n",
       "</div>"
      ],
      "text/plain": [
       "          day  hour  rainfall       temp  lightning  humidity  wind_speed  \\\n",
       "0           1     0       0.0  16.500000         -1      53.0        53.0   \n",
       "1           1     1       0.0  18.100000         -1      49.0        53.0   \n",
       "2           1     2       0.0  19.700001         -1      46.0        53.0   \n",
       "3           1     3       0.0  20.799999         -1      41.0        53.0   \n",
       "4           1     4       0.0  22.200001         -1      36.0        53.0   \n",
       "...       ...   ...       ...        ...        ...       ...         ...   \n",
       "14831611   30    19       0.0  10.700000         -1      71.0         2.1   \n",
       "14831612   30    20       0.0  11.000000         -1      65.0         2.2   \n",
       "14831613   30    21       0.0  11.900000         -1      61.0         2.2   \n",
       "14831614   30    22       0.0  13.400000         -1      53.0         2.0   \n",
       "14831615   30    23       0.0  15.100000         -1      41.0         2.1   \n",
       "\n",
       "          wind_direction  condition  month  year region  \n",
       "0                  390.0          1      6  2010    동인동  \n",
       "1                  390.0          1      6  2010    동인동  \n",
       "2                  390.0          1      6  2010    동인동  \n",
       "3                  390.0          1      6  2010    동인동  \n",
       "4                  390.0          2      6  2010    동인동  \n",
       "...                  ...        ...    ...   ...    ...  \n",
       "14831611           335.0         -1      4  2022    구지면  \n",
       "14831612           339.0         -1      4  2022    구지면  \n",
       "14831613           338.0         -1      4  2022    구지면  \n",
       "14831614           351.0         -1      4  2022    구지면  \n",
       "14831615             5.0         -1      4  2022    구지면  \n",
       "\n",
       "[14831616 rows x 12 columns]"
      ]
     },
     "execution_count": 13,
     "metadata": {},
     "output_type": "execute_result"
    }
   ],
   "source": [
    "df_final = df4\n",
    "df_final"
   ]
  },
  {
   "cell_type": "code",
   "execution_count": 14,
   "metadata": {},
   "outputs": [],
   "source": [
    "# 전처리된 데이터프레임을 저장한 뒤 이후에는 해당 파일을 불러서 사용\n",
    "df_final.to_csv('output/daegu_pre.csv', index_label=False)"
   ]
  },
  {
   "cell_type": "markdown",
   "metadata": {},
   "source": [
    "<hr>"
   ]
  },
  {
   "cell_type": "markdown",
   "metadata": {},
   "source": [
    "# EDA\n",
    "\n",
    "#### Period\n",
    "- 2022-05-06 ~ ???\n",
    "\n",
    "#### Index\n",
    "0. 기본적인 데이터 탐색\n",
    "\n",
    "1. 겨울에 따뜻하면 여름에 폭염이 나타난다.\n",
    "2. 인구밀도가 높은 지역은 상대적으로 열지수가 높다.\n",
    "3. 지역용도에 따라 열지수의 차이가 나타난다.( 공단,상업,주거,산지,빌딩숲 등)\n",
    "4. 기저질환 환자가 온열질환 취약계층이다.\n",
    "5. 대구의 지형 특징상(분지) 열섬현상이 자주 발생한다.\n",
    "6. 겨울에 추우면 전력 소비량과 온실 가스 배출량이 늘어 여름에 덥다.\n",
    "7. 교통량이 많으면 엔진의 열배출이 기온에 영향을 미친다. \n",
    "8. 비가 온 날이 많으면 폭염기간에 열지수가 높다. (폭염과 습도의 관계)\n",
    "9. 대기중의 미세먼지 농도가 높으면 온도가 높다.(‘미세먼지가 많으면 통풍이 잘 안된다’ 속설 검증)\n",
    "10. 나무를 많이 심으면 온도가 떨어진다. (대구 녹지사업 참고)"
   ]
  },
  {
   "cell_type": "markdown",
   "metadata": {},
   "source": [
    "## 0. 기본적인 데이터 탐색\n",
    "- made by SSJ"
   ]
  },
  {
   "cell_type": "markdown",
   "metadata": {},
   "source": [
    "#### 1. year\n",
    "요약\n",
    "- 값이 없는 None이 없음\n",
    "- 2010년부터 2022년까지 존재\n",
    "- 2010년과 2022년은 모든 월이 있는게 아니므로 일수가 적음\n",
    "- 윤년에 해당하는 날은 하루치인 296개의 데이터가 더 존재"
   ]
  },
  {
   "cell_type": "code",
   "execution_count": 15,
   "metadata": {},
   "outputs": [
    {
     "data": {
      "text/plain": [
       "0"
      ]
     },
     "execution_count": 15,
     "metadata": {},
     "output_type": "execute_result"
    }
   ],
   "source": [
    "df_final['year'].isna().sum()"
   ]
  },
  {
   "cell_type": "code",
   "execution_count": 16,
   "metadata": {},
   "outputs": [
    {
     "name": "stderr",
     "output_type": "stream",
     "text": [
      "c:\\github\\Team_Project\\.venv\\lib\\site-packages\\seaborn\\_decorators.py:36: FutureWarning: Pass the following variable as a keyword arg: x. From version 0.12, the only valid positional argument will be `data`, and passing other arguments without an explicit keyword will result in an error or misinterpretation.\n",
      "  warnings.warn(\n"
     ]
    },
    {
     "data": {
      "image/png": "[encoded data removed]",
      "text/plain": [
       "<Figure size 1080x432 with 1 Axes>"
      ]
     },
     "metadata": {
      "needs_background": "light"
     },
     "output_type": "display_data"
    }
   ],
   "source": [
    "fig = plt.figure(figsize=(15,6))\n",
    "ax = sns.countplot(df_final['year'])\n",
    "plt.title('year')\n",
    "plt.show()"
   ]
  },
  {
   "cell_type": "code",
   "execution_count": 17,
   "metadata": {},
   "outputs": [
    {
     "name": "stdout",
     "output_type": "stream",
     "text": [
      "2010년 :  8751744\n",
      "2011년 : 14927040\n",
      "2012년 : 14967936\n",
      "2013년 : 14927040\n",
      "2014년 : 14927040\n",
      "2015년 : 14927040\n",
      "2016년 : 14967936\n",
      "2017년 : 14927040\n",
      "2018년 : 14927040\n",
      "2019년 : 14927040\n",
      "2020년 : 14967936\n",
      "2021년 : 14927040\n",
      "2022년 :  4907520\n"
     ]
    }
   ],
   "source": [
    "temp = []\n",
    "for i in range(2010,2023):\n",
    "    result = df_final[df_final['year'] == i].size\n",
    "    print(\"{0:>4}년 :\".format(i), \"{0:>8}\".format(result))\n",
    "    temp.append(result)"
   ]
  },
  {
   "cell_type": "markdown",
   "metadata": {},
   "source": [
    "#### 2. month\n",
    "요약\n",
    "- 2010년에는 6월부터 데이터가 존재\n",
    "- 2022년에는 5월부터 데이터가 없음"
   ]
  },
  {
   "cell_type": "code",
   "execution_count": 18,
   "metadata": {},
   "outputs": [
    {
     "name": "stderr",
     "output_type": "stream",
     "text": [
      "C:\\Users\\User\\AppData\\Local\\Temp\\ipykernel_11312\\1351274675.py:2: SettingWithCopyWarning: \n",
      "A value is trying to be set on a copy of a slice from a DataFrame.\n",
      "Try using .loc[row_indexer,col_indexer] = value instead\n",
      "\n",
      "See the caveats in the documentation: https://pandas.pydata.org/pandas-docs/stable/user_guide/indexing.html#returning-a-view-versus-a-copy\n",
      "  df_[col_n+'_sin'] = np.sin(2*np.pi*df_[col_n]/max_val)\n",
      "C:\\Users\\User\\AppData\\Local\\Temp\\ipykernel_11312\\1351274675.py:3: SettingWithCopyWarning: \n",
      "A value is trying to be set on a copy of a slice from a DataFrame.\n",
      "Try using .loc[row_indexer,col_indexer] = value instead\n",
      "\n",
      "See the caveats in the documentation: https://pandas.pydata.org/pandas-docs/stable/user_guide/indexing.html#returning-a-view-versus-a-copy\n",
      "  df_[col_n+'_cos'] = np.cos(2*np.pi*df_[col_n]/max_val)\n",
      "C:\\Users\\User\\AppData\\Local\\Temp\\ipykernel_11312\\1351274675.py:2: SettingWithCopyWarning: \n",
      "A value is trying to be set on a copy of a slice from a DataFrame.\n",
      "Try using .loc[row_indexer,col_indexer] = value instead\n",
      "\n",
      "See the caveats in the documentation: https://pandas.pydata.org/pandas-docs/stable/user_guide/indexing.html#returning-a-view-versus-a-copy\n",
      "  df_[col_n+'_sin'] = np.sin(2*np.pi*df_[col_n]/max_val)\n",
      "C:\\Users\\User\\AppData\\Local\\Temp\\ipykernel_11312\\1351274675.py:3: SettingWithCopyWarning: \n",
      "A value is trying to be set on a copy of a slice from a DataFrame.\n",
      "Try using .loc[row_indexer,col_indexer] = value instead\n",
      "\n",
      "See the caveats in the documentation: https://pandas.pydata.org/pandas-docs/stable/user_guide/indexing.html#returning-a-view-versus-a-copy\n",
      "  df_[col_n+'_cos'] = np.cos(2*np.pi*df_[col_n]/max_val)\n"
     ]
    }
   ],
   "source": [
    "def encode_sin_cos(df_,col_n,max_val):\n",
    "    df_[col_n+'_sin'] = np.sin(2*np.pi*df_[col_n]/max_val)\n",
    "    df_[col_n+'_cos'] = np.cos(2*np.pi*df_[col_n]/max_val)\n",
    "    \n",
    "    return df_\n",
    "\n",
    "df_month = df_pre[['day','hour','month','year']]\n",
    "\n",
    "data_month = encode_sin_cos(df_month,'month',12)\n",
    "data_month = encode_sin_cos(df_month,'day',31)"
   ]
  },
  {
   "cell_type": "code",
   "execution_count": 19,
   "metadata": {},
   "outputs": [
    {
     "data": {
      "image/png": "[encoded data removed]",
      "text/plain": [
       "<Figure size 1296x720 with 13 Axes>"
      ]
     },
     "metadata": {
      "needs_background": "light"
     },
     "output_type": "display_data"
    }
   ],
   "source": [
    "year = [2010,2011,2012,2013,2014,2015,2016,2017,2018,2019,2020,2021,2022]\n",
    "\n",
    "fig = plt.figure(figsize=(18,10))\n",
    "plt.rc('font', family = 'Malgun Gothic')\n",
    "for n,y in enumerate(year):\n",
    "    ax = plt.subplot(3,5,n+1)\n",
    "    sns.scatterplot(x=\"month_sin\",y=\"month_cos\",data=data_month[data_month['year'] == y])\n",
    "    plt.xticks([-1, 0, 1])\n",
    "    plt.yticks([-1, 0, 1])\n",
    "    ax.xaxis.set_visible(False)\n",
    "    ax.yaxis.set_visible(False)\n",
    "    plt.title(str(y)+\"년\")\n",
    "    "
   ]
  },
  {
   "cell_type": "markdown",
   "metadata": {},
   "source": [
    "#### 3. day\n",
    "- 1일부터 28일까지 동일한 값이 나옴\n",
    "- 29, 30, 31로 갈수록 count가 점점 줄어듦"
   ]
  },
  {
   "cell_type": "code",
   "execution_count": 20,
   "metadata": {},
   "outputs": [
    {
     "name": "stderr",
     "output_type": "stream",
     "text": [
      "c:\\github\\Team_Project\\.venv\\lib\\site-packages\\seaborn\\_decorators.py:36: FutureWarning: Pass the following variable as a keyword arg: x. From version 0.12, the only valid positional argument will be `data`, and passing other arguments without an explicit keyword will result in an error or misinterpretation.\n",
      "  warnings.warn(\n"
     ]
    },
    {
     "data": {
      "image/png": "[encoded data removed]",
      "text/plain": [
       "<Figure size 1080x432 with 1 Axes>"
      ]
     },
     "metadata": {
      "needs_background": "light"
     },
     "output_type": "display_data"
    }
   ],
   "source": [
    "fig = plt.figure(figsize=(15,6))\n",
    "ax = sns.countplot(df_final['day'])\n",
    "plt.title('day')\n",
    "plt.show()"
   ]
  },
  {
   "cell_type": "code",
   "execution_count": 21,
   "metadata": {},
   "outputs": [
    {
     "name": "stdout",
     "output_type": "stream",
     "text": [
      " 1일 5848128\t\t 2일 5848128\t\t 3일 5848128\t\t 4일 5848128\t\t\n",
      " 5일 5848128\t\t 6일 5848128\t\t 7일 5848128\t\t 8일 5848128\t\t\n",
      " 9일 5848128\t\t10일 5848128\t\t11일 5848128\t\t12일 5848128\t\t\n",
      "13일 5848128\t\t14일 5848128\t\t15일 5848128\t\t16일 5848128\t\t\n",
      "17일 5848128\t\t18일 5848128\t\t19일 5848128\t\t20일 5848128\t\t\n",
      "21일 5848128\t\t22일 5848128\t\t23일 5848128\t\t24일 5848128\t\t\n",
      "25일 5848128\t\t26일 5848128\t\t27일 5848128\t\t28일 5848128\t\t\n",
      "29일 5480064\t\t30일 5357376\t\t31일 3394368\t\t"
     ]
    }
   ],
   "source": [
    "for i in range(1,32):\n",
    "    result = df_final[df_final['day'] == i].size\n",
    "    print(\"{0:>2}일\".format(i), result, end='\\t\\t')\n",
    "    if i % 4 == 0:\n",
    "        print('')"
   ]
  },
  {
   "cell_type": "markdown",
   "metadata": {},
   "source": [
    "#### 4. hour"
   ]
  },
  {
   "cell_type": "markdown",
   "metadata": {},
   "source": [
    "# 8. 비가 온 날이 많으면 폭염기간에 열지수가 높다. (폭염과 습도의 관계)\n",
    "- made by MJ"
   ]
  },
  {
   "cell_type": "code",
   "execution_count": 22,
   "metadata": {},
   "outputs": [],
   "source": [
    "# 한글 출력 오류\n",
    "system_name = platform.system()\n",
    "if system_name == 'Windows':\n",
    "    # Windows 운영체제\n",
    "    plt.rc('font', family='Malgun Gothic')\n",
    "elif system_name == 'Darwin':\n",
    "    # Mac OS\n",
    "    plt.rc('font', family='AppleGothic')\n",
    "elif system_name == 'Linux':\n",
    "    # Linux\n",
    "    path = '/usr/share/fonts/truetype/nanum/NanumMyeongjo.ttf'\n",
    "    font_name = fm.FontProperties(fname=path, size=12)\n",
    "    plt.rc('font', family=font_name)\n",
    "else:\n",
    "    print(\"Not support\")"
   ]
  },
  {
   "cell_type": "code",
   "execution_count": 23,
   "metadata": {},
   "outputs": [],
   "source": [
    "# 복사본으로 작업\n",
    "EDAset = df_pre.copy()"
   ]
  },
  {
   "cell_type": "code",
   "execution_count": 24,
   "metadata": {},
   "outputs": [],
   "source": [
    "# 날짜 컬럼 생성\n",
    "EDAset['date'] = pd.to_datetime(EDAset[['year', 'month', 'day','hour']])"
   ]
  },
  {
   "cell_type": "markdown",
   "metadata": {},
   "source": [
    "##### 전체 구역에 대해 그 달의 비가 온 날을 카운트한 막대그래프 & 그 달의 최고기온을 그린 선그래프\n",
    "1. 연도별 매월 우천일의 수와 최고 열지수\n",
    "    + 연도별 전체 우천일의 수와 최고 열지수\n",
    "2. 연도별 일일 평균 강수량과 열지수\n",
    "3. 습도와 기온의 상관관계\n",
    "4. 매년 월별 평균 습도와 평균 기온\n",
    "5. 전체 달의 평균 강수량과 평균 기온"
   ]
  },
  {
   "cell_type": "markdown",
   "metadata": {},
   "source": [
    "##### 1. 각 해, 달마다 비가 온 날의 수와 최고 열지수"
   ]
  },
  {
   "cell_type": "code",
   "execution_count": 25,
   "metadata": {},
   "outputs": [],
   "source": [
    "# 2011년, 동인동 기준\n",
    "condyear = EDAset['year'] == 2011\n",
    "condregion = EDAset['region'] == '동인동'\n",
    "df2011_DI = EDAset[condyear & condregion]\n",
    "rainfall = df2011_DI.copy()"
   ]
  },
  {
   "cell_type": "code",
   "execution_count": 26,
   "metadata": {},
   "outputs": [
    {
     "name": "stdout",
     "output_type": "stream",
     "text": [
      "측정달 [1, 2, 3, 4, 5, 6, 7, 8, 9, 10, 11, 12]\n",
      "우천 발생수 (시간당) [0, 47, 8, 60, 59, 50, 86, 73, 21, 37, 49, 10]\n",
      "최고 열지수 [4.2, 17.69, 20.22, 27.02, 28.47, 35.64, 39.06, 37.96, 35.92, 25.72, 24.7, 10.15]\n",
      "최고 습도 [89.0, 90.0, 90.0, 93.0, 93.0, 91.0, 93.0, 98.0, 93.0, 100.0, 95.0, 91.0]\n"
     ]
    }
   ],
   "source": [
    "# 비 온 날 카운트\n",
    "count_rain = []\n",
    "max_HI = []\n",
    "max_hum = []\n",
    "month = []\n",
    "\n",
    "\n",
    "for i in range(1,13) :\n",
    "    rain_temp = rainfall[rainfall['month'] == i]\n",
    "    # 비 온 날 카운트 리스트\n",
    "    cond = rain_temp[rain_temp['rainfall'] > 0.0]\n",
    "    count_rain.append(cond.count())\n",
    "    # 최고기온 리스트\n",
    "    max_HI.append(round(rain_temp['HI'].max(),2))\n",
    "    # 최고습도 리스트\n",
    "    max_hum.append(rain_temp['humidity'].max())\n",
    "    # 데이터 있는 달 리스트\n",
    "    month.append(i)\n",
    "\n",
    "# 출력\n",
    "counts_rain = [i[0] for i in count_rain]\n",
    "\n",
    "print(\"측정달\", month)\n",
    "print(\"우천 발생수 (시간당)\", counts_rain)\n",
    "print(\"최고 열지수\", max_HI)\n",
    "print(\"최고 습도\", max_hum)"
   ]
  },
  {
   "cell_type": "code",
   "execution_count": 27,
   "metadata": {},
   "outputs": [
    {
     "data": {
      "image/png": "[encoded data removed]",
      "text/plain": [
       "<Figure size 1080x432 with 1 Axes>"
      ]
     },
     "metadata": {
      "needs_background": "light"
     },
     "output_type": "display_data"
    }
   ],
   "source": [
    "# 시각화\n",
    "plt.figure(figsize=(15,6))\n",
    "plt.title('2011년, 동인동')\n",
    "\n",
    "plt.plot(month, max_hum, color='orange', marker = 'o', label='최고 습도(%)', linestyle='-')\n",
    "plt.bar(month, counts_rain, color='blue', label='우천 발생수(건)', alpha=0.7)\n",
    "plt.plot(month, max_HI, color='red', marker = 'o', label='최고 열지수(℃)', linestyle='-')\n",
    "\n",
    "plt.legend(loc=6)\n",
    "plt.xticks(month)\n",
    "plt.show()"
   ]
  },
  {
   "cell_type": "markdown",
   "metadata": {},
   "source": [
    "- 2011년 7월, 동인동은 최고 우천 발생수와 최고 열지수를 기록했다.\n",
    "- 최고습도가 거의 100%에 육박하는 10월경은 오히려 우천 발생수는 적었다."
   ]
  },
  {
   "cell_type": "code",
   "execution_count": 28,
   "metadata": {},
   "outputs": [
    {
     "data": {
      "text/html": [
       "<div>\n",
       "<style scoped>\n",
       "    .dataframe tbody tr th:only-of-type {\n",
       "        vertical-align: middle;\n",
       "    }\n",
       "\n",
       "    .dataframe tbody tr th {\n",
       "        vertical-align: top;\n",
       "    }\n",
       "\n",
       "    .dataframe thead th {\n",
       "        text-align: right;\n",
       "    }\n",
       "</style>\n",
       "<table border=\"1\" class=\"dataframe\">\n",
       "  <thead>\n",
       "    <tr style=\"text-align: right;\">\n",
       "      <th></th>\n",
       "      <th>year</th>\n",
       "      <th>rainfall</th>\n",
       "    </tr>\n",
       "  </thead>\n",
       "  <tbody>\n",
       "    <tr>\n",
       "      <th>0</th>\n",
       "      <td>2010</td>\n",
       "      <td>51</td>\n",
       "    </tr>\n",
       "    <tr>\n",
       "      <th>1</th>\n",
       "      <td>2011</td>\n",
       "      <td>42</td>\n",
       "    </tr>\n",
       "    <tr>\n",
       "      <th>2</th>\n",
       "      <td>2012</td>\n",
       "      <td>43</td>\n",
       "    </tr>\n",
       "    <tr>\n",
       "      <th>3</th>\n",
       "      <td>2013</td>\n",
       "      <td>48</td>\n",
       "    </tr>\n",
       "    <tr>\n",
       "      <th>4</th>\n",
       "      <td>2014</td>\n",
       "      <td>39</td>\n",
       "    </tr>\n",
       "    <tr>\n",
       "      <th>5</th>\n",
       "      <td>2015</td>\n",
       "      <td>22</td>\n",
       "    </tr>\n",
       "    <tr>\n",
       "      <th>6</th>\n",
       "      <td>2016</td>\n",
       "      <td>180</td>\n",
       "    </tr>\n",
       "    <tr>\n",
       "      <th>7</th>\n",
       "      <td>2017</td>\n",
       "      <td>161</td>\n",
       "    </tr>\n",
       "    <tr>\n",
       "      <th>8</th>\n",
       "      <td>2018</td>\n",
       "      <td>157</td>\n",
       "    </tr>\n",
       "    <tr>\n",
       "      <th>9</th>\n",
       "      <td>2019</td>\n",
       "      <td>52</td>\n",
       "    </tr>\n",
       "    <tr>\n",
       "      <th>10</th>\n",
       "      <td>2020</td>\n",
       "      <td>127</td>\n",
       "    </tr>\n",
       "    <tr>\n",
       "      <th>11</th>\n",
       "      <td>2021</td>\n",
       "      <td>116</td>\n",
       "    </tr>\n",
       "    <tr>\n",
       "      <th>12</th>\n",
       "      <td>2022</td>\n",
       "      <td>40</td>\n",
       "    </tr>\n",
       "  </tbody>\n",
       "</table>\n",
       "</div>"
      ],
      "text/plain": [
       "    year  rainfall\n",
       "0   2010        51\n",
       "1   2011        42\n",
       "2   2012        43\n",
       "3   2013        48\n",
       "4   2014        39\n",
       "5   2015        22\n",
       "6   2016       180\n",
       "7   2017       161\n",
       "8   2018       157\n",
       "9   2019        52\n",
       "10  2020       127\n",
       "11  2021       116\n",
       "12  2022        40"
      ]
     },
     "execution_count": 28,
     "metadata": {},
     "output_type": "execute_result"
    }
   ],
   "source": [
    "# 전체 데이터, 연도별 우천일 수\n",
    "rainset = EDAset.copy()\n",
    "RS = rainset.groupby('year')['rainfall'].nunique().reset_index()\n",
    "RS"
   ]
  },
  {
   "cell_type": "code",
   "execution_count": 29,
   "metadata": {},
   "outputs": [
    {
     "name": "stdout",
     "output_type": "stream",
     "text": [
      "측정연도 [2010, 2011, 2012, 2013, 2014, 2015, 2016, 2017, 2018, 2019, 2020, 2021, 2022]\n",
      "평균 최대 열지수 [18.68, 13.75, 13.3, 14.34, 14.08, 14.02, 14.3, 14.02, 14.1, 14.59, 14.39, 14.53, 6.37]\n"
     ]
    }
   ],
   "source": [
    "# 연도별 최대 열지수\n",
    "setmax_HI = []\n",
    "year = []\n",
    "\n",
    "for i in range(2010,2023) :\n",
    "    HI_temp = EDAset[EDAset['year'] == i]\n",
    "    # 평균 최대 열지수 리스트\n",
    "    setmax_HI.append(round(HI_temp['HI'].mean(),2))\n",
    "    # 데이터 있는 연도 리스트\n",
    "    year.append(i)\n",
    "\n",
    "# 출력\n",
    "print(\"측정연도\", year)\n",
    "print(\"평균 최대 열지수\", setmax_HI)"
   ]
  },
  {
   "cell_type": "code",
   "execution_count": 30,
   "metadata": {},
   "outputs": [],
   "source": [
    "maxHI = pd.DataFrame(data = list(zip(setmax_HI, year)), columns = ['max HI', 'year'])"
   ]
  },
  {
   "cell_type": "code",
   "execution_count": 31,
   "metadata": {},
   "outputs": [
    {
     "data": {
      "text/plain": [
       "<AxesSubplot:ylabel='열지수 (℃)'>"
      ]
     },
     "execution_count": 31,
     "metadata": {},
     "output_type": "execute_result"
    },
    {
     "data": {
      "image/png": "[encoded data removed]",
      "text/plain": [
       "<Figure size 1080x432 with 2 Axes>"
      ]
     },
     "metadata": {
      "needs_background": "light"
     },
     "output_type": "display_data"
    }
   ],
   "source": [
    "ax1 = sns.set_style(style=None, rc=None)\n",
    "\n",
    "fig, ax1 = plt.subplots(figsize=(15,6))\n",
    "ax1.set_title(\"연도별 우천일 수와 평균 최대 열지수\")\n",
    "sns.barplot(\n",
    "    data = RS,\n",
    "    x = \"year\",\n",
    "    y = \"rainfall\",\n",
    "    alpha=0.9,\n",
    "    ax=ax1)\n",
    "\n",
    "for p in ax1.patches:\n",
    "    ax1.annotate(\"%.0f\" % p.get_height(), (p.get_x() + p.get_width()/2., p.get_height() - 20),\n",
    "    ha='center', va='center', fontsize=13, color='black', xytext=(0,10),\n",
    "    textcoords='offset points')\n",
    "ax1.set_ylabel(\"우천일 수\", fontsize=13)\n",
    "\n",
    "ax2 = ax1.twinx()\n",
    "ax2.set_ylabel(\"열지수 (℃)\", fontsize=13)\n",
    "sns.lineplot(\n",
    "    data = maxHI['max HI'],\n",
    "    marker='o',\n",
    "    sort = False,\n",
    "    color='red',\n",
    "    label='평균 최대 열지수(℃)',\n",
    "    ax=ax2)"
   ]
  },
  {
   "cell_type": "markdown",
   "metadata": {},
   "source": [
    "- 데이터가 충분하지 않은 2010년과 2022년을 제외하고, 평균 최대열지수는 대체로 비슷한 경향을 보이나 그에 반해 우천일 수는 증감폭이 크다."
   ]
  },
  {
   "cell_type": "markdown",
   "metadata": {},
   "source": [
    "##### 2. 매년 일일 평균 강수량 + 열지수"
   ]
  },
  {
   "cell_type": "code",
   "execution_count": 32,
   "metadata": {},
   "outputs": [],
   "source": [
    "# 동인동 기준\n",
    "DIdong = EDAset[condregion]\n",
    "rainheat = DIdong.copy()"
   ]
  },
  {
   "cell_type": "code",
   "execution_count": 33,
   "metadata": {},
   "outputs": [],
   "source": [
    "# 데이터가 적은 2010년, 2022년은 제외하고 필요한 컬럼만 선택\n",
    "cond1 = rainheat[rainheat['year'] == 2010].index\n",
    "cond2 = rainheat[rainheat['year'] == 2022].index\n",
    "rainheat.drop(cond1, inplace=True)\n",
    "rainheat.drop(cond2, inplace=True)"
   ]
  },
  {
   "cell_type": "code",
   "execution_count": 34,
   "metadata": {},
   "outputs": [],
   "source": [
    "rainheat = rainheat.reset_index()"
   ]
  },
  {
   "cell_type": "code",
   "execution_count": 35,
   "metadata": {},
   "outputs": [],
   "source": [
    "RH = rainheat[['datetime','year','month','day','rainfall','HI']]"
   ]
  },
  {
   "cell_type": "code",
   "execution_count": 36,
   "metadata": {},
   "outputs": [
    {
     "data": {
      "text/html": [
       "<div>\n",
       "<style scoped>\n",
       "    .dataframe tbody tr th:only-of-type {\n",
       "        vertical-align: middle;\n",
       "    }\n",
       "\n",
       "    .dataframe tbody tr th {\n",
       "        vertical-align: top;\n",
       "    }\n",
       "\n",
       "    .dataframe thead th {\n",
       "        text-align: right;\n",
       "    }\n",
       "</style>\n",
       "<table border=\"1\" class=\"dataframe\">\n",
       "  <thead>\n",
       "    <tr style=\"text-align: right;\">\n",
       "      <th></th>\n",
       "      <th>datetime</th>\n",
       "      <th>year</th>\n",
       "      <th>month</th>\n",
       "      <th>day</th>\n",
       "      <th>rainfall</th>\n",
       "      <th>HI</th>\n",
       "    </tr>\n",
       "  </thead>\n",
       "  <tbody>\n",
       "    <tr>\n",
       "      <th>0</th>\n",
       "      <td>2011-01-01 00:00:00</td>\n",
       "      <td>2011</td>\n",
       "      <td>1</td>\n",
       "      <td>1</td>\n",
       "      <td>0.0</td>\n",
       "      <td>-5.1</td>\n",
       "    </tr>\n",
       "    <tr>\n",
       "      <th>1</th>\n",
       "      <td>2011-01-01 01:00:00</td>\n",
       "      <td>2011</td>\n",
       "      <td>1</td>\n",
       "      <td>1</td>\n",
       "      <td>0.0</td>\n",
       "      <td>-3.6</td>\n",
       "    </tr>\n",
       "    <tr>\n",
       "      <th>2</th>\n",
       "      <td>2011-01-01 02:00:00</td>\n",
       "      <td>2011</td>\n",
       "      <td>1</td>\n",
       "      <td>1</td>\n",
       "      <td>0.0</td>\n",
       "      <td>-1.3</td>\n",
       "    </tr>\n",
       "    <tr>\n",
       "      <th>3</th>\n",
       "      <td>2011-01-01 03:00:00</td>\n",
       "      <td>2011</td>\n",
       "      <td>1</td>\n",
       "      <td>1</td>\n",
       "      <td>0.0</td>\n",
       "      <td>0.0</td>\n",
       "    </tr>\n",
       "    <tr>\n",
       "      <th>4</th>\n",
       "      <td>2011-01-01 04:00:00</td>\n",
       "      <td>2011</td>\n",
       "      <td>1</td>\n",
       "      <td>1</td>\n",
       "      <td>0.0</td>\n",
       "      <td>0.5</td>\n",
       "    </tr>\n",
       "    <tr>\n",
       "      <th>...</th>\n",
       "      <td>...</td>\n",
       "      <td>...</td>\n",
       "      <td>...</td>\n",
       "      <td>...</td>\n",
       "      <td>...</td>\n",
       "      <td>...</td>\n",
       "    </tr>\n",
       "    <tr>\n",
       "      <th>96427</th>\n",
       "      <td>2021-12-31 19:00:00</td>\n",
       "      <td>2021</td>\n",
       "      <td>12</td>\n",
       "      <td>31</td>\n",
       "      <td>0.0</td>\n",
       "      <td>-5.5</td>\n",
       "    </tr>\n",
       "    <tr>\n",
       "      <th>96428</th>\n",
       "      <td>2021-12-31 20:00:00</td>\n",
       "      <td>2021</td>\n",
       "      <td>12</td>\n",
       "      <td>31</td>\n",
       "      <td>0.0</td>\n",
       "      <td>-5.6</td>\n",
       "    </tr>\n",
       "    <tr>\n",
       "      <th>96429</th>\n",
       "      <td>2021-12-31 21:00:00</td>\n",
       "      <td>2021</td>\n",
       "      <td>12</td>\n",
       "      <td>31</td>\n",
       "      <td>0.0</td>\n",
       "      <td>-6.9</td>\n",
       "    </tr>\n",
       "    <tr>\n",
       "      <th>96430</th>\n",
       "      <td>2021-12-31 22:00:00</td>\n",
       "      <td>2021</td>\n",
       "      <td>12</td>\n",
       "      <td>31</td>\n",
       "      <td>0.0</td>\n",
       "      <td>-6.8</td>\n",
       "    </tr>\n",
       "    <tr>\n",
       "      <th>96431</th>\n",
       "      <td>2021-12-31 23:00:00</td>\n",
       "      <td>2021</td>\n",
       "      <td>12</td>\n",
       "      <td>31</td>\n",
       "      <td>0.0</td>\n",
       "      <td>-5.5</td>\n",
       "    </tr>\n",
       "  </tbody>\n",
       "</table>\n",
       "<p>96432 rows × 6 columns</p>\n",
       "</div>"
      ],
      "text/plain": [
       "                  datetime  year  month  day  rainfall   HI\n",
       "0      2011-01-01 00:00:00  2011      1    1       0.0 -5.1\n",
       "1      2011-01-01 01:00:00  2011      1    1       0.0 -3.6\n",
       "2      2011-01-01 02:00:00  2011      1    1       0.0 -1.3\n",
       "3      2011-01-01 03:00:00  2011      1    1       0.0  0.0\n",
       "4      2011-01-01 04:00:00  2011      1    1       0.0  0.5\n",
       "...                    ...   ...    ...  ...       ...  ...\n",
       "96427  2021-12-31 19:00:00  2021     12   31       0.0 -5.5\n",
       "96428  2021-12-31 20:00:00  2021     12   31       0.0 -5.6\n",
       "96429  2021-12-31 21:00:00  2021     12   31       0.0 -6.9\n",
       "96430  2021-12-31 22:00:00  2021     12   31       0.0 -6.8\n",
       "96431  2021-12-31 23:00:00  2021     12   31       0.0 -5.5\n",
       "\n",
       "[96432 rows x 6 columns]"
      ]
     },
     "execution_count": 36,
     "metadata": {},
     "output_type": "execute_result"
    }
   ],
   "source": [
    "RH"
   ]
  },
  {
   "cell_type": "code",
   "execution_count": 37,
   "metadata": {},
   "outputs": [],
   "source": [
    "# 일별 평균 강수량과 열지수를 계산한 데이터프레임을 생성\n",
    "dfRH = RH.groupby(['year','month','day']).mean()\n"
   ]
  },
  {
   "cell_type": "code",
   "execution_count": 38,
   "metadata": {},
   "outputs": [
    {
     "data": {
      "text/html": [
       "<div>\n",
       "<style scoped>\n",
       "    .dataframe tbody tr th:only-of-type {\n",
       "        vertical-align: middle;\n",
       "    }\n",
       "\n",
       "    .dataframe tbody tr th {\n",
       "        vertical-align: top;\n",
       "    }\n",
       "\n",
       "    .dataframe thead th {\n",
       "        text-align: right;\n",
       "    }\n",
       "</style>\n",
       "<table border=\"1\" class=\"dataframe\">\n",
       "  <thead>\n",
       "    <tr style=\"text-align: right;\">\n",
       "      <th></th>\n",
       "      <th></th>\n",
       "      <th></th>\n",
       "      <th>rainfall</th>\n",
       "      <th>HI</th>\n",
       "    </tr>\n",
       "    <tr>\n",
       "      <th>year</th>\n",
       "      <th>month</th>\n",
       "      <th>day</th>\n",
       "      <th></th>\n",
       "      <th></th>\n",
       "    </tr>\n",
       "  </thead>\n",
       "  <tbody>\n",
       "    <tr>\n",
       "      <th rowspan=\"5\" valign=\"top\">2011</th>\n",
       "      <th rowspan=\"5\" valign=\"top\">1</th>\n",
       "      <th>1</th>\n",
       "      <td>0.0</td>\n",
       "      <td>-1.541667</td>\n",
       "    </tr>\n",
       "    <tr>\n",
       "      <th>2</th>\n",
       "      <td>0.0</td>\n",
       "      <td>-0.400903</td>\n",
       "    </tr>\n",
       "    <tr>\n",
       "      <th>3</th>\n",
       "      <td>0.0</td>\n",
       "      <td>-0.404167</td>\n",
       "    </tr>\n",
       "    <tr>\n",
       "      <th>4</th>\n",
       "      <td>0.0</td>\n",
       "      <td>-0.287500</td>\n",
       "    </tr>\n",
       "    <tr>\n",
       "      <th>5</th>\n",
       "      <td>0.0</td>\n",
       "      <td>0.061250</td>\n",
       "    </tr>\n",
       "    <tr>\n",
       "      <th>...</th>\n",
       "      <th>...</th>\n",
       "      <th>...</th>\n",
       "      <td>...</td>\n",
       "      <td>...</td>\n",
       "    </tr>\n",
       "    <tr>\n",
       "      <th rowspan=\"5\" valign=\"top\">2021</th>\n",
       "      <th rowspan=\"5\" valign=\"top\">12</th>\n",
       "      <th>27</th>\n",
       "      <td>0.0</td>\n",
       "      <td>0.279167</td>\n",
       "    </tr>\n",
       "    <tr>\n",
       "      <th>28</th>\n",
       "      <td>0.0</td>\n",
       "      <td>2.027269</td>\n",
       "    </tr>\n",
       "    <tr>\n",
       "      <th>29</th>\n",
       "      <td>0.0</td>\n",
       "      <td>3.235718</td>\n",
       "    </tr>\n",
       "    <tr>\n",
       "      <th>30</th>\n",
       "      <td>0.0</td>\n",
       "      <td>-0.600000</td>\n",
       "    </tr>\n",
       "    <tr>\n",
       "      <th>31</th>\n",
       "      <td>0.0</td>\n",
       "      <td>-2.895833</td>\n",
       "    </tr>\n",
       "  </tbody>\n",
       "</table>\n",
       "<p>4018 rows × 2 columns</p>\n",
       "</div>"
      ],
      "text/plain": [
       "                rainfall        HI\n",
       "year month day                    \n",
       "2011 1     1         0.0 -1.541667\n",
       "           2         0.0 -0.400903\n",
       "           3         0.0 -0.404167\n",
       "           4         0.0 -0.287500\n",
       "           5         0.0  0.061250\n",
       "...                  ...       ...\n",
       "2021 12    27        0.0  0.279167\n",
       "           28        0.0  2.027269\n",
       "           29        0.0  3.235718\n",
       "           30        0.0 -0.600000\n",
       "           31        0.0 -2.895833\n",
       "\n",
       "[4018 rows x 2 columns]"
      ]
     },
     "execution_count": 38,
     "metadata": {},
     "output_type": "execute_result"
    }
   ],
   "source": [
    "dfRH"
   ]
  },
  {
   "cell_type": "code",
   "execution_count": 39,
   "metadata": {},
   "outputs": [],
   "source": [
    "import matplotlib.ticker as ticker"
   ]
  },
  {
   "cell_type": "code",
   "execution_count": 40,
   "metadata": {},
   "outputs": [
    {
     "name": "stderr",
     "output_type": "stream",
     "text": [
      "c:\\github\\Team_Project\\.venv\\lib\\site-packages\\pandas\\plotting\\_matplotlib\\tools.py:223: RuntimeWarning: More than 20 figures have been opened. Figures created through the pyplot interface (`matplotlib.pyplot.figure`) are retained until explicitly closed and may consume too much memory. (To control this warning, see the rcParam `figure.max_open_warning`).\n",
      "  fig = plt.figure(**fig_kw)\n"
     ]
    },
    {
     "data": {
      "image/png": "[encoded data removed]",
      "text/plain": [
       "<Figure size 1080x720 with 13 Axes>"
      ]
     },
     "metadata": {
      "needs_background": "light"
     },
     "output_type": "display_data"
    },
    {
     "data": {
      "image/png": "[encoded data removed]",
      "text/plain": [
       "<Figure size 1080x720 with 13 Axes>"
      ]
     },
     "metadata": {
      "needs_background": "light"
     },
     "output_type": "display_data"
    },
    {
     "data": {
      "image/png": "[encoded data removed]",
      "text/plain": [
       "<Figure size 1080x720 with 13 Axes>"
      ]
     },
     "metadata": {
      "needs_background": "light"
     },
     "output_type": "display_data"
    },
    {
     "data": {
      "image/png": "[encoded data removed]",
      "text/plain": [
       "<Figure size 1080x720 with 13 Axes>"
      ]
     },
     "metadata": {
      "needs_background": "light"
     },
     "output_type": "display_data"
    },
    {
     "data": {
      "image/png": "[encoded data removed]",
      "text/plain": [
       "<Figure size 1080x720 with 13 Axes>"
      ]
     },
     "metadata": {
      "needs_background": "light"
     },
     "output_type": "display_data"
    },
    {
     "data": {
      "image/png": "[encoded data removed]",
      "text/plain": [
       "<Figure size 1080x720 with 13 Axes>"
      ]
     },
     "metadata": {
      "needs_background": "light"
     },
     "output_type": "display_data"
    },
    {
     "data": {
      "image/png": "[encoded data removed]",
      "text/plain": [
       "<Figure size 1080x720 with 13 Axes>"
      ]
     },
     "metadata": {
      "needs_background": "light"
     },
     "output_type": "display_data"
    },
    {
     "data": {
      "image/png": "[encoded data removed]",
      "text/plain": [
       "<Figure size 1080x720 with 13 Axes>"
      ]
     },
     "metadata": {
      "needs_background": "light"
     },
     "output_type": "display_data"
    },
    {
     "data": {
      "image/png": "[encoded data removed]",
      "text/plain": [
       "<Figure size 1080x720 with 13 Axes>"
      ]
     },
     "metadata": {
      "needs_background": "light"
     },
     "output_type": "display_data"
    },
    {
     "data": {
      "image/png": "[encoded data removed]",
      "text/plain": [
       "<Figure size 1080x720 with 13 Axes>"
      ]
     },
     "metadata": {
      "needs_background": "light"
     },
     "output_type": "display_data"
    },
    {
     "data": {
      "image/png": "[encoded data removed]",
      "text/plain": [
       "<Figure size 1080x720 with 13 Axes>"
      ]
     },
     "metadata": {
      "needs_background": "light"
     },
     "output_type": "display_data"
    },
    {
     "data": {
      "image/png": "[encoded data removed]",
      "text/plain": [
       "<Figure size 1080x720 with 13 Axes>"
      ]
     },
     "metadata": {
      "needs_background": "light"
     },
     "output_type": "display_data"
    },
    {
     "data": {
      "image/png": "[encoded data removed]",
      "text/plain": [
       "<Figure size 1080x720 with 13 Axes>"
      ]
     },
     "metadata": {
      "needs_background": "light"
     },
     "output_type": "display_data"
    },
    {
     "data": {
      "image/png": "[encoded data removed]",
      "text/plain": [
       "<Figure size 1080x720 with 13 Axes>"
      ]
     },
     "metadata": {
      "needs_background": "light"
     },
     "output_type": "display_data"
    },
    {
     "data": {
      "image/png": "[encoded data removed]",
      "text/plain": [
       "<Figure size 1080x720 with 13 Axes>"
      ]
     },
     "metadata": {
      "needs_background": "light"
     },
     "output_type": "display_data"
    },
    {
     "data": {
      "image/png": "[encoded data removed]",
      "text/plain": [
       "<Figure size 1080x720 with 13 Axes>"
      ]
     },
     "metadata": {
      "needs_background": "light"
     },
     "output_type": "display_data"
    },
    {
     "data": {
      "image/png": "[encoded data removed]",
      "text/plain": [
       "<Figure size 1080x720 with 13 Axes>"
      ]
     },
     "metadata": {
      "needs_background": "light"
     },
     "output_type": "display_data"
    },
    {
     "data": {
      "image/png": "[encoded data removed]",
      "text/plain": [
       "<Figure size 1080x720 with 13 Axes>"
      ]
     },
     "metadata": {
      "needs_background": "light"
     },
     "output_type": "display_data"
    },
    {
     "data": {
      "image/png": "[encoded data removed]",
      "text/plain": [
       "<Figure size 1080x720 with 13 Axes>"
      ]
     },
     "metadata": {
      "needs_background": "light"
     },
     "output_type": "display_data"
    },
    {
     "data": {
      "image/png": "[encoded data removed]",
      "text/plain": [
       "<Figure size 1080x720 with 13 Axes>"
      ]
     },
     "metadata": {
      "needs_background": "light"
     },
     "output_type": "display_data"
    },
    {
     "data": {
      "image/png": "[encoded data removed]",
      "text/plain": [
       "<Figure size 1080x720 with 13 Axes>"
      ]
     },
     "metadata": {
      "needs_background": "light"
     },
     "output_type": "display_data"
    },
    {
     "data": {
      "image/png": "[encoded data removed]",
      "text/plain": [
       "<Figure size 1080x720 with 13 Axes>"
      ]
     },
     "metadata": {
      "needs_background": "light"
     },
     "output_type": "display_data"
    }
   ],
   "source": [
    "# 연도별 일일 평균 강수량과 평균 열지수\n",
    "for i in range(2011,2022):\n",
    "    temp_mean = dfRH.query('year == {0}'.format(i))\n",
    "\n",
    "    x = temp_mean.query('day >= 1')\n",
    "    y = temp_mean['rainfall']\n",
    "    z = temp_mean['HI']\n",
    "\n",
    "    \n",
    "    temp_mean.unstack(level=0)['rainfall'].plot(\n",
    "        kind='bar',\n",
    "        subplots=True,\n",
    "        rot=0,\n",
    "        figsize=(15,10),\n",
    "        layout=(13,1)\n",
    "        )\n",
    "\n",
    "    temp_mean.unstack(level=0)['HI'].plot(\n",
    "        kind='line',\n",
    "        subplots=True,\n",
    "        rot=0,\n",
    "        figsize=(15,10),\n",
    "        layout=(13,1),\n",
    "        color='red',\n",
    "        linewidth=0.5\n",
    "        )\n"
   ]
  },
  {
   "cell_type": "markdown",
   "metadata": {},
   "source": [
    "- 매년 유사한 패턴을 보이나, 강수량이 특히나 많았던 2021년에 열지수 역시 최고점을 기록한 것으로 보인다."
   ]
  },
  {
   "cell_type": "markdown",
   "metadata": {},
   "source": [
    "#### 3. 습도+기온 상관관계 그래프"
   ]
  },
  {
   "cell_type": "code",
   "execution_count": 46,
   "metadata": {},
   "outputs": [],
   "source": [
    "# 동인동 기준\n",
    "df2011 = EDAset[condregion]\n",
    "humheat = df2011.copy()"
   ]
  },
  {
   "cell_type": "code",
   "execution_count": 42,
   "metadata": {},
   "outputs": [
    {
     "name": "stdout",
     "output_type": "stream",
     "text": [
      "          humidity      temp        HI\n",
      "humidity  1.000000  0.171459  0.211476\n",
      "temp      0.171459  1.000000  0.993300\n",
      "HI        0.211476  0.993300  1.000000\n"
     ]
    }
   ],
   "source": [
    "humheat = humheat[['humidity','temp','HI']]\n",
    "\n",
    "corr = humheat.corr()\n",
    "print(corr)"
   ]
  },
  {
   "cell_type": "markdown",
   "metadata": {},
   "source": [
    "- 삼각형 상관관계 그래프"
   ]
  },
  {
   "cell_type": "code",
   "execution_count": 43,
   "metadata": {},
   "outputs": [
    {
     "name": "stderr",
     "output_type": "stream",
     "text": [
      "C:\\Users\\User\\AppData\\Local\\Temp\\ipykernel_11312\\3424830007.py:3: DeprecationWarning: `np.bool` is a deprecated alias for the builtin `bool`. To silence this warning, use `bool` by itself. Doing this will not modify any behavior and is safe. If you specifically wanted the numpy scalar type, use `np.bool_` here.\n",
      "Deprecated in NumPy 1.20; for more details and guidance: https://numpy.org/devdocs/release/1.20.0-notes.html#deprecations\n",
      "  mask = np.zeros_like(df_corr, dtype=np.bool)\n",
      "c:\\github\\Team_Project\\.venv\\lib\\site-packages\\seaborn\\utils.py:95: UserWarning: Glyph 8722 (\\N{MINUS SIGN}) missing from current font.\n",
      "  fig.canvas.draw()\n"
     ]
    },
    {
     "data": {
      "text/plain": [
       "<AxesSubplot:>"
      ]
     },
     "execution_count": 43,
     "metadata": {},
     "output_type": "execute_result"
    },
    {
     "name": "stderr",
     "output_type": "stream",
     "text": [
      "c:\\github\\Team_Project\\.venv\\lib\\site-packages\\IPython\\core\\pylabtools.py:151: UserWarning: Glyph 8722 (\\N{MINUS SIGN}) missing from current font.\n",
      "  fig.canvas.print_figure(bytes_io, **kw)\n"
     ]
    },
    {
     "data": {
      "image/png": "[encoded data removed]",
      "text/plain": [
       "<Figure size 432x288 with 2 Axes>"
      ]
     },
     "metadata": {
      "needs_background": "light"
     },
     "output_type": "display_data"
    }
   ],
   "source": [
    "df_corr = humheat.corr()\n",
    "\n",
    "mask = np.zeros_like(df_corr, dtype=np.bool)\n",
    "mask[np.triu_indices_from(mask)] = True # 삼각형으로 표시\n",
    "\n",
    "sns.heatmap(df_corr, \n",
    "            cmap = 'RdYlBu_r', \n",
    "            annot = True,   # 실제 값을 표시한다\n",
    "            mask=mask,      # 표시하지 않을 마스크 부분을 지정한다\n",
    "            linewidths=.5,  # 경계면 실선으로 구분하기\n",
    "            cbar_kws={\"shrink\": .5},# 컬러바 크기 절반으로 줄이기\n",
    "            vmin = -1,vmax = 1   # 컬러바 범위 -1 ~ 1\n",
    "           )  "
   ]
  },
  {
   "cell_type": "markdown",
   "metadata": {},
   "source": [
    "- 열지수는 습도보다 기온과 상관성이 높다.\n",
    "- 습도와 기온은 상관성이 크지 않다."
   ]
  },
  {
   "cell_type": "code",
   "execution_count": 50,
   "metadata": {},
   "outputs": [],
   "source": [
    "humetemp = humheat[['humidity','temp','HI','date']]"
   ]
  },
  {
   "cell_type": "code",
   "execution_count": 52,
   "metadata": {},
   "outputs": [
    {
     "name": "stderr",
     "output_type": "stream",
     "text": [
      "c:\\github\\Team_Project\\.venv\\lib\\site-packages\\IPython\\core\\pylabtools.py:151: UserWarning: Glyph 8722 (\\N{MINUS SIGN}) missing from current font.\n",
      "  fig.canvas.print_figure(bytes_io, **kw)\n"
     ]
    },
    {
     "data": {
      "image/png": "[encoded data removed]",
      "text/plain": [
       "<Figure size 1080x432 with 2 Axes>"
      ]
     },
     "metadata": {
      "needs_background": "light"
     },
     "output_type": "display_data"
    }
   ],
   "source": [
    "ax1 = sns.set_style(style=None, rc=None)\n",
    "\n",
    "fig, ax1 = plt.subplots(figsize=(15,6))\n",
    "ax1.set_title(\"습도와 기온\")\n",
    "sns.barplot(\n",
    "    data = humetemp,\n",
    "    x = \"date\",\n",
    "    y = \"humidity\",\n",
    "    alpha=0.9,\n",
    "    ax=ax1\n",
    "    )\n",
    "\n",
    "ax1.set_ylabel(\"습도\", fontsize=13)\n",
    "\n",
    "ax2 = ax1.twinx()\n",
    "ax2.set_ylabel(\"기온 (℃)\", fontsize=13)\n",
    "\n",
    "sns.lineplot(\n",
    "    data = humetemp['temp'],\n",
    "    sort = False,\n",
    "    color='red',\n",
    "    label='기온 (℃)',\n",
    "    ax=ax2,\n",
    "    alpha=0.5,\n",
    "    linewidth=0.5\n",
    "    )\n",
    "\n",
    "plt.show()"
   ]
  },
  {
   "cell_type": "markdown",
   "metadata": {},
   "source": [
    "- 전체적으로 습도의 증가 주기와 기온의 증가 주기가 일치한다."
   ]
  },
  {
   "cell_type": "markdown",
   "metadata": {},
   "source": [
    "#### 4. 년도별 매달 평균 습도 + 평균 기온"
   ]
  },
  {
   "cell_type": "code",
   "execution_count": 53,
   "metadata": {},
   "outputs": [],
   "source": [
    "# 동인동 기준\n",
    "df2011 = EDAset[condregion]\n",
    "humheat = df2011.copy()"
   ]
  },
  {
   "cell_type": "code",
   "execution_count": 54,
   "metadata": {},
   "outputs": [],
   "source": [
    "# 데이터가 적은 2010년, 2022년은 제외하고 필요한 컬럼만 선택\n",
    "cond1 = humheat[humheat['year'] == 2010].index\n",
    "cond2 = humheat[humheat['year'] == 2022].index\n",
    "humheat.drop(cond1, inplace=True)\n",
    "humheat.drop(cond2, inplace=True)"
   ]
  },
  {
   "cell_type": "code",
   "execution_count": 55,
   "metadata": {},
   "outputs": [],
   "source": [
    "humheat = humheat.reset_index()"
   ]
  },
  {
   "cell_type": "code",
   "execution_count": 56,
   "metadata": {},
   "outputs": [],
   "source": [
    "HH = humheat[['datetime','year','month','day','humidity','temp']]"
   ]
  },
  {
   "cell_type": "code",
   "execution_count": 59,
   "metadata": {},
   "outputs": [],
   "source": [
    "dfHH = HH.groupby(['year','month']).mean()"
   ]
  },
  {
   "cell_type": "code",
   "execution_count": 65,
   "metadata": {},
   "outputs": [
    {
     "name": "stderr",
     "output_type": "stream",
     "text": [
      "c:\\github\\Team_Project\\.venv\\lib\\site-packages\\pandas\\plotting\\_matplotlib\\tools.py:223: RuntimeWarning: More than 20 figures have been opened. Figures created through the pyplot interface (`matplotlib.pyplot.figure`) are retained until explicitly closed and may consume too much memory. (To control this warning, see the rcParam `figure.max_open_warning`).\n",
      "  fig = plt.figure(**fig_kw)\n"
     ]
    },
    {
     "data": {
      "image/png": "[encoded data removed]",
      "text/plain": [
       "<Figure size 1080x720 with 13 Axes>"
      ]
     },
     "metadata": {
      "needs_background": "light"
     },
     "output_type": "display_data"
    },
    {
     "data": {
      "image/png": "[encoded data removed]",
      "text/plain": [
       "<Figure size 1080x720 with 13 Axes>"
      ]
     },
     "metadata": {
      "needs_background": "light"
     },
     "output_type": "display_data"
    },
    {
     "data": {
      "image/png": "[encoded data removed]",
      "text/plain": [
       "<Figure size 1080x720 with 13 Axes>"
      ]
     },
     "metadata": {
      "needs_background": "light"
     },
     "output_type": "display_data"
    },
    {
     "data": {
      "image/png": "[encoded data removed]",
      "text/plain": [
       "<Figure size 1080x720 with 13 Axes>"
      ]
     },
     "metadata": {
      "needs_background": "light"
     },
     "output_type": "display_data"
    },
    {
     "data": {
      "image/png": "[encoded data removed]",
      "text/plain": [
       "<Figure size 1080x720 with 13 Axes>"
      ]
     },
     "metadata": {
      "needs_background": "light"
     },
     "output_type": "display_data"
    },
    {
     "data": {
      "image/png": "[encoded data removed]",
      "text/plain": [
       "<Figure size 1080x720 with 13 Axes>"
      ]
     },
     "metadata": {
      "needs_background": "light"
     },
     "output_type": "display_data"
    },
    {
     "data": {
      "image/png": "[encoded data removed]",
      "text/plain": [
       "<Figure size 1080x720 with 13 Axes>"
      ]
     },
     "metadata": {
      "needs_background": "light"
     },
     "output_type": "display_data"
    },
    {
     "data": {
      "image/png": "[encoded data removed]",
      "text/plain": [
       "<Figure size 1080x720 with 13 Axes>"
      ]
     },
     "metadata": {
      "needs_background": "light"
     },
     "output_type": "display_data"
    },
    {
     "data": {
      "image/png": "[encoded data removed]",
      "text/plain": [
       "<Figure size 1080x720 with 13 Axes>"
      ]
     },
     "metadata": {
      "needs_background": "light"
     },
     "output_type": "display_data"
    },
    {
     "data": {
      "image/png": "[encoded data removed]",
      "text/plain": [
       "<Figure size 1080x720 with 13 Axes>"
      ]
     },
     "metadata": {
      "needs_background": "light"
     },
     "output_type": "display_data"
    },
    {
     "data": {
      "image/png": "[encoded data removed]",
      "text/plain": [
       "<Figure size 1080x720 with 13 Axes>"
      ]
     },
     "metadata": {
      "needs_background": "light"
     },
     "output_type": "display_data"
    },
    {
     "data": {
      "image/png": "[encoded data removed]",
      "text/plain": [
       "<Figure size 1080x720 with 13 Axes>"
      ]
     },
     "metadata": {
      "needs_background": "light"
     },
     "output_type": "display_data"
    },
    {
     "data": {
      "image/png": "[encoded data removed]",
      "text/plain": [
       "<Figure size 1080x720 with 13 Axes>"
      ]
     },
     "metadata": {
      "needs_background": "light"
     },
     "output_type": "display_data"
    },
    {
     "data": {
      "image/png": "[encoded data removed]",
      "text/plain": [
       "<Figure size 1080x720 with 13 Axes>"
      ]
     },
     "metadata": {
      "needs_background": "light"
     },
     "output_type": "display_data"
    },
    {
     "data": {
      "image/png": "[encoded data removed]",
      "text/plain": [
       "<Figure size 1080x720 with 13 Axes>"
      ]
     },
     "metadata": {
      "needs_background": "light"
     },
     "output_type": "display_data"
    },
    {
     "data": {
      "image/png": "[encoded data removed]",
      "text/plain": [
       "<Figure size 1080x720 with 13 Axes>"
      ]
     },
     "metadata": {
      "needs_background": "light"
     },
     "output_type": "display_data"
    },
    {
     "data": {
      "image/png": "[encoded data removed]",
      "text/plain": [
       "<Figure size 1080x720 with 13 Axes>"
      ]
     },
     "metadata": {
      "needs_background": "light"
     },
     "output_type": "display_data"
    },
    {
     "data": {
      "image/png": "[encoded data removed]",
      "text/plain": [
       "<Figure size 1080x720 with 13 Axes>"
      ]
     },
     "metadata": {
      "needs_background": "light"
     },
     "output_type": "display_data"
    },
    {
     "data": {
      "image/png": "[encoded data removed]",
      "text/plain": [
       "<Figure size 1080x720 with 13 Axes>"
      ]
     },
     "metadata": {
      "needs_background": "light"
     },
     "output_type": "display_data"
    },
    {
     "data": {
      "image/png": "[encoded data removed]",
      "text/plain": [
       "<Figure size 1080x720 with 13 Axes>"
      ]
     },
     "metadata": {
      "needs_background": "light"
     },
     "output_type": "display_data"
    },
    {
     "data": {
      "image/png": "[encoded data removed]",
      "text/plain": [
       "<Figure size 1080x720 with 13 Axes>"
      ]
     },
     "metadata": {
      "needs_background": "light"
     },
     "output_type": "display_data"
    },
    {
     "data": {
      "image/png": "[encoded data removed]",
      "text/plain": [
       "<Figure size 1080x720 with 13 Axes>"
      ]
     },
     "metadata": {
      "needs_background": "light"
     },
     "output_type": "display_data"
    }
   ],
   "source": [
    "# 연도별 월 평균 습도와 평균 기온\n",
    "\n",
    "for i in range(2011,2022):\n",
    "    temp_mean = dfHH.query('year == {0}'.format(i))\n",
    "\n",
    "    x = temp_mean.query('month >= 1')\n",
    "    y = temp_mean['humidity']\n",
    "    z = temp_mean['temp']\n",
    "\n",
    "    \n",
    "    fig = temp_mean.unstack(level=0)['humidity'].plot(\n",
    "        kind='bar',\n",
    "        subplots=True,\n",
    "        rot=0,\n",
    "        figsize=(15,10),\n",
    "        layout=(13,1)\n",
    "        )\n",
    "\n",
    "    fig = temp_mean.unstack(level=0)['temp'].plot(\n",
    "        kind='line',\n",
    "        subplots=True,\n",
    "        rot=0,\n",
    "        figsize=(15,10),\n",
    "        layout=(13,1),\n",
    "        color='red',\n",
    "        linewidth=0.5\n",
    "        )\n"
   ]
  },
  {
   "cell_type": "markdown",
   "metadata": {},
   "source": [
    "- 기온이 1개월 가량 우선적으로 증가한 후 습도가 증가하는 경향이 있다."
   ]
  },
  {
   "cell_type": "markdown",
   "metadata": {},
   "source": [
    "#### 5. 모든 달의 평균 강수량 + 평균 기온"
   ]
  },
  {
   "cell_type": "code",
   "execution_count": 69,
   "metadata": {},
   "outputs": [],
   "source": [
    "# 평균계산\n",
    "temp = []\n",
    "humd = []\n",
    "month = []\n",
    "\n",
    "for i in range(1,13) :\n",
    "    humd_high = EDAset[EDAset['date'].dt.month == i]\n",
    "\n",
    "    #최고기온 평균\n",
    "    temp.append(round(humd_high['temp'].mean(),1))\n",
    "\n",
    "    #강수량 평균\n",
    "    humd.append(round(humd_high['humidity'].mean(),1))\n",
    "\n",
    "    month.append(i)"
   ]
  },
  {
   "cell_type": "code",
   "execution_count": 70,
   "metadata": {},
   "outputs": [
    {
     "data": {
      "image/png": "[encoded data removed]",
      "text/plain": [
       "<Figure size 1296x288 with 1 Axes>"
      ]
     },
     "metadata": {
      "needs_background": "light"
     },
     "output_type": "display_data"
    }
   ],
   "source": [
    "# 그래프 그리기\n",
    "x_axis = EDAset['date'].dt.month.unique()\n",
    "\n",
    "plt. figure(figsize=(18,4))\n",
    "\n",
    "#plt.title('%s년부터 %s년까지 %s월의 기온 변화' % (year_start, year_end, i_month))\n",
    "plt.plot(month, temp, color='red', marker = 's', label='평균기온', linestyle='-')\n",
    "plt.plot(month, humd, color='blue', marker = 's', label='평균습도', linestyle='-')\n",
    "#plt.legend(loc=2)\n",
    "plt.xticks(month)\n",
    "plt.show()"
   ]
  },
  {
   "cell_type": "markdown",
   "metadata": {},
   "source": [
    "- 대체로 평균 강수량의 증가와 평균 기온의 증가 추세가 일치한다."
   ]
  },
  {
   "cell_type": "markdown",
   "metadata": {},
   "source": [
    "# 9. 대기중의 미세먼지 농도가 높으면 온도가 높다.(‘미세먼지가 많으면 통풍이 잘 안된다’ 속설 검증)\n",
    "- made by MJ"
   ]
  },
  {
   "cell_type": "code",
   "execution_count": 71,
   "metadata": {},
   "outputs": [
    {
     "data": {
      "text/html": [
       "<div>\n",
       "<style scoped>\n",
       "    .dataframe tbody tr th:only-of-type {\n",
       "        vertical-align: middle;\n",
       "    }\n",
       "\n",
       "    .dataframe tbody tr th {\n",
       "        vertical-align: top;\n",
       "    }\n",
       "\n",
       "    .dataframe thead th {\n",
       "        text-align: right;\n",
       "    }\n",
       "</style>\n",
       "<table border=\"1\" class=\"dataframe\">\n",
       "  <thead>\n",
       "    <tr style=\"text-align: right;\">\n",
       "      <th></th>\n",
       "      <th>지점</th>\n",
       "      <th>지점명</th>\n",
       "      <th>일시</th>\n",
       "      <th>1시간평균 미세먼지농도(㎍/㎥)</th>\n",
       "    </tr>\n",
       "  </thead>\n",
       "  <tbody>\n",
       "    <tr>\n",
       "      <th>0</th>\n",
       "      <td>143</td>\n",
       "      <td>대구</td>\n",
       "      <td>2010-06-01 0:00</td>\n",
       "      <td>9.5</td>\n",
       "    </tr>\n",
       "    <tr>\n",
       "      <th>1</th>\n",
       "      <td>143</td>\n",
       "      <td>대구</td>\n",
       "      <td>2010-06-01 1:00</td>\n",
       "      <td>12.0</td>\n",
       "    </tr>\n",
       "    <tr>\n",
       "      <th>2</th>\n",
       "      <td>143</td>\n",
       "      <td>대구</td>\n",
       "      <td>2010-06-01 2:00</td>\n",
       "      <td>9.0</td>\n",
       "    </tr>\n",
       "    <tr>\n",
       "      <th>3</th>\n",
       "      <td>143</td>\n",
       "      <td>대구</td>\n",
       "      <td>2010-06-01 3:00</td>\n",
       "      <td>8.0</td>\n",
       "    </tr>\n",
       "    <tr>\n",
       "      <th>4</th>\n",
       "      <td>143</td>\n",
       "      <td>대구</td>\n",
       "      <td>2010-06-01 4:00</td>\n",
       "      <td>6.0</td>\n",
       "    </tr>\n",
       "    <tr>\n",
       "      <th>...</th>\n",
       "      <td>...</td>\n",
       "      <td>...</td>\n",
       "      <td>...</td>\n",
       "      <td>...</td>\n",
       "    </tr>\n",
       "    <tr>\n",
       "      <th>99569</th>\n",
       "      <td>143</td>\n",
       "      <td>대구</td>\n",
       "      <td>2022-04-30 19:00</td>\n",
       "      <td>23.0</td>\n",
       "    </tr>\n",
       "    <tr>\n",
       "      <th>99570</th>\n",
       "      <td>143</td>\n",
       "      <td>대구</td>\n",
       "      <td>2022-04-30 20:00</td>\n",
       "      <td>18.0</td>\n",
       "    </tr>\n",
       "    <tr>\n",
       "      <th>99571</th>\n",
       "      <td>143</td>\n",
       "      <td>대구</td>\n",
       "      <td>2022-04-30 21:00</td>\n",
       "      <td>18.0</td>\n",
       "    </tr>\n",
       "    <tr>\n",
       "      <th>99572</th>\n",
       "      <td>143</td>\n",
       "      <td>대구</td>\n",
       "      <td>2022-04-30 22:00</td>\n",
       "      <td>15.0</td>\n",
       "    </tr>\n",
       "    <tr>\n",
       "      <th>99573</th>\n",
       "      <td>143</td>\n",
       "      <td>대구</td>\n",
       "      <td>2022-04-30 23:00</td>\n",
       "      <td>16.0</td>\n",
       "    </tr>\n",
       "  </tbody>\n",
       "</table>\n",
       "<p>99574 rows × 4 columns</p>\n",
       "</div>"
      ],
      "text/plain": [
       "        지점 지점명                일시  1시간평균 미세먼지농도(㎍/㎥)\n",
       "0      143  대구   2010-06-01 0:00                9.5\n",
       "1      143  대구   2010-06-01 1:00               12.0\n",
       "2      143  대구   2010-06-01 2:00                9.0\n",
       "3      143  대구   2010-06-01 3:00                8.0\n",
       "4      143  대구   2010-06-01 4:00                6.0\n",
       "...    ...  ..               ...                ...\n",
       "99569  143  대구  2022-04-30 19:00               23.0\n",
       "99570  143  대구  2022-04-30 20:00               18.0\n",
       "99571  143  대구  2022-04-30 21:00               18.0\n",
       "99572  143  대구  2022-04-30 22:00               15.0\n",
       "99573  143  대구  2022-04-30 23:00               16.0\n",
       "\n",
       "[99574 rows x 4 columns]"
      ]
     },
     "execution_count": 71,
     "metadata": {},
     "output_type": "execute_result"
    }
   ],
   "source": [
    "# 미세먼지 데이터 불러오기\n",
    "orig = pd.read_csv('./dataset/airpollution_daegu.csv', encoding='cp949')\n",
    "orig"
   ]
  },
  {
   "cell_type": "markdown",
   "metadata": {},
   "source": [
    "- 전처리"
   ]
  },
  {
   "cell_type": "code",
   "execution_count": 72,
   "metadata": {},
   "outputs": [
    {
     "data": {
      "text/html": [
       "<div>\n",
       "<style scoped>\n",
       "    .dataframe tbody tr th:only-of-type {\n",
       "        vertical-align: middle;\n",
       "    }\n",
       "\n",
       "    .dataframe tbody tr th {\n",
       "        vertical-align: top;\n",
       "    }\n",
       "\n",
       "    .dataframe thead th {\n",
       "        text-align: right;\n",
       "    }\n",
       "</style>\n",
       "<table border=\"1\" class=\"dataframe\">\n",
       "  <thead>\n",
       "    <tr style=\"text-align: right;\">\n",
       "      <th></th>\n",
       "      <th>date</th>\n",
       "      <th>concentration</th>\n",
       "    </tr>\n",
       "  </thead>\n",
       "  <tbody>\n",
       "    <tr>\n",
       "      <th>0</th>\n",
       "      <td>2010-06-01 0:00</td>\n",
       "      <td>9.5</td>\n",
       "    </tr>\n",
       "    <tr>\n",
       "      <th>1</th>\n",
       "      <td>2010-06-01 1:00</td>\n",
       "      <td>12.0</td>\n",
       "    </tr>\n",
       "    <tr>\n",
       "      <th>2</th>\n",
       "      <td>2010-06-01 2:00</td>\n",
       "      <td>9.0</td>\n",
       "    </tr>\n",
       "    <tr>\n",
       "      <th>3</th>\n",
       "      <td>2010-06-01 3:00</td>\n",
       "      <td>8.0</td>\n",
       "    </tr>\n",
       "    <tr>\n",
       "      <th>4</th>\n",
       "      <td>2010-06-01 4:00</td>\n",
       "      <td>6.0</td>\n",
       "    </tr>\n",
       "    <tr>\n",
       "      <th>...</th>\n",
       "      <td>...</td>\n",
       "      <td>...</td>\n",
       "    </tr>\n",
       "    <tr>\n",
       "      <th>99569</th>\n",
       "      <td>2022-04-30 19:00</td>\n",
       "      <td>23.0</td>\n",
       "    </tr>\n",
       "    <tr>\n",
       "      <th>99570</th>\n",
       "      <td>2022-04-30 20:00</td>\n",
       "      <td>18.0</td>\n",
       "    </tr>\n",
       "    <tr>\n",
       "      <th>99571</th>\n",
       "      <td>2022-04-30 21:00</td>\n",
       "      <td>18.0</td>\n",
       "    </tr>\n",
       "    <tr>\n",
       "      <th>99572</th>\n",
       "      <td>2022-04-30 22:00</td>\n",
       "      <td>15.0</td>\n",
       "    </tr>\n",
       "    <tr>\n",
       "      <th>99573</th>\n",
       "      <td>2022-04-30 23:00</td>\n",
       "      <td>16.0</td>\n",
       "    </tr>\n",
       "  </tbody>\n",
       "</table>\n",
       "<p>99574 rows × 2 columns</p>\n",
       "</div>"
      ],
      "text/plain": [
       "                   date  concentration\n",
       "0       2010-06-01 0:00            9.5\n",
       "1       2010-06-01 1:00           12.0\n",
       "2       2010-06-01 2:00            9.0\n",
       "3       2010-06-01 3:00            8.0\n",
       "4       2010-06-01 4:00            6.0\n",
       "...                 ...            ...\n",
       "99569  2022-04-30 19:00           23.0\n",
       "99570  2022-04-30 20:00           18.0\n",
       "99571  2022-04-30 21:00           18.0\n",
       "99572  2022-04-30 22:00           15.0\n",
       "99573  2022-04-30 23:00           16.0\n",
       "\n",
       "[99574 rows x 2 columns]"
      ]
     },
     "execution_count": 72,
     "metadata": {},
     "output_type": "execute_result"
    }
   ],
   "source": [
    "# 분석용 데이터셋으로 정리\n",
    "df_airpoll = orig.iloc[:,2:]\n",
    "df_airpoll.columns = ['date','concentration']\n",
    "df_airpoll"
   ]
  },
  {
   "cell_type": "code",
   "execution_count": 73,
   "metadata": {},
   "outputs": [],
   "source": [
    "# date 컬럼의 자료형을 알맞게 변환\n",
    "df_airpoll['date'] = df_airpoll['date'].astype(str)\n",
    "df_airpoll['date'] = pd.to_datetime(df_airpoll['date'])"
   ]
  },
  {
   "cell_type": "code",
   "execution_count": 74,
   "metadata": {},
   "outputs": [
    {
     "data": {
      "text/html": [
       "<div>\n",
       "<style scoped>\n",
       "    .dataframe tbody tr th:only-of-type {\n",
       "        vertical-align: middle;\n",
       "    }\n",
       "\n",
       "    .dataframe tbody tr th {\n",
       "        vertical-align: top;\n",
       "    }\n",
       "\n",
       "    .dataframe thead th {\n",
       "        text-align: right;\n",
       "    }\n",
       "</style>\n",
       "<table border=\"1\" class=\"dataframe\">\n",
       "  <thead>\n",
       "    <tr style=\"text-align: right;\">\n",
       "      <th></th>\n",
       "      <th>date</th>\n",
       "      <th>concentration</th>\n",
       "    </tr>\n",
       "  </thead>\n",
       "  <tbody>\n",
       "    <tr>\n",
       "      <th>0</th>\n",
       "      <td>2010-06-01 00:00:00</td>\n",
       "      <td>9.5</td>\n",
       "    </tr>\n",
       "    <tr>\n",
       "      <th>1</th>\n",
       "      <td>2010-06-01 01:00:00</td>\n",
       "      <td>12.0</td>\n",
       "    </tr>\n",
       "    <tr>\n",
       "      <th>2</th>\n",
       "      <td>2010-06-01 02:00:00</td>\n",
       "      <td>9.0</td>\n",
       "    </tr>\n",
       "    <tr>\n",
       "      <th>3</th>\n",
       "      <td>2010-06-01 03:00:00</td>\n",
       "      <td>8.0</td>\n",
       "    </tr>\n",
       "    <tr>\n",
       "      <th>4</th>\n",
       "      <td>2010-06-01 04:00:00</td>\n",
       "      <td>6.0</td>\n",
       "    </tr>\n",
       "    <tr>\n",
       "      <th>...</th>\n",
       "      <td>...</td>\n",
       "      <td>...</td>\n",
       "    </tr>\n",
       "    <tr>\n",
       "      <th>99569</th>\n",
       "      <td>2022-04-30 19:00:00</td>\n",
       "      <td>23.0</td>\n",
       "    </tr>\n",
       "    <tr>\n",
       "      <th>99570</th>\n",
       "      <td>2022-04-30 20:00:00</td>\n",
       "      <td>18.0</td>\n",
       "    </tr>\n",
       "    <tr>\n",
       "      <th>99571</th>\n",
       "      <td>2022-04-30 21:00:00</td>\n",
       "      <td>18.0</td>\n",
       "    </tr>\n",
       "    <tr>\n",
       "      <th>99572</th>\n",
       "      <td>2022-04-30 22:00:00</td>\n",
       "      <td>15.0</td>\n",
       "    </tr>\n",
       "    <tr>\n",
       "      <th>99573</th>\n",
       "      <td>2022-04-30 23:00:00</td>\n",
       "      <td>16.0</td>\n",
       "    </tr>\n",
       "  </tbody>\n",
       "</table>\n",
       "<p>99574 rows × 2 columns</p>\n",
       "</div>"
      ],
      "text/plain": [
       "                     date  concentration\n",
       "0     2010-06-01 00:00:00            9.5\n",
       "1     2010-06-01 01:00:00           12.0\n",
       "2     2010-06-01 02:00:00            9.0\n",
       "3     2010-06-01 03:00:00            8.0\n",
       "4     2010-06-01 04:00:00            6.0\n",
       "...                   ...            ...\n",
       "99569 2022-04-30 19:00:00           23.0\n",
       "99570 2022-04-30 20:00:00           18.0\n",
       "99571 2022-04-30 21:00:00           18.0\n",
       "99572 2022-04-30 22:00:00           15.0\n",
       "99573 2022-04-30 23:00:00           16.0\n",
       "\n",
       "[99574 rows x 2 columns]"
      ]
     },
     "execution_count": 74,
     "metadata": {},
     "output_type": "execute_result"
    }
   ],
   "source": [
    "df_airpoll"
   ]
  },
  {
   "cell_type": "code",
   "execution_count": 75,
   "metadata": {},
   "outputs": [],
   "source": [
    "# date 컬럼을 각 요소로 나누기\n",
    "df_airpoll['year'] = df_airpoll['date'].dt.year\n",
    "df_airpoll[ 'month'] = df_airpoll['date'].dt.month\n",
    "df_airpoll['day'] = df_airpoll['date'].dt.day\n",
    "df_airpoll['hour'] = df_airpoll['date'].dt.hour"
   ]
  },
  {
   "cell_type": "code",
   "execution_count": 76,
   "metadata": {},
   "outputs": [
    {
     "data": {
      "text/html": [
       "<div>\n",
       "<style scoped>\n",
       "    .dataframe tbody tr th:only-of-type {\n",
       "        vertical-align: middle;\n",
       "    }\n",
       "\n",
       "    .dataframe tbody tr th {\n",
       "        vertical-align: top;\n",
       "    }\n",
       "\n",
       "    .dataframe thead th {\n",
       "        text-align: right;\n",
       "    }\n",
       "</style>\n",
       "<table border=\"1\" class=\"dataframe\">\n",
       "  <thead>\n",
       "    <tr style=\"text-align: right;\">\n",
       "      <th></th>\n",
       "      <th>date</th>\n",
       "      <th>concentration</th>\n",
       "      <th>year</th>\n",
       "      <th>month</th>\n",
       "      <th>day</th>\n",
       "      <th>hour</th>\n",
       "    </tr>\n",
       "  </thead>\n",
       "  <tbody>\n",
       "    <tr>\n",
       "      <th>0</th>\n",
       "      <td>2010-06-01 00:00:00</td>\n",
       "      <td>9.5</td>\n",
       "      <td>2010</td>\n",
       "      <td>6</td>\n",
       "      <td>1</td>\n",
       "      <td>0</td>\n",
       "    </tr>\n",
       "    <tr>\n",
       "      <th>1</th>\n",
       "      <td>2010-06-01 01:00:00</td>\n",
       "      <td>12.0</td>\n",
       "      <td>2010</td>\n",
       "      <td>6</td>\n",
       "      <td>1</td>\n",
       "      <td>1</td>\n",
       "    </tr>\n",
       "    <tr>\n",
       "      <th>2</th>\n",
       "      <td>2010-06-01 02:00:00</td>\n",
       "      <td>9.0</td>\n",
       "      <td>2010</td>\n",
       "      <td>6</td>\n",
       "      <td>1</td>\n",
       "      <td>2</td>\n",
       "    </tr>\n",
       "    <tr>\n",
       "      <th>3</th>\n",
       "      <td>2010-06-01 03:00:00</td>\n",
       "      <td>8.0</td>\n",
       "      <td>2010</td>\n",
       "      <td>6</td>\n",
       "      <td>1</td>\n",
       "      <td>3</td>\n",
       "    </tr>\n",
       "    <tr>\n",
       "      <th>4</th>\n",
       "      <td>2010-06-01 04:00:00</td>\n",
       "      <td>6.0</td>\n",
       "      <td>2010</td>\n",
       "      <td>6</td>\n",
       "      <td>1</td>\n",
       "      <td>4</td>\n",
       "    </tr>\n",
       "    <tr>\n",
       "      <th>...</th>\n",
       "      <td>...</td>\n",
       "      <td>...</td>\n",
       "      <td>...</td>\n",
       "      <td>...</td>\n",
       "      <td>...</td>\n",
       "      <td>...</td>\n",
       "    </tr>\n",
       "    <tr>\n",
       "      <th>99569</th>\n",
       "      <td>2022-04-30 19:00:00</td>\n",
       "      <td>23.0</td>\n",
       "      <td>2022</td>\n",
       "      <td>4</td>\n",
       "      <td>30</td>\n",
       "      <td>19</td>\n",
       "    </tr>\n",
       "    <tr>\n",
       "      <th>99570</th>\n",
       "      <td>2022-04-30 20:00:00</td>\n",
       "      <td>18.0</td>\n",
       "      <td>2022</td>\n",
       "      <td>4</td>\n",
       "      <td>30</td>\n",
       "      <td>20</td>\n",
       "    </tr>\n",
       "    <tr>\n",
       "      <th>99571</th>\n",
       "      <td>2022-04-30 21:00:00</td>\n",
       "      <td>18.0</td>\n",
       "      <td>2022</td>\n",
       "      <td>4</td>\n",
       "      <td>30</td>\n",
       "      <td>21</td>\n",
       "    </tr>\n",
       "    <tr>\n",
       "      <th>99572</th>\n",
       "      <td>2022-04-30 22:00:00</td>\n",
       "      <td>15.0</td>\n",
       "      <td>2022</td>\n",
       "      <td>4</td>\n",
       "      <td>30</td>\n",
       "      <td>22</td>\n",
       "    </tr>\n",
       "    <tr>\n",
       "      <th>99573</th>\n",
       "      <td>2022-04-30 23:00:00</td>\n",
       "      <td>16.0</td>\n",
       "      <td>2022</td>\n",
       "      <td>4</td>\n",
       "      <td>30</td>\n",
       "      <td>23</td>\n",
       "    </tr>\n",
       "  </tbody>\n",
       "</table>\n",
       "<p>99574 rows × 6 columns</p>\n",
       "</div>"
      ],
      "text/plain": [
       "                     date  concentration  year  month  day  hour\n",
       "0     2010-06-01 00:00:00            9.5  2010      6    1     0\n",
       "1     2010-06-01 01:00:00           12.0  2010      6    1     1\n",
       "2     2010-06-01 02:00:00            9.0  2010      6    1     2\n",
       "3     2010-06-01 03:00:00            8.0  2010      6    1     3\n",
       "4     2010-06-01 04:00:00            6.0  2010      6    1     4\n",
       "...                   ...            ...   ...    ...  ...   ...\n",
       "99569 2022-04-30 19:00:00           23.0  2022      4   30    19\n",
       "99570 2022-04-30 20:00:00           18.0  2022      4   30    20\n",
       "99571 2022-04-30 21:00:00           18.0  2022      4   30    21\n",
       "99572 2022-04-30 22:00:00           15.0  2022      4   30    22\n",
       "99573 2022-04-30 23:00:00           16.0  2022      4   30    23\n",
       "\n",
       "[99574 rows x 6 columns]"
      ]
     },
     "execution_count": 76,
     "metadata": {},
     "output_type": "execute_result"
    }
   ],
   "source": [
    "df_airpoll"
   ]
  },
  {
   "cell_type": "code",
   "execution_count": 77,
   "metadata": {},
   "outputs": [],
   "source": [
    "# 복사본으로 작업\n",
    "airpoll = df_airpoll[['date','year','month','day','hour','concentration']]"
   ]
  },
  {
   "cell_type": "code",
   "execution_count": 78,
   "metadata": {},
   "outputs": [
    {
     "data": {
      "text/html": [
       "<div>\n",
       "<style scoped>\n",
       "    .dataframe tbody tr th:only-of-type {\n",
       "        vertical-align: middle;\n",
       "    }\n",
       "\n",
       "    .dataframe tbody tr th {\n",
       "        vertical-align: top;\n",
       "    }\n",
       "\n",
       "    .dataframe thead th {\n",
       "        text-align: right;\n",
       "    }\n",
       "</style>\n",
       "<table border=\"1\" class=\"dataframe\">\n",
       "  <thead>\n",
       "    <tr style=\"text-align: right;\">\n",
       "      <th></th>\n",
       "      <th>date</th>\n",
       "      <th>year</th>\n",
       "      <th>month</th>\n",
       "      <th>day</th>\n",
       "      <th>hour</th>\n",
       "      <th>concentration</th>\n",
       "    </tr>\n",
       "  </thead>\n",
       "  <tbody>\n",
       "    <tr>\n",
       "      <th>0</th>\n",
       "      <td>2010-06-01 00:00:00</td>\n",
       "      <td>2010</td>\n",
       "      <td>6</td>\n",
       "      <td>1</td>\n",
       "      <td>0</td>\n",
       "      <td>9.5</td>\n",
       "    </tr>\n",
       "    <tr>\n",
       "      <th>1</th>\n",
       "      <td>2010-06-01 01:00:00</td>\n",
       "      <td>2010</td>\n",
       "      <td>6</td>\n",
       "      <td>1</td>\n",
       "      <td>1</td>\n",
       "      <td>12.0</td>\n",
       "    </tr>\n",
       "    <tr>\n",
       "      <th>2</th>\n",
       "      <td>2010-06-01 02:00:00</td>\n",
       "      <td>2010</td>\n",
       "      <td>6</td>\n",
       "      <td>1</td>\n",
       "      <td>2</td>\n",
       "      <td>9.0</td>\n",
       "    </tr>\n",
       "    <tr>\n",
       "      <th>3</th>\n",
       "      <td>2010-06-01 03:00:00</td>\n",
       "      <td>2010</td>\n",
       "      <td>6</td>\n",
       "      <td>1</td>\n",
       "      <td>3</td>\n",
       "      <td>8.0</td>\n",
       "    </tr>\n",
       "    <tr>\n",
       "      <th>4</th>\n",
       "      <td>2010-06-01 04:00:00</td>\n",
       "      <td>2010</td>\n",
       "      <td>6</td>\n",
       "      <td>1</td>\n",
       "      <td>4</td>\n",
       "      <td>6.0</td>\n",
       "    </tr>\n",
       "    <tr>\n",
       "      <th>...</th>\n",
       "      <td>...</td>\n",
       "      <td>...</td>\n",
       "      <td>...</td>\n",
       "      <td>...</td>\n",
       "      <td>...</td>\n",
       "      <td>...</td>\n",
       "    </tr>\n",
       "    <tr>\n",
       "      <th>99569</th>\n",
       "      <td>2022-04-30 19:00:00</td>\n",
       "      <td>2022</td>\n",
       "      <td>4</td>\n",
       "      <td>30</td>\n",
       "      <td>19</td>\n",
       "      <td>23.0</td>\n",
       "    </tr>\n",
       "    <tr>\n",
       "      <th>99570</th>\n",
       "      <td>2022-04-30 20:00:00</td>\n",
       "      <td>2022</td>\n",
       "      <td>4</td>\n",
       "      <td>30</td>\n",
       "      <td>20</td>\n",
       "      <td>18.0</td>\n",
       "    </tr>\n",
       "    <tr>\n",
       "      <th>99571</th>\n",
       "      <td>2022-04-30 21:00:00</td>\n",
       "      <td>2022</td>\n",
       "      <td>4</td>\n",
       "      <td>30</td>\n",
       "      <td>21</td>\n",
       "      <td>18.0</td>\n",
       "    </tr>\n",
       "    <tr>\n",
       "      <th>99572</th>\n",
       "      <td>2022-04-30 22:00:00</td>\n",
       "      <td>2022</td>\n",
       "      <td>4</td>\n",
       "      <td>30</td>\n",
       "      <td>22</td>\n",
       "      <td>15.0</td>\n",
       "    </tr>\n",
       "    <tr>\n",
       "      <th>99573</th>\n",
       "      <td>2022-04-30 23:00:00</td>\n",
       "      <td>2022</td>\n",
       "      <td>4</td>\n",
       "      <td>30</td>\n",
       "      <td>23</td>\n",
       "      <td>16.0</td>\n",
       "    </tr>\n",
       "  </tbody>\n",
       "</table>\n",
       "<p>99574 rows × 6 columns</p>\n",
       "</div>"
      ],
      "text/plain": [
       "                     date  year  month  day  hour  concentration\n",
       "0     2010-06-01 00:00:00  2010      6    1     0            9.5\n",
       "1     2010-06-01 01:00:00  2010      6    1     1           12.0\n",
       "2     2010-06-01 02:00:00  2010      6    1     2            9.0\n",
       "3     2010-06-01 03:00:00  2010      6    1     3            8.0\n",
       "4     2010-06-01 04:00:00  2010      6    1     4            6.0\n",
       "...                   ...   ...    ...  ...   ...            ...\n",
       "99569 2022-04-30 19:00:00  2022      4   30    19           23.0\n",
       "99570 2022-04-30 20:00:00  2022      4   30    20           18.0\n",
       "99571 2022-04-30 21:00:00  2022      4   30    21           18.0\n",
       "99572 2022-04-30 22:00:00  2022      4   30    22           15.0\n",
       "99573 2022-04-30 23:00:00  2022      4   30    23           16.0\n",
       "\n",
       "[99574 rows x 6 columns]"
      ]
     },
     "execution_count": 78,
     "metadata": {},
     "output_type": "execute_result"
    }
   ],
   "source": [
    "airpoll"
   ]
  },
  {
   "cell_type": "code",
   "execution_count": 79,
   "metadata": {},
   "outputs": [],
   "source": [
    "daegu_final = pd.read_csv('./output/daegu_final.csv', encoding='utf-8')"
   ]
  },
  {
   "cell_type": "markdown",
   "metadata": {},
   "source": [
    "    1. 필요한 컬럼만 가져오기 - date, year, month, day, hour, temp\n",
    "    2. 미세먼지 데이터와 조인하기\n",
    "    3. 그래프 그리기"
   ]
  },
  {
   "cell_type": "code",
   "execution_count": 80,
   "metadata": {},
   "outputs": [],
   "source": [
    "# 미세먼지를 측정한 대구지방기상청의 소재지 (효목1동) 데이터만 선택\n",
    "region = daegu_final['region'] == '효목1동'\n",
    "hmd = EDAset[region].reset_index()"
   ]
  },
  {
   "cell_type": "code",
   "execution_count": 81,
   "metadata": {},
   "outputs": [
    {
     "data": {
      "text/html": [
       "<div>\n",
       "<style scoped>\n",
       "    .dataframe tbody tr th:only-of-type {\n",
       "        vertical-align: middle;\n",
       "    }\n",
       "\n",
       "    .dataframe tbody tr th {\n",
       "        vertical-align: top;\n",
       "    }\n",
       "\n",
       "    .dataframe thead th {\n",
       "        text-align: right;\n",
       "    }\n",
       "</style>\n",
       "<table border=\"1\" class=\"dataframe\">\n",
       "  <thead>\n",
       "    <tr style=\"text-align: right;\">\n",
       "      <th></th>\n",
       "      <th>index</th>\n",
       "      <th>year</th>\n",
       "      <th>month</th>\n",
       "      <th>day</th>\n",
       "      <th>hour</th>\n",
       "      <th>datetime</th>\n",
       "      <th>temp</th>\n",
       "      <th>rainfall</th>\n",
       "      <th>lightning</th>\n",
       "      <th>humidity</th>\n",
       "      <th>wind_speed</th>\n",
       "      <th>wind_direction</th>\n",
       "      <th>condition</th>\n",
       "      <th>region</th>\n",
       "      <th>HI</th>\n",
       "      <th>DI</th>\n",
       "      <th>date</th>\n",
       "    </tr>\n",
       "  </thead>\n",
       "  <tbody>\n",
       "    <tr>\n",
       "      <th>0</th>\n",
       "      <td>2088960</td>\n",
       "      <td>2010</td>\n",
       "      <td>6</td>\n",
       "      <td>1</td>\n",
       "      <td>0</td>\n",
       "      <td>2010-06-01 00:00:00</td>\n",
       "      <td>16.8</td>\n",
       "      <td>0.0</td>\n",
       "      <td>-1</td>\n",
       "      <td>53.0</td>\n",
       "      <td>NaN</td>\n",
       "      <td>NaN</td>\n",
       "      <td>1</td>\n",
       "      <td>효목1동</td>\n",
       "      <td>15.919444</td>\n",
       "      <td>61.14396</td>\n",
       "      <td>2010-06-01 00:00:00</td>\n",
       "    </tr>\n",
       "    <tr>\n",
       "      <th>1</th>\n",
       "      <td>2088961</td>\n",
       "      <td>2010</td>\n",
       "      <td>6</td>\n",
       "      <td>1</td>\n",
       "      <td>1</td>\n",
       "      <td>2010-06-01 01:00:00</td>\n",
       "      <td>17.9</td>\n",
       "      <td>0.0</td>\n",
       "      <td>-1</td>\n",
       "      <td>50.0</td>\n",
       "      <td>NaN</td>\n",
       "      <td>NaN</td>\n",
       "      <td>1</td>\n",
       "      <td>효목1동</td>\n",
       "      <td>17.051111</td>\n",
       "      <td>62.50950</td>\n",
       "      <td>2010-06-01 01:00:00</td>\n",
       "    </tr>\n",
       "    <tr>\n",
       "      <th>2</th>\n",
       "      <td>2088962</td>\n",
       "      <td>2010</td>\n",
       "      <td>6</td>\n",
       "      <td>1</td>\n",
       "      <td>2</td>\n",
       "      <td>2010-06-01 02:00:00</td>\n",
       "      <td>19.5</td>\n",
       "      <td>0.0</td>\n",
       "      <td>-1</td>\n",
       "      <td>47.0</td>\n",
       "      <td>NaN</td>\n",
       "      <td>NaN</td>\n",
       "      <td>1</td>\n",
       "      <td>효목1동</td>\n",
       "      <td>18.732778</td>\n",
       "      <td>64.44735</td>\n",
       "      <td>2010-06-01 02:00:00</td>\n",
       "    </tr>\n",
       "    <tr>\n",
       "      <th>3</th>\n",
       "      <td>2088963</td>\n",
       "      <td>2010</td>\n",
       "      <td>6</td>\n",
       "      <td>1</td>\n",
       "      <td>3</td>\n",
       "      <td>2010-06-01 03:00:00</td>\n",
       "      <td>20.9</td>\n",
       "      <td>0.0</td>\n",
       "      <td>-1</td>\n",
       "      <td>40.0</td>\n",
       "      <td>NaN</td>\n",
       "      <td>NaN</td>\n",
       "      <td>1</td>\n",
       "      <td>효목1동</td>\n",
       "      <td>20.090000</td>\n",
       "      <td>65.78540</td>\n",
       "      <td>2010-06-01 03:00:00</td>\n",
       "    </tr>\n",
       "    <tr>\n",
       "      <th>4</th>\n",
       "      <td>2088964</td>\n",
       "      <td>2010</td>\n",
       "      <td>6</td>\n",
       "      <td>1</td>\n",
       "      <td>4</td>\n",
       "      <td>2010-06-01 04:00:00</td>\n",
       "      <td>20.9</td>\n",
       "      <td>0.0</td>\n",
       "      <td>-1</td>\n",
       "      <td>41.0</td>\n",
       "      <td>NaN</td>\n",
       "      <td>NaN</td>\n",
       "      <td>2</td>\n",
       "      <td>효목1동</td>\n",
       "      <td>20.116111</td>\n",
       "      <td>65.84931</td>\n",
       "      <td>2010-06-01 04:00:00</td>\n",
       "    </tr>\n",
       "    <tr>\n",
       "      <th>...</th>\n",
       "      <td>...</td>\n",
       "      <td>...</td>\n",
       "      <td>...</td>\n",
       "      <td>...</td>\n",
       "      <td>...</td>\n",
       "      <td>...</td>\n",
       "      <td>...</td>\n",
       "      <td>...</td>\n",
       "      <td>...</td>\n",
       "      <td>...</td>\n",
       "      <td>...</td>\n",
       "      <td>...</td>\n",
       "      <td>...</td>\n",
       "      <td>...</td>\n",
       "      <td>...</td>\n",
       "      <td>...</td>\n",
       "      <td>...</td>\n",
       "    </tr>\n",
       "    <tr>\n",
       "      <th>104443</th>\n",
       "      <td>2193403</td>\n",
       "      <td>2022</td>\n",
       "      <td>4</td>\n",
       "      <td>30</td>\n",
       "      <td>19</td>\n",
       "      <td>2022-04-30 19:00:00</td>\n",
       "      <td>10.8</td>\n",
       "      <td>0.0</td>\n",
       "      <td>-1</td>\n",
       "      <td>63.0</td>\n",
       "      <td>2.0</td>\n",
       "      <td>313.0</td>\n",
       "      <td>-1</td>\n",
       "      <td>효목1동</td>\n",
       "      <td>9.580556</td>\n",
       "      <td>52.77496</td>\n",
       "      <td>2022-04-30 19:00:00</td>\n",
       "    </tr>\n",
       "    <tr>\n",
       "      <th>104444</th>\n",
       "      <td>2193404</td>\n",
       "      <td>2022</td>\n",
       "      <td>4</td>\n",
       "      <td>30</td>\n",
       "      <td>20</td>\n",
       "      <td>2022-04-30 20:00:00</td>\n",
       "      <td>10.5</td>\n",
       "      <td>0.0</td>\n",
       "      <td>-1</td>\n",
       "      <td>66.0</td>\n",
       "      <td>1.5</td>\n",
       "      <td>337.0</td>\n",
       "      <td>-1</td>\n",
       "      <td>효목1동</td>\n",
       "      <td>9.328889</td>\n",
       "      <td>52.22770</td>\n",
       "      <td>2022-04-30 20:00:00</td>\n",
       "    </tr>\n",
       "    <tr>\n",
       "      <th>104445</th>\n",
       "      <td>2193405</td>\n",
       "      <td>2022</td>\n",
       "      <td>4</td>\n",
       "      <td>30</td>\n",
       "      <td>21</td>\n",
       "      <td>2022-04-30 21:00:00</td>\n",
       "      <td>12.0</td>\n",
       "      <td>0.0</td>\n",
       "      <td>-1</td>\n",
       "      <td>60.0</td>\n",
       "      <td>1.4</td>\n",
       "      <td>302.0</td>\n",
       "      <td>-1</td>\n",
       "      <td>효목1동</td>\n",
       "      <td>10.822222</td>\n",
       "      <td>54.56800</td>\n",
       "      <td>2022-04-30 21:00:00</td>\n",
       "    </tr>\n",
       "    <tr>\n",
       "      <th>104446</th>\n",
       "      <td>2193406</td>\n",
       "      <td>2022</td>\n",
       "      <td>4</td>\n",
       "      <td>30</td>\n",
       "      <td>22</td>\n",
       "      <td>2022-04-30 22:00:00</td>\n",
       "      <td>13.1</td>\n",
       "      <td>0.0</td>\n",
       "      <td>-1</td>\n",
       "      <td>50.0</td>\n",
       "      <td>2.3</td>\n",
       "      <td>286.0</td>\n",
       "      <td>-1</td>\n",
       "      <td>효목1동</td>\n",
       "      <td>11.771111</td>\n",
       "      <td>56.24550</td>\n",
       "      <td>2022-04-30 22:00:00</td>\n",
       "    </tr>\n",
       "    <tr>\n",
       "      <th>104447</th>\n",
       "      <td>2193407</td>\n",
       "      <td>2022</td>\n",
       "      <td>4</td>\n",
       "      <td>30</td>\n",
       "      <td>23</td>\n",
       "      <td>2022-04-30 23:00:00</td>\n",
       "      <td>14.4</td>\n",
       "      <td>0.0</td>\n",
       "      <td>-1</td>\n",
       "      <td>46.0</td>\n",
       "      <td>1.9</td>\n",
       "      <td>319.0</td>\n",
       "      <td>-1</td>\n",
       "      <td>효목1동</td>\n",
       "      <td>13.096667</td>\n",
       "      <td>57.94376</td>\n",
       "      <td>2022-04-30 23:00:00</td>\n",
       "    </tr>\n",
       "  </tbody>\n",
       "</table>\n",
       "<p>104448 rows × 17 columns</p>\n",
       "</div>"
      ],
      "text/plain": [
       "          index  year  month  day  hour             datetime  temp  rainfall  \\\n",
       "0       2088960  2010      6    1     0  2010-06-01 00:00:00  16.8       0.0   \n",
       "1       2088961  2010      6    1     1  2010-06-01 01:00:00  17.9       0.0   \n",
       "2       2088962  2010      6    1     2  2010-06-01 02:00:00  19.5       0.0   \n",
       "3       2088963  2010      6    1     3  2010-06-01 03:00:00  20.9       0.0   \n",
       "4       2088964  2010      6    1     4  2010-06-01 04:00:00  20.9       0.0   \n",
       "...         ...   ...    ...  ...   ...                  ...   ...       ...   \n",
       "104443  2193403  2022      4   30    19  2022-04-30 19:00:00  10.8       0.0   \n",
       "104444  2193404  2022      4   30    20  2022-04-30 20:00:00  10.5       0.0   \n",
       "104445  2193405  2022      4   30    21  2022-04-30 21:00:00  12.0       0.0   \n",
       "104446  2193406  2022      4   30    22  2022-04-30 22:00:00  13.1       0.0   \n",
       "104447  2193407  2022      4   30    23  2022-04-30 23:00:00  14.4       0.0   \n",
       "\n",
       "        lightning  humidity  wind_speed  wind_direction  condition region  \\\n",
       "0              -1      53.0         NaN             NaN          1   효목1동   \n",
       "1              -1      50.0         NaN             NaN          1   효목1동   \n",
       "2              -1      47.0         NaN             NaN          1   효목1동   \n",
       "3              -1      40.0         NaN             NaN          1   효목1동   \n",
       "4              -1      41.0         NaN             NaN          2   효목1동   \n",
       "...           ...       ...         ...             ...        ...    ...   \n",
       "104443         -1      63.0         2.0           313.0         -1   효목1동   \n",
       "104444         -1      66.0         1.5           337.0         -1   효목1동   \n",
       "104445         -1      60.0         1.4           302.0         -1   효목1동   \n",
       "104446         -1      50.0         2.3           286.0         -1   효목1동   \n",
       "104447         -1      46.0         1.9           319.0         -1   효목1동   \n",
       "\n",
       "               HI        DI                date  \n",
       "0       15.919444  61.14396 2010-06-01 00:00:00  \n",
       "1       17.051111  62.50950 2010-06-01 01:00:00  \n",
       "2       18.732778  64.44735 2010-06-01 02:00:00  \n",
       "3       20.090000  65.78540 2010-06-01 03:00:00  \n",
       "4       20.116111  65.84931 2010-06-01 04:00:00  \n",
       "...           ...       ...                 ...  \n",
       "104443   9.580556  52.77496 2022-04-30 19:00:00  \n",
       "104444   9.328889  52.22770 2022-04-30 20:00:00  \n",
       "104445  10.822222  54.56800 2022-04-30 21:00:00  \n",
       "104446  11.771111  56.24550 2022-04-30 22:00:00  \n",
       "104447  13.096667  57.94376 2022-04-30 23:00:00  \n",
       "\n",
       "[104448 rows x 17 columns]"
      ]
     },
     "execution_count": 81,
     "metadata": {},
     "output_type": "execute_result"
    }
   ],
   "source": [
    "hmd"
   ]
  },
  {
   "cell_type": "code",
   "execution_count": 82,
   "metadata": {},
   "outputs": [],
   "source": [
    "airset = hmd[['year','month','day','hour','temp']]"
   ]
  },
  {
   "cell_type": "code",
   "execution_count": 83,
   "metadata": {},
   "outputs": [
    {
     "name": "stderr",
     "output_type": "stream",
     "text": [
      "C:\\Users\\User\\AppData\\Local\\Temp\\ipykernel_11312\\552878553.py:2: SettingWithCopyWarning: \n",
      "A value is trying to be set on a copy of a slice from a DataFrame.\n",
      "Try using .loc[row_indexer,col_indexer] = value instead\n",
      "\n",
      "See the caveats in the documentation: https://pandas.pydata.org/pandas-docs/stable/user_guide/indexing.html#returning-a-view-versus-a-copy\n",
      "  airset['date'] = pd.to_datetime(airset[['year', 'month', 'day','hour']])\n"
     ]
    },
    {
     "data": {
      "text/html": [
       "<div>\n",
       "<style scoped>\n",
       "    .dataframe tbody tr th:only-of-type {\n",
       "        vertical-align: middle;\n",
       "    }\n",
       "\n",
       "    .dataframe tbody tr th {\n",
       "        vertical-align: top;\n",
       "    }\n",
       "\n",
       "    .dataframe thead th {\n",
       "        text-align: right;\n",
       "    }\n",
       "</style>\n",
       "<table border=\"1\" class=\"dataframe\">\n",
       "  <thead>\n",
       "    <tr style=\"text-align: right;\">\n",
       "      <th></th>\n",
       "      <th>year</th>\n",
       "      <th>month</th>\n",
       "      <th>day</th>\n",
       "      <th>hour</th>\n",
       "      <th>temp</th>\n",
       "      <th>date</th>\n",
       "    </tr>\n",
       "  </thead>\n",
       "  <tbody>\n",
       "    <tr>\n",
       "      <th>0</th>\n",
       "      <td>2010</td>\n",
       "      <td>6</td>\n",
       "      <td>1</td>\n",
       "      <td>0</td>\n",
       "      <td>16.8</td>\n",
       "      <td>2010-06-01 00:00:00</td>\n",
       "    </tr>\n",
       "    <tr>\n",
       "      <th>1</th>\n",
       "      <td>2010</td>\n",
       "      <td>6</td>\n",
       "      <td>1</td>\n",
       "      <td>1</td>\n",
       "      <td>17.9</td>\n",
       "      <td>2010-06-01 01:00:00</td>\n",
       "    </tr>\n",
       "    <tr>\n",
       "      <th>2</th>\n",
       "      <td>2010</td>\n",
       "      <td>6</td>\n",
       "      <td>1</td>\n",
       "      <td>2</td>\n",
       "      <td>19.5</td>\n",
       "      <td>2010-06-01 02:00:00</td>\n",
       "    </tr>\n",
       "    <tr>\n",
       "      <th>3</th>\n",
       "      <td>2010</td>\n",
       "      <td>6</td>\n",
       "      <td>1</td>\n",
       "      <td>3</td>\n",
       "      <td>20.9</td>\n",
       "      <td>2010-06-01 03:00:00</td>\n",
       "    </tr>\n",
       "    <tr>\n",
       "      <th>4</th>\n",
       "      <td>2010</td>\n",
       "      <td>6</td>\n",
       "      <td>1</td>\n",
       "      <td>4</td>\n",
       "      <td>20.9</td>\n",
       "      <td>2010-06-01 04:00:00</td>\n",
       "    </tr>\n",
       "    <tr>\n",
       "      <th>...</th>\n",
       "      <td>...</td>\n",
       "      <td>...</td>\n",
       "      <td>...</td>\n",
       "      <td>...</td>\n",
       "      <td>...</td>\n",
       "      <td>...</td>\n",
       "    </tr>\n",
       "    <tr>\n",
       "      <th>104443</th>\n",
       "      <td>2022</td>\n",
       "      <td>4</td>\n",
       "      <td>30</td>\n",
       "      <td>19</td>\n",
       "      <td>10.8</td>\n",
       "      <td>2022-04-30 19:00:00</td>\n",
       "    </tr>\n",
       "    <tr>\n",
       "      <th>104444</th>\n",
       "      <td>2022</td>\n",
       "      <td>4</td>\n",
       "      <td>30</td>\n",
       "      <td>20</td>\n",
       "      <td>10.5</td>\n",
       "      <td>2022-04-30 20:00:00</td>\n",
       "    </tr>\n",
       "    <tr>\n",
       "      <th>104445</th>\n",
       "      <td>2022</td>\n",
       "      <td>4</td>\n",
       "      <td>30</td>\n",
       "      <td>21</td>\n",
       "      <td>12.0</td>\n",
       "      <td>2022-04-30 21:00:00</td>\n",
       "    </tr>\n",
       "    <tr>\n",
       "      <th>104446</th>\n",
       "      <td>2022</td>\n",
       "      <td>4</td>\n",
       "      <td>30</td>\n",
       "      <td>22</td>\n",
       "      <td>13.1</td>\n",
       "      <td>2022-04-30 22:00:00</td>\n",
       "    </tr>\n",
       "    <tr>\n",
       "      <th>104447</th>\n",
       "      <td>2022</td>\n",
       "      <td>4</td>\n",
       "      <td>30</td>\n",
       "      <td>23</td>\n",
       "      <td>14.4</td>\n",
       "      <td>2022-04-30 23:00:00</td>\n",
       "    </tr>\n",
       "  </tbody>\n",
       "</table>\n",
       "<p>104448 rows × 6 columns</p>\n",
       "</div>"
      ],
      "text/plain": [
       "        year  month  day  hour  temp                date\n",
       "0       2010      6    1     0  16.8 2010-06-01 00:00:00\n",
       "1       2010      6    1     1  17.9 2010-06-01 01:00:00\n",
       "2       2010      6    1     2  19.5 2010-06-01 02:00:00\n",
       "3       2010      6    1     3  20.9 2010-06-01 03:00:00\n",
       "4       2010      6    1     4  20.9 2010-06-01 04:00:00\n",
       "...      ...    ...  ...   ...   ...                 ...\n",
       "104443  2022      4   30    19  10.8 2022-04-30 19:00:00\n",
       "104444  2022      4   30    20  10.5 2022-04-30 20:00:00\n",
       "104445  2022      4   30    21  12.0 2022-04-30 21:00:00\n",
       "104446  2022      4   30    22  13.1 2022-04-30 22:00:00\n",
       "104447  2022      4   30    23  14.4 2022-04-30 23:00:00\n",
       "\n",
       "[104448 rows x 6 columns]"
      ]
     },
     "execution_count": 83,
     "metadata": {},
     "output_type": "execute_result"
    }
   ],
   "source": [
    "# 조인을 위해 date 컬럼 생성\n",
    "airset['date'] = pd.to_datetime(airset[['year', 'month', 'day','hour']])\n",
    "airset"
   ]
  },
  {
   "cell_type": "code",
   "execution_count": 84,
   "metadata": {},
   "outputs": [],
   "source": [
    "# date 컬럼을 기준으로 조인하기\n",
    "pollset = pd.merge(airset, airpoll, left_on=['year','month','day','hour','date'], right_on = ['year','month','day','hour','date'], how='outer')"
   ]
  },
  {
   "cell_type": "code",
   "execution_count": 85,
   "metadata": {},
   "outputs": [
    {
     "data": {
      "text/html": [
       "<div>\n",
       "<style scoped>\n",
       "    .dataframe tbody tr th:only-of-type {\n",
       "        vertical-align: middle;\n",
       "    }\n",
       "\n",
       "    .dataframe tbody tr th {\n",
       "        vertical-align: top;\n",
       "    }\n",
       "\n",
       "    .dataframe thead th {\n",
       "        text-align: right;\n",
       "    }\n",
       "</style>\n",
       "<table border=\"1\" class=\"dataframe\">\n",
       "  <thead>\n",
       "    <tr style=\"text-align: right;\">\n",
       "      <th></th>\n",
       "      <th>year</th>\n",
       "      <th>month</th>\n",
       "      <th>day</th>\n",
       "      <th>hour</th>\n",
       "      <th>temp</th>\n",
       "      <th>date</th>\n",
       "      <th>concentration</th>\n",
       "    </tr>\n",
       "  </thead>\n",
       "  <tbody>\n",
       "    <tr>\n",
       "      <th>0</th>\n",
       "      <td>2010</td>\n",
       "      <td>6</td>\n",
       "      <td>1</td>\n",
       "      <td>0</td>\n",
       "      <td>16.8</td>\n",
       "      <td>2010-06-01 00:00:00</td>\n",
       "      <td>9.5</td>\n",
       "    </tr>\n",
       "    <tr>\n",
       "      <th>1</th>\n",
       "      <td>2010</td>\n",
       "      <td>6</td>\n",
       "      <td>1</td>\n",
       "      <td>1</td>\n",
       "      <td>17.9</td>\n",
       "      <td>2010-06-01 01:00:00</td>\n",
       "      <td>12.0</td>\n",
       "    </tr>\n",
       "    <tr>\n",
       "      <th>2</th>\n",
       "      <td>2010</td>\n",
       "      <td>6</td>\n",
       "      <td>1</td>\n",
       "      <td>2</td>\n",
       "      <td>19.5</td>\n",
       "      <td>2010-06-01 02:00:00</td>\n",
       "      <td>9.0</td>\n",
       "    </tr>\n",
       "    <tr>\n",
       "      <th>3</th>\n",
       "      <td>2010</td>\n",
       "      <td>6</td>\n",
       "      <td>1</td>\n",
       "      <td>3</td>\n",
       "      <td>20.9</td>\n",
       "      <td>2010-06-01 03:00:00</td>\n",
       "      <td>8.0</td>\n",
       "    </tr>\n",
       "    <tr>\n",
       "      <th>4</th>\n",
       "      <td>2010</td>\n",
       "      <td>6</td>\n",
       "      <td>1</td>\n",
       "      <td>4</td>\n",
       "      <td>20.9</td>\n",
       "      <td>2010-06-01 04:00:00</td>\n",
       "      <td>6.0</td>\n",
       "    </tr>\n",
       "    <tr>\n",
       "      <th>...</th>\n",
       "      <td>...</td>\n",
       "      <td>...</td>\n",
       "      <td>...</td>\n",
       "      <td>...</td>\n",
       "      <td>...</td>\n",
       "      <td>...</td>\n",
       "      <td>...</td>\n",
       "    </tr>\n",
       "    <tr>\n",
       "      <th>104443</th>\n",
       "      <td>2022</td>\n",
       "      <td>4</td>\n",
       "      <td>30</td>\n",
       "      <td>19</td>\n",
       "      <td>10.8</td>\n",
       "      <td>2022-04-30 19:00:00</td>\n",
       "      <td>23.0</td>\n",
       "    </tr>\n",
       "    <tr>\n",
       "      <th>104444</th>\n",
       "      <td>2022</td>\n",
       "      <td>4</td>\n",
       "      <td>30</td>\n",
       "      <td>20</td>\n",
       "      <td>10.5</td>\n",
       "      <td>2022-04-30 20:00:00</td>\n",
       "      <td>18.0</td>\n",
       "    </tr>\n",
       "    <tr>\n",
       "      <th>104445</th>\n",
       "      <td>2022</td>\n",
       "      <td>4</td>\n",
       "      <td>30</td>\n",
       "      <td>21</td>\n",
       "      <td>12.0</td>\n",
       "      <td>2022-04-30 21:00:00</td>\n",
       "      <td>18.0</td>\n",
       "    </tr>\n",
       "    <tr>\n",
       "      <th>104446</th>\n",
       "      <td>2022</td>\n",
       "      <td>4</td>\n",
       "      <td>30</td>\n",
       "      <td>22</td>\n",
       "      <td>13.1</td>\n",
       "      <td>2022-04-30 22:00:00</td>\n",
       "      <td>15.0</td>\n",
       "    </tr>\n",
       "    <tr>\n",
       "      <th>104447</th>\n",
       "      <td>2022</td>\n",
       "      <td>4</td>\n",
       "      <td>30</td>\n",
       "      <td>23</td>\n",
       "      <td>14.4</td>\n",
       "      <td>2022-04-30 23:00:00</td>\n",
       "      <td>16.0</td>\n",
       "    </tr>\n",
       "  </tbody>\n",
       "</table>\n",
       "<p>104448 rows × 7 columns</p>\n",
       "</div>"
      ],
      "text/plain": [
       "        year  month  day  hour  temp                date  concentration\n",
       "0       2010      6    1     0  16.8 2010-06-01 00:00:00            9.5\n",
       "1       2010      6    1     1  17.9 2010-06-01 01:00:00           12.0\n",
       "2       2010      6    1     2  19.5 2010-06-01 02:00:00            9.0\n",
       "3       2010      6    1     3  20.9 2010-06-01 03:00:00            8.0\n",
       "4       2010      6    1     4  20.9 2010-06-01 04:00:00            6.0\n",
       "...      ...    ...  ...   ...   ...                 ...            ...\n",
       "104443  2022      4   30    19  10.8 2022-04-30 19:00:00           23.0\n",
       "104444  2022      4   30    20  10.5 2022-04-30 20:00:00           18.0\n",
       "104445  2022      4   30    21  12.0 2022-04-30 21:00:00           18.0\n",
       "104446  2022      4   30    22  13.1 2022-04-30 22:00:00           15.0\n",
       "104447  2022      4   30    23  14.4 2022-04-30 23:00:00           16.0\n",
       "\n",
       "[104448 rows x 7 columns]"
      ]
     },
     "execution_count": 85,
     "metadata": {},
     "output_type": "execute_result"
    }
   ],
   "source": [
    "pollset"
   ]
  },
  {
   "cell_type": "code",
   "execution_count": 86,
   "metadata": {},
   "outputs": [],
   "source": [
    "from scipy.interpolate import interp1d"
   ]
  },
  {
   "cell_type": "code",
   "execution_count": 87,
   "metadata": {},
   "outputs": [
    {
     "data": {
      "text/plain": [
       "4874"
      ]
     },
     "execution_count": 87,
     "metadata": {},
     "output_type": "execute_result"
    }
   ],
   "source": [
    "# 이미 결측치가 처리된 미세먼지 데이터에 반해 airset 데이터는 결측치 처리가 되지 않음\n",
    "pollset['concentration'].isna().sum()\n"
   ]
  },
  {
   "cell_type": "code",
   "execution_count": 88,
   "metadata": {},
   "outputs": [],
   "source": [
    "# 결측치를 3차다항식으로 보간해줌\n",
    "interpoll = pollset.copy()\n",
    "interpoll['concentration'] = interpoll['concentration'].interpolate(method='polynomial', order=3, limit=10)"
   ]
  },
  {
   "cell_type": "code",
   "execution_count": 89,
   "metadata": {},
   "outputs": [
    {
     "data": {
      "text/plain": [
       "4874"
      ]
     },
     "execution_count": 89,
     "metadata": {},
     "output_type": "execute_result"
    }
   ],
   "source": [
    "pollset['concentration'].isna().sum()"
   ]
  },
  {
   "cell_type": "markdown",
   "metadata": {},
   "source": [
    "# 여기부터 하기"
   ]
  },
  {
   "cell_type": "code",
   "execution_count": null,
   "metadata": {},
   "outputs": [],
   "source": [
    "# 이상치는 제거 후 최대값으로 대체\n"
   ]
  },
  {
   "cell_type": "code",
   "execution_count": 93,
   "metadata": {},
   "outputs": [],
   "source": [
    "import matplotlib\n",
    "matplotlib.rcParams['axes.unicode_minus'] = False"
   ]
  },
  {
   "cell_type": "code",
   "execution_count": 95,
   "metadata": {},
   "outputs": [
    {
     "data": {
      "text/plain": [
       "Text(0, 0.5, '미세먼지')"
      ]
     },
     "execution_count": 95,
     "metadata": {},
     "output_type": "execute_result"
    },
    {
     "data": {
      "image/png": "[encoded data removed]",
      "text/plain": [
       "<Figure size 1080x432 with 1 Axes>"
      ]
     },
     "metadata": {
      "needs_background": "light"
     },
     "output_type": "display_data"
    }
   ],
   "source": [
    "ax1 = sns.set_style(style=None, rc=None)\n",
    "#fig, ax1 = plt.subplots(figsize=(15,6))\n",
    "ax1.set_title(\"미세먼지와 기온\")\n",
    "sns.barplot(data = pollset,x =\"date\", y= \"concentration\",alpha=0.9,ax=ax1)\n",
    "ax1.set_ylabel(\"미세먼지\", fontsize=13)"
   ]
  },
  {
   "cell_type": "code",
   "execution_count": 96,
   "metadata": {},
   "outputs": [
    {
     "name": "stderr",
     "output_type": "stream",
     "text": [
      "Locator attempting to generate 7662 ticks ([-5235.0, ..., 109680.0]), which exceeds Locator.MAXTICKS (1000).\n"
     ]
    }
   ],
   "source": [
    "\n",
    "\n",
    "#ax2 = ax1.twinx()\n",
    "ax2.set_ylabel(\"기온 (℃)\", fontsize=13)\n",
    "sns.lineplot(data = pollset['temp'], sort = False, color='red', label='기온 (℃)',ax=ax2, alpha=0.5, linewidth=0.3)\n",
    "\n",
    "plt.show()\n"
   ]
  },
  {
   "cell_type": "markdown",
   "metadata": {},
   "source": [
    "- "
   ]
  },
  {
   "cell_type": "markdown",
   "metadata": {},
   "source": [
    "# 10. 나무를 많이 심으면 온도가 떨어진다. (대구 녹지사업 참고)\n",
    "- made by "
   ]
  },
  {
   "cell_type": "code",
   "execution_count": 91,
   "metadata": {},
   "outputs": [
    {
     "data": {
      "text/html": [
       "<div>\n",
       "<style scoped>\n",
       "    .dataframe tbody tr th:only-of-type {\n",
       "        vertical-align: middle;\n",
       "    }\n",
       "\n",
       "    .dataframe tbody tr th {\n",
       "        vertical-align: top;\n",
       "    }\n",
       "\n",
       "    .dataframe thead th {\n",
       "        text-align: right;\n",
       "    }\n",
       "</style>\n",
       "<table border=\"1\" class=\"dataframe\">\n",
       "  <thead>\n",
       "    <tr style=\"text-align: right;\">\n",
       "      <th></th>\n",
       "      <th>region1</th>\n",
       "      <th>region2</th>\n",
       "      <th>region3</th>\n",
       "    </tr>\n",
       "  </thead>\n",
       "  <tbody>\n",
       "    <tr>\n",
       "      <th>0</th>\n",
       "      <td>대구광역시</td>\n",
       "      <td>중구</td>\n",
       "      <td>동인동</td>\n",
       "    </tr>\n",
       "    <tr>\n",
       "      <th>1</th>\n",
       "      <td>대구광역시</td>\n",
       "      <td>중구</td>\n",
       "      <td>삼덕동</td>\n",
       "    </tr>\n",
       "    <tr>\n",
       "      <th>2</th>\n",
       "      <td>대구광역시</td>\n",
       "      <td>중구</td>\n",
       "      <td>성내1동</td>\n",
       "    </tr>\n",
       "    <tr>\n",
       "      <th>3</th>\n",
       "      <td>대구광역시</td>\n",
       "      <td>중구</td>\n",
       "      <td>성내2동</td>\n",
       "    </tr>\n",
       "    <tr>\n",
       "      <th>4</th>\n",
       "      <td>대구광역시</td>\n",
       "      <td>중구</td>\n",
       "      <td>성내3동</td>\n",
       "    </tr>\n",
       "    <tr>\n",
       "      <th>...</th>\n",
       "      <td>...</td>\n",
       "      <td>...</td>\n",
       "      <td>...</td>\n",
       "    </tr>\n",
       "    <tr>\n",
       "      <th>137</th>\n",
       "      <td>대구광역시</td>\n",
       "      <td>달성군</td>\n",
       "      <td>옥포읍</td>\n",
       "    </tr>\n",
       "    <tr>\n",
       "      <th>138</th>\n",
       "      <td>대구광역시</td>\n",
       "      <td>달성군</td>\n",
       "      <td>현풍읍</td>\n",
       "    </tr>\n",
       "    <tr>\n",
       "      <th>139</th>\n",
       "      <td>대구광역시</td>\n",
       "      <td>달성군</td>\n",
       "      <td>가창면</td>\n",
       "    </tr>\n",
       "    <tr>\n",
       "      <th>140</th>\n",
       "      <td>대구광역시</td>\n",
       "      <td>달성군</td>\n",
       "      <td>하빈면</td>\n",
       "    </tr>\n",
       "    <tr>\n",
       "      <th>141</th>\n",
       "      <td>대구광역시</td>\n",
       "      <td>달성군</td>\n",
       "      <td>구지면</td>\n",
       "    </tr>\n",
       "  </tbody>\n",
       "</table>\n",
       "<p>142 rows × 3 columns</p>\n",
       "</div>"
      ],
      "text/plain": [
       "    region1 region2 region3\n",
       "0     대구광역시      중구     동인동\n",
       "1     대구광역시      중구     삼덕동\n",
       "2     대구광역시      중구    성내1동\n",
       "3     대구광역시      중구    성내2동\n",
       "4     대구광역시      중구    성내3동\n",
       "..      ...     ...     ...\n",
       "137   대구광역시     달성군     옥포읍\n",
       "138   대구광역시     달성군     현풍읍\n",
       "139   대구광역시     달성군     가창면\n",
       "140   대구광역시     달성군     하빈면\n",
       "141   대구광역시     달성군     구지면\n",
       "\n",
       "[142 rows x 3 columns]"
      ]
     },
     "execution_count": 91,
     "metadata": {},
     "output_type": "execute_result"
    }
   ],
   "source": [
    "df_region = pd.read_csv('./dataset/Daegu/0 REGION.csv')\n",
    "df_region"
   ]
  },
  {
   "cell_type": "code",
   "execution_count": 92,
   "metadata": {},
   "outputs": [
    {
     "ename": "KeyError",
     "evalue": "'1단계'",
     "output_type": "error",
     "traceback": [
      "\u001b[1;31m---------------------------------------------------------------------------\u001b[0m",
      "\u001b[1;31mKeyError\u001b[0m                                  Traceback (most recent call last)",
      "File \u001b[1;32mc:\\github\\Team_Project\\.venv\\lib\\site-packages\\pandas\\core\\indexes\\base.py:3621\u001b[0m, in \u001b[0;36mIndex.get_loc\u001b[1;34m(self, key, method, tolerance)\u001b[0m\n\u001b[0;32m   <a href='file:///c%3A/github/Team_Project/.venv/lib/site-packages/pandas/core/indexes/base.py?line=3619'>3620</a>\u001b[0m \u001b[39mtry\u001b[39;00m:\n\u001b[1;32m-> <a href='file:///c%3A/github/Team_Project/.venv/lib/site-packages/pandas/core/indexes/base.py?line=3620'>3621</a>\u001b[0m     \u001b[39mreturn\u001b[39;00m \u001b[39mself\u001b[39;49m\u001b[39m.\u001b[39;49m_engine\u001b[39m.\u001b[39;49mget_loc(casted_key)\n\u001b[0;32m   <a href='file:///c%3A/github/Team_Project/.venv/lib/site-packages/pandas/core/indexes/base.py?line=3621'>3622</a>\u001b[0m \u001b[39mexcept\u001b[39;00m \u001b[39mKeyError\u001b[39;00m \u001b[39mas\u001b[39;00m err:\n",
      "File \u001b[1;32mc:\\github\\Team_Project\\.venv\\lib\\site-packages\\pandas\\_libs\\index.pyx:136\u001b[0m, in \u001b[0;36mpandas._libs.index.IndexEngine.get_loc\u001b[1;34m()\u001b[0m\n",
      "File \u001b[1;32mc:\\github\\Team_Project\\.venv\\lib\\site-packages\\pandas\\_libs\\index.pyx:163\u001b[0m, in \u001b[0;36mpandas._libs.index.IndexEngine.get_loc\u001b[1;34m()\u001b[0m\n",
      "File \u001b[1;32mpandas\\_libs\\hashtable_class_helper.pxi:5198\u001b[0m, in \u001b[0;36mpandas._libs.hashtable.PyObjectHashTable.get_item\u001b[1;34m()\u001b[0m\n",
      "File \u001b[1;32mpandas\\_libs\\hashtable_class_helper.pxi:5206\u001b[0m, in \u001b[0;36mpandas._libs.hashtable.PyObjectHashTable.get_item\u001b[1;34m()\u001b[0m\n",
      "\u001b[1;31mKeyError\u001b[0m: '1단계'",
      "\nThe above exception was the direct cause of the following exception:\n",
      "\u001b[1;31mKeyError\u001b[0m                                  Traceback (most recent call last)",
      "\u001b[1;32mc:\\github\\Team_Project\\EDA_base MJ.ipynb Cell 113'\u001b[0m in \u001b[0;36m<cell line: 1>\u001b[1;34m()\u001b[0m\n\u001b[1;32m----> <a href='vscode-notebook-cell:/c%3A/github/Team_Project/EDA_base%20MJ.ipynb#ch0000116?line=0'>1</a>\u001b[0m index_None \u001b[39m=\u001b[39m df_region[df_region[\u001b[39m'\u001b[39;49m\u001b[39m1단계\u001b[39;49m\u001b[39m'\u001b[39;49m]\u001b[39m.\u001b[39misna()]\u001b[39m.\u001b[39mindex\n\u001b[0;32m      <a href='vscode-notebook-cell:/c%3A/github/Team_Project/EDA_base%20MJ.ipynb#ch0000116?line=1'>2</a>\u001b[0m df_region\u001b[39m.\u001b[39mdrop(index_None, inplace\u001b[39m=\u001b[39m\u001b[39mTrue\u001b[39;00m)\n\u001b[0;32m      <a href='vscode-notebook-cell:/c%3A/github/Team_Project/EDA_base%20MJ.ipynb#ch0000116?line=2'>3</a>\u001b[0m df_region\u001b[39m.\u001b[39mdrop(\u001b[39m'\u001b[39m\u001b[39m1단계\u001b[39m\u001b[39m'\u001b[39m, axis\u001b[39m=\u001b[39m\u001b[39m1\u001b[39m, inplace\u001b[39m=\u001b[39m\u001b[39mTrue\u001b[39;00m)\n",
      "File \u001b[1;32mc:\\github\\Team_Project\\.venv\\lib\\site-packages\\pandas\\core\\frame.py:3505\u001b[0m, in \u001b[0;36mDataFrame.__getitem__\u001b[1;34m(self, key)\u001b[0m\n\u001b[0;32m   <a href='file:///c%3A/github/Team_Project/.venv/lib/site-packages/pandas/core/frame.py?line=3502'>3503</a>\u001b[0m \u001b[39mif\u001b[39;00m \u001b[39mself\u001b[39m\u001b[39m.\u001b[39mcolumns\u001b[39m.\u001b[39mnlevels \u001b[39m>\u001b[39m \u001b[39m1\u001b[39m:\n\u001b[0;32m   <a href='file:///c%3A/github/Team_Project/.venv/lib/site-packages/pandas/core/frame.py?line=3503'>3504</a>\u001b[0m     \u001b[39mreturn\u001b[39;00m \u001b[39mself\u001b[39m\u001b[39m.\u001b[39m_getitem_multilevel(key)\n\u001b[1;32m-> <a href='file:///c%3A/github/Team_Project/.venv/lib/site-packages/pandas/core/frame.py?line=3504'>3505</a>\u001b[0m indexer \u001b[39m=\u001b[39m \u001b[39mself\u001b[39;49m\u001b[39m.\u001b[39;49mcolumns\u001b[39m.\u001b[39;49mget_loc(key)\n\u001b[0;32m   <a href='file:///c%3A/github/Team_Project/.venv/lib/site-packages/pandas/core/frame.py?line=3505'>3506</a>\u001b[0m \u001b[39mif\u001b[39;00m is_integer(indexer):\n\u001b[0;32m   <a href='file:///c%3A/github/Team_Project/.venv/lib/site-packages/pandas/core/frame.py?line=3506'>3507</a>\u001b[0m     indexer \u001b[39m=\u001b[39m [indexer]\n",
      "File \u001b[1;32mc:\\github\\Team_Project\\.venv\\lib\\site-packages\\pandas\\core\\indexes\\base.py:3623\u001b[0m, in \u001b[0;36mIndex.get_loc\u001b[1;34m(self, key, method, tolerance)\u001b[0m\n\u001b[0;32m   <a href='file:///c%3A/github/Team_Project/.venv/lib/site-packages/pandas/core/indexes/base.py?line=3620'>3621</a>\u001b[0m     \u001b[39mreturn\u001b[39;00m \u001b[39mself\u001b[39m\u001b[39m.\u001b[39m_engine\u001b[39m.\u001b[39mget_loc(casted_key)\n\u001b[0;32m   <a href='file:///c%3A/github/Team_Project/.venv/lib/site-packages/pandas/core/indexes/base.py?line=3621'>3622</a>\u001b[0m \u001b[39mexcept\u001b[39;00m \u001b[39mKeyError\u001b[39;00m \u001b[39mas\u001b[39;00m err:\n\u001b[1;32m-> <a href='file:///c%3A/github/Team_Project/.venv/lib/site-packages/pandas/core/indexes/base.py?line=3622'>3623</a>\u001b[0m     \u001b[39mraise\u001b[39;00m \u001b[39mKeyError\u001b[39;00m(key) \u001b[39mfrom\u001b[39;00m \u001b[39merr\u001b[39;00m\n\u001b[0;32m   <a href='file:///c%3A/github/Team_Project/.venv/lib/site-packages/pandas/core/indexes/base.py?line=3623'>3624</a>\u001b[0m \u001b[39mexcept\u001b[39;00m \u001b[39mTypeError\u001b[39;00m:\n\u001b[0;32m   <a href='file:///c%3A/github/Team_Project/.venv/lib/site-packages/pandas/core/indexes/base.py?line=3624'>3625</a>\u001b[0m     \u001b[39m# If we have a listlike key, _check_indexing_error will raise\u001b[39;00m\n\u001b[0;32m   <a href='file:///c%3A/github/Team_Project/.venv/lib/site-packages/pandas/core/indexes/base.py?line=3625'>3626</a>\u001b[0m     \u001b[39m#  InvalidIndexError. Otherwise we fall through and re-raise\u001b[39;00m\n\u001b[0;32m   <a href='file:///c%3A/github/Team_Project/.venv/lib/site-packages/pandas/core/indexes/base.py?line=3626'>3627</a>\u001b[0m     \u001b[39m#  the TypeError.\u001b[39;00m\n\u001b[0;32m   <a href='file:///c%3A/github/Team_Project/.venv/lib/site-packages/pandas/core/indexes/base.py?line=3627'>3628</a>\u001b[0m     \u001b[39mself\u001b[39m\u001b[39m.\u001b[39m_check_indexing_error(key)\n",
      "\u001b[1;31mKeyError\u001b[0m: '1단계'"
     ]
    }
   ],
   "source": [
    "index_None = df_region[df_region['1단계'].isna()].index\n",
    "df_region.drop(index_None, inplace=True)\n",
    "df_region.drop('1단계', axis=1, inplace=True)\n",
    "df_region.columns = ['region2','region']"
   ]
  },
  {
   "cell_type": "code",
   "execution_count": null,
   "metadata": {},
   "outputs": [
    {
     "data": {
      "text/html": [
       "<div>\n",
       "<style scoped>\n",
       "    .dataframe tbody tr th:only-of-type {\n",
       "        vertical-align: middle;\n",
       "    }\n",
       "\n",
       "    .dataframe tbody tr th {\n",
       "        vertical-align: top;\n",
       "    }\n",
       "\n",
       "    .dataframe thead th {\n",
       "        text-align: right;\n",
       "    }\n",
       "</style>\n",
       "<table border=\"1\" class=\"dataframe\">\n",
       "  <thead>\n",
       "    <tr style=\"text-align: right;\">\n",
       "      <th></th>\n",
       "      <th>region1</th>\n",
       "      <th>region2</th>\n",
       "      <th>region3</th>\n",
       "    </tr>\n",
       "  </thead>\n",
       "  <tbody>\n",
       "    <tr>\n",
       "      <th>0</th>\n",
       "      <td>대구광역시</td>\n",
       "      <td>중구</td>\n",
       "      <td>동인동</td>\n",
       "    </tr>\n",
       "    <tr>\n",
       "      <th>1</th>\n",
       "      <td>대구광역시</td>\n",
       "      <td>중구</td>\n",
       "      <td>삼덕동</td>\n",
       "    </tr>\n",
       "    <tr>\n",
       "      <th>2</th>\n",
       "      <td>대구광역시</td>\n",
       "      <td>중구</td>\n",
       "      <td>성내1동</td>\n",
       "    </tr>\n",
       "    <tr>\n",
       "      <th>3</th>\n",
       "      <td>대구광역시</td>\n",
       "      <td>중구</td>\n",
       "      <td>성내2동</td>\n",
       "    </tr>\n",
       "    <tr>\n",
       "      <th>4</th>\n",
       "      <td>대구광역시</td>\n",
       "      <td>중구</td>\n",
       "      <td>성내3동</td>\n",
       "    </tr>\n",
       "    <tr>\n",
       "      <th>...</th>\n",
       "      <td>...</td>\n",
       "      <td>...</td>\n",
       "      <td>...</td>\n",
       "    </tr>\n",
       "    <tr>\n",
       "      <th>137</th>\n",
       "      <td>대구광역시</td>\n",
       "      <td>달성군</td>\n",
       "      <td>옥포읍</td>\n",
       "    </tr>\n",
       "    <tr>\n",
       "      <th>138</th>\n",
       "      <td>대구광역시</td>\n",
       "      <td>달성군</td>\n",
       "      <td>현풍읍</td>\n",
       "    </tr>\n",
       "    <tr>\n",
       "      <th>139</th>\n",
       "      <td>대구광역시</td>\n",
       "      <td>달성군</td>\n",
       "      <td>가창면</td>\n",
       "    </tr>\n",
       "    <tr>\n",
       "      <th>140</th>\n",
       "      <td>대구광역시</td>\n",
       "      <td>달성군</td>\n",
       "      <td>하빈면</td>\n",
       "    </tr>\n",
       "    <tr>\n",
       "      <th>141</th>\n",
       "      <td>대구광역시</td>\n",
       "      <td>달성군</td>\n",
       "      <td>구지면</td>\n",
       "    </tr>\n",
       "  </tbody>\n",
       "</table>\n",
       "<p>142 rows × 3 columns</p>\n",
       "</div>"
      ],
      "text/plain": [
       "    region1 region2 region3\n",
       "0     대구광역시      중구     동인동\n",
       "1     대구광역시      중구     삼덕동\n",
       "2     대구광역시      중구    성내1동\n",
       "3     대구광역시      중구    성내2동\n",
       "4     대구광역시      중구    성내3동\n",
       "..      ...     ...     ...\n",
       "137   대구광역시     달성군     옥포읍\n",
       "138   대구광역시     달성군     현풍읍\n",
       "139   대구광역시     달성군     가창면\n",
       "140   대구광역시     달성군     하빈면\n",
       "141   대구광역시     달성군     구지면\n",
       "\n",
       "[142 rows x 3 columns]"
      ]
     },
     "execution_count": 82,
     "metadata": {},
     "output_type": "execute_result"
    }
   ],
   "source": [
    "df_region"
   ]
  },
  {
   "cell_type": "code",
   "execution_count": null,
   "metadata": {},
   "outputs": [
    {
     "data": {
      "text/html": [
       "<div>\n",
       "<style scoped>\n",
       "    .dataframe tbody tr th:only-of-type {\n",
       "        vertical-align: middle;\n",
       "    }\n",
       "\n",
       "    .dataframe tbody tr th {\n",
       "        vertical-align: top;\n",
       "    }\n",
       "\n",
       "    .dataframe thead th {\n",
       "        text-align: right;\n",
       "    }\n",
       "</style>\n",
       "<table border=\"1\" class=\"dataframe\">\n",
       "  <thead>\n",
       "    <tr style=\"text-align: right;\">\n",
       "      <th></th>\n",
       "      <th>year</th>\n",
       "      <th>month</th>\n",
       "      <th>day</th>\n",
       "      <th>hour</th>\n",
       "      <th>datetime</th>\n",
       "      <th>temp</th>\n",
       "      <th>rainfall</th>\n",
       "      <th>lightning</th>\n",
       "      <th>humidity</th>\n",
       "      <th>wind_speed</th>\n",
       "      <th>wind_direction</th>\n",
       "      <th>condition</th>\n",
       "      <th>region</th>\n",
       "      <th>HI</th>\n",
       "      <th>DI</th>\n",
       "    </tr>\n",
       "  </thead>\n",
       "  <tbody>\n",
       "    <tr>\n",
       "      <th>0</th>\n",
       "      <td>2010</td>\n",
       "      <td>6</td>\n",
       "      <td>1</td>\n",
       "      <td>0</td>\n",
       "      <td>2010-06-01 00:00:00</td>\n",
       "      <td>16.5</td>\n",
       "      <td>0.0</td>\n",
       "      <td>-1</td>\n",
       "      <td>53.0</td>\n",
       "      <td>NaN</td>\n",
       "      <td>NaN</td>\n",
       "      <td>1</td>\n",
       "      <td>동인동</td>\n",
       "      <td>15.589444</td>\n",
       "      <td>60.74355</td>\n",
       "    </tr>\n",
       "    <tr>\n",
       "      <th>1</th>\n",
       "      <td>2010</td>\n",
       "      <td>6</td>\n",
       "      <td>1</td>\n",
       "      <td>1</td>\n",
       "      <td>2010-06-01 01:00:00</td>\n",
       "      <td>18.1</td>\n",
       "      <td>0.0</td>\n",
       "      <td>-1</td>\n",
       "      <td>49.0</td>\n",
       "      <td>NaN</td>\n",
       "      <td>NaN</td>\n",
       "      <td>1</td>\n",
       "      <td>동인동</td>\n",
       "      <td>17.245000</td>\n",
       "      <td>62.73431</td>\n",
       "    </tr>\n",
       "    <tr>\n",
       "      <th>2</th>\n",
       "      <td>2010</td>\n",
       "      <td>6</td>\n",
       "      <td>1</td>\n",
       "      <td>2</td>\n",
       "      <td>2010-06-01 02:00:00</td>\n",
       "      <td>19.7</td>\n",
       "      <td>0.0</td>\n",
       "      <td>-1</td>\n",
       "      <td>46.0</td>\n",
       "      <td>NaN</td>\n",
       "      <td>NaN</td>\n",
       "      <td>1</td>\n",
       "      <td>동인동</td>\n",
       "      <td>18.926667</td>\n",
       "      <td>64.65038</td>\n",
       "    </tr>\n",
       "    <tr>\n",
       "      <th>3</th>\n",
       "      <td>2010</td>\n",
       "      <td>6</td>\n",
       "      <td>1</td>\n",
       "      <td>3</td>\n",
       "      <td>2010-06-01 03:00:00</td>\n",
       "      <td>20.8</td>\n",
       "      <td>0.0</td>\n",
       "      <td>-1</td>\n",
       "      <td>41.0</td>\n",
       "      <td>NaN</td>\n",
       "      <td>NaN</td>\n",
       "      <td>1</td>\n",
       "      <td>동인동</td>\n",
       "      <td>20.006111</td>\n",
       "      <td>65.72772</td>\n",
       "    </tr>\n",
       "    <tr>\n",
       "      <th>4</th>\n",
       "      <td>2010</td>\n",
       "      <td>6</td>\n",
       "      <td>1</td>\n",
       "      <td>4</td>\n",
       "      <td>2010-06-01 04:00:00</td>\n",
       "      <td>22.2</td>\n",
       "      <td>0.0</td>\n",
       "      <td>-1</td>\n",
       "      <td>36.0</td>\n",
       "      <td>NaN</td>\n",
       "      <td>NaN</td>\n",
       "      <td>2</td>\n",
       "      <td>동인동</td>\n",
       "      <td>21.415556</td>\n",
       "      <td>67.04608</td>\n",
       "    </tr>\n",
       "    <tr>\n",
       "      <th>...</th>\n",
       "      <td>...</td>\n",
       "      <td>...</td>\n",
       "      <td>...</td>\n",
       "      <td>...</td>\n",
       "      <td>...</td>\n",
       "      <td>...</td>\n",
       "      <td>...</td>\n",
       "      <td>...</td>\n",
       "      <td>...</td>\n",
       "      <td>...</td>\n",
       "      <td>...</td>\n",
       "      <td>...</td>\n",
       "      <td>...</td>\n",
       "      <td>...</td>\n",
       "      <td>...</td>\n",
       "    </tr>\n",
       "    <tr>\n",
       "      <th>14831611</th>\n",
       "      <td>2022</td>\n",
       "      <td>4</td>\n",
       "      <td>30</td>\n",
       "      <td>19</td>\n",
       "      <td>2022-04-30 19:00:00</td>\n",
       "      <td>10.7</td>\n",
       "      <td>0.0</td>\n",
       "      <td>-1</td>\n",
       "      <td>71.0</td>\n",
       "      <td>2.1</td>\n",
       "      <td>335.0</td>\n",
       "      <td>-1</td>\n",
       "      <td>구지면</td>\n",
       "      <td>9.679444</td>\n",
       "      <td>52.33503</td>\n",
       "    </tr>\n",
       "    <tr>\n",
       "      <th>14831612</th>\n",
       "      <td>2022</td>\n",
       "      <td>4</td>\n",
       "      <td>30</td>\n",
       "      <td>20</td>\n",
       "      <td>2022-04-30 20:00:00</td>\n",
       "      <td>11.0</td>\n",
       "      <td>0.0</td>\n",
       "      <td>-1</td>\n",
       "      <td>65.0</td>\n",
       "      <td>2.2</td>\n",
       "      <td>339.0</td>\n",
       "      <td>-1</td>\n",
       "      <td>구지면</td>\n",
       "      <td>9.852778</td>\n",
       "      <td>52.99350</td>\n",
       "    </tr>\n",
       "    <tr>\n",
       "      <th>14831613</th>\n",
       "      <td>2022</td>\n",
       "      <td>4</td>\n",
       "      <td>30</td>\n",
       "      <td>21</td>\n",
       "      <td>2022-04-30 21:00:00</td>\n",
       "      <td>11.9</td>\n",
       "      <td>0.0</td>\n",
       "      <td>-1</td>\n",
       "      <td>61.0</td>\n",
       "      <td>2.2</td>\n",
       "      <td>338.0</td>\n",
       "      <td>-1</td>\n",
       "      <td>구지면</td>\n",
       "      <td>10.738333</td>\n",
       "      <td>54.40241</td>\n",
       "    </tr>\n",
       "    <tr>\n",
       "      <th>14831614</th>\n",
       "      <td>2022</td>\n",
       "      <td>4</td>\n",
       "      <td>30</td>\n",
       "      <td>22</td>\n",
       "      <td>2022-04-30 22:00:00</td>\n",
       "      <td>13.4</td>\n",
       "      <td>0.0</td>\n",
       "      <td>-1</td>\n",
       "      <td>53.0</td>\n",
       "      <td>2.0</td>\n",
       "      <td>351.0</td>\n",
       "      <td>-1</td>\n",
       "      <td>구지면</td>\n",
       "      <td>12.179444</td>\n",
       "      <td>56.60598</td>\n",
       "    </tr>\n",
       "    <tr>\n",
       "      <th>14831615</th>\n",
       "      <td>2022</td>\n",
       "      <td>4</td>\n",
       "      <td>30</td>\n",
       "      <td>23</td>\n",
       "      <td>2022-04-30 23:00:00</td>\n",
       "      <td>15.1</td>\n",
       "      <td>0.0</td>\n",
       "      <td>-1</td>\n",
       "      <td>41.0</td>\n",
       "      <td>2.1</td>\n",
       "      <td>5.0</td>\n",
       "      <td>-1</td>\n",
       "      <td>구지면</td>\n",
       "      <td>13.736111</td>\n",
       "      <td>58.79709</td>\n",
       "    </tr>\n",
       "  </tbody>\n",
       "</table>\n",
       "<p>14831616 rows × 15 columns</p>\n",
       "</div>"
      ],
      "text/plain": [
       "          year  month  day  hour             datetime  temp  rainfall  \\\n",
       "0         2010      6    1     0  2010-06-01 00:00:00  16.5       0.0   \n",
       "1         2010      6    1     1  2010-06-01 01:00:00  18.1       0.0   \n",
       "2         2010      6    1     2  2010-06-01 02:00:00  19.7       0.0   \n",
       "3         2010      6    1     3  2010-06-01 03:00:00  20.8       0.0   \n",
       "4         2010      6    1     4  2010-06-01 04:00:00  22.2       0.0   \n",
       "...        ...    ...  ...   ...                  ...   ...       ...   \n",
       "14831611  2022      4   30    19  2022-04-30 19:00:00  10.7       0.0   \n",
       "14831612  2022      4   30    20  2022-04-30 20:00:00  11.0       0.0   \n",
       "14831613  2022      4   30    21  2022-04-30 21:00:00  11.9       0.0   \n",
       "14831614  2022      4   30    22  2022-04-30 22:00:00  13.4       0.0   \n",
       "14831615  2022      4   30    23  2022-04-30 23:00:00  15.1       0.0   \n",
       "\n",
       "          lightning  humidity  wind_speed  wind_direction  condition region  \\\n",
       "0                -1      53.0         NaN             NaN          1    동인동   \n",
       "1                -1      49.0         NaN             NaN          1    동인동   \n",
       "2                -1      46.0         NaN             NaN          1    동인동   \n",
       "3                -1      41.0         NaN             NaN          1    동인동   \n",
       "4                -1      36.0         NaN             NaN          2    동인동   \n",
       "...             ...       ...         ...             ...        ...    ...   \n",
       "14831611         -1      71.0         2.1           335.0         -1    구지면   \n",
       "14831612         -1      65.0         2.2           339.0         -1    구지면   \n",
       "14831613         -1      61.0         2.2           338.0         -1    구지면   \n",
       "14831614         -1      53.0         2.0           351.0         -1    구지면   \n",
       "14831615         -1      41.0         2.1             5.0         -1    구지면   \n",
       "\n",
       "                 HI        DI  \n",
       "0         15.589444  60.74355  \n",
       "1         17.245000  62.73431  \n",
       "2         18.926667  64.65038  \n",
       "3         20.006111  65.72772  \n",
       "4         21.415556  67.04608  \n",
       "...             ...       ...  \n",
       "14831611   9.679444  52.33503  \n",
       "14831612   9.852778  52.99350  \n",
       "14831613  10.738333  54.40241  \n",
       "14831614  12.179444  56.60598  \n",
       "14831615  13.736111  58.79709  \n",
       "\n",
       "[14831616 rows x 15 columns]"
      ]
     },
     "execution_count": 83,
     "metadata": {},
     "output_type": "execute_result"
    }
   ],
   "source": [
    "df_pre"
   ]
  },
  {
   "cell_type": "code",
   "execution_count": null,
   "metadata": {},
   "outputs": [
    {
     "ename": "KeyError",
     "evalue": "'region'",
     "output_type": "error",
     "traceback": [
      "\u001b[1;31m---------------------------------------------------------------------------\u001b[0m",
      "\u001b[1;31mKeyError\u001b[0m                                  Traceback (most recent call last)",
      "\u001b[1;32mc:\\git_project\\Team_Project\\EDA_base MJ.ipynb Cell 113'\u001b[0m in \u001b[0;36m<cell line: 1>\u001b[1;34m()\u001b[0m\n\u001b[1;32m----> <a href='vscode-notebook-cell:/c%3A/git_project/Team_Project/EDA_base%20MJ.ipynb#ch0000127?line=0'>1</a>\u001b[0m df_10 \u001b[39m=\u001b[39m df_pre\u001b[39m.\u001b[39;49mmerge(df_region, on\u001b[39m=\u001b[39;49m\u001b[39m'\u001b[39;49m\u001b[39mregion\u001b[39;49m\u001b[39m'\u001b[39;49m)\n",
      "File \u001b[1;32mc:\\git_project\\Team_Project\\.venv\\lib\\site-packages\\pandas\\core\\frame.py:9345\u001b[0m, in \u001b[0;36mDataFrame.merge\u001b[1;34m(self, right, how, on, left_on, right_on, left_index, right_index, sort, suffixes, copy, indicator, validate)\u001b[0m\n\u001b[0;32m   <a href='file:///c%3A/git_project/Team_Project/.venv/lib/site-packages/pandas/core/frame.py?line=9325'>9326</a>\u001b[0m \u001b[39m@Substitution\u001b[39m(\u001b[39m\"\u001b[39m\u001b[39m\"\u001b[39m)\n\u001b[0;32m   <a href='file:///c%3A/git_project/Team_Project/.venv/lib/site-packages/pandas/core/frame.py?line=9326'>9327</a>\u001b[0m \u001b[39m@Appender\u001b[39m(_merge_doc, indents\u001b[39m=\u001b[39m\u001b[39m2\u001b[39m)\n\u001b[0;32m   <a href='file:///c%3A/git_project/Team_Project/.venv/lib/site-packages/pandas/core/frame.py?line=9327'>9328</a>\u001b[0m \u001b[39mdef\u001b[39;00m \u001b[39mmerge\u001b[39m(\n\u001b[1;32m   (...)\u001b[0m\n\u001b[0;32m   <a href='file:///c%3A/git_project/Team_Project/.venv/lib/site-packages/pandas/core/frame.py?line=9340'>9341</a>\u001b[0m     validate: \u001b[39mstr\u001b[39m \u001b[39m|\u001b[39m \u001b[39mNone\u001b[39;00m \u001b[39m=\u001b[39m \u001b[39mNone\u001b[39;00m,\n\u001b[0;32m   <a href='file:///c%3A/git_project/Team_Project/.venv/lib/site-packages/pandas/core/frame.py?line=9341'>9342</a>\u001b[0m ) \u001b[39m-\u001b[39m\u001b[39m>\u001b[39m DataFrame:\n\u001b[0;32m   <a href='file:///c%3A/git_project/Team_Project/.venv/lib/site-packages/pandas/core/frame.py?line=9342'>9343</a>\u001b[0m     \u001b[39mfrom\u001b[39;00m \u001b[39mpandas\u001b[39;00m\u001b[39m.\u001b[39;00m\u001b[39mcore\u001b[39;00m\u001b[39m.\u001b[39;00m\u001b[39mreshape\u001b[39;00m\u001b[39m.\u001b[39;00m\u001b[39mmerge\u001b[39;00m \u001b[39mimport\u001b[39;00m merge\n\u001b[1;32m-> <a href='file:///c%3A/git_project/Team_Project/.venv/lib/site-packages/pandas/core/frame.py?line=9344'>9345</a>\u001b[0m     \u001b[39mreturn\u001b[39;00m merge(\n\u001b[0;32m   <a href='file:///c%3A/git_project/Team_Project/.venv/lib/site-packages/pandas/core/frame.py?line=9345'>9346</a>\u001b[0m         \u001b[39mself\u001b[39;49m,\n\u001b[0;32m   <a href='file:///c%3A/git_project/Team_Project/.venv/lib/site-packages/pandas/core/frame.py?line=9346'>9347</a>\u001b[0m         right,\n\u001b[0;32m   <a href='file:///c%3A/git_project/Team_Project/.venv/lib/site-packages/pandas/core/frame.py?line=9347'>9348</a>\u001b[0m         how\u001b[39m=\u001b[39;49mhow,\n\u001b[0;32m   <a href='file:///c%3A/git_project/Team_Project/.venv/lib/site-packages/pandas/core/frame.py?line=9348'>9349</a>\u001b[0m         on\u001b[39m=\u001b[39;49mon,\n\u001b[0;32m   <a href='file:///c%3A/git_project/Team_Project/.venv/lib/site-packages/pandas/core/frame.py?line=9349'>9350</a>\u001b[0m         left_on\u001b[39m=\u001b[39;49mleft_on,\n\u001b[0;32m   <a href='file:///c%3A/git_project/Team_Project/.venv/lib/site-packages/pandas/core/frame.py?line=9350'>9351</a>\u001b[0m         right_on\u001b[39m=\u001b[39;49mright_on,\n\u001b[0;32m   <a href='file:///c%3A/git_project/Team_Project/.venv/lib/site-packages/pandas/core/frame.py?line=9351'>9352</a>\u001b[0m         left_index\u001b[39m=\u001b[39;49mleft_index,\n\u001b[0;32m   <a href='file:///c%3A/git_project/Team_Project/.venv/lib/site-packages/pandas/core/frame.py?line=9352'>9353</a>\u001b[0m         right_index\u001b[39m=\u001b[39;49mright_index,\n\u001b[0;32m   <a href='file:///c%3A/git_project/Team_Project/.venv/lib/site-packages/pandas/core/frame.py?line=9353'>9354</a>\u001b[0m         sort\u001b[39m=\u001b[39;49msort,\n\u001b[0;32m   <a href='file:///c%3A/git_project/Team_Project/.venv/lib/site-packages/pandas/core/frame.py?line=9354'>9355</a>\u001b[0m         suffixes\u001b[39m=\u001b[39;49msuffixes,\n\u001b[0;32m   <a href='file:///c%3A/git_project/Team_Project/.venv/lib/site-packages/pandas/core/frame.py?line=9355'>9356</a>\u001b[0m         copy\u001b[39m=\u001b[39;49mcopy,\n\u001b[0;32m   <a href='file:///c%3A/git_project/Team_Project/.venv/lib/site-packages/pandas/core/frame.py?line=9356'>9357</a>\u001b[0m         indicator\u001b[39m=\u001b[39;49mindicator,\n\u001b[0;32m   <a href='file:///c%3A/git_project/Team_Project/.venv/lib/site-packages/pandas/core/frame.py?line=9357'>9358</a>\u001b[0m         validate\u001b[39m=\u001b[39;49mvalidate,\n\u001b[0;32m   <a href='file:///c%3A/git_project/Team_Project/.venv/lib/site-packages/pandas/core/frame.py?line=9358'>9359</a>\u001b[0m     )\n",
      "File \u001b[1;32mc:\\git_project\\Team_Project\\.venv\\lib\\site-packages\\pandas\\core\\reshape\\merge.py:107\u001b[0m, in \u001b[0;36mmerge\u001b[1;34m(left, right, how, on, left_on, right_on, left_index, right_index, sort, suffixes, copy, indicator, validate)\u001b[0m\n\u001b[0;32m     <a href='file:///c%3A/git_project/Team_Project/.venv/lib/site-packages/pandas/core/reshape/merge.py?line=89'>90</a>\u001b[0m \u001b[39m@Substitution\u001b[39m(\u001b[39m\"\u001b[39m\u001b[39m\\n\u001b[39;00m\u001b[39mleft : DataFrame or named Series\u001b[39m\u001b[39m\"\u001b[39m)\n\u001b[0;32m     <a href='file:///c%3A/git_project/Team_Project/.venv/lib/site-packages/pandas/core/reshape/merge.py?line=90'>91</a>\u001b[0m \u001b[39m@Appender\u001b[39m(_merge_doc, indents\u001b[39m=\u001b[39m\u001b[39m0\u001b[39m)\n\u001b[0;32m     <a href='file:///c%3A/git_project/Team_Project/.venv/lib/site-packages/pandas/core/reshape/merge.py?line=91'>92</a>\u001b[0m \u001b[39mdef\u001b[39;00m \u001b[39mmerge\u001b[39m(\n\u001b[1;32m   (...)\u001b[0m\n\u001b[0;32m    <a href='file:///c%3A/git_project/Team_Project/.venv/lib/site-packages/pandas/core/reshape/merge.py?line=104'>105</a>\u001b[0m     validate: \u001b[39mstr\u001b[39m \u001b[39m|\u001b[39m \u001b[39mNone\u001b[39;00m \u001b[39m=\u001b[39m \u001b[39mNone\u001b[39;00m,\n\u001b[0;32m    <a href='file:///c%3A/git_project/Team_Project/.venv/lib/site-packages/pandas/core/reshape/merge.py?line=105'>106</a>\u001b[0m ) \u001b[39m-\u001b[39m\u001b[39m>\u001b[39m DataFrame:\n\u001b[1;32m--> <a href='file:///c%3A/git_project/Team_Project/.venv/lib/site-packages/pandas/core/reshape/merge.py?line=106'>107</a>\u001b[0m     op \u001b[39m=\u001b[39m _MergeOperation(\n\u001b[0;32m    <a href='file:///c%3A/git_project/Team_Project/.venv/lib/site-packages/pandas/core/reshape/merge.py?line=107'>108</a>\u001b[0m         left,\n\u001b[0;32m    <a href='file:///c%3A/git_project/Team_Project/.venv/lib/site-packages/pandas/core/reshape/merge.py?line=108'>109</a>\u001b[0m         right,\n\u001b[0;32m    <a href='file:///c%3A/git_project/Team_Project/.venv/lib/site-packages/pandas/core/reshape/merge.py?line=109'>110</a>\u001b[0m         how\u001b[39m=\u001b[39;49mhow,\n\u001b[0;32m    <a href='file:///c%3A/git_project/Team_Project/.venv/lib/site-packages/pandas/core/reshape/merge.py?line=110'>111</a>\u001b[0m         on\u001b[39m=\u001b[39;49mon,\n\u001b[0;32m    <a href='file:///c%3A/git_project/Team_Project/.venv/lib/site-packages/pandas/core/reshape/merge.py?line=111'>112</a>\u001b[0m         left_on\u001b[39m=\u001b[39;49mleft_on,\n\u001b[0;32m    <a href='file:///c%3A/git_project/Team_Project/.venv/lib/site-packages/pandas/core/reshape/merge.py?line=112'>113</a>\u001b[0m         right_on\u001b[39m=\u001b[39;49mright_on,\n\u001b[0;32m    <a href='file:///c%3A/git_project/Team_Project/.venv/lib/site-packages/pandas/core/reshape/merge.py?line=113'>114</a>\u001b[0m         left_index\u001b[39m=\u001b[39;49mleft_index,\n\u001b[0;32m    <a href='file:///c%3A/git_project/Team_Project/.venv/lib/site-packages/pandas/core/reshape/merge.py?line=114'>115</a>\u001b[0m         right_index\u001b[39m=\u001b[39;49mright_index,\n\u001b[0;32m    <a href='file:///c%3A/git_project/Team_Project/.venv/lib/site-packages/pandas/core/reshape/merge.py?line=115'>116</a>\u001b[0m         sort\u001b[39m=\u001b[39;49msort,\n\u001b[0;32m    <a href='file:///c%3A/git_project/Team_Project/.venv/lib/site-packages/pandas/core/reshape/merge.py?line=116'>117</a>\u001b[0m         suffixes\u001b[39m=\u001b[39;49msuffixes,\n\u001b[0;32m    <a href='file:///c%3A/git_project/Team_Project/.venv/lib/site-packages/pandas/core/reshape/merge.py?line=117'>118</a>\u001b[0m         copy\u001b[39m=\u001b[39;49mcopy,\n\u001b[0;32m    <a href='file:///c%3A/git_project/Team_Project/.venv/lib/site-packages/pandas/core/reshape/merge.py?line=118'>119</a>\u001b[0m         indicator\u001b[39m=\u001b[39;49mindicator,\n\u001b[0;32m    <a href='file:///c%3A/git_project/Team_Project/.venv/lib/site-packages/pandas/core/reshape/merge.py?line=119'>120</a>\u001b[0m         validate\u001b[39m=\u001b[39;49mvalidate,\n\u001b[0;32m    <a href='file:///c%3A/git_project/Team_Project/.venv/lib/site-packages/pandas/core/reshape/merge.py?line=120'>121</a>\u001b[0m     )\n\u001b[0;32m    <a href='file:///c%3A/git_project/Team_Project/.venv/lib/site-packages/pandas/core/reshape/merge.py?line=121'>122</a>\u001b[0m     \u001b[39mreturn\u001b[39;00m op\u001b[39m.\u001b[39mget_result()\n",
      "File \u001b[1;32mc:\\git_project\\Team_Project\\.venv\\lib\\site-packages\\pandas\\core\\reshape\\merge.py:700\u001b[0m, in \u001b[0;36m_MergeOperation.__init__\u001b[1;34m(self, left, right, how, on, left_on, right_on, axis, left_index, right_index, sort, suffixes, copy, indicator, validate)\u001b[0m\n\u001b[0;32m    <a href='file:///c%3A/git_project/Team_Project/.venv/lib/site-packages/pandas/core/reshape/merge.py?line=692'>693</a>\u001b[0m \u001b[39mself\u001b[39m\u001b[39m.\u001b[39m_cross \u001b[39m=\u001b[39m cross_col\n\u001b[0;32m    <a href='file:///c%3A/git_project/Team_Project/.venv/lib/site-packages/pandas/core/reshape/merge.py?line=694'>695</a>\u001b[0m \u001b[39m# note this function has side effects\u001b[39;00m\n\u001b[0;32m    <a href='file:///c%3A/git_project/Team_Project/.venv/lib/site-packages/pandas/core/reshape/merge.py?line=695'>696</a>\u001b[0m (\n\u001b[0;32m    <a href='file:///c%3A/git_project/Team_Project/.venv/lib/site-packages/pandas/core/reshape/merge.py?line=696'>697</a>\u001b[0m     \u001b[39mself\u001b[39m\u001b[39m.\u001b[39mleft_join_keys,\n\u001b[0;32m    <a href='file:///c%3A/git_project/Team_Project/.venv/lib/site-packages/pandas/core/reshape/merge.py?line=697'>698</a>\u001b[0m     \u001b[39mself\u001b[39m\u001b[39m.\u001b[39mright_join_keys,\n\u001b[0;32m    <a href='file:///c%3A/git_project/Team_Project/.venv/lib/site-packages/pandas/core/reshape/merge.py?line=698'>699</a>\u001b[0m     \u001b[39mself\u001b[39m\u001b[39m.\u001b[39mjoin_names,\n\u001b[1;32m--> <a href='file:///c%3A/git_project/Team_Project/.venv/lib/site-packages/pandas/core/reshape/merge.py?line=699'>700</a>\u001b[0m ) \u001b[39m=\u001b[39m \u001b[39mself\u001b[39;49m\u001b[39m.\u001b[39;49m_get_merge_keys()\n\u001b[0;32m    <a href='file:///c%3A/git_project/Team_Project/.venv/lib/site-packages/pandas/core/reshape/merge.py?line=701'>702</a>\u001b[0m \u001b[39m# validate the merge keys dtypes. We may need to coerce\u001b[39;00m\n\u001b[0;32m    <a href='file:///c%3A/git_project/Team_Project/.venv/lib/site-packages/pandas/core/reshape/merge.py?line=702'>703</a>\u001b[0m \u001b[39m# to avoid incompatible dtypes\u001b[39;00m\n\u001b[0;32m    <a href='file:///c%3A/git_project/Team_Project/.venv/lib/site-packages/pandas/core/reshape/merge.py?line=703'>704</a>\u001b[0m \u001b[39mself\u001b[39m\u001b[39m.\u001b[39m_maybe_coerce_merge_keys()\n",
      "File \u001b[1;32mc:\\git_project\\Team_Project\\.venv\\lib\\site-packages\\pandas\\core\\reshape\\merge.py:1097\u001b[0m, in \u001b[0;36m_MergeOperation._get_merge_keys\u001b[1;34m(self)\u001b[0m\n\u001b[0;32m   <a href='file:///c%3A/git_project/Team_Project/.venv/lib/site-packages/pandas/core/reshape/merge.py?line=1094'>1095</a>\u001b[0m \u001b[39mif\u001b[39;00m \u001b[39mnot\u001b[39;00m is_rkey(rk):\n\u001b[0;32m   <a href='file:///c%3A/git_project/Team_Project/.venv/lib/site-packages/pandas/core/reshape/merge.py?line=1095'>1096</a>\u001b[0m     \u001b[39mif\u001b[39;00m rk \u001b[39mis\u001b[39;00m \u001b[39mnot\u001b[39;00m \u001b[39mNone\u001b[39;00m:\n\u001b[1;32m-> <a href='file:///c%3A/git_project/Team_Project/.venv/lib/site-packages/pandas/core/reshape/merge.py?line=1096'>1097</a>\u001b[0m         right_keys\u001b[39m.\u001b[39mappend(right\u001b[39m.\u001b[39;49m_get_label_or_level_values(rk))\n\u001b[0;32m   <a href='file:///c%3A/git_project/Team_Project/.venv/lib/site-packages/pandas/core/reshape/merge.py?line=1097'>1098</a>\u001b[0m     \u001b[39melse\u001b[39;00m:\n\u001b[0;32m   <a href='file:///c%3A/git_project/Team_Project/.venv/lib/site-packages/pandas/core/reshape/merge.py?line=1098'>1099</a>\u001b[0m         \u001b[39m# work-around for merge_asof(right_index=True)\u001b[39;00m\n\u001b[0;32m   <a href='file:///c%3A/git_project/Team_Project/.venv/lib/site-packages/pandas/core/reshape/merge.py?line=1099'>1100</a>\u001b[0m         right_keys\u001b[39m.\u001b[39mappend(right\u001b[39m.\u001b[39mindex)\n",
      "File \u001b[1;32mc:\\git_project\\Team_Project\\.venv\\lib\\site-packages\\pandas\\core\\generic.py:1840\u001b[0m, in \u001b[0;36mNDFrame._get_label_or_level_values\u001b[1;34m(self, key, axis)\u001b[0m\n\u001b[0;32m   <a href='file:///c%3A/git_project/Team_Project/.venv/lib/site-packages/pandas/core/generic.py?line=1837'>1838</a>\u001b[0m     values \u001b[39m=\u001b[39m \u001b[39mself\u001b[39m\u001b[39m.\u001b[39maxes[axis]\u001b[39m.\u001b[39mget_level_values(key)\u001b[39m.\u001b[39m_values\n\u001b[0;32m   <a href='file:///c%3A/git_project/Team_Project/.venv/lib/site-packages/pandas/core/generic.py?line=1838'>1839</a>\u001b[0m \u001b[39melse\u001b[39;00m:\n\u001b[1;32m-> <a href='file:///c%3A/git_project/Team_Project/.venv/lib/site-packages/pandas/core/generic.py?line=1839'>1840</a>\u001b[0m     \u001b[39mraise\u001b[39;00m \u001b[39mKeyError\u001b[39;00m(key)\n\u001b[0;32m   <a href='file:///c%3A/git_project/Team_Project/.venv/lib/site-packages/pandas/core/generic.py?line=1841'>1842</a>\u001b[0m \u001b[39m# Check for duplicates\u001b[39;00m\n\u001b[0;32m   <a href='file:///c%3A/git_project/Team_Project/.venv/lib/site-packages/pandas/core/generic.py?line=1842'>1843</a>\u001b[0m \u001b[39mif\u001b[39;00m values\u001b[39m.\u001b[39mndim \u001b[39m>\u001b[39m \u001b[39m1\u001b[39m:\n",
      "\u001b[1;31mKeyError\u001b[0m: 'region'"
     ]
    }
   ],
   "source": [
    "df_10 = df_pre.merge(df_region, on='region')"
   ]
  },
  {
   "cell_type": "code",
   "execution_count": null,
   "metadata": {},
   "outputs": [
    {
     "data": {
      "text/html": [
       "<div>\n",
       "<style scoped>\n",
       "    .dataframe tbody tr th:only-of-type {\n",
       "        vertical-align: middle;\n",
       "    }\n",
       "\n",
       "    .dataframe tbody tr th {\n",
       "        vertical-align: top;\n",
       "    }\n",
       "\n",
       "    .dataframe thead th {\n",
       "        text-align: right;\n",
       "    }\n",
       "</style>\n",
       "<table border=\"1\" class=\"dataframe\">\n",
       "  <thead>\n",
       "    <tr style=\"text-align: right;\">\n",
       "      <th></th>\n",
       "      <th>day</th>\n",
       "      <th>hour</th>\n",
       "      <th>rainfall</th>\n",
       "      <th>temp</th>\n",
       "      <th>lightning</th>\n",
       "      <th>humidity</th>\n",
       "      <th>wind_speed</th>\n",
       "      <th>wind_direction</th>\n",
       "      <th>condition</th>\n",
       "      <th>month</th>\n",
       "      <th>year</th>\n",
       "      <th>region</th>\n",
       "      <th>region2</th>\n",
       "    </tr>\n",
       "  </thead>\n",
       "  <tbody>\n",
       "    <tr>\n",
       "      <th>0</th>\n",
       "      <td>1</td>\n",
       "      <td>0</td>\n",
       "      <td>0.0</td>\n",
       "      <td>16.500000</td>\n",
       "      <td>-1</td>\n",
       "      <td>53.0</td>\n",
       "      <td>53.0</td>\n",
       "      <td>390.0</td>\n",
       "      <td>1</td>\n",
       "      <td>6</td>\n",
       "      <td>2010</td>\n",
       "      <td>동인동</td>\n",
       "      <td>중구</td>\n",
       "    </tr>\n",
       "    <tr>\n",
       "      <th>1</th>\n",
       "      <td>1</td>\n",
       "      <td>1</td>\n",
       "      <td>0.0</td>\n",
       "      <td>18.100000</td>\n",
       "      <td>-1</td>\n",
       "      <td>49.0</td>\n",
       "      <td>53.0</td>\n",
       "      <td>390.0</td>\n",
       "      <td>1</td>\n",
       "      <td>6</td>\n",
       "      <td>2010</td>\n",
       "      <td>동인동</td>\n",
       "      <td>중구</td>\n",
       "    </tr>\n",
       "    <tr>\n",
       "      <th>2</th>\n",
       "      <td>1</td>\n",
       "      <td>2</td>\n",
       "      <td>0.0</td>\n",
       "      <td>19.700001</td>\n",
       "      <td>-1</td>\n",
       "      <td>46.0</td>\n",
       "      <td>53.0</td>\n",
       "      <td>390.0</td>\n",
       "      <td>1</td>\n",
       "      <td>6</td>\n",
       "      <td>2010</td>\n",
       "      <td>동인동</td>\n",
       "      <td>중구</td>\n",
       "    </tr>\n",
       "    <tr>\n",
       "      <th>3</th>\n",
       "      <td>1</td>\n",
       "      <td>3</td>\n",
       "      <td>0.0</td>\n",
       "      <td>20.799999</td>\n",
       "      <td>-1</td>\n",
       "      <td>41.0</td>\n",
       "      <td>53.0</td>\n",
       "      <td>390.0</td>\n",
       "      <td>1</td>\n",
       "      <td>6</td>\n",
       "      <td>2010</td>\n",
       "      <td>동인동</td>\n",
       "      <td>중구</td>\n",
       "    </tr>\n",
       "    <tr>\n",
       "      <th>4</th>\n",
       "      <td>1</td>\n",
       "      <td>4</td>\n",
       "      <td>0.0</td>\n",
       "      <td>22.200001</td>\n",
       "      <td>-1</td>\n",
       "      <td>36.0</td>\n",
       "      <td>53.0</td>\n",
       "      <td>390.0</td>\n",
       "      <td>2</td>\n",
       "      <td>6</td>\n",
       "      <td>2010</td>\n",
       "      <td>동인동</td>\n",
       "      <td>중구</td>\n",
       "    </tr>\n",
       "    <tr>\n",
       "      <th>...</th>\n",
       "      <td>...</td>\n",
       "      <td>...</td>\n",
       "      <td>...</td>\n",
       "      <td>...</td>\n",
       "      <td>...</td>\n",
       "      <td>...</td>\n",
       "      <td>...</td>\n",
       "      <td>...</td>\n",
       "      <td>...</td>\n",
       "      <td>...</td>\n",
       "      <td>...</td>\n",
       "      <td>...</td>\n",
       "      <td>...</td>\n",
       "    </tr>\n",
       "    <tr>\n",
       "      <th>14727163</th>\n",
       "      <td>30</td>\n",
       "      <td>19</td>\n",
       "      <td>0.0</td>\n",
       "      <td>10.700000</td>\n",
       "      <td>-1</td>\n",
       "      <td>71.0</td>\n",
       "      <td>2.1</td>\n",
       "      <td>335.0</td>\n",
       "      <td>-1</td>\n",
       "      <td>4</td>\n",
       "      <td>2022</td>\n",
       "      <td>구지면</td>\n",
       "      <td>달성군</td>\n",
       "    </tr>\n",
       "    <tr>\n",
       "      <th>14727164</th>\n",
       "      <td>30</td>\n",
       "      <td>20</td>\n",
       "      <td>0.0</td>\n",
       "      <td>11.000000</td>\n",
       "      <td>-1</td>\n",
       "      <td>65.0</td>\n",
       "      <td>2.2</td>\n",
       "      <td>339.0</td>\n",
       "      <td>-1</td>\n",
       "      <td>4</td>\n",
       "      <td>2022</td>\n",
       "      <td>구지면</td>\n",
       "      <td>달성군</td>\n",
       "    </tr>\n",
       "    <tr>\n",
       "      <th>14727165</th>\n",
       "      <td>30</td>\n",
       "      <td>21</td>\n",
       "      <td>0.0</td>\n",
       "      <td>11.900000</td>\n",
       "      <td>-1</td>\n",
       "      <td>61.0</td>\n",
       "      <td>2.2</td>\n",
       "      <td>338.0</td>\n",
       "      <td>-1</td>\n",
       "      <td>4</td>\n",
       "      <td>2022</td>\n",
       "      <td>구지면</td>\n",
       "      <td>달성군</td>\n",
       "    </tr>\n",
       "    <tr>\n",
       "      <th>14727166</th>\n",
       "      <td>30</td>\n",
       "      <td>22</td>\n",
       "      <td>0.0</td>\n",
       "      <td>13.400000</td>\n",
       "      <td>-1</td>\n",
       "      <td>53.0</td>\n",
       "      <td>2.0</td>\n",
       "      <td>351.0</td>\n",
       "      <td>-1</td>\n",
       "      <td>4</td>\n",
       "      <td>2022</td>\n",
       "      <td>구지면</td>\n",
       "      <td>달성군</td>\n",
       "    </tr>\n",
       "    <tr>\n",
       "      <th>14727167</th>\n",
       "      <td>30</td>\n",
       "      <td>23</td>\n",
       "      <td>0.0</td>\n",
       "      <td>15.100000</td>\n",
       "      <td>-1</td>\n",
       "      <td>41.0</td>\n",
       "      <td>2.1</td>\n",
       "      <td>5.0</td>\n",
       "      <td>-1</td>\n",
       "      <td>4</td>\n",
       "      <td>2022</td>\n",
       "      <td>구지면</td>\n",
       "      <td>달성군</td>\n",
       "    </tr>\n",
       "  </tbody>\n",
       "</table>\n",
       "<p>14727168 rows × 13 columns</p>\n",
       "</div>"
      ],
      "text/plain": [
       "          day  hour  rainfall       temp  lightning  humidity  wind_speed  \\\n",
       "0           1     0       0.0  16.500000         -1      53.0        53.0   \n",
       "1           1     1       0.0  18.100000         -1      49.0        53.0   \n",
       "2           1     2       0.0  19.700001         -1      46.0        53.0   \n",
       "3           1     3       0.0  20.799999         -1      41.0        53.0   \n",
       "4           1     4       0.0  22.200001         -1      36.0        53.0   \n",
       "...       ...   ...       ...        ...        ...       ...         ...   \n",
       "14727163   30    19       0.0  10.700000         -1      71.0         2.1   \n",
       "14727164   30    20       0.0  11.000000         -1      65.0         2.2   \n",
       "14727165   30    21       0.0  11.900000         -1      61.0         2.2   \n",
       "14727166   30    22       0.0  13.400000         -1      53.0         2.0   \n",
       "14727167   30    23       0.0  15.100000         -1      41.0         2.1   \n",
       "\n",
       "          wind_direction  condition  month  year region region2  \n",
       "0                  390.0          1      6  2010    동인동      중구  \n",
       "1                  390.0          1      6  2010    동인동      중구  \n",
       "2                  390.0          1      6  2010    동인동      중구  \n",
       "3                  390.0          1      6  2010    동인동      중구  \n",
       "4                  390.0          2      6  2010    동인동      중구  \n",
       "...                  ...        ...    ...   ...    ...     ...  \n",
       "14727163           335.0         -1      4  2022    구지면     달성군  \n",
       "14727164           339.0         -1      4  2022    구지면     달성군  \n",
       "14727165           338.0         -1      4  2022    구지면     달성군  \n",
       "14727166           351.0         -1      4  2022    구지면     달성군  \n",
       "14727167             5.0         -1      4  2022    구지면     달성군  \n",
       "\n",
       "[14727168 rows x 13 columns]"
      ]
     },
     "execution_count": 27,
     "metadata": {},
     "output_type": "execute_result"
    }
   ],
   "source": [
    "df_10"
   ]
  },
  {
   "cell_type": "code",
   "execution_count": null,
   "metadata": {},
   "outputs": [],
   "source": []
  }
 ],
 "metadata": {
  "interpreter": {
   "hash": "a361ab2d5bcaf6ce52bdf68136849a2f83cd149430793ce39e0b5f62eae2684c"
  },
  "kernelspec": {
   "display_name": "Python 3.10.4 ('.venv': venv)",
   "language": "python",
   "name": "python3"
  },
  "language_info": {
   "codemirror_mode": {
    "name": "ipython",
    "version": 3
   },
   "file_extension": ".py",
   "mimetype": "text/x-python",
   "name": "python",
   "nbconvert_exporter": "python",
   "pygments_lexer": "ipython3",
   "version": "3.10.4"
  },
  "orig_nbformat": 4
 },
 "nbformat": 4,
 "nbformat_minor": 2
}
