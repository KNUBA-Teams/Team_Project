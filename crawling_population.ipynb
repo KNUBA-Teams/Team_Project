{
 "cells": [
  {
   "cell_type": "markdown",
   "metadata": {},
   "source": [
    "# 구별, 동별 인구수 크롤링\n",
    "- 작업일시 : 2022-05-06\n",
    "- 요청 : 김형우\n",
    "<br><br>\n",
    "- 대구광역시 통계사이트 : http://stat.daegu.go.kr/basicStats/moisPrsnInfo.do\n",
    "    - 위의 사이트에서 제공하는 인구수 데이터를 크롤링\n",
    "<br><br>\n",
    "- 실제 크롤링에 사용하는 사이트 : https://jumin.mois.go.kr/statMonth.do\n",
    "    - 위의 사이트에서 iframe 형식으로 다른 사이트를 불러오는 형식이므로 크롤링시 위의 주소로 접속해야함"
   ]
  },
  {
   "cell_type": "code",
   "execution_count": 40,
   "metadata": {},
   "outputs": [],
   "source": [
    "from selenium import webdriver\n",
    "from selenium.webdriver.common.by import By\n",
    "from selenium.webdriver.support.ui import Select\n",
    "import time"
   ]
  },
  {
   "cell_type": "code",
   "execution_count": 41,
   "metadata": {},
   "outputs": [],
   "source": [
    "driver = webdriver.Chrome()\n",
    "driver.get('https://jumin.mois.go.kr/statMonth.do')"
   ]
  },
  {
   "cell_type": "markdown",
   "metadata": {},
   "source": [
    "## 기본세팅\n",
    "- 행정구역은 대구광역시\n",
    "- 등록구분은 거주자 선택\n",
    "    - 거주불명자와 재외국민은 실거주자가 아니기 때문에 가져오지 않는 것이 더 좋은 데이터\n",
    "- 구분은 세대당인구만 선택\n",
    "    - 총인구수만 알면되기 때문에 전부 체크헤제해도 되지만 하나이상 체크하라는 문구가 발생하여 체크\n",
    "\n",
    "## 변화하는 세팅\n",
    "- 시,군,구는 대구의 8개 구/군을 차례로 선택\n",
    "- 조회기간은 월별로 2010.06 ~ 2022.04\n",
    "    - 2010년의 6월 데이터부터 존재\n",
    "    - 2022년은 4월까지의 데이터만 존재하지만 12월을 선택해도 오류없이 4월까지 출력됨"
   ]
  },
  {
   "cell_type": "code",
   "execution_count": 42,
   "metadata": {},
   "outputs": [
    {
     "name": "stderr",
     "output_type": "stream",
     "text": [
      "C:\\Users\\popcorn\\AppData\\Local\\Temp\\ipykernel_68\\187535963.py:1: DeprecationWarning: find_element_by_* commands are deprecated. Please use find_element() instead\n",
      "  select = Select(driver.find_element_by_id('sltOrgLvl1'))\n"
     ]
    }
   ],
   "source": [
    "# 행정구역 : 대구광역시\n",
    "select = Select(driver.find_element_by_id('sltOrgLvl1'))\n",
    "select.select_by_visible_text('대구광역시')\n",
    "\n",
    "# 등록구분 : 거주자\n",
    "select = Select(driver.find_element_by_id('register'))\n",
    "select.select_by_visible_text('거주자')\n",
    "\n",
    "# 구분\n",
    "# 남여구분, 남여구성비 체크 해제\n",
    "driver.find_element(By.ID, 'sex1').click()\n",
    "driver.find_element(By.ID, 'sex2').click()"
   ]
  },
  {
   "cell_type": "code",
   "execution_count": 45,
   "metadata": {},
   "outputs": [
    {
     "name": "stderr",
     "output_type": "stream",
     "text": [
      "C:\\Users\\popcorn\\AppData\\Local\\Temp\\ipykernel_68\\2650071393.py:4: DeprecationWarning: find_element_by_* commands are deprecated. Please use find_element() instead\n",
      "  select = Select(driver.find_element_by_id('sltOrgLvl2'))\n",
      "C:\\Users\\popcorn\\AppData\\Local\\Temp\\ipykernel_68\\2650071393.py:7: DeprecationWarning: find_element_by_* commands are deprecated. Please use find_element() instead\n",
      "  select = Select(driver.find_element_by_id('searchYearStart'))\n",
      "C:\\Users\\popcorn\\AppData\\Local\\Temp\\ipykernel_68\\2650071393.py:9: DeprecationWarning: find_element_by_* commands are deprecated. Please use find_element() instead\n",
      "  select = Select(driver.find_element_by_id('searchYearEnd'))\n",
      "C:\\Users\\popcorn\\AppData\\Local\\Temp\\ipykernel_68\\2650071393.py:13: DeprecationWarning: find_element_by_* commands are deprecated. Please use find_element() instead\n",
      "  select = Select(driver.find_element_by_id('searchMonthStart'))\n",
      "C:\\Users\\popcorn\\AppData\\Local\\Temp\\ipykernel_68\\2650071393.py:19: DeprecationWarning: find_element_by_* commands are deprecated. Please use find_element() instead\n",
      "  select = Select(driver.find_element_by_id('searchMonthEnd'))\n",
      "C:\\Users\\popcorn\\AppData\\Local\\Temp\\ipykernel_68\\2650071393.py:16: DeprecationWarning: find_element_by_* commands are deprecated. Please use find_element() instead\n",
      "  select = Select(driver.find_element_by_id('searchMonthStart'))\n"
     ]
    }
   ],
   "source": [
    "regions = ['중구','동구','서구','남구','북구','달서구','달성군','수성구']\n",
    "\n",
    "# 시군구를 regions에 있는 차례대로 선택\n",
    "for region in regions:\n",
    "    select = Select(driver.find_element_by_id('sltOrgLvl2'))\n",
    "    select.select_by_visible_text(region)\n",
    "\n",
    "    # 연도와 월을 선택\n",
    "    for year in range(2010,2023):\n",
    "        # 시작 연도\n",
    "        select = Select(driver.find_element_by_id('searchYearStart'))\n",
    "        select.select_by_visible_text(str(year)+'년')\n",
    "        # 종료 연도\n",
    "        select = Select(driver.find_element_by_id('searchYearEnd'))\n",
    "        select.select_by_visible_text(str(year)+'년')\n",
    "\n",
    "        # 시작 월\n",
    "        if year == 2010:\n",
    "            select = Select(driver.find_element_by_id('searchMonthStart'))\n",
    "            select.select_by_visible_text('10월')\n",
    "        else :\n",
    "            select = Select(driver.find_element_by_id('searchMonthStart'))\n",
    "            select.select_by_visible_text('01월')\n",
    "        \n",
    "        # 종료 월\n",
    "        select = Select(driver.find_element_by_id('searchMonthEnd'))\n",
    "        select.select_by_visible_text('12월')\n",
    "\n",
    "        # 검색버튼 클릭\n",
    "        driver.find_element(By.CLASS_NAME, 'btn_search').click()\n",
    "\n",
    "        # csv 다운로드 버튼 클릭\n",
    "        driver.find_element(By.ID, 'csvDown').click()\n",
    "\n",
    "        # 경고창 제거\n",
    "        alert = driver.switch_to.alert\n",
    "        alert.accept()\n",
    "\n",
    "        time.sleep(1)"
   ]
  },
  {
   "cell_type": "markdown",
   "metadata": {},
   "source": [
    "월간  \n",
    "해당하는 월  \n",
    "구분은 세대당 인구"
   ]
  },
  {
   "cell_type": "code",
   "execution_count": 19,
   "metadata": {},
   "outputs": [],
   "source": []
  },
  {
   "cell_type": "code",
   "execution_count": 26,
   "metadata": {},
   "outputs": [],
   "source": []
  },
  {
   "cell_type": "code",
   "execution_count": 27,
   "metadata": {},
   "outputs": [],
   "source": []
  },
  {
   "cell_type": "code",
   "execution_count": null,
   "metadata": {},
   "outputs": [],
   "source": []
  }
 ],
 "metadata": {
  "interpreter": {
   "hash": "c874ccf1bb174f7448311d16ae9c053a2ea2542903f13febd36298c4c54b0ba7"
  },
  "kernelspec": {
   "display_name": "Python 3.10.4 ('.venv': venv)",
   "language": "python",
   "name": "python3"
  },
  "language_info": {
   "codemirror_mode": {
    "name": "ipython",
    "version": 3
   },
   "file_extension": ".py",
   "mimetype": "text/x-python",
   "name": "python",
   "nbconvert_exporter": "python",
   "pygments_lexer": "ipython3",
   "version": "3.10.4"
  },
  "orig_nbformat": 4
 },
 "nbformat": 4,
 "nbformat_minor": 2
}
