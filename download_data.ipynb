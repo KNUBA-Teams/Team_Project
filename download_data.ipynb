{
 "cells": [
  {
   "cell_type": "markdown",
   "metadata": {},
   "source": [
    "# 대구 기상파일 다운로드\n",
    "## 기본 설정"
   ]
  },
  {
   "cell_type": "code",
   "execution_count": 1,
   "metadata": {},
   "outputs": [],
   "source": [
    "from selenium import webdriver\n",
    "from selenium.webdriver.common.by import By\n",
    "from selenium.webdriver.support.ui import Select\n",
    "import time"
   ]
  },
  {
   "cell_type": "markdown",
   "metadata": {},
   "source": [
    "## 로그인\n",
    "- 본인의 기상청 ID 및 Password 입력\n",
    "- 계정이 없을 경우 아래에서 계정 생성\n",
    "    - https://data.kma.go.kr/cmmn/selectMemberAgree.do"
   ]
  },
  {
   "cell_type": "code",
   "execution_count": 2,
   "metadata": {},
   "outputs": [],
   "source": [
    "my_id = input('기상청 ID 입력: ')\n",
    "my_pw = input('기상청 PW 입력: ')"
   ]
  },
  {
   "cell_type": "code",
   "execution_count": 3,
   "metadata": {},
   "outputs": [],
   "source": [
    "driver = webdriver.Chrome()\n",
    "driver.get('https://data.kma.go.kr/data/rmt/rmtList.do?code=400&pgmNo=570')"
   ]
  },
  {
   "cell_type": "code",
   "execution_count": 4,
   "metadata": {},
   "outputs": [],
   "source": [
    "driver.find_element(By.ID, 'loginBtn').click()\n",
    "driver.find_element(By.ID, 'loginId').send_keys(my_id)\n",
    "driver.find_element(By.ID, 'passwordNo').send_keys(my_pw)\n",
    "driver.find_element(By.ID, 'loginbtn').click()"
   ]
  },
  {
   "cell_type": "markdown",
   "metadata": {},
   "source": [
    "## 검색 조건 선택\n",
    "- 기본으로 서울이 체크된 상태 -> 체크 제거\n",
    "- 대구 체크 생성\n",
    "- 필요한 데이터의 체크 생성"
   ]
  },
  {
   "cell_type": "code",
   "execution_count": 5,
   "metadata": {},
   "outputs": [],
   "source": [
    "# 서울 체크 해제\n",
    "# driver.find_element(By.ID, 'ztree_2_check').click()\n",
    "\n",
    "# 대구 체크\n",
    "#driver.find_element(By.ID, 'ztree_676_check').click()\n",
    "\n",
    "# 춘천 체크 (강원도에서 확장 후)\n",
    "driver.find_element(By.ID, 'ztree_1865_switch').click() # switch가 확장('+') 버튼\n",
    "driver.find_element(By.ID, 'ztree_1866_check').click()\n",
    "\n",
    "\n",
    "# 청주 체크\n",
    "# 청주 지역구가 4개로 쪼개져 있음\n",
    "# driver.find_element(By.ID, 'ztree_2077_switch').click()\n",
    "# driver.find_element(By.ID, 'ztree_2078_check').click()\n",
    "# driver.find_element(By.ID, 'ztree_2092_check').click()\n",
    "# driver.find_element(By.ID, 'ztree_2104_check').click()\n",
    "# driver.find_element(By.ID, 'ztree_2116_check').click()\n",
    "\n",
    "# 요소 선택\n",
    "driver.find_element(By.ID, 'ztree1_3_check').click()\n",
    "driver.find_element(By.ID, 'ztree1_4_check').click()\n",
    "driver.find_element(By.ID, 'ztree1_5_check').click()\n",
    "driver.find_element(By.ID, 'ztree1_6_check').click()\n",
    "driver.find_element(By.ID, 'ztree1_7_check').click()\n",
    "driver.find_element(By.ID, 'ztree1_8_check').click()\n",
    "driver.find_element(By.ID, 'ztree1_9_check').click()\n",
    "driver.find_element(By.ID, 'ztree1_10_check').click()    "
   ]
  },
  {
   "cell_type": "markdown",
   "metadata": {},
   "source": [
    "## 통합형 작업\n",
    "\n",
    "- Scope : 2010.06 ~ 2022.04\n",
    "- 방법 1) 리스트에 String 형태로 담아두고 하나씩 꺼내서 읽게끔 하기\n",
    "- 방법 2) 반복문 자체에서 해당 숫자가 진행중일때 그걸 별도의 문자열 변수에 담아서 그대로 작업\n",
    "\n",
    "## 공통 사항 \n",
    "- 연도는 최대 1년 단위로 끊어야 함\n",
    "- 2010년과 2022년만 측청하는 월에 예외가 있음\n",
    "- 2011~2021년은 1월부터 12월까지 다운로드"
   ]
  },
  {
   "cell_type": "code",
   "execution_count": 7,
   "metadata": {},
   "outputs": [
    {
     "name": "stderr",
     "output_type": "stream",
     "text": [
      "C:\\Users\\JW\\AppData\\Local\\Temp\\ipykernel_22028\\3149425242.py:6: DeprecationWarning: find_element_by_* commands are deprecated. Please use find_element() instead\n",
      "  select = Select(driver.find_element_by_id('startDt'))\n",
      "C:\\Users\\JW\\AppData\\Local\\Temp\\ipykernel_22028\\3149425242.py:8: DeprecationWarning: find_element_by_* commands are deprecated. Please use find_element() instead\n",
      "  select = Select(driver.find_element_by_id('endDt'))\n",
      "C:\\Users\\JW\\AppData\\Local\\Temp\\ipykernel_22028\\3149425242.py:16: DeprecationWarning: find_element_by_* commands are deprecated. Please use find_element() instead\n",
      "  select = Select(driver.find_element_by_id('startMt'))\n",
      "C:\\Users\\JW\\AppData\\Local\\Temp\\ipykernel_22028\\3149425242.py:22: DeprecationWarning: find_element_by_* commands are deprecated. Please use find_element() instead\n",
      "  select = Select(driver.find_element_by_id('endMt'))\n"
     ]
    }
   ],
   "source": [
    "for i in range (2010,2023):\n",
    "    # Year\n",
    "        # 2010년부터 2022년까지의 데이터 존재\n",
    "        # 변수 i를 for문을 통해 모든 연도를 입력\n",
    "    string_year = str(i)\n",
    "    select = Select(driver.find_element_by_id('startDt'))\n",
    "    select.select_by_visible_text(string_year)\n",
    "    select = Select(driver.find_element_by_id('endDt'))\n",
    "    select.select_by_visible_text(string_year)\n",
    "\n",
    "    # Month\n",
    "        # 기본적으로는 1월부터 12월까지 선택\n",
    "        # 예외) 2010년은 6월부터 2022년은 4월까지 의 데이터만 존재\n",
    "\n",
    "    ## 시작 월\n",
    "    select = Select(driver.find_element_by_id('startMt'))\n",
    "    if i == 2010:\n",
    "        select.select_by_visible_text('06')\n",
    "    else:\n",
    "        select.select_by_visible_text('01')\n",
    "    ## 끝 월\n",
    "    select = Select(driver.find_element_by_id('endMt'))\n",
    "    if i == 2022:\n",
    "        select.select_by_visible_text('04')\n",
    "    else:\n",
    "        select.select_by_visible_text('12')\n",
    "\n",
    "    #버튼 클릭\n",
    "    form = driver.find_element(By.ID, 'dsForm')\n",
    "    form.find_element(By.CLASS_NAME, 'btn').click()\n",
    "\n",
    "\n",
    "    # 파일 다운로드\n",
    "    ## 처음 한번 실행\n",
    "    ## 전체 파일 클릭\n",
    "    driver.find_element(By.ID, 'checkAll').click()\n",
    "\n",
    "    ## 다운로드 버튼 클릭\n",
    "    driver.find_element(By.CLASS_NAME, 'btn_download').click()\n",
    "    time.sleep(3)\n",
    "\n",
    "    ## 목적 클릭 (연구) 처음 한번만 진행하면 됨\n",
    "    driver.find_element(By.ID, 'reqstPurposeCd7').click()\n",
    "    \n",
    "    ## 진짜 다운로드\n",
    "    driver.find_element(By.CLASS_NAME, 'btn_request').click()\n",
    "\n",
    "    time.sleep(1)\n",
    "\n",
    "    # 다음 페이지를 누르며 반복 실행\n",
    "    # range문의 범위 내에는 (마지막 페이지 번호 - 1) 을 넣으면 됨\n",
    "\n",
    "    for i in range(18):\n",
    "        # 다음 페이지\n",
    "        driver.find_element(By.CLASS_NAME, 'next').click()\n",
    "        # 전체 파일 클릭\n",
    "        driver.find_element(By.ID, 'checkAll').click()\n",
    "        # 다운로드 버튼 클릭\n",
    "        driver.find_element(By.CLASS_NAME, 'btn_download').click()\n",
    "        time.sleep(1)"
   ]
  },
  {
   "cell_type": "code",
   "execution_count": null,
   "metadata": {},
   "outputs": [],
   "source": []
  }
 ],
 "metadata": {
  "interpreter": {
   "hash": "bac7091f92fc2f0b00be828225d1955fd63bf4b7c98ed2b01933ae57ce3415f0"
  },
  "kernelspec": {
   "display_name": "Python 3.10.4 ('.venv': venv)",
   "language": "python",
   "name": "python3"
  },
  "language_info": {
   "codemirror_mode": {
    "name": "ipython",
    "version": 3
   },
   "file_extension": ".py",
   "mimetype": "text/x-python",
   "name": "python",
   "nbconvert_exporter": "python",
   "pygments_lexer": "ipython3",
   "version": "3.10.4"
  },
  "orig_nbformat": 4
 },
 "nbformat": 4,
 "nbformat_minor": 2
}
