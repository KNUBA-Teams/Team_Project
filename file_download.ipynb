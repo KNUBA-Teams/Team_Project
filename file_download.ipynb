{
 "cells": [
  {
   "cell_type": "markdown",
   "metadata": {},
   "source": [
    "# 살려주세요 석정님"
   ]
  },
  {
   "cell_type": "markdown",
   "metadata": {},
   "source": [
    "## 기본 설정"
   ]
  },
  {
   "cell_type": "code",
   "execution_count": null,
   "metadata": {},
   "outputs": [],
   "source": [
    "from selenium import webdriver\n",
    "from selenium.webdriver.common.by import By\n",
    "from selenium.webdriver.support.ui import Select\n",
    "import time"
   ]
  },
  {
   "cell_type": "code",
   "execution_count": 5,
   "metadata": {},
   "outputs": [],
   "source": [
    "driver = webdriver.Chrome()\n",
    "driver.get('https://data.kma.go.kr/data/rmt/rmtList.do?code=400&pgmNo=570')"
   ]
  },
  {
   "cell_type": "markdown",
   "metadata": {},
   "source": [
    "## 로그인"
   ]
  },
  {
   "cell_type": "code",
   "execution_count": 12,
   "metadata": {},
   "outputs": [],
   "source": [
    "my_id = input('기상청 ID : ')\n",
    "my_pw = input('기상청 PW : ')"
   ]
  },
  {
   "cell_type": "code",
   "execution_count": 13,
   "metadata": {},
   "outputs": [],
   "source": [
    "driver.find_element(By.ID, 'loginBtn').click()\n",
    "driver.find_element(By.ID, 'loginId').send_keys(my_id)\n",
    "driver.find_element(By.ID, 'passwordNo').send_keys(my_pw)\n",
    "driver.find_element(By.ID, 'loginbtn').click()"
   ]
  },
  {
   "cell_type": "markdown",
   "metadata": {},
   "source": [
    "## 검색 조건"
   ]
  },
  {
   "cell_type": "code",
   "execution_count": 14,
   "metadata": {},
   "outputs": [],
   "source": [
    "# 서울 체크 해제\n",
    "driver.find_element(By.ID, 'ztree_2_check').click()\n",
    "# 대구 체크\n",
    "driver.find_element(By.ID, 'ztree_676_check').click()\n"
   ]
  },
  {
   "cell_type": "code",
   "execution_count": 15,
   "metadata": {},
   "outputs": [],
   "source": [
    "# 요소 선택\n",
    "driver.find_element(By.ID, 'ztree1_3_check').click()\n",
    "driver.find_element(By.ID, 'ztree1_4_check').click()\n",
    "driver.find_element(By.ID, 'ztree1_5_check').click()\n",
    "driver.find_element(By.ID, 'ztree1_6_check').click()\n",
    "driver.find_element(By.ID, 'ztree1_7_check').click()\n",
    "driver.find_element(By.ID, 'ztree1_8_check').click()\n",
    "driver.find_element(By.ID, 'ztree1_9_check').click()\n",
    "driver.find_element(By.ID, 'ztree1_10_check').click()    "
   ]
  },
  {
   "cell_type": "markdown",
   "metadata": {},
   "source": [
    "## 날짜 선택"
   ]
  },
  {
   "cell_type": "code",
   "execution_count": 16,
   "metadata": {},
   "outputs": [
    {
     "name": "stderr",
     "output_type": "stream",
     "text": [
      "C:\\Users\\popcorn\\AppData\\Local\\Temp\\ipykernel_12500\\3629018381.py:1: DeprecationWarning: find_element_by_* commands are deprecated. Please use find_element() instead\n",
      "  select = Select(driver.find_element_by_id('startMt'))\n",
      "C:\\Users\\popcorn\\AppData\\Local\\Temp\\ipykernel_12500\\3629018381.py:3: DeprecationWarning: find_element_by_* commands are deprecated. Please use find_element() instead\n",
      "  select = Select(driver.find_element_by_id('endMt'))\n"
     ]
    }
   ],
   "source": [
    "select = Select(driver.find_element_by_id('startMt'))\n",
    "select.select_by_visible_text('06')\n",
    "select = Select(driver.find_element_by_id('endMt'))\n",
    "select.select_by_visible_text('10')"
   ]
  },
  {
   "cell_type": "code",
   "execution_count": 17,
   "metadata": {},
   "outputs": [
    {
     "name": "stderr",
     "output_type": "stream",
     "text": [
      "C:\\Users\\popcorn\\AppData\\Local\\Temp\\ipykernel_12500\\498136171.py:1: DeprecationWarning: find_element_by_* commands are deprecated. Please use find_element() instead\n",
      "  select = Select(driver.find_element_by_id('startDt'))\n",
      "C:\\Users\\popcorn\\AppData\\Local\\Temp\\ipykernel_12500\\498136171.py:3: DeprecationWarning: find_element_by_* commands are deprecated. Please use find_element() instead\n",
      "  select = Select(driver.find_element_by_id('endDt'))\n"
     ]
    }
   ],
   "source": [
    "select = Select(driver.find_element_by_id('startDt'))\n",
    "select.select_by_visible_text('2021')\n",
    "select = Select(driver.find_element_by_id('endDt'))\n",
    "select.select_by_visible_text('2021')"
   ]
  },
  {
   "cell_type": "markdown",
   "metadata": {},
   "source": [
    "## 조회 버튼 끌릭"
   ]
  },
  {
   "cell_type": "code",
   "execution_count": 18,
   "metadata": {},
   "outputs": [],
   "source": [
    "form = driver.find_element(By.ID, 'dsForm')\n",
    "form.find_element(By.CLASS_NAME, 'btn').click()"
   ]
  },
  {
   "cell_type": "markdown",
   "metadata": {},
   "source": [
    "## 다 운 로 드"
   ]
  },
  {
   "cell_type": "code",
   "execution_count": 9,
   "metadata": {},
   "outputs": [
    {
     "name": "stderr",
     "output_type": "stream",
     "text": [
      "\n",
      "KeyboardInterrupt\n",
      "\n"
     ]
    }
   ],
   "source": [
    "# 전체 파일 클릭\n",
    "driver.find_element(By.ID, 'checkAll').click()\n",
    "# 다운로드 버튼 클릭\n",
    "driver.find_element(By.CLASS_NAME, 'btn_download').click()\n",
    "\n",
    "time.sleep(3)\n",
    "\n",
    "# 목적 클릭 (연구) 처음 한번만 진행하면 됨\n",
    "driver.find_element(By.ID, 'reqstPurposeCd7').click()\n",
    "# 진짜 다운로드\n",
    "driver.find_element(By.CLASS_NAME, 'btn_request').click()\n",
    "\n",
    "time.sleep(1)\n",
    "\n",
    "for i in range(99):\n",
    "    # 다음 페이지\n",
    "    driver.find_element(By.CLASS_NAME, 'next').click()\n",
    "    # 전체 파일 클릭\n",
    "    driver.find_element(By.ID, 'checkAll').click()\n",
    "    # 다운로드 버튼 클릭\n",
    "    driver.find_element(By.CLASS_NAME, 'btn_download').click()\n",
    "    time.sleep(1)\n",
    "    \n"
   ]
  },
  {
   "cell_type": "code",
   "execution_count": null,
   "metadata": {},
   "outputs": [],
   "source": []
  },
  {
   "cell_type": "code",
   "execution_count": null,
   "metadata": {},
   "outputs": [],
   "source": []
  }
 ],
 "metadata": {
  "interpreter": {
   "hash": "0b8350b94611685c37df1e4ccf119b007d920129efdc2d3a38b2402e0cf371d0"
  },
  "kernelspec": {
   "display_name": "Python 3.10.1 ('venv': venv)",
   "language": "python",
   "name": "python3"
  },
  "language_info": {
   "codemirror_mode": {
    "name": "ipython",
    "version": 3
   },
   "file_extension": ".py",
   "mimetype": "text/x-python",
   "name": "python",
   "nbconvert_exporter": "python",
   "pygments_lexer": "ipython3",
   "version": "3.9.7"
  },
  "orig_nbformat": 4
 },
 "nbformat": 4,
 "nbformat_minor": 2
}
