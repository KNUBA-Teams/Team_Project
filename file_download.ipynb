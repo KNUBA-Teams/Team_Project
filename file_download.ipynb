{
 "cells": [
  {
   "cell_type": "markdown",
   "metadata": {},
   "source": [
    "# 살려주세요 석정님"
   ]
  },
  {
   "cell_type": "markdown",
   "metadata": {},
   "source": [
    "## 기본 설정"
   ]
  },
  {
   "cell_type": "code",
   "execution_count": 1,
   "metadata": {},
   "outputs": [],
   "source": [
    "from selenium import webdriver\n",
    "from selenium.webdriver.common.by import By\n",
    "from selenium.webdriver.support.ui import Select\n",
    "import time"
   ]
  },
  {
   "cell_type": "code",
   "execution_count": 2,
   "metadata": {},
   "outputs": [],
   "source": [
    "driver = webdriver.Chrome()\n",
    "driver.get('https://data.kma.go.kr/data/rmt/rmtList.do?code=400&pgmNo=570')"
   ]
  },
  {
   "cell_type": "markdown",
   "metadata": {},
   "source": [
    "## 로그인"
   ]
  },
  {
   "cell_type": "code",
   "execution_count": 3,
   "metadata": {},
   "outputs": [],
   "source": [
    "my_id = input('기상청 ID 입력: ')\n",
    "my_pw = input('기상청 PW 입력: ')"
   ]
  },
  {
   "cell_type": "code",
   "execution_count": 4,
   "metadata": {},
   "outputs": [],
   "source": [
    "driver.find_element(By.ID, 'loginBtn').click()\n",
    "driver.find_element(By.ID, 'loginId').send_keys(my_id)\n",
    "driver.find_element(By.ID, 'passwordNo').send_keys(my_pw)\n",
    "driver.find_element(By.ID, 'loginbtn').click()"
   ]
  },
  {
   "cell_type": "markdown",
   "metadata": {},
   "source": [
    "## 검색 조건"
   ]
  },
  {
   "cell_type": "code",
   "execution_count": 5,
   "metadata": {},
   "outputs": [],
   "source": [
    "# 서울 체크 해제\n",
    "driver.find_element(By.ID, 'ztree_2_check').click()\n",
    "# 대구 체크\n",
    "driver.find_element(By.ID, 'ztree_676_check').click()\n"
   ]
  },
  {
   "cell_type": "code",
   "execution_count": 6,
   "metadata": {},
   "outputs": [],
   "source": [
    "# 요소 선택\n",
    "driver.find_element(By.ID, 'ztree1_3_check').click()\n",
    "driver.find_element(By.ID, 'ztree1_4_check').click()\n",
    "driver.find_element(By.ID, 'ztree1_5_check').click()\n",
    "driver.find_element(By.ID, 'ztree1_6_check').click()\n",
    "driver.find_element(By.ID, 'ztree1_7_check').click()\n",
    "driver.find_element(By.ID, 'ztree1_8_check').click()\n",
    "driver.find_element(By.ID, 'ztree1_9_check').click()\n",
    "driver.find_element(By.ID, 'ztree1_10_check').click()    "
   ]
  },
  {
   "cell_type": "markdown",
   "metadata": {},
   "source": [
    "## 통합형 작업\n",
    "\n",
    "* Scope : 2010 ~ 2021 // 06 ~ 09\n",
    "* 방법 1) 리스트에 String 형태로 담아두고 하나씩 꺼내서 읽게끔 하기\n",
    "* 방법 2) 반복문 자체에서 해당 숫자가 진행중일때 그걸 별도의 문자열 변수에 담아서 그대로 작업\n",
    "\n",
    "## 공통 사항 \n",
    "* 연도는 1년 단위로 끊어야 하기에 양쪽(startDt,endDt) 다 같은 연도여야만 함\n",
    "* 월은 6월 ~ 9월 고정 (위에서 지정했으니 냅두면 됨)"
   ]
  },
  {
   "cell_type": "markdown",
   "metadata": {},
   "source": [
    "* 테스트 삼아서 연도는 2010,2011년만 수행하게끔 줄여놓음\n",
    "* 최종적으로는 2022까지 범주를 두어서 range의 특성상 2021에서 끝나게끔 지정"
   ]
  },
  {
   "cell_type": "code",
   "execution_count": null,
   "metadata": {},
   "outputs": [],
   "source": [
    "# 한번에 12개월 분량의 데이터만 추출 가능\n",
    "\n",
    "for i in range (2010,2013):\n",
    "    # Year\n",
    "        # 2010년부터 2022년까지의 데이터 존재\n",
    "        # 변수 i를 for문을 통해 모든 연도를 입력\n",
    "    string_year = str(i)\n",
    "    select = Select(driver.find_element_by_id('startDt'))\n",
    "    select.select_by_visible_text(string_year)\n",
    "    select = Select(driver.find_element_by_id('endDt'))\n",
    "    select.select_by_visible_text(string_year)\n",
    "\n",
    "    # Month\n",
    "        # 기본적으로는 1월부터 12월까지 선택\n",
    "        # 예외) 2010년은 6월부터 2022년은 4월까지 의 데이터만 존재\n",
    "\n",
    "    ## 시작 월\n",
    "    select = Select(driver.find_element_by_id('startMt'))\n",
    "    if i == 2010:\n",
    "        select.select_by_visible_text('06')\n",
    "    else:\n",
    "        select.select_by_visible_text('01')\n",
    "    ## 끝 월\n",
    "    select = Select(driver.find_element_by_id('endMt'))\n",
    "    if i == 2022:\n",
    "        select.select_by_visible_text('04')\n",
    "    else:\n",
    "        select.select_by_visible_text('12')\n",
    "\n",
    "    #버튼 클릭\n",
    "    form = driver.find_element(By.ID, 'dsForm')\n",
    "    form.find_element(By.CLASS_NAME, 'btn').click()\n",
    "\n",
    "\n",
    "    # 파일 다운로드\n",
    "    ## 처음 한번 실행\n",
    "    ## 전체 파일 클릭\n",
    "    driver.find_element(By.ID, 'checkAll').click()\n",
    "\n",
    "    ## 다운로드 버튼 클릭\n",
    "    driver.find_element(By.CLASS_NAME, 'btn_download').click()\n",
    "    time.sleep(3)\n",
    "\n",
    "    ## 목적 클릭 (연구) 처음 한번만 진행하면 됨\n",
    "    driver.find_element(By.ID, 'reqstPurposeCd7').click()\n",
    "    \n",
    "    ## 진짜 다운로드\n",
    "    driver.find_element(By.CLASS_NAME, 'btn_request').click()\n",
    "\n",
    "    time.sleep(1)\n",
    "\n",
    "    ## 다음 페이지를 누르며 반복 실행\n",
    "    ## 측정하는 날씨와 무관하게 지역과 요소는 변하지않으므로 항상 994개의 파일이 존재하므로\n",
    "    ## 항상 100페이지 분량을 반복하면 됨\n",
    "    for i in range(99):\n",
    "        # 다음 페이지\n",
    "        driver.find_element(By.CLASS_NAME, 'next').click()\n",
    "        # 전체 파일 클릭\n",
    "        driver.find_element(By.ID, 'checkAll').click()\n",
    "        # 다운로드 버튼 클릭\n",
    "        driver.find_element(By.CLASS_NAME, 'btn_download').click()\n",
    "        time.sleep(1)"
   ]
  }
 ],
 "metadata": {
  "interpreter": {
   "hash": "0b8350b94611685c37df1e4ccf119b007d920129efdc2d3a38b2402e0cf371d0"
  },
  "kernelspec": {
   "display_name": "Python 3.10.1 ('venv': venv)",
   "language": "python",
   "name": "python3"
  },
  "language_info": {
   "codemirror_mode": {
    "name": "ipython",
    "version": 3
   },
   "file_extension": ".py",
   "mimetype": "text/x-python",
   "name": "python",
   "nbconvert_exporter": "python",
   "pygments_lexer": "ipython3",
   "version": "3.10.4"
  },
  "orig_nbformat": 4
 },
 "nbformat": 4,
 "nbformat_minor": 2
}
