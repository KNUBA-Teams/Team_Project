{
 "cells": [
  {
   "cell_type": "markdown",
   "metadata": {},
   "source": [
    "# 살려주세요 석정님"
   ]
  },
  {
   "cell_type": "markdown",
   "metadata": {},
   "source": [
    "## 기본 설정"
   ]
  },
  {
   "cell_type": "code",
   "execution_count": 1,
   "metadata": {},
   "outputs": [],
   "source": [
    "from selenium import webdriver\n",
    "from selenium.webdriver.common.by import By\n",
    "from selenium.webdriver.support.ui import Select\n",
    "import time"
   ]
  },
  {
   "cell_type": "code",
   "execution_count": 2,
   "metadata": {},
   "outputs": [],
   "source": [
    "driver = webdriver.Chrome()\n",
    "driver.get('https://data.kma.go.kr/data/rmt/rmtList.do?code=400&pgmNo=570')"
   ]
  },
  {
   "cell_type": "markdown",
   "metadata": {},
   "source": [
    "## 로그인"
   ]
  },
  {
   "cell_type": "code",
   "execution_count": 3,
   "metadata": {},
   "outputs": [],
   "source": [
    "my_id = input('기상청 ID 입력: ')\n",
    "my_pw = input('기상청 PW 입력: ')"
   ]
  },
  {
   "cell_type": "code",
   "execution_count": 4,
   "metadata": {},
   "outputs": [],
   "source": [
    "driver.find_element(By.ID, 'loginBtn').click()\n",
    "driver.find_element(By.ID, 'loginId').send_keys(my_id)\n",
    "driver.find_element(By.ID, 'passwordNo').send_keys(my_pw)\n",
    "driver.find_element(By.ID, 'loginbtn').click()"
   ]
  },
  {
   "cell_type": "markdown",
   "metadata": {},
   "source": [
    "## 검색 조건"
   ]
  },
  {
   "cell_type": "code",
   "execution_count": 5,
   "metadata": {},
   "outputs": [],
   "source": [
    "# 서울 체크 해제\n",
    "driver.find_element(By.ID, 'ztree_2_check').click()\n",
    "# 대구 체크\n",
    "driver.find_element(By.ID, 'ztree_676_check').click()\n"
   ]
  },
  {
   "cell_type": "code",
   "execution_count": 6,
   "metadata": {},
   "outputs": [],
   "source": [
    "# 요소 선택\n",
    "driver.find_element(By.ID, 'ztree1_3_check').click()\n",
    "driver.find_element(By.ID, 'ztree1_4_check').click()\n",
    "driver.find_element(By.ID, 'ztree1_5_check').click()\n",
    "driver.find_element(By.ID, 'ztree1_6_check').click()\n",
    "driver.find_element(By.ID, 'ztree1_7_check').click()\n",
    "driver.find_element(By.ID, 'ztree1_8_check').click()\n",
    "driver.find_element(By.ID, 'ztree1_9_check').click()\n",
    "driver.find_element(By.ID, 'ztree1_10_check').click()    "
   ]
  },
  {
   "cell_type": "markdown",
   "metadata": {},
   "source": [
    "## 통합형 작업\n",
    "\n",
    "* Scope : 2010 ~ 2021 // 06 ~ 09\n",
    "* 방법 1) 리스트에 String 형태로 담아두고 하나씩 꺼내서 읽게끔 하기\n",
    "* 방법 2) 반복문 자체에서 해당 숫자가 진행중일때 그걸 별도의 문자열 변수에 담아서 그대로 작업\n",
    "\n",
    "## 공통 사항 \n",
    "* 연도는 1년 단위로 끊어야 하기에 양쪽(startDt,endDt) 다 같은 연도여야만 함\n",
    "* 월은 6월 ~ 9월 고정 (위에서 지정했으니 냅두면 됨)"
   ]
  },
  {
   "cell_type": "markdown",
   "metadata": {},
   "source": [
    "* 테스트 삼아서 연도는 2010,2011년만 수행하게끔 줄여놓음\n",
    "* 최종적으로는 2022까지 범주를 두어서 range의 특성상 2021에서 끝나게끔 지정"
   ]
  },
  {
   "cell_type": "code",
   "execution_count": 9,
   "metadata": {},
   "outputs": [
    {
     "name": "stderr",
     "output_type": "stream",
     "text": [
      "C:\\Users\\JW\\AppData\\Local\\Temp\\ipykernel_15380\\1665718398.py:8: DeprecationWarning: find_element_by_* commands are deprecated. Please use find_element() instead\n",
      "  select = Select(driver.find_element_by_id('startDt'))\n",
      "C:\\Users\\JW\\AppData\\Local\\Temp\\ipykernel_15380\\1665718398.py:10: DeprecationWarning: find_element_by_* commands are deprecated. Please use find_element() instead\n",
      "  select = Select(driver.find_element_by_id('endDt'))\n",
      "C:\\Users\\JW\\AppData\\Local\\Temp\\ipykernel_15380\\1665718398.py:18: DeprecationWarning: find_element_by_* commands are deprecated. Please use find_element() instead\n",
      "  select = Select(driver.find_element_by_id('startMt'))\n",
      "C:\\Users\\JW\\AppData\\Local\\Temp\\ipykernel_15380\\1665718398.py:24: DeprecationWarning: find_element_by_* commands are deprecated. Please use find_element() instead\n",
      "  select = Select(driver.find_element_by_id('endMt'))\n"
     ]
    },
    {
     "ename": "ElementClickInterceptedException",
     "evalue": "Message: element click intercepted: Element <li class=\"next\">...</li> is not clickable at point (754, 580). Other element would receive the click: <div id=\"loading-mask\" style=\"display: block; width: 1019px; height: 2071px;\">...</div>\n  (Session info: chrome=101.0.4951.41)\nStacktrace:\nBacktrace:\n\tOrdinal0 [0x010AB8F3+2406643]\n\tOrdinal0 [0x0103AF31+1945393]\n\tOrdinal0 [0x00F2C748+837448]\n\tOrdinal0 [0x00F5FA1B+1047067]\n\tOrdinal0 [0x00F5D9F8+1038840]\n\tOrdinal0 [0x00F5B6DB+1029851]\n\tOrdinal0 [0x00F5A439+1025081]\n\tOrdinal0 [0x00F50083+983171]\n\tOrdinal0 [0x00F7427C+1131132]\n\tOrdinal0 [0x00F4FA64+981604]\n\tOrdinal0 [0x00F74494+1131668]\n\tOrdinal0 [0x00F84682+1197698]\n\tOrdinal0 [0x00F74096+1130646]\n\tOrdinal0 [0x00F4E636+976438]\n\tOrdinal0 [0x00F4F546+980294]\n\tGetHandleVerifier [0x01319612+2498066]\n\tGetHandleVerifier [0x0130C920+2445600]\n\tGetHandleVerifier [0x01144F2A+579370]\n\tGetHandleVerifier [0x01143D36+574774]\n\tOrdinal0 [0x01041C0B+1973259]\n\tOrdinal0 [0x01046688+1992328]\n\tOrdinal0 [0x01046775+1992565]\n\tOrdinal0 [0x0104F8D1+2029777]\n\tBaseThreadInitThunk [0x758FFA29+25]\n\tRtlGetAppContainerNamedObjectPath [0x77A77A7E+286]\n\tRtlGetAppContainerNamedObjectPath [0x77A77A4E+238]\n",
     "output_type": "error",
     "traceback": [
      "\u001b[1;31m---------------------------------------------------------------------------\u001b[0m",
      "\u001b[1;31mElementClickInterceptedException\u001b[0m          Traceback (most recent call last)",
      "\u001b[1;32mc:\\git_project\\Team_Project\\file_download.ipynb Cell 13'\u001b[0m in \u001b[0;36m<cell line: 3>\u001b[1;34m()\u001b[0m\n\u001b[0;32m     <a href='vscode-notebook-cell:/c%3A/git_project/Team_Project/file_download.ipynb#ch0000012?line=51'>52</a>\u001b[0m \u001b[39m## 다음 페이지를 누르며 반복 실행\u001b[39;00m\n\u001b[0;32m     <a href='vscode-notebook-cell:/c%3A/git_project/Team_Project/file_download.ipynb#ch0000012?line=52'>53</a>\u001b[0m \u001b[39m## 측정하는 날씨와 무관하게 지역과 요소는 변하지않으므로 항상 994개의 파일이 존재하므로\u001b[39;00m\n\u001b[0;32m     <a href='vscode-notebook-cell:/c%3A/git_project/Team_Project/file_download.ipynb#ch0000012?line=53'>54</a>\u001b[0m \u001b[39m## 항상 100페이지 분량을 반복하면 됨\u001b[39;00m\n\u001b[0;32m     <a href='vscode-notebook-cell:/c%3A/git_project/Team_Project/file_download.ipynb#ch0000012?line=54'>55</a>\u001b[0m \u001b[39mfor\u001b[39;00m i \u001b[39min\u001b[39;00m \u001b[39mrange\u001b[39m(\u001b[39m99\u001b[39m):\n\u001b[0;32m     <a href='vscode-notebook-cell:/c%3A/git_project/Team_Project/file_download.ipynb#ch0000012?line=55'>56</a>\u001b[0m     \u001b[39m# 다음 페이지\u001b[39;00m\n\u001b[1;32m---> <a href='vscode-notebook-cell:/c%3A/git_project/Team_Project/file_download.ipynb#ch0000012?line=56'>57</a>\u001b[0m     driver\u001b[39m.\u001b[39;49mfind_element(By\u001b[39m.\u001b[39;49mCLASS_NAME, \u001b[39m'\u001b[39;49m\u001b[39mnext\u001b[39;49m\u001b[39m'\u001b[39;49m)\u001b[39m.\u001b[39;49mclick()\n\u001b[0;32m     <a href='vscode-notebook-cell:/c%3A/git_project/Team_Project/file_download.ipynb#ch0000012?line=57'>58</a>\u001b[0m     \u001b[39m# 전체 파일 클릭\u001b[39;00m\n\u001b[0;32m     <a href='vscode-notebook-cell:/c%3A/git_project/Team_Project/file_download.ipynb#ch0000012?line=58'>59</a>\u001b[0m     driver\u001b[39m.\u001b[39mfind_element(By\u001b[39m.\u001b[39mID, \u001b[39m'\u001b[39m\u001b[39mcheckAll\u001b[39m\u001b[39m'\u001b[39m)\u001b[39m.\u001b[39mclick()\n",
      "File \u001b[1;32mc:\\git_project\\Team_Project\\.venv\\lib\\site-packages\\selenium\\webdriver\\remote\\webelement.py:81\u001b[0m, in \u001b[0;36mWebElement.click\u001b[1;34m(self)\u001b[0m\n\u001b[0;32m     <a href='file:///c%3A/git_project/Team_Project/.venv/lib/site-packages/selenium/webdriver/remote/webelement.py?line=78'>79</a>\u001b[0m \u001b[39mdef\u001b[39;00m \u001b[39mclick\u001b[39m(\u001b[39mself\u001b[39m) \u001b[39m-\u001b[39m\u001b[39m>\u001b[39m \u001b[39mNone\u001b[39;00m:\n\u001b[0;32m     <a href='file:///c%3A/git_project/Team_Project/.venv/lib/site-packages/selenium/webdriver/remote/webelement.py?line=79'>80</a>\u001b[0m     \u001b[39m\"\"\"Clicks the element.\"\"\"\u001b[39;00m\n\u001b[1;32m---> <a href='file:///c%3A/git_project/Team_Project/.venv/lib/site-packages/selenium/webdriver/remote/webelement.py?line=80'>81</a>\u001b[0m     \u001b[39mself\u001b[39;49m\u001b[39m.\u001b[39;49m_execute(Command\u001b[39m.\u001b[39;49mCLICK_ELEMENT)\n",
      "File \u001b[1;32mc:\\git_project\\Team_Project\\.venv\\lib\\site-packages\\selenium\\webdriver\\remote\\webelement.py:710\u001b[0m, in \u001b[0;36mWebElement._execute\u001b[1;34m(self, command, params)\u001b[0m\n\u001b[0;32m    <a href='file:///c%3A/git_project/Team_Project/.venv/lib/site-packages/selenium/webdriver/remote/webelement.py?line=707'>708</a>\u001b[0m     params \u001b[39m=\u001b[39m {}\n\u001b[0;32m    <a href='file:///c%3A/git_project/Team_Project/.venv/lib/site-packages/selenium/webdriver/remote/webelement.py?line=708'>709</a>\u001b[0m params[\u001b[39m'\u001b[39m\u001b[39mid\u001b[39m\u001b[39m'\u001b[39m] \u001b[39m=\u001b[39m \u001b[39mself\u001b[39m\u001b[39m.\u001b[39m_id\n\u001b[1;32m--> <a href='file:///c%3A/git_project/Team_Project/.venv/lib/site-packages/selenium/webdriver/remote/webelement.py?line=709'>710</a>\u001b[0m \u001b[39mreturn\u001b[39;00m \u001b[39mself\u001b[39;49m\u001b[39m.\u001b[39;49m_parent\u001b[39m.\u001b[39;49mexecute(command, params)\n",
      "File \u001b[1;32mc:\\git_project\\Team_Project\\.venv\\lib\\site-packages\\selenium\\webdriver\\remote\\webdriver.py:425\u001b[0m, in \u001b[0;36mWebDriver.execute\u001b[1;34m(self, driver_command, params)\u001b[0m\n\u001b[0;32m    <a href='file:///c%3A/git_project/Team_Project/.venv/lib/site-packages/selenium/webdriver/remote/webdriver.py?line=422'>423</a>\u001b[0m response \u001b[39m=\u001b[39m \u001b[39mself\u001b[39m\u001b[39m.\u001b[39mcommand_executor\u001b[39m.\u001b[39mexecute(driver_command, params)\n\u001b[0;32m    <a href='file:///c%3A/git_project/Team_Project/.venv/lib/site-packages/selenium/webdriver/remote/webdriver.py?line=423'>424</a>\u001b[0m \u001b[39mif\u001b[39;00m response:\n\u001b[1;32m--> <a href='file:///c%3A/git_project/Team_Project/.venv/lib/site-packages/selenium/webdriver/remote/webdriver.py?line=424'>425</a>\u001b[0m     \u001b[39mself\u001b[39;49m\u001b[39m.\u001b[39;49merror_handler\u001b[39m.\u001b[39;49mcheck_response(response)\n\u001b[0;32m    <a href='file:///c%3A/git_project/Team_Project/.venv/lib/site-packages/selenium/webdriver/remote/webdriver.py?line=425'>426</a>\u001b[0m     response[\u001b[39m'\u001b[39m\u001b[39mvalue\u001b[39m\u001b[39m'\u001b[39m] \u001b[39m=\u001b[39m \u001b[39mself\u001b[39m\u001b[39m.\u001b[39m_unwrap_value(\n\u001b[0;32m    <a href='file:///c%3A/git_project/Team_Project/.venv/lib/site-packages/selenium/webdriver/remote/webdriver.py?line=426'>427</a>\u001b[0m         response\u001b[39m.\u001b[39mget(\u001b[39m'\u001b[39m\u001b[39mvalue\u001b[39m\u001b[39m'\u001b[39m, \u001b[39mNone\u001b[39;00m))\n\u001b[0;32m    <a href='file:///c%3A/git_project/Team_Project/.venv/lib/site-packages/selenium/webdriver/remote/webdriver.py?line=427'>428</a>\u001b[0m     \u001b[39mreturn\u001b[39;00m response\n",
      "File \u001b[1;32mc:\\git_project\\Team_Project\\.venv\\lib\\site-packages\\selenium\\webdriver\\remote\\errorhandler.py:247\u001b[0m, in \u001b[0;36mErrorHandler.check_response\u001b[1;34m(self, response)\u001b[0m\n\u001b[0;32m    <a href='file:///c%3A/git_project/Team_Project/.venv/lib/site-packages/selenium/webdriver/remote/errorhandler.py?line=244'>245</a>\u001b[0m         alert_text \u001b[39m=\u001b[39m value[\u001b[39m'\u001b[39m\u001b[39malert\u001b[39m\u001b[39m'\u001b[39m]\u001b[39m.\u001b[39mget(\u001b[39m'\u001b[39m\u001b[39mtext\u001b[39m\u001b[39m'\u001b[39m)\n\u001b[0;32m    <a href='file:///c%3A/git_project/Team_Project/.venv/lib/site-packages/selenium/webdriver/remote/errorhandler.py?line=245'>246</a>\u001b[0m     \u001b[39mraise\u001b[39;00m exception_class(message, screen, stacktrace, alert_text)  \u001b[39m# type: ignore[call-arg]  # mypy is not smart enough here\u001b[39;00m\n\u001b[1;32m--> <a href='file:///c%3A/git_project/Team_Project/.venv/lib/site-packages/selenium/webdriver/remote/errorhandler.py?line=246'>247</a>\u001b[0m \u001b[39mraise\u001b[39;00m exception_class(message, screen, stacktrace)\n",
      "\u001b[1;31mElementClickInterceptedException\u001b[0m: Message: element click intercepted: Element <li class=\"next\">...</li> is not clickable at point (754, 580). Other element would receive the click: <div id=\"loading-mask\" style=\"display: block; width: 1019px; height: 2071px;\">...</div>\n  (Session info: chrome=101.0.4951.41)\nStacktrace:\nBacktrace:\n\tOrdinal0 [0x010AB8F3+2406643]\n\tOrdinal0 [0x0103AF31+1945393]\n\tOrdinal0 [0x00F2C748+837448]\n\tOrdinal0 [0x00F5FA1B+1047067]\n\tOrdinal0 [0x00F5D9F8+1038840]\n\tOrdinal0 [0x00F5B6DB+1029851]\n\tOrdinal0 [0x00F5A439+1025081]\n\tOrdinal0 [0x00F50083+983171]\n\tOrdinal0 [0x00F7427C+1131132]\n\tOrdinal0 [0x00F4FA64+981604]\n\tOrdinal0 [0x00F74494+1131668]\n\tOrdinal0 [0x00F84682+1197698]\n\tOrdinal0 [0x00F74096+1130646]\n\tOrdinal0 [0x00F4E636+976438]\n\tOrdinal0 [0x00F4F546+980294]\n\tGetHandleVerifier [0x01319612+2498066]\n\tGetHandleVerifier [0x0130C920+2445600]\n\tGetHandleVerifier [0x01144F2A+579370]\n\tGetHandleVerifier [0x01143D36+574774]\n\tOrdinal0 [0x01041C0B+1973259]\n\tOrdinal0 [0x01046688+1992328]\n\tOrdinal0 [0x01046775+1992565]\n\tOrdinal0 [0x0104F8D1+2029777]\n\tBaseThreadInitThunk [0x758FFA29+25]\n\tRtlGetAppContainerNamedObjectPath [0x77A77A7E+286]\n\tRtlGetAppContainerNamedObjectPath [0x77A77A4E+238]\n"
     ]
    }
   ],
   "source": [
    "# 한번에 12개월 분량의 데이터만 추출 가능\n",
    "\n",
    "for i in range (2010,2013):\n",
    "    # Year\n",
    "        # 2010년부터 2022년까지의 데이터 존재\n",
    "        # 변수 i를 for문을 통해 모든 연도를 입력\n",
    "    string_year = str(i)\n",
    "    select = Select(driver.find_element_by_id('startDt'))\n",
    "    select.select_by_visible_text(string_year)\n",
    "    select = Select(driver.find_element_by_id('endDt'))\n",
    "    select.select_by_visible_text(string_year)\n",
    "\n",
    "    # Month\n",
    "        # 기본적으로는 1월부터 12월까지 선택\n",
    "        # 예외) 2010년은 6월부터 2022년은 4월까지 의 데이터만 존재\n",
    "\n",
    "    ## 시작 월\n",
    "    select = Select(driver.find_element_by_id('startMt'))\n",
    "    if i == 2010:\n",
    "        select.select_by_visible_text('06')\n",
    "    else:\n",
    "        select.select_by_visible_text('01')\n",
    "    ## 끝 월\n",
    "    select = Select(driver.find_element_by_id('endMt'))\n",
    "    if i == 2022:\n",
    "        select.select_by_visible_text('04')\n",
    "    else:\n",
    "        select.select_by_visible_text('12')\n",
    "\n",
    "    #버튼 클릭\n",
    "    form = driver.find_element(By.ID, 'dsForm')\n",
    "    form.find_element(By.CLASS_NAME, 'btn').click()\n",
    "\n",
    "\n",
    "    # 파일 다운로드\n",
    "    ## 처음 한번 실행\n",
    "    ## 전체 파일 클릭\n",
    "    driver.find_element(By.ID, 'checkAll').click()\n",
    "\n",
    "    ## 다운로드 버튼 클릭\n",
    "    driver.find_element(By.CLASS_NAME, 'btn_download').click()\n",
    "    time.sleep(3)\n",
    "\n",
    "    ## 목적 클릭 (연구) 처음 한번만 진행하면 됨\n",
    "    driver.find_element(By.ID, 'reqstPurposeCd7').click()\n",
    "    \n",
    "    ## 진짜 다운로드\n",
    "    driver.find_element(By.CLASS_NAME, 'btn_request').click()\n",
    "\n",
    "    time.sleep(1)\n",
    "\n",
    "    ## 다음 페이지를 누르며 반복 실행\n",
    "    ## 측정하는 날씨와 무관하게 지역과 요소는 변하지않으므로 항상 994개의 파일이 존재하므로\n",
    "    ## 항상 100페이지 분량을 반복하면 됨\n",
    "    for i in range(99):\n",
    "        # 다음 페이지\n",
    "        driver.find_element(By.CLASS_NAME, 'next').click()\n",
    "        # 전체 파일 클릭\n",
    "        driver.find_element(By.ID, 'checkAll').click()\n",
    "        # 다운로드 버튼 클릭\n",
    "        driver.find_element(By.CLASS_NAME, 'btn_download').click()\n",
    "        time.sleep(1)"
   ]
  }
 ],
 "metadata": {
  "interpreter": {
   "hash": "0b8350b94611685c37df1e4ccf119b007d920129efdc2d3a38b2402e0cf371d0"
  },
  "kernelspec": {
   "display_name": "Python 3.10.1 ('venv': venv)",
   "language": "python",
   "name": "python3"
  },
  "language_info": {
   "codemirror_mode": {
    "name": "ipython",
    "version": 3
   },
   "file_extension": ".py",
   "mimetype": "text/x-python",
   "name": "python",
   "nbconvert_exporter": "python",
   "pygments_lexer": "ipython3",
   "version": "3.10.4"
  },
  "orig_nbformat": 4
 },
 "nbformat": 4,
 "nbformat_minor": 2
}
