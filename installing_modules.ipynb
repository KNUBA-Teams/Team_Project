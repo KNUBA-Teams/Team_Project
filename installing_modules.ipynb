{
 "cells": [
  {
   "cell_type": "markdown",
   "metadata": {},
   "source": [
    "# 모듈 설치용"
   ]
  },
  {
   "cell_type": "code",
   "execution_count": 1,
   "metadata": {},
   "outputs": [
    {
     "name": "stdout",
     "output_type": "stream",
     "text": [
      "Requirement already satisfied: pandas in c:\\git_project\\team_project_backup\\.venv\\lib\\site-packages (1.4.2)\n",
      "Requirement already satisfied: pytz>=2020.1 in c:\\git_project\\team_project_backup\\.venv\\lib\\site-packages (from pandas) (2022.1)\n",
      "Requirement already satisfied: python-dateutil>=2.8.1 in c:\\git_project\\team_project_backup\\.venv\\lib\\site-packages (from pandas) (2.8.2)\n",
      "Requirement already satisfied: numpy>=1.21.0 in c:\\git_project\\team_project_backup\\.venv\\lib\\site-packages (from pandas) (1.22.3)\n",
      "Requirement already satisfied: six>=1.5 in c:\\git_project\\team_project_backup\\.venv\\lib\\site-packages (from python-dateutil>=2.8.1->pandas) (1.16.0)\n",
      "Note: you may need to restart the kernel to use updated packages.\n"
     ]
    }
   ],
   "source": [
    "pip install pandas"
   ]
  },
  {
   "cell_type": "code",
   "execution_count": 2,
   "metadata": {},
   "outputs": [
    {
     "name": "stdout",
     "output_type": "stream",
     "text": [
      "Requirement already satisfied: selenium in c:\\git_project\\team_project_backup\\.venv\\lib\\site-packages (4.1.3)\n",
      "Requirement already satisfied: urllib3[secure,socks]~=1.26 in c:\\git_project\\team_project_backup\\.venv\\lib\\site-packages (from selenium) (1.26.9)\n",
      "Requirement already satisfied: trio~=0.17 in c:\\git_project\\team_project_backup\\.venv\\lib\\site-packages (from selenium) (0.20.0)\n",
      "Requirement already satisfied: trio-websocket~=0.9 in c:\\git_project\\team_project_backup\\.venv\\lib\\site-packages (from selenium) (0.9.2)\n",
      "Requirement already satisfied: sniffio in c:\\git_project\\team_project_backup\\.venv\\lib\\site-packages (from trio~=0.17->selenium) (1.2.0)\n",
      "Requirement already satisfied: sortedcontainers in c:\\git_project\\team_project_backup\\.venv\\lib\\site-packages (from trio~=0.17->selenium) (2.4.0)\n",
      "Requirement already satisfied: attrs>=19.2.0 in c:\\git_project\\team_project_backup\\.venv\\lib\\site-packages (from trio~=0.17->selenium) (21.4.0)\n",
      "Requirement already satisfied: outcome in c:\\git_project\\team_project_backup\\.venv\\lib\\site-packages (from trio~=0.17->selenium) (1.1.0)\n",
      "Requirement already satisfied: async-generator>=1.9 in c:\\git_project\\team_project_backup\\.venv\\lib\\site-packages (from trio~=0.17->selenium) (1.10)\n",
      "Requirement already satisfied: cffi>=1.14 in c:\\git_project\\team_project_backup\\.venv\\lib\\site-packages (from trio~=0.17->selenium) (1.15.0)\n",
      "Requirement already satisfied: idna in c:\\git_project\\team_project_backup\\.venv\\lib\\site-packages (from trio~=0.17->selenium) (3.3)\n",
      "Requirement already satisfied: wsproto>=0.14 in c:\\git_project\\team_project_backup\\.venv\\lib\\site-packages (from trio-websocket~=0.9->selenium) (1.1.0)\n",
      "Requirement already satisfied: cryptography>=1.3.4 in c:\\git_project\\team_project_backup\\.venv\\lib\\site-packages (from urllib3[secure,socks]~=1.26->selenium) (37.0.2)\n",
      "Requirement already satisfied: pyOpenSSL>=0.14 in c:\\git_project\\team_project_backup\\.venv\\lib\\site-packages (from urllib3[secure,socks]~=1.26->selenium) (22.0.0)\n",
      "Requirement already satisfied: certifi in c:\\git_project\\team_project_backup\\.venv\\lib\\site-packages (from urllib3[secure,socks]~=1.26->selenium) (2021.10.8)\n",
      "Requirement already satisfied: PySocks!=1.5.7,<2.0,>=1.5.6 in c:\\git_project\\team_project_backup\\.venv\\lib\\site-packages (from urllib3[secure,socks]~=1.26->selenium) (1.7.1)\n",
      "Requirement already satisfied: pycparser in c:\\git_project\\team_project_backup\\.venv\\lib\\site-packages (from cffi>=1.14->trio~=0.17->selenium) (2.21)\n",
      "Requirement already satisfied: h11<1,>=0.9.0 in c:\\git_project\\team_project_backup\\.venv\\lib\\site-packages (from wsproto>=0.14->trio-websocket~=0.9->selenium) (0.13.0)\n",
      "Note: you may need to restart the kernel to use updated packages.\n"
     ]
    }
   ],
   "source": [
    "pip install selenium"
   ]
  },
  {
   "cell_type": "code",
   "execution_count": 1,
   "metadata": {},
   "outputs": [
    {
     "name": "stdout",
     "output_type": "stream",
     "text": [
      "Collecting matplotlib\n",
      "  Downloading matplotlib-3.5.2-cp310-cp310-win_amd64.whl (7.2 MB)\n",
      "     ---------------------------------------- 7.2/7.2 MB 2.7 MB/s eta 0:00:00\n",
      "Requirement already satisfied: numpy>=1.17 in c:\\git_project\\team_project\\.venv\\lib\\site-packages (from matplotlib) (1.22.3)\n",
      "Requirement already satisfied: packaging>=20.0 in c:\\git_project\\team_project\\.venv\\lib\\site-packages (from matplotlib) (21.3)\n",
      "Requirement already satisfied: python-dateutil>=2.7 in c:\\git_project\\team_project\\.venv\\lib\\site-packages (from matplotlib) (2.8.2)\n",
      "Collecting pillow>=6.2.0\n",
      "  Downloading Pillow-9.1.0-cp310-cp310-win_amd64.whl (3.3 MB)\n",
      "     ---------------------------------------- 3.3/3.3 MB 3.1 MB/s eta 0:00:00\n",
      "Requirement already satisfied: pyparsing>=2.2.1 in c:\\git_project\\team_project\\.venv\\lib\\site-packages (from matplotlib) (3.0.8)\n",
      "Collecting fonttools>=4.22.0\n",
      "  Downloading fonttools-4.33.3-py3-none-any.whl (930 kB)\n",
      "     -------------------------------------- 930.9/930.9 KB 3.1 MB/s eta 0:00:00\n",
      "Collecting cycler>=0.10\n",
      "  Downloading cycler-0.11.0-py3-none-any.whl (6.4 kB)\n",
      "Collecting kiwisolver>=1.0.1\n",
      "  Downloading kiwisolver-1.4.2-cp310-cp310-win_amd64.whl (55 kB)\n",
      "     ---------------------------------------- 55.3/55.3 KB 2.8 MB/s eta 0:00:00\n",
      "Requirement already satisfied: six>=1.5 in c:\\git_project\\team_project\\.venv\\lib\\site-packages (from python-dateutil>=2.7->matplotlib) (1.16.0)\n",
      "Installing collected packages: pillow, kiwisolver, fonttools, cycler, matplotlib\n",
      "Successfully installed cycler-0.11.0 fonttools-4.33.3 kiwisolver-1.4.2 matplotlib-3.5.2 pillow-9.1.0\n",
      "Note: you may need to restart the kernel to use updated packages.\n"
     ]
    }
   ],
   "source": [
    "pip install matplotlib"
   ]
  },
  {
   "cell_type": "code",
   "execution_count": 2,
   "metadata": {},
   "outputs": [
    {
     "name": "stdout",
     "output_type": "stream",
     "text": [
      "Collecting seaborn\n",
      "  Downloading seaborn-0.11.2-py3-none-any.whl (292 kB)\n",
      "     ------------------------------------ 292.8/292.8 KB 954.7 kB/s eta 0:00:00\n",
      "Collecting scipy>=1.0\n",
      "  Downloading scipy-1.8.0-cp310-cp310-win_amd64.whl (37.0 MB)\n",
      "     ---------------------------------------- 37.0/37.0 MB 4.6 MB/s eta 0:00:00\n",
      "Requirement already satisfied: numpy>=1.15 in c:\\git_project\\team_project\\.venv\\lib\\site-packages (from seaborn) (1.22.3)\n",
      "Requirement already satisfied: matplotlib>=2.2 in c:\\git_project\\team_project\\.venv\\lib\\site-packages (from seaborn) (3.5.2)\n",
      "Requirement already satisfied: pandas>=0.23 in c:\\git_project\\team_project\\.venv\\lib\\site-packages (from seaborn) (1.4.2)\n",
      "Requirement already satisfied: packaging>=20.0 in c:\\git_project\\team_project\\.venv\\lib\\site-packages (from matplotlib>=2.2->seaborn) (21.3)\n",
      "Requirement already satisfied: fonttools>=4.22.0 in c:\\git_project\\team_project\\.venv\\lib\\site-packages (from matplotlib>=2.2->seaborn) (4.33.3)\n",
      "Requirement already satisfied: pillow>=6.2.0 in c:\\git_project\\team_project\\.venv\\lib\\site-packages (from matplotlib>=2.2->seaborn) (9.1.0)\n",
      "Requirement already satisfied: cycler>=0.10 in c:\\git_project\\team_project\\.venv\\lib\\site-packages (from matplotlib>=2.2->seaborn) (0.11.0)\n",
      "Requirement already satisfied: pyparsing>=2.2.1 in c:\\git_project\\team_project\\.venv\\lib\\site-packages (from matplotlib>=2.2->seaborn) (3.0.8)\n",
      "Requirement already satisfied: kiwisolver>=1.0.1 in c:\\git_project\\team_project\\.venv\\lib\\site-packages (from matplotlib>=2.2->seaborn) (1.4.2)\n",
      "Requirement already satisfied: python-dateutil>=2.7 in c:\\git_project\\team_project\\.venv\\lib\\site-packages (from matplotlib>=2.2->seaborn) (2.8.2)\n",
      "Requirement already satisfied: pytz>=2020.1 in c:\\git_project\\team_project\\.venv\\lib\\site-packages (from pandas>=0.23->seaborn) (2022.1)\n",
      "Requirement already satisfied: six>=1.5 in c:\\git_project\\team_project\\.venv\\lib\\site-packages (from python-dateutil>=2.7->matplotlib>=2.2->seaborn) (1.16.0)\n",
      "Installing collected packages: scipy, seaborn\n",
      "Successfully installed scipy-1.8.0 seaborn-0.11.2\n",
      "Note: you may need to restart the kernel to use updated packages.\n"
     ]
    }
   ],
   "source": [
    "pip install seaborn"
   ]
  },
  {
   "cell_type": "code",
   "execution_count": 1,
   "metadata": {},
   "outputs": [
    {
     "name": "stdout",
     "output_type": "stream",
     "text": [
      "Collecting folium\n",
      "  Downloading folium-0.12.1.post1-py2.py3-none-any.whl (95 kB)\n",
      "     -------------------------------------- 95.0/95.0 KB 601.3 kB/s eta 0:00:00\n",
      "Collecting branca>=0.3.0\n",
      "  Downloading branca-0.5.0-py3-none-any.whl (24 kB)\n",
      "Requirement already satisfied: numpy in c:\\git_project\\team_project\\.venv\\lib\\site-packages (from folium) (1.22.3)\n",
      "Collecting requests\n",
      "  Downloading requests-2.27.1-py2.py3-none-any.whl (63 kB)\n",
      "     ---------------------------------------- 63.1/63.1 KB 3.5 MB/s eta 0:00:00\n",
      "Collecting jinja2>=2.9\n",
      "  Downloading Jinja2-3.1.2-py3-none-any.whl (133 kB)\n",
      "     ------------------------------------ 133.1/133.1 KB 341.3 kB/s eta 0:00:00\n",
      "Collecting MarkupSafe>=2.0\n",
      "  Downloading MarkupSafe-2.1.1-cp310-cp310-win_amd64.whl (17 kB)\n",
      "Requirement already satisfied: urllib3<1.27,>=1.21.1 in c:\\git_project\\team_project\\.venv\\lib\\site-packages (from requests->folium) (1.26.9)\n",
      "Requirement already satisfied: idna<4,>=2.5 in c:\\git_project\\team_project\\.venv\\lib\\site-packages (from requests->folium) (3.3)\n",
      "Requirement already satisfied: certifi>=2017.4.17 in c:\\git_project\\team_project\\.venv\\lib\\site-packages (from requests->folium) (2021.10.8)\n",
      "Collecting charset-normalizer~=2.0.0\n",
      "  Downloading charset_normalizer-2.0.12-py3-none-any.whl (39 kB)\n",
      "Installing collected packages: MarkupSafe, charset-normalizer, requests, jinja2, branca, folium\n",
      "Successfully installed MarkupSafe-2.1.1 branca-0.5.0 charset-normalizer-2.0.12 folium-0.12.1.post1 jinja2-3.1.2 requests-2.27.1\n",
      "Note: you may need to restart the kernel to use updated packages.\n"
     ]
    }
   ],
   "source": [
    "pip install folium"
   ]
  },
  {
   "cell_type": "code",
   "execution_count": 1,
   "metadata": {},
   "outputs": [
    {
     "name": "stdout",
     "output_type": "stream",
     "text": [
      "Collecting plotly.express\n",
      "  Downloading plotly_express-0.4.1-py2.py3-none-any.whl (2.9 kB)\n",
      "Requirement already satisfied: numpy>=1.11 in c:\\git_project\\team_project\\.venv\\lib\\site-packages (from plotly.express) (1.22.3)\n",
      "Requirement already satisfied: scipy>=0.18 in c:\\git_project\\team_project\\.venv\\lib\\site-packages (from plotly.express) (1.8.0)\n",
      "Collecting statsmodels>=0.9.0\n",
      "  Downloading statsmodels-0.13.2-cp310-cp310-win_amd64.whl (9.1 MB)\n",
      "     ---------------------------------------- 9.1/9.1 MB 9.7 MB/s eta 0:00:00\n",
      "Collecting plotly>=4.1.0\n",
      "  Downloading plotly-5.8.0-py2.py3-none-any.whl (15.2 MB)\n",
      "     --------------------------------------- 15.2/15.2 MB 13.4 MB/s eta 0:00:00\n",
      "Collecting patsy>=0.5\n",
      "  Downloading patsy-0.5.2-py2.py3-none-any.whl (233 kB)\n",
      "     -------------------------------------- 233.7/233.7 KB 7.0 MB/s eta 0:00:00\n",
      "Requirement already satisfied: pandas>=0.20.0 in c:\\git_project\\team_project\\.venv\\lib\\site-packages (from plotly.express) (1.4.2)\n",
      "Requirement already satisfied: pytz>=2020.1 in c:\\git_project\\team_project\\.venv\\lib\\site-packages (from pandas>=0.20.0->plotly.express) (2022.1)\n",
      "Requirement already satisfied: python-dateutil>=2.8.1 in c:\\git_project\\team_project\\.venv\\lib\\site-packages (from pandas>=0.20.0->plotly.express) (2.8.2)\n",
      "Requirement already satisfied: six in c:\\git_project\\team_project\\.venv\\lib\\site-packages (from patsy>=0.5->plotly.express) (1.16.0)\n",
      "Collecting tenacity>=6.2.0\n",
      "  Using cached tenacity-8.0.1-py3-none-any.whl (24 kB)\n",
      "Requirement already satisfied: packaging>=21.3 in c:\\git_project\\team_project\\.venv\\lib\\site-packages (from statsmodels>=0.9.0->plotly.express) (21.3)\n",
      "Requirement already satisfied: pyparsing!=3.0.5,>=2.0.2 in c:\\git_project\\team_project\\.venv\\lib\\site-packages (from packaging>=21.3->statsmodels>=0.9.0->plotly.express) (3.0.8)\n",
      "Installing collected packages: tenacity, patsy, plotly, statsmodels, plotly.express\n",
      "Successfully installed patsy-0.5.2 plotly-5.8.0 plotly.express-0.4.1 statsmodels-0.13.2 tenacity-8.0.1\n",
      "Note: you may need to restart the kernel to use updated packages.\n"
     ]
    }
   ],
   "source": [
    "pip install plotly.express"
   ]
  }
 ],
 "metadata": {
  "interpreter": {
   "hash": "bac7091f92fc2f0b00be828225d1955fd63bf4b7c98ed2b01933ae57ce3415f0"
  },
  "kernelspec": {
   "display_name": "Python 3.10.4 ('.venv': venv)",
   "language": "python",
   "name": "python3"
  },
  "language_info": {
   "codemirror_mode": {
    "name": "ipython",
    "version": 3
   },
   "file_extension": ".py",
   "mimetype": "text/x-python",
   "name": "python",
   "nbconvert_exporter": "python",
   "pygments_lexer": "ipython3",
   "version": "3.10.4"
  },
  "orig_nbformat": 4
 },
 "nbformat": 4,
 "nbformat_minor": 2
}
