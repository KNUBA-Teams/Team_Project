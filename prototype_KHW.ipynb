{
 "cells": [
  {
   "cell_type": "code",
   "execution_count": 19,
   "metadata": {},
   "outputs": [
    {
     "data": {
      "text/html": [
       "<div>\n",
       "<style scoped>\n",
       "    .dataframe tbody tr th:only-of-type {\n",
       "        vertical-align: middle;\n",
       "    }\n",
       "\n",
       "    .dataframe tbody tr th {\n",
       "        vertical-align: top;\n",
       "    }\n",
       "\n",
       "    .dataframe thead th {\n",
       "        text-align: right;\n",
       "    }\n",
       "</style>\n",
       "<table border=\"1\" class=\"dataframe\">\n",
       "  <thead>\n",
       "    <tr style=\"text-align: right;\">\n",
       "      <th></th>\n",
       "      <th>year</th>\n",
       "      <th>month</th>\n",
       "      <th>day</th>\n",
       "      <th>hour</th>\n",
       "      <th>datetime</th>\n",
       "      <th>temp</th>\n",
       "      <th>rainfall</th>\n",
       "      <th>lightning</th>\n",
       "      <th>humidity</th>\n",
       "      <th>wind_speed</th>\n",
       "      <th>wind_direction</th>\n",
       "      <th>condition</th>\n",
       "      <th>region</th>\n",
       "      <th>HI</th>\n",
       "      <th>DI</th>\n",
       "    </tr>\n",
       "  </thead>\n",
       "  <tbody>\n",
       "    <tr>\n",
       "      <th>0</th>\n",
       "      <td>2010</td>\n",
       "      <td>6</td>\n",
       "      <td>1</td>\n",
       "      <td>0</td>\n",
       "      <td>2010-06-01 00:00:00</td>\n",
       "      <td>16.5</td>\n",
       "      <td>0.0</td>\n",
       "      <td>-1</td>\n",
       "      <td>53.0</td>\n",
       "      <td>NaN</td>\n",
       "      <td>NaN</td>\n",
       "      <td>1</td>\n",
       "      <td>동인동</td>\n",
       "      <td>15.589444</td>\n",
       "      <td>60.74355</td>\n",
       "    </tr>\n",
       "    <tr>\n",
       "      <th>1</th>\n",
       "      <td>2010</td>\n",
       "      <td>6</td>\n",
       "      <td>1</td>\n",
       "      <td>1</td>\n",
       "      <td>2010-06-01 01:00:00</td>\n",
       "      <td>18.1</td>\n",
       "      <td>0.0</td>\n",
       "      <td>-1</td>\n",
       "      <td>49.0</td>\n",
       "      <td>NaN</td>\n",
       "      <td>NaN</td>\n",
       "      <td>1</td>\n",
       "      <td>동인동</td>\n",
       "      <td>17.245000</td>\n",
       "      <td>62.73431</td>\n",
       "    </tr>\n",
       "    <tr>\n",
       "      <th>2</th>\n",
       "      <td>2010</td>\n",
       "      <td>6</td>\n",
       "      <td>1</td>\n",
       "      <td>2</td>\n",
       "      <td>2010-06-01 02:00:00</td>\n",
       "      <td>19.7</td>\n",
       "      <td>0.0</td>\n",
       "      <td>-1</td>\n",
       "      <td>46.0</td>\n",
       "      <td>NaN</td>\n",
       "      <td>NaN</td>\n",
       "      <td>1</td>\n",
       "      <td>동인동</td>\n",
       "      <td>18.926667</td>\n",
       "      <td>64.65038</td>\n",
       "    </tr>\n",
       "    <tr>\n",
       "      <th>3</th>\n",
       "      <td>2010</td>\n",
       "      <td>6</td>\n",
       "      <td>1</td>\n",
       "      <td>3</td>\n",
       "      <td>2010-06-01 03:00:00</td>\n",
       "      <td>20.8</td>\n",
       "      <td>0.0</td>\n",
       "      <td>-1</td>\n",
       "      <td>41.0</td>\n",
       "      <td>NaN</td>\n",
       "      <td>NaN</td>\n",
       "      <td>1</td>\n",
       "      <td>동인동</td>\n",
       "      <td>20.006111</td>\n",
       "      <td>65.72772</td>\n",
       "    </tr>\n",
       "    <tr>\n",
       "      <th>4</th>\n",
       "      <td>2010</td>\n",
       "      <td>6</td>\n",
       "      <td>1</td>\n",
       "      <td>4</td>\n",
       "      <td>2010-06-01 04:00:00</td>\n",
       "      <td>22.2</td>\n",
       "      <td>0.0</td>\n",
       "      <td>-1</td>\n",
       "      <td>36.0</td>\n",
       "      <td>NaN</td>\n",
       "      <td>NaN</td>\n",
       "      <td>2</td>\n",
       "      <td>동인동</td>\n",
       "      <td>21.415556</td>\n",
       "      <td>67.04608</td>\n",
       "    </tr>\n",
       "    <tr>\n",
       "      <th>...</th>\n",
       "      <td>...</td>\n",
       "      <td>...</td>\n",
       "      <td>...</td>\n",
       "      <td>...</td>\n",
       "      <td>...</td>\n",
       "      <td>...</td>\n",
       "      <td>...</td>\n",
       "      <td>...</td>\n",
       "      <td>...</td>\n",
       "      <td>...</td>\n",
       "      <td>...</td>\n",
       "      <td>...</td>\n",
       "      <td>...</td>\n",
       "      <td>...</td>\n",
       "      <td>...</td>\n",
       "    </tr>\n",
       "    <tr>\n",
       "      <th>14831611</th>\n",
       "      <td>2022</td>\n",
       "      <td>4</td>\n",
       "      <td>30</td>\n",
       "      <td>19</td>\n",
       "      <td>2022-04-30 19:00:00</td>\n",
       "      <td>10.7</td>\n",
       "      <td>0.0</td>\n",
       "      <td>-1</td>\n",
       "      <td>71.0</td>\n",
       "      <td>2.1</td>\n",
       "      <td>335.0</td>\n",
       "      <td>-1</td>\n",
       "      <td>구지면</td>\n",
       "      <td>9.679444</td>\n",
       "      <td>52.33503</td>\n",
       "    </tr>\n",
       "    <tr>\n",
       "      <th>14831612</th>\n",
       "      <td>2022</td>\n",
       "      <td>4</td>\n",
       "      <td>30</td>\n",
       "      <td>20</td>\n",
       "      <td>2022-04-30 20:00:00</td>\n",
       "      <td>11.0</td>\n",
       "      <td>0.0</td>\n",
       "      <td>-1</td>\n",
       "      <td>65.0</td>\n",
       "      <td>2.2</td>\n",
       "      <td>339.0</td>\n",
       "      <td>-1</td>\n",
       "      <td>구지면</td>\n",
       "      <td>9.852778</td>\n",
       "      <td>52.99350</td>\n",
       "    </tr>\n",
       "    <tr>\n",
       "      <th>14831613</th>\n",
       "      <td>2022</td>\n",
       "      <td>4</td>\n",
       "      <td>30</td>\n",
       "      <td>21</td>\n",
       "      <td>2022-04-30 21:00:00</td>\n",
       "      <td>11.9</td>\n",
       "      <td>0.0</td>\n",
       "      <td>-1</td>\n",
       "      <td>61.0</td>\n",
       "      <td>2.2</td>\n",
       "      <td>338.0</td>\n",
       "      <td>-1</td>\n",
       "      <td>구지면</td>\n",
       "      <td>10.738333</td>\n",
       "      <td>54.40241</td>\n",
       "    </tr>\n",
       "    <tr>\n",
       "      <th>14831614</th>\n",
       "      <td>2022</td>\n",
       "      <td>4</td>\n",
       "      <td>30</td>\n",
       "      <td>22</td>\n",
       "      <td>2022-04-30 22:00:00</td>\n",
       "      <td>13.4</td>\n",
       "      <td>0.0</td>\n",
       "      <td>-1</td>\n",
       "      <td>53.0</td>\n",
       "      <td>2.0</td>\n",
       "      <td>351.0</td>\n",
       "      <td>-1</td>\n",
       "      <td>구지면</td>\n",
       "      <td>12.179444</td>\n",
       "      <td>56.60598</td>\n",
       "    </tr>\n",
       "    <tr>\n",
       "      <th>14831615</th>\n",
       "      <td>2022</td>\n",
       "      <td>4</td>\n",
       "      <td>30</td>\n",
       "      <td>23</td>\n",
       "      <td>2022-04-30 23:00:00</td>\n",
       "      <td>15.1</td>\n",
       "      <td>0.0</td>\n",
       "      <td>-1</td>\n",
       "      <td>41.0</td>\n",
       "      <td>2.1</td>\n",
       "      <td>5.0</td>\n",
       "      <td>-1</td>\n",
       "      <td>구지면</td>\n",
       "      <td>13.736111</td>\n",
       "      <td>58.79709</td>\n",
       "    </tr>\n",
       "  </tbody>\n",
       "</table>\n",
       "<p>14831616 rows × 15 columns</p>\n",
       "</div>"
      ],
      "text/plain": [
       "          year  month  day  hour             datetime  temp  rainfall  \\\n",
       "0         2010      6    1     0  2010-06-01 00:00:00  16.5       0.0   \n",
       "1         2010      6    1     1  2010-06-01 01:00:00  18.1       0.0   \n",
       "2         2010      6    1     2  2010-06-01 02:00:00  19.7       0.0   \n",
       "3         2010      6    1     3  2010-06-01 03:00:00  20.8       0.0   \n",
       "4         2010      6    1     4  2010-06-01 04:00:00  22.2       0.0   \n",
       "...        ...    ...  ...   ...                  ...   ...       ...   \n",
       "14831611  2022      4   30    19  2022-04-30 19:00:00  10.7       0.0   \n",
       "14831612  2022      4   30    20  2022-04-30 20:00:00  11.0       0.0   \n",
       "14831613  2022      4   30    21  2022-04-30 21:00:00  11.9       0.0   \n",
       "14831614  2022      4   30    22  2022-04-30 22:00:00  13.4       0.0   \n",
       "14831615  2022      4   30    23  2022-04-30 23:00:00  15.1       0.0   \n",
       "\n",
       "          lightning  humidity  wind_speed  wind_direction  condition region  \\\n",
       "0                -1      53.0         NaN             NaN          1    동인동   \n",
       "1                -1      49.0         NaN             NaN          1    동인동   \n",
       "2                -1      46.0         NaN             NaN          1    동인동   \n",
       "3                -1      41.0         NaN             NaN          1    동인동   \n",
       "4                -1      36.0         NaN             NaN          2    동인동   \n",
       "...             ...       ...         ...             ...        ...    ...   \n",
       "14831611         -1      71.0         2.1           335.0         -1    구지면   \n",
       "14831612         -1      65.0         2.2           339.0         -1    구지면   \n",
       "14831613         -1      61.0         2.2           338.0         -1    구지면   \n",
       "14831614         -1      53.0         2.0           351.0         -1    구지면   \n",
       "14831615         -1      41.0         2.1             5.0         -1    구지면   \n",
       "\n",
       "                 HI        DI  \n",
       "0         15.589444  60.74355  \n",
       "1         17.245000  62.73431  \n",
       "2         18.926667  64.65038  \n",
       "3         20.006111  65.72772  \n",
       "4         21.415556  67.04608  \n",
       "...             ...       ...  \n",
       "14831611   9.679444  52.33503  \n",
       "14831612   9.852778  52.99350  \n",
       "14831613  10.738333  54.40241  \n",
       "14831614  12.179444  56.60598  \n",
       "14831615  13.736111  58.79709  \n",
       "\n",
       "[14831616 rows x 15 columns]"
      ]
     },
     "execution_count": 19,
     "metadata": {},
     "output_type": "execute_result"
    }
   ],
   "source": [
    "import pandas as pd\n",
    "import numpy as np\n",
    "import matplotlib.pyplot as plt\n",
    "import seaborn as sns\n",
    "import sklearn\n",
    "\n",
    "daegu_final = pd.read_csv('./output/daegu_final.csv')\n",
    "\n",
    "daegu_final"
   ]
  },
  {
   "cell_type": "code",
   "execution_count": 20,
   "metadata": {},
   "outputs": [
    {
     "data": {
      "text/plain": [
       "Index(['year', 'month', 'day', 'hour', 'datetime', 'temp', 'rainfall',\n",
       "       'lightning', 'humidity', 'wind_speed', 'wind_direction', 'condition',\n",
       "       'region', 'HI', 'DI'],\n",
       "      dtype='object')"
      ]
     },
     "execution_count": 20,
     "metadata": {},
     "output_type": "execute_result"
    }
   ],
   "source": [
    "daegu_final.columns"
   ]
  },
  {
   "cell_type": "code",
   "execution_count": 21,
   "metadata": {},
   "outputs": [],
   "source": [
    "# column 순서 변경\n",
    "daegu_final = daegu_final[['year', 'month', 'day', 'hour', 'datetime', 'temp', 'rainfall',\n",
    "       'lightning', 'humidity', 'wind_speed', 'wind_direction', 'condition',\n",
    "       'region', 'DI', 'HI']]"
   ]
  },
  {
   "cell_type": "code",
   "execution_count": 22,
   "metadata": {},
   "outputs": [
    {
     "name": "stdout",
     "output_type": "stream",
     "text": [
      "(14831616, 14)\n",
      "(14831616,)\n"
     ]
    }
   ],
   "source": [
    "# 목표 변수 'HI'를 target에 저장\n",
    "data = daegu_final.iloc[:, :-1]\n",
    "target = daegu_final['HI']\n",
    "\n",
    "# 데이터셋 크기\n",
    "print(data.shape)\n",
    "print(target.shape)"
   ]
  },
  {
   "cell_type": "code",
   "execution_count": 23,
   "metadata": {},
   "outputs": [
    {
     "data": {
      "text/html": [
       "<div>\n",
       "<style scoped>\n",
       "    .dataframe tbody tr th:only-of-type {\n",
       "        vertical-align: middle;\n",
       "    }\n",
       "\n",
       "    .dataframe tbody tr th {\n",
       "        vertical-align: top;\n",
       "    }\n",
       "\n",
       "    .dataframe thead th {\n",
       "        text-align: right;\n",
       "    }\n",
       "</style>\n",
       "<table border=\"1\" class=\"dataframe\">\n",
       "  <thead>\n",
       "    <tr style=\"text-align: right;\">\n",
       "      <th></th>\n",
       "      <th>year</th>\n",
       "      <th>month</th>\n",
       "      <th>day</th>\n",
       "      <th>hour</th>\n",
       "      <th>datetime</th>\n",
       "      <th>temp</th>\n",
       "      <th>rainfall</th>\n",
       "      <th>lightning</th>\n",
       "      <th>humidity</th>\n",
       "      <th>wind_speed</th>\n",
       "      <th>wind_direction</th>\n",
       "      <th>condition</th>\n",
       "      <th>region</th>\n",
       "      <th>DI</th>\n",
       "      <th>HI</th>\n",
       "    </tr>\n",
       "  </thead>\n",
       "  <tbody>\n",
       "    <tr>\n",
       "      <th>0</th>\n",
       "      <td>2010</td>\n",
       "      <td>6</td>\n",
       "      <td>1</td>\n",
       "      <td>0</td>\n",
       "      <td>2010-06-01 00:00:00</td>\n",
       "      <td>16.5</td>\n",
       "      <td>0.0</td>\n",
       "      <td>-1</td>\n",
       "      <td>53.0</td>\n",
       "      <td>NaN</td>\n",
       "      <td>NaN</td>\n",
       "      <td>1</td>\n",
       "      <td>동인동</td>\n",
       "      <td>60.74355</td>\n",
       "      <td>15.589444</td>\n",
       "    </tr>\n",
       "    <tr>\n",
       "      <th>1</th>\n",
       "      <td>2010</td>\n",
       "      <td>6</td>\n",
       "      <td>1</td>\n",
       "      <td>1</td>\n",
       "      <td>2010-06-01 01:00:00</td>\n",
       "      <td>18.1</td>\n",
       "      <td>0.0</td>\n",
       "      <td>-1</td>\n",
       "      <td>49.0</td>\n",
       "      <td>NaN</td>\n",
       "      <td>NaN</td>\n",
       "      <td>1</td>\n",
       "      <td>동인동</td>\n",
       "      <td>62.73431</td>\n",
       "      <td>17.245000</td>\n",
       "    </tr>\n",
       "  </tbody>\n",
       "</table>\n",
       "</div>"
      ],
      "text/plain": [
       "   year  month  day  hour             datetime  temp  rainfall  lightning  \\\n",
       "0  2010      6    1     0  2010-06-01 00:00:00  16.5       0.0         -1   \n",
       "1  2010      6    1     1  2010-06-01 01:00:00  18.1       0.0         -1   \n",
       "\n",
       "   humidity  wind_speed  wind_direction  condition region        DI         HI  \n",
       "0      53.0         NaN             NaN          1    동인동  60.74355  15.589444  \n",
       "1      49.0         NaN             NaN          1    동인동  62.73431  17.245000  "
      ]
     },
     "execution_count": 23,
     "metadata": {},
     "output_type": "execute_result"
    }
   ],
   "source": [
    "# 데이터프레임 결합\n",
    "df = pd.concat([data, target], axis=1)\n",
    "df.head(2)"
   ]
  },
  {
   "cell_type": "code",
   "execution_count": 24,
   "metadata": {},
   "outputs": [
    {
     "name": "stdout",
     "output_type": "stream",
     "text": [
      "<class 'pandas.core.frame.DataFrame'>\n",
      "RangeIndex: 14831616 entries, 0 to 14831615\n",
      "Data columns (total 15 columns):\n",
      " #   Column          Dtype  \n",
      "---  ------          -----  \n",
      " 0   year            int64  \n",
      " 1   month           int64  \n",
      " 2   day             int64  \n",
      " 3   hour            int64  \n",
      " 4   datetime        object \n",
      " 5   temp            float64\n",
      " 6   rainfall        float64\n",
      " 7   lightning       int64  \n",
      " 8   humidity        float64\n",
      " 9   wind_speed      float64\n",
      " 10  wind_direction  float64\n",
      " 11  condition       int64  \n",
      " 12  region          object \n",
      " 13  DI              float64\n",
      " 14  HI              float64\n",
      "dtypes: float64(7), int64(6), object(2)\n",
      "memory usage: 1.7+ GB\n"
     ]
    }
   ],
   "source": [
    "# 데이터프레임의 기본 정보\n",
    "df.info()"
   ]
  },
  {
   "cell_type": "code",
   "execution_count": 27,
   "metadata": {},
   "outputs": [
    {
     "data": {
      "text/plain": [
       "year              0\n",
       "month             0\n",
       "day               0\n",
       "hour              0\n",
       "datetime          0\n",
       "temp              0\n",
       "rainfall          0\n",
       "lightning         0\n",
       "humidity          0\n",
       "wind_speed        0\n",
       "wind_direction    0\n",
       "condition         0\n",
       "region            0\n",
       "DI                0\n",
       "HI                0\n",
       "dtype: int64"
      ]
     },
     "execution_count": 27,
     "metadata": {},
     "output_type": "execute_result"
    }
   ],
   "source": [
    "# 결측값 확인\n",
    "df.isnull().sum()"
   ]
  },
  {
   "cell_type": "code",
   "execution_count": 29,
   "metadata": {},
   "outputs": [],
   "source": [
    "# 결측치 처리\n",
    "df.drop(['lightning','condition'], axis=1, inplace=True)\n",
    "df.dropna(inplace=True)"
   ]
  },
  {
   "cell_type": "code",
   "execution_count": 31,
   "metadata": {},
   "outputs": [
    {
     "data": {
      "image/png": "[encoded data removed]",
      "text/plain": [
       "<Figure size 720x720 with 1 Axes>"
      ]
     },
     "metadata": {
      "needs_background": "light"
     },
     "output_type": "display_data"
    }
   ],
   "source": [
    "# 상관 관계 행렬\n",
    "df_corr = df.corr()\n",
    "\n",
    "# 히트맵 그리기\n",
    "plt.figure(figsize=(10,10))\n",
    "sns.set(font_scale=0.8)\n",
    "sns.heatmap(df_corr, annot=True, cbar=False)\n",
    "plt.show()"
   ]
  },
  {
   "cell_type": "code",
   "execution_count": 34,
   "metadata": {},
   "outputs": [
    {
     "data": {
      "text/plain": [
       "temp              0.993535\n",
       "DI                0.988315\n",
       "month             0.217923\n",
       "hour              0.197070\n",
       "humidity          0.190805\n",
       "wind_direction    0.154148\n",
       "rainfall          0.061963\n",
       "wind_speed        0.035458\n",
       "day               0.010980\n",
       "year              0.000551\n",
       "Name: HI, dtype: float64"
      ]
     },
     "execution_count": 34,
     "metadata": {},
     "output_type": "execute_result"
    }
   ],
   "source": [
    "# 변수 간의 상관 관계 분석 - Target 변수와 상관 관계가 높은 순서대로 정리\n",
    "corr_order = df_corr.loc[:'DI','HI'].abs().sort_values(ascending=False)\n",
    "\n",
    "corr_order"
   ]
  },
  {
   "cell_type": "code",
   "execution_count": 35,
   "metadata": {},
   "outputs": [
    {
     "data": {
      "text/html": [
       "<div>\n",
       "<style scoped>\n",
       "    .dataframe tbody tr th:only-of-type {\n",
       "        vertical-align: middle;\n",
       "    }\n",
       "\n",
       "    .dataframe tbody tr th {\n",
       "        vertical-align: top;\n",
       "    }\n",
       "\n",
       "    .dataframe thead th {\n",
       "        text-align: right;\n",
       "    }\n",
       "</style>\n",
       "<table border=\"1\" class=\"dataframe\">\n",
       "  <thead>\n",
       "    <tr style=\"text-align: right;\">\n",
       "      <th></th>\n",
       "      <th>HI</th>\n",
       "      <th>temp</th>\n",
       "      <th>DI</th>\n",
       "      <th>month</th>\n",
       "      <th>hour</th>\n",
       "    </tr>\n",
       "  </thead>\n",
       "  <tbody>\n",
       "    <tr>\n",
       "      <th>4519</th>\n",
       "      <td>9.651111</td>\n",
       "      <td>11.6</td>\n",
       "      <td>54.79488</td>\n",
       "      <td>12</td>\n",
       "      <td>7</td>\n",
       "    </tr>\n",
       "    <tr>\n",
       "      <th>4520</th>\n",
       "      <td>8.629444</td>\n",
       "      <td>10.6</td>\n",
       "      <td>53.55390</td>\n",
       "      <td>12</td>\n",
       "      <td>8</td>\n",
       "    </tr>\n",
       "    <tr>\n",
       "      <th>4521</th>\n",
       "      <td>6.880556</td>\n",
       "      <td>9.2</td>\n",
       "      <td>52.35016</td>\n",
       "      <td>12</td>\n",
       "      <td>9</td>\n",
       "    </tr>\n",
       "    <tr>\n",
       "      <th>4522</th>\n",
       "      <td>5.633333</td>\n",
       "      <td>7.9</td>\n",
       "      <td>50.49614</td>\n",
       "      <td>12</td>\n",
       "      <td>10</td>\n",
       "    </tr>\n",
       "    <tr>\n",
       "      <th>4523</th>\n",
       "      <td>3.474444</td>\n",
       "      <td>5.7</td>\n",
       "      <td>47.10792</td>\n",
       "      <td>12</td>\n",
       "      <td>11</td>\n",
       "    </tr>\n",
       "  </tbody>\n",
       "</table>\n",
       "</div>"
      ],
      "text/plain": [
       "            HI  temp        DI  month  hour\n",
       "4519  9.651111  11.6  54.79488     12     7\n",
       "4520  8.629444  10.6  53.55390     12     8\n",
       "4521  6.880556   9.2  52.35016     12     9\n",
       "4522  5.633333   7.9  50.49614     12    10\n",
       "4523  3.474444   5.7  47.10792     12    11"
      ]
     },
     "execution_count": 35,
     "metadata": {},
     "output_type": "execute_result"
    }
   ],
   "source": [
    "# 시각화로 분석할 피처 선택 추출 - Target 변수와 상관 관계가 높은 4개 변수\n",
    "plot_cols = ['HI','temp','DI','month','hour']\n",
    "plot_df = df.loc[:, plot_cols]\n",
    "\n",
    "plot_df.head()"
   ]
  },
  {
   "cell_type": "code",
   "execution_count": 36,
   "metadata": {},
   "outputs": [
    {
     "ename": "KeyboardInterrupt",
     "evalue": "",
     "output_type": "error",
     "traceback": [
      "\u001b[1;31m---------------------------------------------------------------------------\u001b[0m",
      "\u001b[1;31mKeyboardInterrupt\u001b[0m                         Traceback (most recent call last)",
      "\u001b[1;32mc:\\Team_Project\\ML_regression_KHW.ipynb Cell 12'\u001b[0m in \u001b[0;36m<cell line: 3>\u001b[1;34m()\u001b[0m\n\u001b[0;32m      <a href='vscode-notebook-cell:/c%3A/Team_Project/ML_regression_KHW.ipynb#ch0000009?line=2'>3</a>\u001b[0m \u001b[39mfor\u001b[39;00m idx, col \u001b[39min\u001b[39;00m \u001b[39menumerate\u001b[39m(plot_cols[\u001b[39m1\u001b[39m:]):\n\u001b[0;32m      <a href='vscode-notebook-cell:/c%3A/Team_Project/ML_regression_KHW.ipynb#ch0000009?line=3'>4</a>\u001b[0m     ax1 \u001b[39m=\u001b[39m plt\u001b[39m.\u001b[39msubplot(\u001b[39m2\u001b[39m,\u001b[39m2\u001b[39m, idx\u001b[39m+\u001b[39m\u001b[39m1\u001b[39m)\n\u001b[1;32m----> <a href='vscode-notebook-cell:/c%3A/Team_Project/ML_regression_KHW.ipynb#ch0000009?line=4'>5</a>\u001b[0m     sns\u001b[39m.\u001b[39;49mregplot(x\u001b[39m=\u001b[39;49mcol, y\u001b[39m=\u001b[39;49mplot_cols[\u001b[39m0\u001b[39;49m], data\u001b[39m=\u001b[39;49mplot_df, ax\u001b[39m=\u001b[39;49max1)\n\u001b[0;32m      <a href='vscode-notebook-cell:/c%3A/Team_Project/ML_regression_KHW.ipynb#ch0000009?line=6'>7</a>\u001b[0m plt\u001b[39m.\u001b[39mshow()\n",
      "File \u001b[1;32mc:\\Team_Project\\.venv\\lib\\site-packages\\seaborn\\_decorators.py:46\u001b[0m, in \u001b[0;36m_deprecate_positional_args.<locals>.inner_f\u001b[1;34m(*args, **kwargs)\u001b[0m\n\u001b[0;32m     <a href='file:///c%3A/Team_Project/.venv/lib/site-packages/seaborn/_decorators.py?line=35'>36</a>\u001b[0m     warnings\u001b[39m.\u001b[39mwarn(\n\u001b[0;32m     <a href='file:///c%3A/Team_Project/.venv/lib/site-packages/seaborn/_decorators.py?line=36'>37</a>\u001b[0m         \u001b[39m\"\u001b[39m\u001b[39mPass the following variable\u001b[39m\u001b[39m{}\u001b[39;00m\u001b[39m as \u001b[39m\u001b[39m{}\u001b[39;00m\u001b[39mkeyword arg\u001b[39m\u001b[39m{}\u001b[39;00m\u001b[39m: \u001b[39m\u001b[39m{}\u001b[39;00m\u001b[39m. \u001b[39m\u001b[39m\"\u001b[39m\n\u001b[0;32m     <a href='file:///c%3A/Team_Project/.venv/lib/site-packages/seaborn/_decorators.py?line=37'>38</a>\u001b[0m         \u001b[39m\"\u001b[39m\u001b[39mFrom version 0.12, the only valid positional argument \u001b[39m\u001b[39m\"\u001b[39m\n\u001b[1;32m   (...)\u001b[0m\n\u001b[0;32m     <a href='file:///c%3A/Team_Project/.venv/lib/site-packages/seaborn/_decorators.py?line=42'>43</a>\u001b[0m         \u001b[39mFutureWarning\u001b[39;00m\n\u001b[0;32m     <a href='file:///c%3A/Team_Project/.venv/lib/site-packages/seaborn/_decorators.py?line=43'>44</a>\u001b[0m     )\n\u001b[0;32m     <a href='file:///c%3A/Team_Project/.venv/lib/site-packages/seaborn/_decorators.py?line=44'>45</a>\u001b[0m kwargs\u001b[39m.\u001b[39mupdate({k: arg \u001b[39mfor\u001b[39;00m k, arg \u001b[39min\u001b[39;00m \u001b[39mzip\u001b[39m(sig\u001b[39m.\u001b[39mparameters, args)})\n\u001b[1;32m---> <a href='file:///c%3A/Team_Project/.venv/lib/site-packages/seaborn/_decorators.py?line=45'>46</a>\u001b[0m \u001b[39mreturn\u001b[39;00m f(\u001b[39m*\u001b[39m\u001b[39m*\u001b[39mkwargs)\n",
      "File \u001b[1;32mc:\\Team_Project\\.venv\\lib\\site-packages\\seaborn\\regression.py:863\u001b[0m, in \u001b[0;36mregplot\u001b[1;34m(x, y, data, x_estimator, x_bins, x_ci, scatter, fit_reg, ci, n_boot, units, seed, order, logistic, lowess, robust, logx, x_partial, y_partial, truncate, dropna, x_jitter, y_jitter, label, color, marker, scatter_kws, line_kws, ax)\u001b[0m\n\u001b[0;32m    <a href='file:///c%3A/Team_Project/.venv/lib/site-packages/seaborn/regression.py?line=860'>861</a>\u001b[0m scatter_kws[\u001b[39m\"\u001b[39m\u001b[39mmarker\u001b[39m\u001b[39m\"\u001b[39m] \u001b[39m=\u001b[39m marker\n\u001b[0;32m    <a href='file:///c%3A/Team_Project/.venv/lib/site-packages/seaborn/regression.py?line=861'>862</a>\u001b[0m line_kws \u001b[39m=\u001b[39m {} \u001b[39mif\u001b[39;00m line_kws \u001b[39mis\u001b[39;00m \u001b[39mNone\u001b[39;00m \u001b[39melse\u001b[39;00m copy\u001b[39m.\u001b[39mcopy(line_kws)\n\u001b[1;32m--> <a href='file:///c%3A/Team_Project/.venv/lib/site-packages/seaborn/regression.py?line=862'>863</a>\u001b[0m plotter\u001b[39m.\u001b[39;49mplot(ax, scatter_kws, line_kws)\n\u001b[0;32m    <a href='file:///c%3A/Team_Project/.venv/lib/site-packages/seaborn/regression.py?line=863'>864</a>\u001b[0m \u001b[39mreturn\u001b[39;00m ax\n",
      "File \u001b[1;32mc:\\Team_Project\\.venv\\lib\\site-packages\\seaborn\\regression.py:370\u001b[0m, in \u001b[0;36m_RegressionPlotter.plot\u001b[1;34m(self, ax, scatter_kws, line_kws)\u001b[0m\n\u001b[0;32m    <a href='file:///c%3A/Team_Project/.venv/lib/site-packages/seaborn/regression.py?line=366'>367</a>\u001b[0m     \u001b[39mself\u001b[39m\u001b[39m.\u001b[39mscatterplot(ax, scatter_kws)\n\u001b[0;32m    <a href='file:///c%3A/Team_Project/.venv/lib/site-packages/seaborn/regression.py?line=368'>369</a>\u001b[0m \u001b[39mif\u001b[39;00m \u001b[39mself\u001b[39m\u001b[39m.\u001b[39mfit_reg:\n\u001b[1;32m--> <a href='file:///c%3A/Team_Project/.venv/lib/site-packages/seaborn/regression.py?line=369'>370</a>\u001b[0m     \u001b[39mself\u001b[39;49m\u001b[39m.\u001b[39;49mlineplot(ax, line_kws)\n\u001b[0;32m    <a href='file:///c%3A/Team_Project/.venv/lib/site-packages/seaborn/regression.py?line=371'>372</a>\u001b[0m \u001b[39m# Label the axes\u001b[39;00m\n\u001b[0;32m    <a href='file:///c%3A/Team_Project/.venv/lib/site-packages/seaborn/regression.py?line=372'>373</a>\u001b[0m \u001b[39mif\u001b[39;00m \u001b[39mhasattr\u001b[39m(\u001b[39mself\u001b[39m\u001b[39m.\u001b[39mx, \u001b[39m\"\u001b[39m\u001b[39mname\u001b[39m\u001b[39m\"\u001b[39m):\n",
      "File \u001b[1;32mc:\\Team_Project\\.venv\\lib\\site-packages\\seaborn\\regression.py:413\u001b[0m, in \u001b[0;36m_RegressionPlotter.lineplot\u001b[1;34m(self, ax, kws)\u001b[0m\n\u001b[0;32m    <a href='file:///c%3A/Team_Project/.venv/lib/site-packages/seaborn/regression.py?line=410'>411</a>\u001b[0m \u001b[39m\"\"\"Draw the model.\"\"\"\u001b[39;00m\n\u001b[0;32m    <a href='file:///c%3A/Team_Project/.venv/lib/site-packages/seaborn/regression.py?line=411'>412</a>\u001b[0m \u001b[39m# Fit the regression model\u001b[39;00m\n\u001b[1;32m--> <a href='file:///c%3A/Team_Project/.venv/lib/site-packages/seaborn/regression.py?line=412'>413</a>\u001b[0m grid, yhat, err_bands \u001b[39m=\u001b[39m \u001b[39mself\u001b[39;49m\u001b[39m.\u001b[39;49mfit_regression(ax)\n\u001b[0;32m    <a href='file:///c%3A/Team_Project/.venv/lib/site-packages/seaborn/regression.py?line=413'>414</a>\u001b[0m edges \u001b[39m=\u001b[39m grid[\u001b[39m0\u001b[39m], grid[\u001b[39m-\u001b[39m\u001b[39m1\u001b[39m]\n\u001b[0;32m    <a href='file:///c%3A/Team_Project/.venv/lib/site-packages/seaborn/regression.py?line=415'>416</a>\u001b[0m \u001b[39m# Get set default aesthetics\u001b[39;00m\n",
      "File \u001b[1;32mc:\\Team_Project\\.venv\\lib\\site-packages\\seaborn\\regression.py:221\u001b[0m, in \u001b[0;36m_RegressionPlotter.fit_regression\u001b[1;34m(self, ax, x_range, grid)\u001b[0m\n\u001b[0;32m    <a href='file:///c%3A/Team_Project/.venv/lib/site-packages/seaborn/regression.py?line=218'>219</a>\u001b[0m     yhat, yhat_boots \u001b[39m=\u001b[39m \u001b[39mself\u001b[39m\u001b[39m.\u001b[39mfit_logx(grid)\n\u001b[0;32m    <a href='file:///c%3A/Team_Project/.venv/lib/site-packages/seaborn/regression.py?line=219'>220</a>\u001b[0m \u001b[39melse\u001b[39;00m:\n\u001b[1;32m--> <a href='file:///c%3A/Team_Project/.venv/lib/site-packages/seaborn/regression.py?line=220'>221</a>\u001b[0m     yhat, yhat_boots \u001b[39m=\u001b[39m \u001b[39mself\u001b[39;49m\u001b[39m.\u001b[39;49mfit_fast(grid)\n\u001b[0;32m    <a href='file:///c%3A/Team_Project/.venv/lib/site-packages/seaborn/regression.py?line=222'>223</a>\u001b[0m \u001b[39m# Compute the confidence interval at each grid point\u001b[39;00m\n\u001b[0;32m    <a href='file:///c%3A/Team_Project/.venv/lib/site-packages/seaborn/regression.py?line=223'>224</a>\u001b[0m \u001b[39mif\u001b[39;00m ci \u001b[39mis\u001b[39;00m \u001b[39mNone\u001b[39;00m:\n",
      "File \u001b[1;32mc:\\Team_Project\\.venv\\lib\\site-packages\\seaborn\\regression.py:242\u001b[0m, in \u001b[0;36m_RegressionPlotter.fit_fast\u001b[1;34m(self, grid)\u001b[0m\n\u001b[0;32m    <a href='file:///c%3A/Team_Project/.venv/lib/site-packages/seaborn/regression.py?line=238'>239</a>\u001b[0m \u001b[39mif\u001b[39;00m \u001b[39mself\u001b[39m\u001b[39m.\u001b[39mci \u001b[39mis\u001b[39;00m \u001b[39mNone\u001b[39;00m:\n\u001b[0;32m    <a href='file:///c%3A/Team_Project/.venv/lib/site-packages/seaborn/regression.py?line=239'>240</a>\u001b[0m     \u001b[39mreturn\u001b[39;00m yhat, \u001b[39mNone\u001b[39;00m\n\u001b[1;32m--> <a href='file:///c%3A/Team_Project/.venv/lib/site-packages/seaborn/regression.py?line=241'>242</a>\u001b[0m beta_boots \u001b[39m=\u001b[39m algo\u001b[39m.\u001b[39;49mbootstrap(X, y,\n\u001b[0;32m    <a href='file:///c%3A/Team_Project/.venv/lib/site-packages/seaborn/regression.py?line=242'>243</a>\u001b[0m                             func\u001b[39m=\u001b[39;49mreg_func,\n\u001b[0;32m    <a href='file:///c%3A/Team_Project/.venv/lib/site-packages/seaborn/regression.py?line=243'>244</a>\u001b[0m                             n_boot\u001b[39m=\u001b[39;49m\u001b[39mself\u001b[39;49m\u001b[39m.\u001b[39;49mn_boot,\n\u001b[0;32m    <a href='file:///c%3A/Team_Project/.venv/lib/site-packages/seaborn/regression.py?line=244'>245</a>\u001b[0m                             units\u001b[39m=\u001b[39;49m\u001b[39mself\u001b[39;49m\u001b[39m.\u001b[39;49munits,\n\u001b[0;32m    <a href='file:///c%3A/Team_Project/.venv/lib/site-packages/seaborn/regression.py?line=245'>246</a>\u001b[0m                             seed\u001b[39m=\u001b[39;49m\u001b[39mself\u001b[39;49m\u001b[39m.\u001b[39;49mseed)\u001b[39m.\u001b[39mT\n\u001b[0;32m    <a href='file:///c%3A/Team_Project/.venv/lib/site-packages/seaborn/regression.py?line=246'>247</a>\u001b[0m yhat_boots \u001b[39m=\u001b[39m grid\u001b[39m.\u001b[39mdot(beta_boots)\u001b[39m.\u001b[39mT\n\u001b[0;32m    <a href='file:///c%3A/Team_Project/.venv/lib/site-packages/seaborn/regression.py?line=247'>248</a>\u001b[0m \u001b[39mreturn\u001b[39;00m yhat, yhat_boots\n",
      "File \u001b[1;32mc:\\Team_Project\\.venv\\lib\\site-packages\\seaborn\\algorithms.py:85\u001b[0m, in \u001b[0;36mbootstrap\u001b[1;34m(*args, **kwargs)\u001b[0m\n\u001b[0;32m     <a href='file:///c%3A/Team_Project/.venv/lib/site-packages/seaborn/algorithms.py?line=82'>83</a>\u001b[0m     resampler \u001b[39m=\u001b[39m integers(\u001b[39m0\u001b[39m, n, n, dtype\u001b[39m=\u001b[39mnp\u001b[39m.\u001b[39mintp)  \u001b[39m# intp is indexing dtype\u001b[39;00m\n\u001b[0;32m     <a href='file:///c%3A/Team_Project/.venv/lib/site-packages/seaborn/algorithms.py?line=83'>84</a>\u001b[0m     sample \u001b[39m=\u001b[39m [a\u001b[39m.\u001b[39mtake(resampler, axis\u001b[39m=\u001b[39m\u001b[39m0\u001b[39m) \u001b[39mfor\u001b[39;00m a \u001b[39min\u001b[39;00m args]\n\u001b[1;32m---> <a href='file:///c%3A/Team_Project/.venv/lib/site-packages/seaborn/algorithms.py?line=84'>85</a>\u001b[0m     boot_dist\u001b[39m.\u001b[39mappend(f(\u001b[39m*\u001b[39msample, \u001b[39m*\u001b[39m\u001b[39m*\u001b[39mfunc_kwargs))\n\u001b[0;32m     <a href='file:///c%3A/Team_Project/.venv/lib/site-packages/seaborn/algorithms.py?line=85'>86</a>\u001b[0m \u001b[39mreturn\u001b[39;00m np\u001b[39m.\u001b[39marray(boot_dist)\n",
      "File \u001b[1;32mc:\\Team_Project\\.venv\\lib\\site-packages\\seaborn\\regression.py:234\u001b[0m, in \u001b[0;36m_RegressionPlotter.fit_fast.<locals>.reg_func\u001b[1;34m(_x, _y)\u001b[0m\n\u001b[0;32m    <a href='file:///c%3A/Team_Project/.venv/lib/site-packages/seaborn/regression.py?line=232'>233</a>\u001b[0m \u001b[39mdef\u001b[39;00m \u001b[39mreg_func\u001b[39m(_x, _y):\n\u001b[1;32m--> <a href='file:///c%3A/Team_Project/.venv/lib/site-packages/seaborn/regression.py?line=233'>234</a>\u001b[0m     \u001b[39mreturn\u001b[39;00m np\u001b[39m.\u001b[39;49mlinalg\u001b[39m.\u001b[39;49mpinv(_x)\u001b[39m.\u001b[39mdot(_y)\n",
      "File \u001b[1;32m<__array_function__ internals>:180\u001b[0m, in \u001b[0;36mpinv\u001b[1;34m(*args, **kwargs)\u001b[0m\n",
      "File \u001b[1;32mc:\\Team_Project\\.venv\\lib\\site-packages\\numpy\\linalg\\linalg.py:1998\u001b[0m, in \u001b[0;36mpinv\u001b[1;34m(a, rcond, hermitian)\u001b[0m\n\u001b[0;32m   <a href='file:///c%3A/Team_Project/.venv/lib/site-packages/numpy/linalg/linalg.py?line=1994'>1995</a>\u001b[0m s \u001b[39m=\u001b[39m divide(\u001b[39m1\u001b[39m, s, where\u001b[39m=\u001b[39mlarge, out\u001b[39m=\u001b[39ms)\n\u001b[0;32m   <a href='file:///c%3A/Team_Project/.venv/lib/site-packages/numpy/linalg/linalg.py?line=1995'>1996</a>\u001b[0m s[\u001b[39m~\u001b[39mlarge] \u001b[39m=\u001b[39m \u001b[39m0\u001b[39m\n\u001b[1;32m-> <a href='file:///c%3A/Team_Project/.venv/lib/site-packages/numpy/linalg/linalg.py?line=1997'>1998</a>\u001b[0m res \u001b[39m=\u001b[39m matmul(transpose(vt), multiply(s[\u001b[39m.\u001b[39;49m\u001b[39m.\u001b[39;49m\u001b[39m.\u001b[39;49m, newaxis], transpose(u)))\n\u001b[0;32m   <a href='file:///c%3A/Team_Project/.venv/lib/site-packages/numpy/linalg/linalg.py?line=1998'>1999</a>\u001b[0m \u001b[39mreturn\u001b[39;00m wrap(res)\n",
      "\u001b[1;31mKeyboardInterrupt\u001b[0m: "
     ]
    },
    {
     "data": {
      "image/png": "[encoded data removed]",
      "text/plain": [
       "<Figure size 720x720 with 1 Axes>"
      ]
     },
     "metadata": {},
     "output_type": "display_data"
    }
   ],
   "source": [
    "# regplot으로 선형회귀선 표시\n",
    "plt.figure(figsize=(10,10))\n",
    "\n",
    "for idx, col in enumerate(plot_cols[1:]):\n",
    "    ax1 = plt.subplot(2,2, idx+1)\n",
    "    sns.regplot(x=col, y=plot_cols[0], data=plot_df, ax=ax1)\n",
    "\n",
    "plt.show()"
   ]
  },
  {
   "cell_type": "code",
   "execution_count": 37,
   "metadata": {},
   "outputs": [
    {
     "data": {
      "image/png": "[encoded data removed]",
      "text/plain": [
       "<Figure size 360x360 with 1 Axes>"
      ]
     },
     "metadata": {},
     "output_type": "display_data"
    }
   ],
   "source": [
    "# Target 데이터 분포\n",
    "\n",
    "sns.displot(x='HI', kind='hist', data=df)\n",
    "plt.show()"
   ]
  },
  {
   "cell_type": "code",
   "execution_count": 38,
   "metadata": {},
   "outputs": [
    {
     "ename": "ValueError",
     "evalue": "could not convert string to float: '2010-12-06 07:00:00'",
     "output_type": "error",
     "traceback": [
      "\u001b[1;31m---------------------------------------------------------------------------\u001b[0m",
      "\u001b[1;31mValueError\u001b[0m                                Traceback (most recent call last)",
      "\u001b[1;32mc:\\Team_Project\\ML_regression_KHW.ipynb Cell 14'\u001b[0m in \u001b[0;36m<cell line: 7>\u001b[1;34m()\u001b[0m\n\u001b[0;32m      <a href='vscode-notebook-cell:/c%3A/Team_Project/ML_regression_KHW.ipynb#ch0000011?line=3'>4</a>\u001b[0m scaler\u001b[39m=\u001b[39mMinMaxScaler()\n\u001b[0;32m      <a href='vscode-notebook-cell:/c%3A/Team_Project/ML_regression_KHW.ipynb#ch0000011?line=5'>6</a>\u001b[0m df_scaled \u001b[39m=\u001b[39m df\u001b[39m.\u001b[39miloc[:, :\u001b[39m-\u001b[39m\u001b[39m1\u001b[39m]\n\u001b[1;32m----> <a href='vscode-notebook-cell:/c%3A/Team_Project/ML_regression_KHW.ipynb#ch0000011?line=6'>7</a>\u001b[0m scaler\u001b[39m.\u001b[39;49mfit(df_scaled)\n\u001b[0;32m      <a href='vscode-notebook-cell:/c%3A/Team_Project/ML_regression_KHW.ipynb#ch0000011?line=7'>8</a>\u001b[0m df_scaled \u001b[39m=\u001b[39m scaler\u001b[39m.\u001b[39mtransform(df_scaled)\n\u001b[0;32m     <a href='vscode-notebook-cell:/c%3A/Team_Project/ML_regression_KHW.ipynb#ch0000011?line=9'>10</a>\u001b[0m \u001b[39m# 스케일링 변환된 값을 데이터프레임에 반영\u001b[39;00m\n",
      "File \u001b[1;32mc:\\Team_Project\\.venv\\lib\\site-packages\\sklearn\\preprocessing\\_data.py:420\u001b[0m, in \u001b[0;36mMinMaxScaler.fit\u001b[1;34m(self, X, y)\u001b[0m\n\u001b[0;32m    <a href='file:///c%3A/Team_Project/.venv/lib/site-packages/sklearn/preprocessing/_data.py?line=417'>418</a>\u001b[0m \u001b[39m# Reset internal state before fitting\u001b[39;00m\n\u001b[0;32m    <a href='file:///c%3A/Team_Project/.venv/lib/site-packages/sklearn/preprocessing/_data.py?line=418'>419</a>\u001b[0m \u001b[39mself\u001b[39m\u001b[39m.\u001b[39m_reset()\n\u001b[1;32m--> <a href='file:///c%3A/Team_Project/.venv/lib/site-packages/sklearn/preprocessing/_data.py?line=419'>420</a>\u001b[0m \u001b[39mreturn\u001b[39;00m \u001b[39mself\u001b[39;49m\u001b[39m.\u001b[39;49mpartial_fit(X, y)\n",
      "File \u001b[1;32mc:\\Team_Project\\.venv\\lib\\site-packages\\sklearn\\preprocessing\\_data.py:457\u001b[0m, in \u001b[0;36mMinMaxScaler.partial_fit\u001b[1;34m(self, X, y)\u001b[0m\n\u001b[0;32m    <a href='file:///c%3A/Team_Project/.venv/lib/site-packages/sklearn/preprocessing/_data.py?line=450'>451</a>\u001b[0m     \u001b[39mraise\u001b[39;00m \u001b[39mTypeError\u001b[39;00m(\n\u001b[0;32m    <a href='file:///c%3A/Team_Project/.venv/lib/site-packages/sklearn/preprocessing/_data.py?line=451'>452</a>\u001b[0m         \u001b[39m\"\u001b[39m\u001b[39mMinMaxScaler does not support sparse input. \u001b[39m\u001b[39m\"\u001b[39m\n\u001b[0;32m    <a href='file:///c%3A/Team_Project/.venv/lib/site-packages/sklearn/preprocessing/_data.py?line=452'>453</a>\u001b[0m         \u001b[39m\"\u001b[39m\u001b[39mConsider using MaxAbsScaler instead.\u001b[39m\u001b[39m\"\u001b[39m\n\u001b[0;32m    <a href='file:///c%3A/Team_Project/.venv/lib/site-packages/sklearn/preprocessing/_data.py?line=453'>454</a>\u001b[0m     )\n\u001b[0;32m    <a href='file:///c%3A/Team_Project/.venv/lib/site-packages/sklearn/preprocessing/_data.py?line=455'>456</a>\u001b[0m first_pass \u001b[39m=\u001b[39m \u001b[39mnot\u001b[39;00m \u001b[39mhasattr\u001b[39m(\u001b[39mself\u001b[39m, \u001b[39m\"\u001b[39m\u001b[39mn_samples_seen_\u001b[39m\u001b[39m\"\u001b[39m)\n\u001b[1;32m--> <a href='file:///c%3A/Team_Project/.venv/lib/site-packages/sklearn/preprocessing/_data.py?line=456'>457</a>\u001b[0m X \u001b[39m=\u001b[39m \u001b[39mself\u001b[39;49m\u001b[39m.\u001b[39;49m_validate_data(\n\u001b[0;32m    <a href='file:///c%3A/Team_Project/.venv/lib/site-packages/sklearn/preprocessing/_data.py?line=457'>458</a>\u001b[0m     X,\n\u001b[0;32m    <a href='file:///c%3A/Team_Project/.venv/lib/site-packages/sklearn/preprocessing/_data.py?line=458'>459</a>\u001b[0m     reset\u001b[39m=\u001b[39;49mfirst_pass,\n\u001b[0;32m    <a href='file:///c%3A/Team_Project/.venv/lib/site-packages/sklearn/preprocessing/_data.py?line=459'>460</a>\u001b[0m     dtype\u001b[39m=\u001b[39;49mFLOAT_DTYPES,\n\u001b[0;32m    <a href='file:///c%3A/Team_Project/.venv/lib/site-packages/sklearn/preprocessing/_data.py?line=460'>461</a>\u001b[0m     force_all_finite\u001b[39m=\u001b[39;49m\u001b[39m\"\u001b[39;49m\u001b[39mallow-nan\u001b[39;49m\u001b[39m\"\u001b[39;49m,\n\u001b[0;32m    <a href='file:///c%3A/Team_Project/.venv/lib/site-packages/sklearn/preprocessing/_data.py?line=461'>462</a>\u001b[0m )\n\u001b[0;32m    <a href='file:///c%3A/Team_Project/.venv/lib/site-packages/sklearn/preprocessing/_data.py?line=463'>464</a>\u001b[0m data_min \u001b[39m=\u001b[39m np\u001b[39m.\u001b[39mnanmin(X, axis\u001b[39m=\u001b[39m\u001b[39m0\u001b[39m)\n\u001b[0;32m    <a href='file:///c%3A/Team_Project/.venv/lib/site-packages/sklearn/preprocessing/_data.py?line=464'>465</a>\u001b[0m data_max \u001b[39m=\u001b[39m np\u001b[39m.\u001b[39mnanmax(X, axis\u001b[39m=\u001b[39m\u001b[39m0\u001b[39m)\n",
      "File \u001b[1;32mc:\\Team_Project\\.venv\\lib\\site-packages\\sklearn\\base.py:577\u001b[0m, in \u001b[0;36mBaseEstimator._validate_data\u001b[1;34m(self, X, y, reset, validate_separately, **check_params)\u001b[0m\n\u001b[0;32m    <a href='file:///c%3A/Team_Project/.venv/lib/site-packages/sklearn/base.py?line=574'>575</a>\u001b[0m     \u001b[39mraise\u001b[39;00m \u001b[39mValueError\u001b[39;00m(\u001b[39m\"\u001b[39m\u001b[39mValidation should be done on X, y or both.\u001b[39m\u001b[39m\"\u001b[39m)\n\u001b[0;32m    <a href='file:///c%3A/Team_Project/.venv/lib/site-packages/sklearn/base.py?line=575'>576</a>\u001b[0m \u001b[39melif\u001b[39;00m \u001b[39mnot\u001b[39;00m no_val_X \u001b[39mand\u001b[39;00m no_val_y:\n\u001b[1;32m--> <a href='file:///c%3A/Team_Project/.venv/lib/site-packages/sklearn/base.py?line=576'>577</a>\u001b[0m     X \u001b[39m=\u001b[39m check_array(X, input_name\u001b[39m=\u001b[39m\u001b[39m\"\u001b[39m\u001b[39mX\u001b[39m\u001b[39m\"\u001b[39m, \u001b[39m*\u001b[39m\u001b[39m*\u001b[39mcheck_params)\n\u001b[0;32m    <a href='file:///c%3A/Team_Project/.venv/lib/site-packages/sklearn/base.py?line=577'>578</a>\u001b[0m     out \u001b[39m=\u001b[39m X\n\u001b[0;32m    <a href='file:///c%3A/Team_Project/.venv/lib/site-packages/sklearn/base.py?line=578'>579</a>\u001b[0m \u001b[39melif\u001b[39;00m no_val_X \u001b[39mand\u001b[39;00m \u001b[39mnot\u001b[39;00m no_val_y:\n",
      "File \u001b[1;32mc:\\Team_Project\\.venv\\lib\\site-packages\\sklearn\\utils\\validation.py:856\u001b[0m, in \u001b[0;36mcheck_array\u001b[1;34m(array, accept_sparse, accept_large_sparse, dtype, order, copy, force_all_finite, ensure_2d, allow_nd, ensure_min_samples, ensure_min_features, estimator, input_name)\u001b[0m\n\u001b[0;32m    <a href='file:///c%3A/Team_Project/.venv/lib/site-packages/sklearn/utils/validation.py?line=853'>854</a>\u001b[0m         array \u001b[39m=\u001b[39m array\u001b[39m.\u001b[39mastype(dtype, casting\u001b[39m=\u001b[39m\u001b[39m\"\u001b[39m\u001b[39munsafe\u001b[39m\u001b[39m\"\u001b[39m, copy\u001b[39m=\u001b[39m\u001b[39mFalse\u001b[39;00m)\n\u001b[0;32m    <a href='file:///c%3A/Team_Project/.venv/lib/site-packages/sklearn/utils/validation.py?line=854'>855</a>\u001b[0m     \u001b[39melse\u001b[39;00m:\n\u001b[1;32m--> <a href='file:///c%3A/Team_Project/.venv/lib/site-packages/sklearn/utils/validation.py?line=855'>856</a>\u001b[0m         array \u001b[39m=\u001b[39m np\u001b[39m.\u001b[39;49masarray(array, order\u001b[39m=\u001b[39;49morder, dtype\u001b[39m=\u001b[39;49mdtype)\n\u001b[0;32m    <a href='file:///c%3A/Team_Project/.venv/lib/site-packages/sklearn/utils/validation.py?line=856'>857</a>\u001b[0m \u001b[39mexcept\u001b[39;00m ComplexWarning \u001b[39mas\u001b[39;00m complex_warning:\n\u001b[0;32m    <a href='file:///c%3A/Team_Project/.venv/lib/site-packages/sklearn/utils/validation.py?line=857'>858</a>\u001b[0m     \u001b[39mraise\u001b[39;00m \u001b[39mValueError\u001b[39;00m(\n\u001b[0;32m    <a href='file:///c%3A/Team_Project/.venv/lib/site-packages/sklearn/utils/validation.py?line=858'>859</a>\u001b[0m         \u001b[39m\"\u001b[39m\u001b[39mComplex data not supported\u001b[39m\u001b[39m\\n\u001b[39;00m\u001b[39m{}\u001b[39;00m\u001b[39m\\n\u001b[39;00m\u001b[39m\"\u001b[39m\u001b[39m.\u001b[39mformat(array)\n\u001b[0;32m    <a href='file:///c%3A/Team_Project/.venv/lib/site-packages/sklearn/utils/validation.py?line=859'>860</a>\u001b[0m     ) \u001b[39mfrom\u001b[39;00m \u001b[39mcomplex_warning\u001b[39;00m\n",
      "File \u001b[1;32mc:\\Team_Project\\.venv\\lib\\site-packages\\pandas\\core\\generic.py:2064\u001b[0m, in \u001b[0;36mNDFrame.__array__\u001b[1;34m(self, dtype)\u001b[0m\n\u001b[0;32m   <a href='file:///c%3A/Team_Project/.venv/lib/site-packages/pandas/core/generic.py?line=2062'>2063</a>\u001b[0m \u001b[39mdef\u001b[39;00m \u001b[39m__array__\u001b[39m(\u001b[39mself\u001b[39m, dtype: npt\u001b[39m.\u001b[39mDTypeLike \u001b[39m|\u001b[39m \u001b[39mNone\u001b[39;00m \u001b[39m=\u001b[39m \u001b[39mNone\u001b[39;00m) \u001b[39m-\u001b[39m\u001b[39m>\u001b[39m np\u001b[39m.\u001b[39mndarray:\n\u001b[1;32m-> <a href='file:///c%3A/Team_Project/.venv/lib/site-packages/pandas/core/generic.py?line=2063'>2064</a>\u001b[0m     \u001b[39mreturn\u001b[39;00m np\u001b[39m.\u001b[39;49masarray(\u001b[39mself\u001b[39;49m\u001b[39m.\u001b[39;49m_values, dtype\u001b[39m=\u001b[39;49mdtype)\n",
      "\u001b[1;31mValueError\u001b[0m: could not convert string to float: '2010-12-06 07:00:00'"
     ]
    }
   ],
   "source": [
    "# 사이킷런 MinMaxScalar 적용\n",
    "\n",
    "from sklearn.preprocessing import MinMaxScaler\n",
    "scaler=MinMaxScaler()\n",
    "\n",
    "df_scaled = df.iloc[:, :-1]\n",
    "scaler.fit(df_scaled)\n",
    "df_scaled = scaler.transform(df_scaled)\n",
    "\n",
    "# 스케일링 변환된 값을 데이터프레임에 반영\n",
    "df.iloc[:, :-1] = df_scaled[:, :]\n",
    "df.head()"
   ]
  },
  {
   "cell_type": "code",
   "execution_count": 39,
   "metadata": {},
   "outputs": [
    {
     "name": "stdout",
     "output_type": "stream",
     "text": [
      "(11351934, 2) (11351934,)\n",
      "(2837984, 2) (2837984,)\n"
     ]
    }
   ],
   "source": [
    "# 학습 - 테스트 데이터셋 분할\n",
    "from sklearn.model_selection import train_test_split\n",
    "X_data = df.loc[:, ['temp','DI']]\n",
    "y_data = df.loc[:, 'HI']\n",
    "X_train, X_test, y_train, y_test = train_test_split(X_data, y_data, test_size=0.2, shuffle=True, random_state=12)\n",
    "\n",
    "print(X_train.shape, y_train.shape)\n",
    "print(X_test.shape, y_test.shape)"
   ]
  },
  {
   "cell_type": "code",
   "execution_count": 40,
   "metadata": {},
   "outputs": [
    {
     "name": "stdout",
     "output_type": "stream",
     "text": [
      "회귀계수(기울기): [1. 0.]\n",
      "상수항(절편): -2.3\n"
     ]
    }
   ],
   "source": [
    "# 선형 회귀 모형\n",
    "from sklearn.linear_model import LinearRegression\n",
    "lr = LinearRegression()\n",
    "lr.fit(X_train, y_train)\n",
    "\n",
    "print(\"회귀계수(기울기):\", np.round(lr.coef_, 1))\n",
    "print(\"상수항(절편):\", np.round(lr.intercept_, 1))"
   ]
  },
  {
   "cell_type": "code",
   "execution_count": 41,
   "metadata": {},
   "outputs": [
    {
     "data": {
      "image/png": "[encoded data removed]",
      "text/plain": [
       "<Figure size 720x360 with 1 Axes>"
      ]
     },
     "metadata": {},
     "output_type": "display_data"
    }
   ],
   "source": [
    "# 예측\n",
    "y_test_pred = lr.predict(X_test)\n",
    "\n",
    "# 예측값, 실제값의 분포\n",
    "plt.figure(figsize=(10,5))\n",
    "plt.scatter(X_test['temp'], y_test, label='y_test')\n",
    "plt.scatter(X_test['temp'], y_test_pred, c='r', label='y_pred')\n",
    "plt.legend(loc='best')\n",
    "\n",
    "plt.show()"
   ]
  },
  {
   "cell_type": "code",
   "execution_count": 42,
   "metadata": {},
   "outputs": [
    {
     "name": "stdout",
     "output_type": "stream",
     "text": [
      "Train MSE:1.5151\n",
      "Test MSE:1.5134\n"
     ]
    }
   ],
   "source": [
    "from sklearn.metrics import mean_squared_error\n",
    "y_train_pred = lr.predict(X_train)\n",
    "\n",
    "train_mse = mean_squared_error(y_train, y_train_pred)\n",
    "print(\"Train MSE:%.4f\" % train_mse)\n",
    "\n",
    "test_mse = mean_squared_error(y_test, y_test_pred)\n",
    "print(\"Test MSE:%.4f\" % test_mse)"
   ]
  },
  {
   "cell_type": "code",
   "execution_count": 43,
   "metadata": {},
   "outputs": [
    {
     "name": "stdout",
     "output_type": "stream",
     "text": [
      "개별 Fold의 MSE: [1.5507 1.5524 1.55   1.5537 1.5085]\n",
      "평균 MSE:1.5431\n"
     ]
    }
   ],
   "source": [
    "# cross_val_score 함수\n",
    "from sklearn.model_selection import cross_val_score\n",
    "lr = LinearRegression()\n",
    "mse_scores = -1*cross_val_score(lr, X_train, y_train, cv=5, scoring='neg_mean_squared_error')\n",
    "\n",
    "print(\"개별 Fold의 MSE:\", np.round(mse_scores, 4))\n",
    "print(\"평균 MSE:%.4f\" % np.mean(mse_scores))"
   ]
  },
  {
   "cell_type": "code",
   "execution_count": 64,
   "metadata": {},
   "outputs": [
    {
     "name": "stdout",
     "output_type": "stream",
     "text": [
      "원본 학습 데이터셋: (404, 2)\n",
      "2차 다항식 변환 데이터셋: (404, 6)\n"
     ]
    }
   ],
   "source": [
    "# 2차 다항식 변환\n",
    "from sklearn.preprocessing import PolynomialFeatures\n",
    "pf = PolynomialFeatures(degree=2)\n",
    "X_train_poly = pf.fit_transform(X_train)\n",
    "print(\"원본 학습 데이터셋:\", X_train.shape)\n",
    "print(\"2차 다항식 변환 데이터셋:\", X_train_poly.shape)\n"
   ]
  },
  {
   "cell_type": "code",
   "execution_count": 65,
   "metadata": {},
   "outputs": [
    {
     "name": "stdout",
     "output_type": "stream",
     "text": [
      "Train MSE:21.5463\n",
      "Test MSE:16.7954\n"
     ]
    }
   ],
   "source": [
    "# 2차 다항식 변환 데이터셋으로 선형 회귀 모형 학습\n",
    "lr = LinearRegression()\n",
    "lr.fit(X_train_poly, y_train)\n",
    "\n",
    "# 테스트 데이터에 대한 예측 및 평가\n",
    "y_train_pred = lr.predict(X_train_poly)\n",
    "train_mse = mean_squared_error(y_train, y_train_pred)\n",
    "print(\"Train MSE:%.4f\"% train_mse)\n",
    "\n",
    "X_test_poly = pf.fit_transform(X_test)\n",
    "y_test_pred = lr.predict(X_test_poly)\n",
    "test_mse = mean_squared_error(y_test, y_test_pred)\n",
    "print(\"Test MSE:%.4f\"% test_mse)"
   ]
  },
  {
   "cell_type": "code",
   "execution_count": 66,
   "metadata": {},
   "outputs": [
    {
     "name": "stdout",
     "output_type": "stream",
     "text": [
      "Train MSE:11.1433\n",
      "Test MSE:85358259728955.1719\n"
     ]
    }
   ],
   "source": [
    "# 15차 다항식 변환 데이터셋으로 선형 회귀 모형 학습\n",
    "pf = PolynomialFeatures(degree = 15)\n",
    "X_train_poly = pf.fit_transform(X_train)\n",
    "\n",
    "lr = LinearRegression()\n",
    "lr.fit(X_train_poly, y_train)\n",
    "\n",
    "# 테스트 데이터에 대한 예측 및 평가\n",
    "y_train_pred = lr.predict(X_train_poly)\n",
    "train_mse = mean_squared_error(y_train, y_train_pred)\n",
    "print(\"Train MSE:%.4f\"% train_mse)\n",
    "\n",
    "X_test_poly = pf.fit_transform(X_test)\n",
    "y_test_pred = lr.predict(X_test_poly)\n",
    "test_mse = mean_squared_error(y_test, y_test_pred)\n",
    "print(\"Test MSE:%.4f\"% test_mse)"
   ]
  },
  {
   "cell_type": "code",
   "execution_count": 67,
   "metadata": {},
   "outputs": [
    {
     "data": {
      "image/png": "[encoded data removed]",
      "text/plain": [
       "<Figure size 1080x360 with 3 Axes>"
      ]
     },
     "metadata": {},
     "output_type": "display_data"
    }
   ],
   "source": [
    "# 다항식 차수에 따른 모델 적합도 변화\n",
    "plt.figure(figsize=(15,5))\n",
    "for n, deg in enumerate([1, 2, 15]):\n",
    "    ax1 = plt.subplot(1, 3, n+1)\n",
    "    # plt.axis('off')\n",
    "    # degree별 다항 회귀 모형 적용\n",
    "    pf = PolynomialFeatures(degree=deg)\n",
    "    X_train_poly = pf.fit_transform(X_train.loc[:, ['LSTAT']])\n",
    "    X_test_poly = pf.fit_transform(X_test.loc[:, ['LSTAT']])\n",
    "    lr = LinearRegression()\n",
    "    lr.fit(X_train_poly, y_train)\n",
    "    y_test_pred = lr.predict(X_test_poly)\n",
    "\n",
    "    # 실제값 분포\n",
    "    plt.scatter(X_test.loc[:,['LSTAT']], y_test, label='Targets')\n",
    "\n",
    "    # 예측값 분포\n",
    "    plt.scatter(X_test.loc[:,['LSTAT']], y_test_pred, label='Predictions')\n",
    "\n",
    "    # 제목 표시\n",
    "    plt.title(\"Degree %d\" % deg)\n",
    "\n",
    "    # 범례 표시\n",
    "    plt.legend()\n",
    "\n",
    "plt.show()"
   ]
  },
  {
   "cell_type": "code",
   "execution_count": 75,
   "metadata": {},
   "outputs": [
    {
     "name": "stdout",
     "output_type": "stream",
     "text": [
      "Train MSE:35.9484\n",
      "Test MSE:42.0011\n"
     ]
    }
   ],
   "source": [
    "# Ridge(L2 규제)\n",
    "from sklearn.linear_model import Ridge\n",
    "\n",
    "rdg = Ridge(alpha=2.5)\n",
    "rdg.fit(X_train_poly, y_train)\n",
    "\n",
    "y_train_pred = rdg.predict(X_train_poly)\n",
    "train_mse = mean_squared_error(y_train, y_train_pred)\n",
    "print(\"Train MSE:%.4f\" % train_mse)\n",
    "\n",
    "y_test_pred = rdg.predict(X_test_poly)\n",
    "test_mse = mean_squared_error(y_test, y_test_pred)\n",
    "print(\"Test MSE:%.4f\" % test_mse)"
   ]
  },
  {
   "cell_type": "code",
   "execution_count": 76,
   "metadata": {},
   "outputs": [
    {
     "name": "stdout",
     "output_type": "stream",
     "text": [
      "Train MSE:32.3204\n",
      "Test MSE:37.7103\n"
     ]
    }
   ],
   "source": [
    "# Lasso(L1 규제)\n",
    "from sklearn.linear_model import Lasso\n",
    "\n",
    "las = Lasso(alpha=0.05)\n",
    "las.fit(X_train_poly, y_train)\n",
    "\n",
    "y_train_pred = las.predict(X_train_poly)\n",
    "train_mse = mean_squared_error(y_train, y_train_pred)\n",
    "print(\"Train MSE:%.4f\" % train_mse)\n",
    "\n",
    "y_test_pred = las.predict(X_test_poly)\n",
    "test_mse = mean_squared_error(y_test, y_test_pred)\n",
    "print(\"Test MSE:%.4f\" % test_mse)"
   ]
  },
  {
   "cell_type": "code",
   "execution_count": 79,
   "metadata": {},
   "outputs": [
    {
     "name": "stdout",
     "output_type": "stream",
     "text": [
      "Train MSE:33.7551\n",
      "Test MSE:39.4968\n"
     ]
    }
   ],
   "source": [
    "# ElasticNet(L2/L1 규제)\n",
    "from sklearn.linear_model import ElasticNet\n",
    "\n",
    "ela = ElasticNet(alpha=0.01, l1_ratio=0.7)\n",
    "ela.fit(X_train_poly, y_train)\n",
    "\n",
    "y_train_pred = ela.predict(X_train_poly)\n",
    "train_mse = mean_squared_error(y_train, y_train_pred)\n",
    "print(\"Train MSE:%.4f\" % train_mse)\n",
    "\n",
    "y_test_pred = ela.predict(X_test_poly)\n",
    "test_mse = mean_squared_error(y_test, y_test_pred)\n",
    "print(\"Test MSE:%.4f\" % test_mse)"
   ]
  },
  {
   "cell_type": "code",
   "execution_count": 80,
   "metadata": {},
   "outputs": [
    {
     "name": "stdout",
     "output_type": "stream",
     "text": [
      "Train MSE:18.8029\n",
      "Test MSE:17.9065\n"
     ]
    }
   ],
   "source": [
    "# 의사결정나무\n",
    "from sklearn.tree import DecisionTreeRegressor\n",
    "\n",
    "dtr = DecisionTreeRegressor(max_depth=3, random_state=12)\n",
    "dtr.fit(X_train, y_train)\n",
    "\n",
    "y_train_pred = dtr.predict(X_train)\n",
    "train_mse = mean_squared_error(y_train, y_train_pred)\n",
    "print(\"Train MSE:%.4f\" % train_mse)\n",
    "\n",
    "y_test_pred = dtr.predict(X_test)\n",
    "test_mse = mean_squared_error(y_test, y_test_pred)\n",
    "print(\"Test MSE:%.4f\" % test_mse)"
   ]
  },
  {
   "cell_type": "code",
   "execution_count": 81,
   "metadata": {},
   "outputs": [
    {
     "name": "stdout",
     "output_type": "stream",
     "text": [
      "Train MSE:16.0201\n",
      "Test MSE:17.7751\n"
     ]
    }
   ],
   "source": [
    "# 랜덤 포레스트\n",
    "from sklearn.ensemble import RandomForestRegressor\n",
    "\n",
    "rfr = RandomForestRegressor(max_depth=3, random_state=12)\n",
    "rfr.fit(X_train, y_train)\n",
    "\n",
    "y_train_pred = rfr.predict(X_train)\n",
    "train_mse = mean_squared_error(y_train, y_train_pred)\n",
    "print(\"Train MSE:%.4f\" % train_mse)\n",
    "\n",
    "y_test_pred = rfr.predict(X_test)\n",
    "test_mse = mean_squared_error(y_test, y_test_pred)\n",
    "print(\"Test MSE:%.4f\" % test_mse)"
   ]
  },
  {
   "cell_type": "code",
   "execution_count": 84,
   "metadata": {},
   "outputs": [
    {
     "name": "stdout",
     "output_type": "stream",
     "text": [
      "Train MSE:3.5176\n",
      "Test MSE:20.2060\n"
     ]
    }
   ],
   "source": [
    "# XGboost\n",
    "from xgboost import XGBRegressor\n",
    "\n",
    "xgbr = XGBRegressor(objective='reg:squarederror', max_depth=3, random_state=12)\n",
    "xgbr.fit(X_train, y_train)\n",
    "\n",
    "y_train_pred = xgbr.predict(X_train)\n",
    "train_mse = mean_squared_error(y_train, y_train_pred)\n",
    "print(\"Train MSE:%.4f\" % train_mse)\n",
    "\n",
    "y_test_pred = xgbr.predict(X_test)\n",
    "test_mse = mean_squared_error(y_test, y_test_pred)\n",
    "print(\"Test MSE:%.4f\" % test_mse)"
   ]
  }
 ],
 "metadata": {
  "interpreter": {
   "hash": "8fa7ec4a218315ecd4fc57d93876c8458759dcb960de50ebce5572c8952fea93"
  },
  "kernelspec": {
   "display_name": "Python 3.10.4 ('.venv': venv)",
   "language": "python",
   "name": "python3"
  },
  "language_info": {
   "codemirror_mode": {
    "name": "ipython",
    "version": 3
   },
   "file_extension": ".py",
   "mimetype": "text/x-python",
   "name": "python",
   "nbconvert_exporter": "python",
   "pygments_lexer": "ipython3",
   "version": "3.10.4"
  },
  "orig_nbformat": 4
 },
 "nbformat": 4,
 "nbformat_minor": 2
}
