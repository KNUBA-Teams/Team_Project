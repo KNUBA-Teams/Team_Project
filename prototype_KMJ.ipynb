{
 "cells": [
  {
   "cell_type": "markdown",
   "metadata": {},
   "source": [
    "## 0. 더미 코드"
   ]
  },
  {
   "cell_type": "markdown",
   "metadata": {},
   "source": [
    "### 0. 라이브러리 import"
   ]
  },
  {
   "cell_type": "code",
   "execution_count": null,
   "metadata": {},
   "outputs": [],
   "source": [
    "'''import tensorflow as tf\n",
    "print(tf.__version__) # .__version__ 속성으로 버전을 확인함\n",
    "\n",
    "import pandas as pd\n",
    "import numpy as np\n",
    "\n",
    "from tensorflow.keras import Sequential\n",
    "from tensorflow.keras.layers import Dense\n",
    "\n",
    "import random\n",
    "import matplotlib.pyplot as plt'''"
   ]
  },
  {
   "cell_type": "markdown",
   "metadata": {},
   "source": [
    "### 1. 간단한 딥러닝 모델 만들기"
   ]
  },
  {
   "cell_type": "markdown",
   "metadata": {},
   "source": [
    "#### 1. Sequential API"
   ]
  },
  {
   "cell_type": "code",
   "execution_count": null,
   "metadata": {},
   "outputs": [],
   "source": [
    "# # 모델 학습에 사용할 입력 데이터를 준비함.\n",
    "# # y=x+1 관계를 갖는 숫자를 x,y 변수에 각각 10개씩 입력함.\n",
    "# # 이 때, x변수의 숫자 배열을 (10행 1열) 형태의 2차원 배열로 변환함.\n",
    "# x=[-3,31,-11,4,0,22,-2,-5,-25,-14]\n",
    "# y=[-2,32,-10,5,1,23,-1,-4,-24,-13]\n",
    "\n",
    "# X_train=np.array(x).reshape(-1,1)\n",
    "# y_train=np.array(y)\n",
    "\n",
    "# print(X_train.shape,y_train.shape)"
   ]
  },
  {
   "cell_type": "markdown",
   "metadata": {},
   "source": [
    "* * *\n",
    "케라스 Sequential API는 레이어 여러 개를 연결하여 신경망 모델을 구성하는 도구이다.  \n",
    "  \n",
    "간단한 아키텍처를 가지면서도 대부분의 딥러닝 모델을 만들 수 있다는 장점이 있다.\n",
    "* * *"
   ]
  },
  {
   "cell_type": "code",
   "execution_count": null,
   "metadata": {},
   "outputs": [],
   "source": [
    "# model=Sequential() # Sequential 모델 인스턴스를 생성함\n",
    "\n",
    "\n",
    "# # add 메소드를 사용하여 완전 연결 레이어(Dense)를 모델에 추가함.\n",
    "\n",
    "# # 입력 데이터의 차원(input_dim)은 모델 학습에 사용하는 설명 변수(피처)의 개수를 지정하는데,\n",
    "# # 여기서는 1개의 피처를 사용하므로 1로 설정함.\n",
    "\n",
    "# # 완전 연결 레이어의 출력값은 목표 레이블(Y)을 예측함\n",
    "# # 한 개의 연속성 수치(ex.주택 가격)를 예측하는 회귀 문제이므로 유닛(unit) 개수는 1임\n",
    "# # 활성화(activation) 함수로 'linear' 옵션을 지정하여 선형 함수의 출력을 그대로 사용함.\n",
    "# model.add(Dense(units=1,activation='linear',input_dim=1))"
   ]
  },
  {
   "cell_type": "code",
   "execution_count": null,
   "metadata": {},
   "outputs": [],
   "source": [
    "# # summary 메소드를 이용하여 모델 아키텍처(구조)를 확인함\n",
    "# # 딥러닝 모델이 학습할 모수(파라미터:Param #)는 2개인데,\n",
    "# # 일차함수의 기울기(회귀계수)와 절편(상수항)임.\n",
    "# model.summary()"
   ]
  },
  {
   "cell_type": "markdown",
   "metadata": {},
   "source": [
    "#### 2. 모델 컴파일"
   ]
  },
  {
   "cell_type": "code",
   "execution_count": null,
   "metadata": {},
   "outputs": [],
   "source": [
    "# # 모델이 훈련하는데 필요한 기본 설정을 compile 함수에 지정하는데,\n",
    "# # 옵티마이저(optimizer)와 손실 함수(loss)를 설정함.\n",
    "\n",
    "# # adam 옵티마이저를 선택하고 회귀 분석의 손실 함수인 평균제곱오차(mse)를 지정함.\n",
    "\n",
    "# # metrics 옵션에 보조 평가 지표를 추가할 수 있는데,\n",
    "# # 여기서는 평균절대오차(mae)를 추가하여 손실 함수를 모니터링할 때 함께 추적하기로 함.\n",
    "# model.compile(optimizer='adam',loss='mse',metrics=['mae'])"
   ]
  },
  {
   "cell_type": "markdown",
   "metadata": {},
   "source": [
    "#### 3. 모델 학습 및 예측"
   ]
  },
  {
   "cell_type": "code",
   "execution_count": null,
   "metadata": {},
   "outputs": [],
   "source": [
    "# # fit 메소드에 훈련 데이터를 입력하여 모델을 학습시키는데,\n",
    "# # 컴파일 단계에서 설정한 adam 옵티마이저와 mse 손실 함수를 가지고 최적의 가중치와 편향을 찾음.\n",
    "\n",
    "# # 에포크(epoch)는 전체 입력 데이터를 모두 몇 번 학습할 것인지 반복 횟수를 정함.\n",
    "\n",
    "# # verbose 옵션을 False(0)로 지정하면 훈련 과정을 화면에 보여주지 않는데,\n",
    "# # 훈련 과정을 표시하려면 1 또는 2를 입력함.\n",
    "# model.fit(X_train,y_train,epochs=3000,verbose=0)"
   ]
  },
  {
   "cell_type": "code",
   "execution_count": null,
   "metadata": {},
   "outputs": [],
   "source": [
    "# # 학습을 마친 딥러닝 모델의 가중치를 확인하려면 weights 속성을 보면 됨\n",
    "# # 기울기에 해당하는 가중치(kernel:0)와 절편에 해당하는 편향(bias:0) 모두 1에 가까운 값을 가지는데,\n",
    "# # 이는 모델 학습을 통해 일차함수 관계식을 매우 근사하게 찾아낸 것으로 볼 수 있다.\n",
    "# model.weights"
   ]
  },
  {
   "cell_type": "code",
   "execution_count": null,
   "metadata": {},
   "outputs": [],
   "source": [
    "# # 테스트 데이터(X)를 predict 메소드에 입력하면 목표 레이블(Y)에 대한 예측값을 얻을 수 있음.\n",
    "# model.predict([[11],[12],[13]])"
   ]
  },
  {
   "cell_type": "markdown",
   "metadata": {},
   "source": [
    "### 2. 딥러닝을 활용한 회귀 분석 : 보스턴 주택 가격 예측"
   ]
  },
  {
   "cell_type": "markdown",
   "metadata": {},
   "source": [
    "#### 0. 랜덤 시드 고정"
   ]
  },
  {
   "cell_type": "code",
   "execution_count": null,
   "metadata": {},
   "outputs": [],
   "source": [
    "# # 랜덤 시드 고정\n",
    "# SEED=12\n",
    "# random.seed(SEED)\n",
    "# np.random.seed(SEED)\n",
    "# tf.random.set_seed(SEED)\n",
    "# print('시드 고정:',SEED)"
   ]
  },
  {
   "cell_type": "markdown",
   "metadata": {},
   "source": [
    "#### 1. 데이터 전처리"
   ]
  },
  {
   "cell_type": "code",
   "execution_count": null,
   "metadata": {},
   "outputs": [],
   "source": [
    "# # sklearn 데이터셋에서 보스턴 주택 데이터셋 로딩\n",
    "# from sklearn import datasets\n",
    "# housing=datasets.load_boston()\n",
    "# X_data=housing.data\n",
    "# y_data=housing.target"
   ]
  },
  {
   "cell_type": "code",
   "execution_count": null,
   "metadata": {},
   "outputs": [],
   "source": [
    "# print(X_data.shape,y_data.shape)"
   ]
  },
  {
   "cell_type": "markdown",
   "metadata": {},
   "source": [
    "* * *\n",
    "입력 데이터의 서로 다른 피처 값의 범위를 비슷한 크기로 맞춰 주면 딥러닝 모델의 성능을 확보하는데 유리한데,  \n",
    "  \n",
    "이것을 피처 스케일링이라고 부름.\n",
    "* * *"
   ]
  },
  {
   "cell_type": "code",
   "execution_count": null,
   "metadata": {},
   "outputs": [],
   "source": [
    "# # MinMaxScaler를 사용하여 입력 데이터(X_data)의 모든 피처 값을 0~1 범위로 정규화 처리함.\n",
    "# # 피처 스케일링\n",
    "# from sklearn.preprocessing import MinMaxScaler\n",
    "\n",
    "# scaler=MinMaxScaler()\n",
    "# X_data_scaled=scaler.fit_transform(X_data)\n",
    "\n",
    "# X_data_scaled[0]"
   ]
  },
  {
   "cell_type": "code",
   "execution_count": null,
   "metadata": {},
   "outputs": [],
   "source": [
    "# # 모델 학습에 사용하기 위하여 훈련 데이터(80%)와 검증 데이터(20%)를 분할함.\n",
    "# # 학습 - 테스트 데이터셋 분할\n",
    "# from sklearn.model_selection import train_test_split\n",
    "# X_train,X_test,y_train,y_test=train_test_split(X_data,y_data,test_size=0.2,shuffle=True,random_state=SEED)\n",
    "# print(X_train.shape,y_train.shape)\n",
    "# print(X_test.shape,y_test.shape)"
   ]
  },
  {
   "cell_type": "markdown",
   "metadata": {},
   "source": [
    "#### 2. MLP 모델 아키텍처 정의"
   ]
  },
  {
   "cell_type": "markdown",
   "metadata": {},
   "source": [
    "* * *\n",
    "완전 연결(Dense) 레이어만 사용하여 5개 레이어를 갖는 다층 신경망(MLP)을 만든다.  \n",
    "  \n",
    "레이어를 추가할 때는 add 함수를 사용한다.  \n",
    "  \n",
    "은닉 레이어 4개는 각각 128개, 64개, 32개, 16개의 유닛을 갖는다.  \n",
    "  \n",
    "입력 데이터의 피처가 13개이므로 첫 번째 Dense 레이어의 input_dim에 13을 지정한다.  \n",
    "* * *"
   ]
  },
  {
   "cell_type": "code",
   "execution_count": null,
   "metadata": {},
   "outputs": [],
   "source": [
    "# # 심층 신경망\n",
    "# def build_model(num_input=1):\n",
    "#     model=Sequential()\n",
    "#     model.add(Dense(128,activation='relu',input_dim=num_input))\n",
    "#     model.add(Dense(64,activation='relu'))\n",
    "#     model.add(Dense(32,activation='relu'))\n",
    "#     model.add(Dense(16,activation='relu'))\n",
    "#     model.add(Dense(1,activation='relu'))\n",
    "\n",
    "#     model.compile(optimizer='adam',loss='mse',metrics=['mae'])\n",
    "\n",
    "#     return model\n",
    "\n",
    "# model=build_model(num_input=13)\n",
    "# model.summary()"
   ]
  },
  {
   "cell_type": "markdown",
   "metadata": {},
   "source": [
    "#### 3. 미니 배치 학습"
   ]
  },
  {
   "cell_type": "markdown",
   "metadata": {},
   "source": [
    "* * *\n",
    "모델을 훈련시킬 때 샘플 데이터를 한 개씩 입력해서 가중치를 갱신하려면 학습 시간이 오래 걸리는 문제가 있음.  \n",
    "  \n",
    "***미니 배치 학습***은 전체 데이터를 여러 개의 작은 배치 단위로 나누고 배치에 들어 있는 샘플 데이터를 묶어서 모델에 입력함.  \n",
    "  \n",
    "배치 단위로 경사하강법을 적용하고 손실 함수를 최소화하는 방향으로 가중치를 업데이트함.\n",
    "* * *"
   ]
  },
  {
   "cell_type": "code",
   "execution_count": null,
   "metadata": {},
   "outputs": [],
   "source": [
    "# # 모델 훈련\n",
    "# model.fit(X_train,y_train,epochs=100,batch_size=32,verbose=2)"
   ]
  },
  {
   "cell_type": "markdown",
   "metadata": {},
   "source": [
    "* * *\n",
    "evaluate 함수에 테스트 데이터를 입력하여 모델의 일반화 성능을 평가함  \n",
    "  \n",
    "loss는 11.93이고 mae는 2.57임  \n",
    "  \n",
    "검증 손실이 훈련 손실보다 크기 때문에 과대적합으로 판단됨  \n",
    "  \n",
    "배치 크기에 따라 모델 성능이 달라질 수 있기 때문에 모델을 설계할 때 중요하게 고려해야 함.  \n",
    "* * *"
   ]
  },
  {
   "cell_type": "code",
   "execution_count": null,
   "metadata": {},
   "outputs": [],
   "source": [
    "# model.evaluate(X_test,y_test)"
   ]
  },
  {
   "cell_type": "markdown",
   "metadata": {},
   "source": [
    "#### 4. 교차 검증"
   ]
  },
  {
   "cell_type": "markdown",
   "metadata": {},
   "source": [
    "* * *\n",
    "학습 데이터 일부(여기서는 25%)를 검증 데이터를 사용하여 교차 검증을 해봄  \n",
    "  \n",
    "fit 메소드의 validation_split 옵션에 테스트 데이터셋 비율을 입력하면 됨  \n",
    "  \n",
    "마지막 200번째 에포크 학습이 끝났을 때 훈련 손실이 검증 손실보다 작은 값이므로 과대적합 상태로 판단됨.  \n",
    "* * *"
   ]
  },
  {
   "cell_type": "code",
   "execution_count": null,
   "metadata": {},
   "outputs": [],
   "source": [
    "# model=build_model(num_input=13)\n",
    "# history=model.fit(X_train,y_train,batch_size=32,epochs=200,validation_split=0.25,verbose=2)"
   ]
  },
  {
   "cell_type": "markdown",
   "metadata": {},
   "source": [
    "* * *\n",
    "훈련 손실(loss)과 검증 손실(val_loss)을 그래프로 나타냄  \n",
    "  \n",
    "가로축에는 에포크(epoch)를 놓고 세로축에 손실 함수 값을 표시함  \n",
    "  \n",
    "모델 10에포크까지 매우 빠른 속도로 학습이 되고, 이후 점차 완만하게 학습 속도가 낮아지며  \n",
    "그래프가 평평해지는 추이를 보임.  \n",
    "* * *"
   ]
  },
  {
   "cell_type": "code",
   "execution_count": null,
   "metadata": {},
   "outputs": [],
   "source": [
    "# def plot_loss_curve(total_epoch=10,start=1):\n",
    "#     plt.figure(figsize=(5,5))\n",
    "#     plt.plot(range(start,total_epoch+1),\n",
    "#             history.history['loss'][start-1:total_epoch],\n",
    "#             label='Train')\n",
    "#     plt.plot(range(start,total_epoch+1),\n",
    "#             history.history['val_loss'][start-1:total_epoch],\n",
    "#             label='Validation')\n",
    "#     plt.xlabel('Epochs')\n",
    "#     plt.ylabel('mse')\n",
    "#     plt.legend()\n",
    "#     plt.show()\n",
    "\n",
    "# plot_loss_curve(total_epoch=200,start=1)"
   ]
  },
  {
   "cell_type": "markdown",
   "metadata": {},
   "source": [
    "* * *\n",
    "20에포크 이후의 손실 함수를 그림  \n",
    "  \n",
    "앞의 그래프에서는 훈련 손실과 검증 손실 간에 차이가 드러나지 않았지만,\n",
    "다음의 그래프를 보면 40에포크 이후 과대적합이 커지는 것을 볼 수 있다.\n",
    "* * *"
   ]
  },
  {
   "cell_type": "code",
   "execution_count": null,
   "metadata": {},
   "outputs": [],
   "source": [
    "# plot_loss_curve(total_epoch=200,start=20)"
   ]
  },
  {
   "cell_type": "markdown",
   "metadata": {},
   "source": [
    "### 3. 딥러닝을 활용한 분류 예측 : 와인 품질 등급 판별"
   ]
  },
  {
   "cell_type": "markdown",
   "metadata": {},
   "source": [
    "#### 0. 시드 설정"
   ]
  },
  {
   "cell_type": "code",
   "execution_count": null,
   "metadata": {},
   "outputs": [],
   "source": [
    "# # 랜덤 시드 고정\n",
    "# SEED=12\n",
    "# random.seed(SEED)\n",
    "# np.random.seed(SEED)\n",
    "# tf.random.set_seed(SEED)\n",
    "# print(\"시드 고정:\",SEED)"
   ]
  },
  {
   "cell_type": "markdown",
   "metadata": {},
   "source": [
    "#### 1. 데이터 전처리"
   ]
  },
  {
   "cell_type": "code",
   "execution_count": null,
   "metadata": {},
   "outputs": [],
   "source": [
    "# train=pd.read_csv('./output/data/wine/train.csv')\n",
    "# test=pd.read_csv('./output/data/wine/test.csv')\n",
    "# submission=pd.read_csv('./output/data/wine/sample_submission.csv')\n",
    "\n",
    "# print(train.shape,test.shape,submission.shape)"
   ]
  },
  {
   "cell_type": "code",
   "execution_count": null,
   "metadata": {},
   "outputs": [],
   "source": [
    "# # train 데이터의 내용을 살펴봄, 목표 변수는 와인 품질을 나타내는 quality 열임.\n",
    "# train.head()"
   ]
  },
  {
   "cell_type": "code",
   "execution_count": null,
   "metadata": {},
   "outputs": [],
   "source": [
    "# # 제출 파일의 양식을 보면 와인 품질을 나타내는 quality 열에 예측값을 입력해야 함.\n",
    "# submission.head()"
   ]
  },
  {
   "cell_type": "code",
   "execution_count": null,
   "metadata": {},
   "outputs": [],
   "source": [
    "# # type 열의 데이터를 살펴봄, 화이트 와인(white)이 4159개, 레드와인(red)이 1338개\n",
    "# train['type'].value_counts()"
   ]
  },
  {
   "cell_type": "markdown",
   "metadata": {},
   "source": [
    "* * *\n",
    "type 열의 범주형 데이터는 문자열 값을 가짐  \n",
    "  \n",
    "모델 학습에 입력하려면 숫자형 데이터로 변환해야 함  \n",
    "  \n",
    "화이트 와인을 나타내는 'white' 문자열을 숫자 1로 바꾸고,  \n",
    "레드 와인을 나타내는 'red' 문자열을 숫자 0으로 변환함.  \n",
    "* * *"
   ]
  },
  {
   "cell_type": "code",
   "execution_count": null,
   "metadata": {},
   "outputs": [],
   "source": [
    "# train['type']=np.where(train['type']=='white',1,0).astype(int)\n",
    "# test['type']=np.where(test['type']=='white',1,0).astype(int)\n",
    "# train['type'].value_counts()"
   ]
  },
  {
   "cell_type": "code",
   "execution_count": null,
   "metadata": {},
   "outputs": [],
   "source": [
    "# # 이번에는 목표 변수인 quality 열의 데이터 개수를 확인함, 6등급 와인의 개수가 가장 많음.\n",
    "\n",
    "# train['quality'].value_counts()"
   ]
  },
  {
   "cell_type": "markdown",
   "metadata": {},
   "source": [
    "* * *\n",
    "목표 변수는 연속형 숫자 데이터가 아니라, 와인 등급을 나타내는 범주형 데이터임  \n",
    "  \n",
    "케라스 to_categorical 함수를 이용하여 목표 변수를 원핫 인코딩 변환함.  \n",
    "  \n",
    "원핫 인코딩을 하기 전에 숫자 3을 차감하여 와인 등급을 0~6 범위로 바꿈  \n",
    "  \n",
    "와인 등급은 3~9까지 모두 7개 클래스로 구분되는데, 3~9 범위 값으로 원핫 인코딩을 하면  \n",
    "숫자 0부터 최대값인 9까지 10개 클래스로 인식하기 때문임.  \n",
    "* * *"
   ]
  },
  {
   "cell_type": "code",
   "execution_count": null,
   "metadata": {},
   "outputs": [],
   "source": [
    "# from tensorflow.keras.utils import to_categorical\n",
    "\n",
    "# y_train=to_categorical(train.loc[:,'quality']-3)\n",
    "# y_train"
   ]
  },
  {
   "cell_type": "markdown",
   "metadata": {},
   "source": [
    "* * *\n",
    "모델 학습에 사용할 피처를 선택하고, MinMax 스케일링으로 모든 피처 변수의 데이터를 0~1 범위로  \n",
    "정규화 변환함.  \n",
    "  \n",
    "이때 훈련 데이터(X_train)로 정규화 학습을 하고, 같은 조건을 검증 데이터(X_test)에 적용하여 변환하는 점에 유의함.\n",
    "* * *"
   ]
  },
  {
   "cell_type": "code",
   "execution_count": null,
   "metadata": {},
   "outputs": [],
   "source": [
    "# # 피처 선택\n",
    "# X_train=train.loc[:,'fixed acidity':]\n",
    "# X_test=test.loc[:,'fixed acidity':]\n",
    "\n",
    "# # 피처 스케일링\n",
    "# from sklearn.preprocessing import MinMaxScaler\n",
    "# scaler=MinMaxScaler()\n",
    "# scaler.fit(X_train)\n",
    "# scaler.fit(X_train)\n",
    "# X_train_scaled=scaler.fit_transform(X_train)\n",
    "# X_test_scaled=scaler.fit_transform(X_test)\n",
    "\n",
    "# print(X_train_scaled.shape,y_train.shape)\n",
    "# print(X_test_scaled.shape)"
   ]
  },
  {
   "cell_type": "markdown",
   "metadata": {},
   "source": [
    "#### 2. 모델 설계 : 드랍아웃 활용"
   ]
  },
  {
   "cell_type": "markdown",
   "metadata": {},
   "source": [
    "* * *\n",
    "완전 연결 레이어(Dense) 4개 층으로 구성되는 신경망 모델을 구성함  \n",
    "  \n",
    "모델의 과대적합을 방지하기 위하여 드랍아웃(Dropout) 레이어를 추가함  \n",
    "  \n",
    "드랍아웃은 입력 레이어왕 은닉 레이어 간의 연결 중 일부를 랜덤으로 제거한 상태에서 학습하는 기법임  \n",
    "  \n",
    "결과적으로 유닛 사이에 연결된 가중치 수를 줄이는 효과를 얻기 때문에 과대적합을 방지 가능.  \n",
    "  \n",
    "  \n",
    "미니 배치 단위로 학습할 때마다 연결 네트워크에서 제거되는 가중치가 달라짐,  \n",
    "때문에 매번 다른 네트워크 구조를 갖는 모델을 얻게 됨  \n",
    "  \n",
    "즉, 앙상블 효과가 있어 모델 성능이 개선됨  \n",
    "  \n",
    "  \n",
    "Dense 레이어 뒤에 Dropout 레이어를 추가하고, dropout rate를 설정함  \n",
    "  \n",
    "0.2로 설정하면 20% 확률로 랜덤하게 연결을 제거하게 됨  \n",
    "  \n",
    "은닉 레이어의 활성화 함수로 tanh를 사용해 봄  \n",
    "  \n",
    "다중 분류 모델이므로 마지막 출력 레이어의 활성화 함수는 softmax를 적용함  \n",
    "  \n",
    "옵티마이저는 RMSProp, 손실 함수는 categorical_crossentropy를 지정함  \n",
    "  \n",
    "metrics 옵션에 여러 개의 보조 평가 지표를 입력할 수 있음  \n",
    "  \n",
    "여기서는 acc(정확도)와 mae(평균절대값오차)를 지정함.\n",
    "* * *"
   ]
  },
  {
   "cell_type": "code",
   "execution_count": null,
   "metadata": {},
   "outputs": [],
   "source": [
    "# # 심층 신경망 모델\n",
    "# from tensorflow.keras import Sequential\n",
    "# from tensorflow.keras.layers import Dense,Dropout\n",
    "\n",
    "# def build_model(train_data,train_target):\n",
    "#     model=Sequential()\n",
    "#     model.add(Dense(128,activation='tanh',input_dim=train_data.shape[1]))\n",
    "#     model.add(Dropout(0.2))\n",
    "#     model.add(Dense(64,activation='tanh'))\n",
    "#     model.add(Dropout(0.2))\n",
    "#     model.add(Dense(32,activation='tanh'))\n",
    "#     model.add(Dense(train_target.shape[1],activation='softmax'))\n",
    "\n",
    "#     model.compile(optimizer='RMSProp',loss='categorical_crossentropy',metrics=['acc','mae'])\n",
    "\n",
    "#     return model\n",
    "\n",
    "# model=build_model(X_train_scaled,y_train)\n",
    "# model.summary()\n",
    "\n",
    "# # tanh 함수는 -1~+1 사이의 출력 범위를 가짐\n",
    "# # 입력값이 0 근처일 때는 학습율이 좋지만,\n",
    "# # 입력값이 커지거나 작아지는 경우 기울기(가중치)가 0에 가까워지므로\n",
    "# # 학습이 이루어지지 않는 문제가 생김.\n",
    "\n",
    "# # 따라서 ReLU 함수에 비해 사용빈도가 낮음 편임."
   ]
  },
  {
   "cell_type": "markdown",
   "metadata": {},
   "source": [
    "#### 3. 콜백 함수 : Early Stopping 기법"
   ]
  },
  {
   "cell_type": "markdown",
   "metadata": {},
   "source": [
    "* * *\n",
    "콜백(callback) 함수를 사용하면 모델 학습 과정을 세밀하게 컨트롤할 수 있음.  \n",
    "  \n",
    "가장 많이 사용되는 방법 중에 Early Stopping이 있음.  \n",
    "  \n",
    "딥러닝 모델 학습에서 에포크 수를 늘려 학습을 계속 반복하면 훈련 데이터에 대한 오차(손실 함수)  \n",
    "를 계속 낮출 수 있음.  \n",
    "  \n",
    "하지만 과대적합을 일으켜 테스트 데이터를 포함한 새로운 데이터에 대한 예측력이 나빠지는 문제가 발생함.  \n",
    "  \n",
    "이때 Early Stopping을 사용하면 과대적합이 발생하기 직전에 학습을 멈출 수 있음.  \n",
    "  \n",
    "홀드아웃으로 검증 데이터를 분할하고, 검증 데이터에 대한 모델 성능이 일정 에포크 동안 좋아지지 않으면  \n",
    "모델 학습을 중단함.  \n",
    "  \n",
    "이때 허용되는 에포크 수를 patience 옵션에 설정함.  \n",
    "  \n",
    "다음의 예제는 200에포크로 설정되어 있지만, 학습 중 10에포크 동안 연속하여  \n",
    "검증 데이터에 대한 손실 함수(val_loss)가 줄어들지 않으면 학습을 멈춤.\n",
    "* * *"
   ]
  },
  {
   "cell_type": "code",
   "execution_count": null,
   "metadata": {},
   "outputs": [],
   "source": [
    "# # Early Stopping 기법\n",
    "# from sklearn.model_selection import train_test_split\n",
    "# from tensorflow.keras.callbacks import EarlyStopping\n",
    "\n",
    "# X_tr,X_val,y_tr,y_val=train_test_split(X_train_scaled,y_train,test_size=0.15,shuffle=True,random_state=SEED)\n",
    "\n",
    "# early_stopping=EarlyStopping(monitor='val_loss',patience=10)\n",
    "# history=model.fit(X_tr,y_tr,batch_size=64,epochs=200,validation_data=(X_val,y_val),callbacks=[early_stopping],verbose=2)"
   ]
  },
  {
   "cell_type": "markdown",
   "metadata": {},
   "source": [
    "* * *\n",
    "Early Stopping으로 학습을 멈추면 모델은 학습이 중지된 상태의 가중치로 고정됨  \n",
    "  \n",
    "검증 데이터에 대한 모델 성능을 evaluate 함수로 평가하면 앞의 실행 결과에서 54에포크가 종료된 상태에서의  \n",
    "  \n",
    "평가 지표 값(val_loss,val_acc,val_mae)과 동일하다는 것을 알 수 있음  \n",
    "* * *"
   ]
  },
  {
   "cell_type": "code",
   "execution_count": null,
   "metadata": {},
   "outputs": [],
   "source": [
    "# model.evaluate(X_val,y_val)"
   ]
  },
  {
   "cell_type": "markdown",
   "metadata": {},
   "source": [
    "#### 4. 예측값 정리 및 파일 제출"
   ]
  },
  {
   "cell_type": "markdown",
   "metadata": {},
   "source": [
    "* * *\n",
    "테스트 데이터를 predict 함수에 입력하면 목표 변수의 각 클래스에 대한 확률값을 반환함  \n",
    "  \n",
    "다중 분류 문제로 마지막 레이어의 활성화 함수를 softmax로 사용했기 때문.\n",
    "* * *"
   ]
  },
  {
   "cell_type": "code",
   "execution_count": null,
   "metadata": {},
   "outputs": [],
   "source": [
    "# # test 데이터에 대한 예측값 정리\n",
    "# y_pred_proba=model.predict(X_test)\n",
    "# y_pred_proba[:5]"
   ]
  },
  {
   "cell_type": "markdown",
   "metadata": {},
   "source": [
    "* * *\n",
    "앞에서 출력한 첫 번째 원소를 보면 7개 클래스에 대한 예측 확률값이 순서대로 표시되어 있음  \n",
    "  \n",
    "4번째 원소(클래스 3)의 확률값이 가장 높으며,  \n",
    "넘파이 argmax 함수를 사용하면 가장 값이 큰 원소의 인덱스 값을 얻을 수 있음.  \n",
    "  \n",
    "따라서 7개 확률값 중에서 가장 큰 원소가 있는 인덱스 3을 출력함.  \n",
    "  \n",
    "  \n",
    "하지만 모델이 예측한 값을 그대로 제출하면 안 됨  \n",
    "  \n",
    "데이터 전처리를 할 때 목표 변수의 값에서 3을 차감했기 때문  \n",
    "  \n",
    "모델 예측값에 3을 더하면 목표 레이블 값을 복원할 수 있음  \n",
    "  \n",
    "따라서 첫 번째 테스트 샘플에 대한 예측값은 6이 됨.\n",
    "* * *"
   ]
  },
  {
   "cell_type": "code",
   "execution_count": null,
   "metadata": {},
   "outputs": [],
   "source": [
    "# y_pred_label=np.argmax(y_pred_proba,axis=-1)+3\n",
    "# y_pred_label[:5]"
   ]
  },
  {
   "cell_type": "code",
   "execution_count": null,
   "metadata": {},
   "outputs": [],
   "source": [
    "# # 제출 양식에 맞게 정리\n",
    "# submission['quality']=y_pred_label.astype(int)\n",
    "# submission.head()"
   ]
  },
  {
   "cell_type": "code",
   "execution_count": null,
   "metadata": {},
   "outputs": [],
   "source": [
    "# # 제출 파일 저장\n",
    "# submission.to_csv('output/data/wine/wine_dnn_002.csv',index=False)"
   ]
  },
  {
   "cell_type": "code",
   "execution_count": null,
   "metadata": {},
   "outputs": [],
   "source": [
    "# df=rdf[:]\n",
    "# print('Number of rows and columns:', df.shape)"
   ]
  },
  {
   "cell_type": "code",
   "execution_count": null,
   "metadata": {},
   "outputs": [],
   "source": [
    "# fact = pd.factorize(df['region'])\n",
    "# df['region'] = fact[0]\n",
    "# df"
   ]
  },
  {
   "cell_type": "code",
   "execution_count": null,
   "metadata": {},
   "outputs": [],
   "source": [
    "# df.drop(['lightning','condition','datetime','HI','DI'], axis=1, inplace=True)\n",
    "# df"
   ]
  },
  {
   "cell_type": "code",
   "execution_count": null,
   "metadata": {},
   "outputs": [],
   "source": [
    "# df.dropna(inplace=True)\n",
    "# df"
   ]
  },
  {
   "cell_type": "code",
   "execution_count": null,
   "metadata": {},
   "outputs": [],
   "source": [
    "# df['test']=str(df['year'])+'-'+str(df['month'])+'-'+str(df['day'])\n",
    "# df"
   ]
  },
  {
   "cell_type": "code",
   "execution_count": null,
   "metadata": {},
   "outputs": [],
   "source": [
    "# df['date'] = pd.to_datetime((df['year']*10000 + df['month']*100 + df['day']).astype(str), format='%Y%m%d')"
   ]
  },
  {
   "cell_type": "code",
   "execution_count": null,
   "metadata": {},
   "outputs": [],
   "source": [
    "# df.drop(['year','month','day'],axis=1,inplace=True)\n",
    "# df"
   ]
  },
  {
   "cell_type": "code",
   "execution_count": null,
   "metadata": {},
   "outputs": [],
   "source": [
    "# df=df[['date','temp','rainfall','humidity','wind_speed','wind_direction','region','hour']]\n",
    "# df"
   ]
  },
  {
   "cell_type": "markdown",
   "metadata": {},
   "source": [
    "#### Onehot Encoding"
   ]
  },
  {
   "cell_type": "code",
   "execution_count": null,
   "metadata": {},
   "outputs": [],
   "source": [
    "# # Onehot Encoding\n",
    "# df['hour']=df['hour'].astype('category')\n",
    "# df=pd.get_dummies(df,columns=['hour'],prefix='H',drop_first=True)\n",
    "# df"
   ]
  },
  {
   "cell_type": "code",
   "execution_count": null,
   "metadata": {},
   "outputs": [],
   "source": [
    "# pd.set_option('display.max_columns', None)\n",
    "# df.head()"
   ]
  },
  {
   "cell_type": "code",
   "execution_count": null,
   "metadata": {},
   "outputs": [],
   "source": [
    "# df_27=df[df['region']==27]\n",
    "# df_27=df_27.reset_index(drop=True)\n",
    "# df_27.head()"
   ]
  },
  {
   "cell_type": "code",
   "execution_count": null,
   "metadata": {},
   "outputs": [],
   "source": [
    "# df_10=df[df['region']==10]\n",
    "# df_10=df_10.reset_index(drop=True)\n",
    "# df_10.head()"
   ]
  },
  {
   "cell_type": "code",
   "execution_count": null,
   "metadata": {},
   "outputs": [],
   "source": [
    "# df_10_01=df_10[pd.DatetimeIndex(df_10['date']).year<=2019]\n",
    "# df_10_01"
   ]
  },
  {
   "cell_type": "code",
   "execution_count": null,
   "metadata": {},
   "outputs": [],
   "source": [
    "# # Feature Scaling\n",
    "# X_train_scaled=X_train.loc[:,'temp':]\n",
    "# X_test_scaled=X_test.loc[:,'temp':]\n",
    "\n",
    "# scaler=MinMaxScaler()\n",
    "# scaler.fit(X_train_scaled.values)\n",
    "# X_train_scaled.loc[:,:]=scaler.transform(X_train_scaled.values)\n",
    "# X_test_scaled.loc[:,:]=scaler.transform(X_test_scaled.values)"
   ]
  },
  {
   "cell_type": "code",
   "execution_count": null,
   "metadata": {},
   "outputs": [],
   "source": [
    "# for batch in test_data.take(1):\n",
    "#     inputs,targets=batch\n",
    "\n",
    "# print(\"Input:\",inputs.numpy().shape)\n",
    "# print(\"Target:\",targets.numpy().shape)"
   ]
  },
  {
   "cell_type": "code",
   "execution_count": null,
   "metadata": {},
   "outputs": [],
   "source": [
    "# inputs[0]"
   ]
  },
  {
   "cell_type": "code",
   "execution_count": null,
   "metadata": {},
   "outputs": [],
   "source": [
    "# targets[0]"
   ]
  },
  {
   "cell_type": "code",
   "execution_count": null,
   "metadata": {},
   "outputs": [],
   "source": [
    "# df=rdf[:]\n",
    "# fact = pd.factorize(df['region'])\n",
    "# df['region'] = fact[0]\n",
    "# df"
   ]
  },
  {
   "cell_type": "code",
   "execution_count": null,
   "metadata": {},
   "outputs": [],
   "source": [
    "# df_8m=df[(df['month']==8)]\n",
    "# df_8m_10r=df_8m[df_8m['region']==10]\n",
    "\n",
    "# df_7m=df[(df['month']==7)]\n",
    "# df_7m_10r=df_7m[df_7m['region']==10]\n",
    "\n",
    "# df_6m=df[(df['month']==6)]\n",
    "# df_6m_10r=df_6m[df_6m['region']==10]"
   ]
  },
  {
   "cell_type": "code",
   "execution_count": null,
   "metadata": {},
   "outputs": [],
   "source": [
    "# xs_8m=df_8m_10r['datetime'].to_list() \n",
    "# xs_7m=df_7m_10r['datetime'].to_list()\n",
    "# xs_6m=df_6m_10r['datetime'].to_list()\n",
    "\n",
    "# ys_8m=df_8m_10r['temp'].to_list()\n",
    "# ys_7m=df_7m_10r['temp'].to_list()\n",
    "# ys_6m=df_6m_10r['temp'].to_list()\n",
    "\n",
    "# plt.figure(figsize=(100, 8))\n",
    "\n",
    "# plt.plot(xs_8m, ys_8m, 'o-', ms=3, lw=1, label='8th month')\n",
    "# plt.plot(xs_7m, ys_7m, 'o-', ms=3, lw=1, label='7th month')\n",
    "# plt.plot(xs_6m, ys_6m, 'o-', ms=3, lw=1, label='6th month')\n",
    "# plt.ylim(0,40)\n",
    "# plt.xlabel('Date')\n",
    "# plt.ylabel('Temp')\n",
    "# plt.legend()"
   ]
  },
  {
   "cell_type": "markdown",
   "metadata": {},
   "source": [
    "## Ⅰ. 모델링"
   ]
  },
  {
   "cell_type": "markdown",
   "metadata": {},
   "source": [
    "#### 0. 라이브러리 및 데이터 import"
   ]
  },
  {
   "cell_type": "code",
   "execution_count": 1,
   "metadata": {},
   "outputs": [],
   "source": [
    "import math\n",
    "import matplotlib.pyplot as plt\n",
    "import pandas as pd\n",
    "import numpy as np\n",
    "import datetime\n",
    "\n",
    "import keras\n",
    "\n",
    "from keras.models import Sequential\n",
    "from keras.layers import Dense\n",
    "from keras.layers import LSTM\n",
    "from keras.layers import Dropout\n",
    "from keras.layers import *\n",
    "from keras.layers import Input\n",
    "from keras.callbacks import EarlyStopping\n",
    "# from keras.preprocessing import timeseries_dataset_from_array\n",
    "\n",
    "\n",
    "from sklearn.preprocessing import MinMaxScaler\n",
    "from sklearn.metrics import mean_squared_error\n",
    "from sklearn.metrics import mean_absolute_error\n",
    "from sklearn.model_selection import train_test_split\n",
    "\n",
    "from tensorflow.keras.preprocessing import timeseries_dataset_from_array\n",
    "# from tensorflow.keras.models import Sequential\n",
    "# from tensorflow.keras.layers import Input, LSTM, Dense"
   ]
  },
  {
   "cell_type": "code",
   "execution_count": 2,
   "metadata": {},
   "outputs": [],
   "source": [
    "rdf=pd.read_csv('output/DL_data.csv')"
   ]
  },
  {
   "cell_type": "markdown",
   "metadata": {},
   "source": [
    "---\n",
    "## 전처리\n",
    "#### by KMJ"
   ]
  },
  {
   "cell_type": "code",
   "execution_count": 6,
   "metadata": {},
   "outputs": [
    {
     "name": "stdout",
     "output_type": "stream",
     "text": [
      "Number of rows and columns: (14831616, 23)\n"
     ]
    },
    {
     "data": {
      "text/html": [
       "<div>\n",
       "<style scoped>\n",
       "    .dataframe tbody tr th:only-of-type {\n",
       "        vertical-align: middle;\n",
       "    }\n",
       "\n",
       "    .dataframe tbody tr th {\n",
       "        vertical-align: top;\n",
       "    }\n",
       "\n",
       "    .dataframe thead th {\n",
       "        text-align: right;\n",
       "    }\n",
       "</style>\n",
       "<table border=\"1\" class=\"dataframe\">\n",
       "  <thead>\n",
       "    <tr style=\"text-align: right;\">\n",
       "      <th></th>\n",
       "      <th>year</th>\n",
       "      <th>month</th>\n",
       "      <th>day</th>\n",
       "      <th>hour</th>\n",
       "      <th>datetime</th>\n",
       "      <th>temp</th>\n",
       "      <th>rainfall</th>\n",
       "      <th>humidity</th>\n",
       "      <th>wind_speed</th>\n",
       "      <th>wind_direction</th>\n",
       "      <th>...</th>\n",
       "      <th>가로등</th>\n",
       "      <th>교육용</th>\n",
       "      <th>농사용</th>\n",
       "      <th>산업용</th>\n",
       "      <th>심야</th>\n",
       "      <th>일반용</th>\n",
       "      <th>임시전력</th>\n",
       "      <th>주택용</th>\n",
       "      <th>prev_winter</th>\n",
       "      <th>date</th>\n",
       "    </tr>\n",
       "  </thead>\n",
       "  <tbody>\n",
       "    <tr>\n",
       "      <th>0</th>\n",
       "      <td>2010</td>\n",
       "      <td>6</td>\n",
       "      <td>1</td>\n",
       "      <td>0</td>\n",
       "      <td>2010-06-01 00:00:00</td>\n",
       "      <td>16.5</td>\n",
       "      <td>0.0</td>\n",
       "      <td>53.0</td>\n",
       "      <td>NaN</td>\n",
       "      <td>NaN</td>\n",
       "      <td>...</td>\n",
       "      <td>NaN</td>\n",
       "      <td>NaN</td>\n",
       "      <td>NaN</td>\n",
       "      <td>NaN</td>\n",
       "      <td>NaN</td>\n",
       "      <td>NaN</td>\n",
       "      <td>NaN</td>\n",
       "      <td>NaN</td>\n",
       "      <td>NaN</td>\n",
       "      <td>2010-06-01</td>\n",
       "    </tr>\n",
       "    <tr>\n",
       "      <th>1</th>\n",
       "      <td>2010</td>\n",
       "      <td>6</td>\n",
       "      <td>1</td>\n",
       "      <td>1</td>\n",
       "      <td>2010-06-01 01:00:00</td>\n",
       "      <td>18.1</td>\n",
       "      <td>0.0</td>\n",
       "      <td>49.0</td>\n",
       "      <td>NaN</td>\n",
       "      <td>NaN</td>\n",
       "      <td>...</td>\n",
       "      <td>NaN</td>\n",
       "      <td>NaN</td>\n",
       "      <td>NaN</td>\n",
       "      <td>NaN</td>\n",
       "      <td>NaN</td>\n",
       "      <td>NaN</td>\n",
       "      <td>NaN</td>\n",
       "      <td>NaN</td>\n",
       "      <td>NaN</td>\n",
       "      <td>2010-06-01</td>\n",
       "    </tr>\n",
       "    <tr>\n",
       "      <th>2</th>\n",
       "      <td>2010</td>\n",
       "      <td>6</td>\n",
       "      <td>1</td>\n",
       "      <td>2</td>\n",
       "      <td>2010-06-01 02:00:00</td>\n",
       "      <td>19.7</td>\n",
       "      <td>0.0</td>\n",
       "      <td>46.0</td>\n",
       "      <td>NaN</td>\n",
       "      <td>NaN</td>\n",
       "      <td>...</td>\n",
       "      <td>NaN</td>\n",
       "      <td>NaN</td>\n",
       "      <td>NaN</td>\n",
       "      <td>NaN</td>\n",
       "      <td>NaN</td>\n",
       "      <td>NaN</td>\n",
       "      <td>NaN</td>\n",
       "      <td>NaN</td>\n",
       "      <td>NaN</td>\n",
       "      <td>2010-06-01</td>\n",
       "    </tr>\n",
       "  </tbody>\n",
       "</table>\n",
       "<p>3 rows × 24 columns</p>\n",
       "</div>"
      ],
      "text/plain": [
       "   year  month  day  hour             datetime  temp  rainfall  humidity  \\\n",
       "0  2010      6    1     0  2010-06-01 00:00:00  16.5       0.0      53.0   \n",
       "1  2010      6    1     1  2010-06-01 01:00:00  18.1       0.0      49.0   \n",
       "2  2010      6    1     2  2010-06-01 02:00:00  19.7       0.0      46.0   \n",
       "\n",
       "   wind_speed  wind_direction  ...  가로등  교육용  농사용  산업용  심야  일반용  임시전력  주택용  \\\n",
       "0         NaN             NaN  ...  NaN  NaN  NaN  NaN NaN  NaN   NaN  NaN   \n",
       "1         NaN             NaN  ...  NaN  NaN  NaN  NaN NaN  NaN   NaN  NaN   \n",
       "2         NaN             NaN  ...  NaN  NaN  NaN  NaN NaN  NaN   NaN  NaN   \n",
       "\n",
       "   prev_winter       date  \n",
       "0          NaN 2010-06-01  \n",
       "1          NaN 2010-06-01  \n",
       "2          NaN 2010-06-01  \n",
       "\n",
       "[3 rows x 24 columns]"
      ]
     },
     "execution_count": 6,
     "metadata": {},
     "output_type": "execute_result"
    }
   ],
   "source": [
    "df=rdf[:]\n",
    "print('Number of rows and columns:', df.shape)\n",
    "\n",
    "fact = pd.factorize(df['region'])\n",
    "df['region'] = fact[0]\n",
    "\n",
    "df['date'] = pd.to_datetime((df['year']*10000 + df['month']*100 + df['day']).astype(str), format='%Y%m%d')\n",
    "df.head(3)"
   ]
  },
  {
   "cell_type": "code",
   "execution_count": 11,
   "metadata": {},
   "outputs": [
    {
     "data": {
      "text/html": [
       "<div>\n",
       "<style scoped>\n",
       "    .dataframe tbody tr th:only-of-type {\n",
       "        vertical-align: middle;\n",
       "    }\n",
       "\n",
       "    .dataframe tbody tr th {\n",
       "        vertical-align: top;\n",
       "    }\n",
       "\n",
       "    .dataframe thead th {\n",
       "        text-align: right;\n",
       "    }\n",
       "</style>\n",
       "<table border=\"1\" class=\"dataframe\">\n",
       "  <thead>\n",
       "    <tr style=\"text-align: right;\">\n",
       "      <th></th>\n",
       "      <th>date</th>\n",
       "      <th>temp</th>\n",
       "      <th>rainfall</th>\n",
       "      <th>humidity</th>\n",
       "      <th>wind_speed</th>\n",
       "      <th>wind_direction</th>\n",
       "      <th>region</th>\n",
       "      <th>hour</th>\n",
       "      <th>HI</th>\n",
       "      <th>height</th>\n",
       "    </tr>\n",
       "  </thead>\n",
       "  <tbody>\n",
       "    <tr>\n",
       "      <th>104445</th>\n",
       "      <td>2022-04-30</td>\n",
       "      <td>11.5</td>\n",
       "      <td>0.0</td>\n",
       "      <td>55.0</td>\n",
       "      <td>1.0</td>\n",
       "      <td>313.0</td>\n",
       "      <td>0</td>\n",
       "      <td>21</td>\n",
       "      <td>10.141667</td>\n",
       "      <td>42.48</td>\n",
       "    </tr>\n",
       "    <tr>\n",
       "      <th>104446</th>\n",
       "      <td>2022-04-30</td>\n",
       "      <td>12.9</td>\n",
       "      <td>0.0</td>\n",
       "      <td>48.0</td>\n",
       "      <td>1.0</td>\n",
       "      <td>311.0</td>\n",
       "      <td>0</td>\n",
       "      <td>22</td>\n",
       "      <td>11.498889</td>\n",
       "      <td>42.48</td>\n",
       "    </tr>\n",
       "    <tr>\n",
       "      <th>104447</th>\n",
       "      <td>2022-04-30</td>\n",
       "      <td>14.2</td>\n",
       "      <td>0.0</td>\n",
       "      <td>44.0</td>\n",
       "      <td>1.2</td>\n",
       "      <td>157.0</td>\n",
       "      <td>0</td>\n",
       "      <td>23</td>\n",
       "      <td>12.824444</td>\n",
       "      <td>42.48</td>\n",
       "    </tr>\n",
       "  </tbody>\n",
       "</table>\n",
       "</div>"
      ],
      "text/plain": [
       "             date  temp  rainfall  humidity  wind_speed  wind_direction  \\\n",
       "104445 2022-04-30  11.5       0.0      55.0         1.0           313.0   \n",
       "104446 2022-04-30  12.9       0.0      48.0         1.0           311.0   \n",
       "104447 2022-04-30  14.2       0.0      44.0         1.2           157.0   \n",
       "\n",
       "        region  hour         HI  height  \n",
       "104445       0    21  10.141667   42.48  \n",
       "104446       0    22  11.498889   42.48  \n",
       "104447       0    23  12.824444   42.48  "
      ]
     },
     "execution_count": 11,
     "metadata": {},
     "output_type": "execute_result"
    }
   ],
   "source": [
    "# 필요한 컬럼과 특정 동네 데이터만 가져옴\n",
    "dataset = df[['date','temp','rainfall','humidity','wind_speed','wind_direction','region','hour','HI','height']]\n",
    "dataset = dataset[dataset['region']==0]\n",
    "dataset.tail(3)"
   ]
  },
  {
   "cell_type": "code",
   "execution_count": 12,
   "metadata": {},
   "outputs": [
    {
     "data": {
      "text/plain": [
       "date                 0\n",
       "temp                 0\n",
       "rainfall             0\n",
       "humidity             0\n",
       "wind_speed        4519\n",
       "wind_direction    4519\n",
       "region               0\n",
       "hour                 0\n",
       "HI                   0\n",
       "height               0\n",
       "dtype: int64"
      ]
     },
     "execution_count": 12,
     "metadata": {},
     "output_type": "execute_result"
    }
   ],
   "source": [
    "# 결측치 확인\n",
    "dataset.isnull().sum()"
   ]
  },
  {
   "cell_type": "code",
   "execution_count": 13,
   "metadata": {},
   "outputs": [],
   "source": [
    "# 전처리를 진행하기 위하여 복사본으로 작업\n",
    "predata = dataset.copy()"
   ]
  },
  {
   "cell_type": "code",
   "execution_count": 14,
   "metadata": {},
   "outputs": [
    {
     "data": {
      "text/plain": [
       "date              datetime64[ns]\n",
       "temp                     float64\n",
       "rainfall                 float64\n",
       "humidity                 float64\n",
       "wind_speed               float64\n",
       "wind_direction           float64\n",
       "region                     int64\n",
       "hour                       int64\n",
       "HI                       float64\n",
       "height                   float64\n",
       "dtype: object"
      ]
     },
     "execution_count": 14,
     "metadata": {},
     "output_type": "execute_result"
    }
   ],
   "source": [
    "predata.dtypes"
   ]
  },
  {
   "cell_type": "code",
   "execution_count": 16,
   "metadata": {},
   "outputs": [],
   "source": [
    "# 풍향이 360도이면 0도로 수정\n",
    "for i in range(len(predata)) :\n",
    "    if predata.loc[i,'wind_direction'] == -1:\n",
    "        predata.loc[i,'wind_direction'] = np.nan\n",
    "    elif predata.loc[i,'wind_direction'] == 360:\n",
    "        predata.loc[i,'wind_direction'] = 0"
   ]
  },
  {
   "cell_type": "markdown",
   "metadata": {},
   "source": [
    "## 결측치 제거"
   ]
  },
  {
   "cell_type": "code",
   "execution_count": 17,
   "metadata": {},
   "outputs": [
    {
     "data": {
      "text/plain": [
       "date              0\n",
       "temp              0\n",
       "rainfall          0\n",
       "humidity          0\n",
       "wind_speed        0\n",
       "wind_direction    0\n",
       "region            0\n",
       "hour              0\n",
       "HI                0\n",
       "height            0\n",
       "dtype: int64"
      ]
     },
     "execution_count": 17,
     "metadata": {},
     "output_type": "execute_result"
    }
   ],
   "source": [
    "prepoll = predata.copy()\n",
    "prepoll.dropna(inplace=True)\n",
    "prepoll.isnull().sum()"
   ]
  },
  {
   "cell_type": "code",
   "execution_count": 18,
   "metadata": {},
   "outputs": [
    {
     "data": {
      "text/html": [
       "<div>\n",
       "<style scoped>\n",
       "    .dataframe tbody tr th:only-of-type {\n",
       "        vertical-align: middle;\n",
       "    }\n",
       "\n",
       "    .dataframe tbody tr th {\n",
       "        vertical-align: top;\n",
       "    }\n",
       "\n",
       "    .dataframe thead th {\n",
       "        text-align: right;\n",
       "    }\n",
       "</style>\n",
       "<table border=\"1\" class=\"dataframe\">\n",
       "  <thead>\n",
       "    <tr style=\"text-align: right;\">\n",
       "      <th></th>\n",
       "      <th>date</th>\n",
       "      <th>temp</th>\n",
       "      <th>rainfall</th>\n",
       "      <th>humidity</th>\n",
       "      <th>wind_speed</th>\n",
       "      <th>wind_direction</th>\n",
       "      <th>region</th>\n",
       "      <th>hour</th>\n",
       "      <th>HI</th>\n",
       "      <th>height</th>\n",
       "    </tr>\n",
       "  </thead>\n",
       "  <tbody>\n",
       "    <tr>\n",
       "      <th>0</th>\n",
       "      <td>2010-12-06</td>\n",
       "      <td>11.6</td>\n",
       "      <td>0.0</td>\n",
       "      <td>32.0</td>\n",
       "      <td>4.1</td>\n",
       "      <td>304.0</td>\n",
       "      <td>0</td>\n",
       "      <td>7</td>\n",
       "      <td>9.651111</td>\n",
       "      <td>42.48</td>\n",
       "    </tr>\n",
       "    <tr>\n",
       "      <th>1</th>\n",
       "      <td>2010-12-06</td>\n",
       "      <td>10.6</td>\n",
       "      <td>0.0</td>\n",
       "      <td>35.0</td>\n",
       "      <td>3.6</td>\n",
       "      <td>300.0</td>\n",
       "      <td>0</td>\n",
       "      <td>8</td>\n",
       "      <td>8.629444</td>\n",
       "      <td>42.48</td>\n",
       "    </tr>\n",
       "    <tr>\n",
       "      <th>2</th>\n",
       "      <td>2010-12-06</td>\n",
       "      <td>9.2</td>\n",
       "      <td>0.0</td>\n",
       "      <td>27.0</td>\n",
       "      <td>3.8</td>\n",
       "      <td>295.0</td>\n",
       "      <td>0</td>\n",
       "      <td>9</td>\n",
       "      <td>6.880556</td>\n",
       "      <td>42.48</td>\n",
       "    </tr>\n",
       "  </tbody>\n",
       "</table>\n",
       "</div>"
      ],
      "text/plain": [
       "        date  temp  rainfall  humidity  wind_speed  wind_direction  region  \\\n",
       "0 2010-12-06  11.6       0.0      32.0         4.1           304.0       0   \n",
       "1 2010-12-06  10.6       0.0      35.0         3.6           300.0       0   \n",
       "2 2010-12-06   9.2       0.0      27.0         3.8           295.0       0   \n",
       "\n",
       "   hour        HI  height  \n",
       "0     7  9.651111   42.48  \n",
       "1     8  8.629444   42.48  \n",
       "2     9  6.880556   42.48  "
      ]
     },
     "execution_count": 18,
     "metadata": {},
     "output_type": "execute_result"
    }
   ],
   "source": [
    "prepoll = prepoll.reset_index(drop=True)\n",
    "prepoll.head(3)"
   ]
  },
  {
   "cell_type": "code",
   "execution_count": 19,
   "metadata": {},
   "outputs": [
    {
     "data": {
      "text/plain": [
       "99604"
      ]
     },
     "execution_count": 19,
     "metadata": {},
     "output_type": "execute_result"
    }
   ],
   "source": [
    "len(prepoll)"
   ]
  },
  {
   "cell_type": "markdown",
   "metadata": {},
   "source": [
    "## 머신러닝\n",
    "### 데이터 셋 분리"
   ]
  },
  {
   "cell_type": "code",
   "execution_count": 33,
   "metadata": {},
   "outputs": [
    {
     "name": "stdout",
     "output_type": "stream",
     "text": [
      "(9499, 9) (9499, 1)\n"
     ]
    }
   ],
   "source": [
    "# Setting\n",
    "train_split_idx=10000                 # 시작 행 인덱스의 번호\n",
    "window_size=500                       # 과거 500시간 동안 시계열 데이터를 학습 데이터로 사용 / 하이퍼파라미터\n",
    "future=1                              # 1시간 이후의 타깃 예측\n",
    "\n",
    "# Features\n",
    "X_train=prepoll.iloc[:train_split_idx-window_size-future,0:]\n",
    "X_train.drop('temp', axis=1, inplace=True) # 'temp' 열을 제외한 나머지 컬럼이 feature\n",
    "\n",
    "# Targets\n",
    "y_train=prepoll.iloc[window_size+future:train_split_idx,[1]]  # 'temp' 열\n",
    "\n",
    "print(X_train.shape,y_train.shape)"
   ]
  },
  {
   "cell_type": "code",
   "execution_count": 34,
   "metadata": {},
   "outputs": [
    {
     "data": {
      "text/html": [
       "<div>\n",
       "<style scoped>\n",
       "    .dataframe tbody tr th:only-of-type {\n",
       "        vertical-align: middle;\n",
       "    }\n",
       "\n",
       "    .dataframe tbody tr th {\n",
       "        vertical-align: top;\n",
       "    }\n",
       "\n",
       "    .dataframe thead th {\n",
       "        text-align: right;\n",
       "    }\n",
       "</style>\n",
       "<table border=\"1\" class=\"dataframe\">\n",
       "  <thead>\n",
       "    <tr style=\"text-align: right;\">\n",
       "      <th></th>\n",
       "      <th>date</th>\n",
       "      <th>temp</th>\n",
       "      <th>rainfall</th>\n",
       "      <th>humidity</th>\n",
       "      <th>wind_speed</th>\n",
       "      <th>wind_direction</th>\n",
       "      <th>region</th>\n",
       "      <th>hour</th>\n",
       "      <th>HI</th>\n",
       "      <th>height</th>\n",
       "    </tr>\n",
       "  </thead>\n",
       "  <tbody>\n",
       "    <tr>\n",
       "      <th>9999</th>\n",
       "      <td>2012-01-29</td>\n",
       "      <td>4.1</td>\n",
       "      <td>0.0</td>\n",
       "      <td>17.0</td>\n",
       "      <td>2.0</td>\n",
       "      <td>246.0</td>\n",
       "      <td>0</td>\n",
       "      <td>3</td>\n",
       "      <td>4.100000</td>\n",
       "      <td>42.48</td>\n",
       "    </tr>\n",
       "    <tr>\n",
       "      <th>10000</th>\n",
       "      <td>2012-01-29</td>\n",
       "      <td>6.4</td>\n",
       "      <td>0.0</td>\n",
       "      <td>11.0</td>\n",
       "      <td>3.7</td>\n",
       "      <td>279.0</td>\n",
       "      <td>0</td>\n",
       "      <td>4</td>\n",
       "      <td>3.382778</td>\n",
       "      <td>42.48</td>\n",
       "    </tr>\n",
       "    <tr>\n",
       "      <th>10001</th>\n",
       "      <td>2012-01-29</td>\n",
       "      <td>6.2</td>\n",
       "      <td>0.0</td>\n",
       "      <td>14.0</td>\n",
       "      <td>4.3</td>\n",
       "      <td>301.0</td>\n",
       "      <td>0</td>\n",
       "      <td>5</td>\n",
       "      <td>3.241111</td>\n",
       "      <td>42.48</td>\n",
       "    </tr>\n",
       "  </tbody>\n",
       "</table>\n",
       "</div>"
      ],
      "text/plain": [
       "            date  temp  rainfall  humidity  wind_speed  wind_direction  \\\n",
       "9999  2012-01-29   4.1       0.0      17.0         2.0           246.0   \n",
       "10000 2012-01-29   6.4       0.0      11.0         3.7           279.0   \n",
       "10001 2012-01-29   6.2       0.0      14.0         4.3           301.0   \n",
       "\n",
       "       region  hour        HI  height  \n",
       "9999        0     3  4.100000   42.48  \n",
       "10000       0     4  3.382778   42.48  \n",
       "10001       0     5  3.241111   42.48  "
      ]
     },
     "execution_count": 34,
     "metadata": {},
     "output_type": "execute_result"
    }
   ],
   "source": [
    "prepoll.iloc[[train_split_idx-1,train_split_idx,train_split_idx+1]]"
   ]
  },
  {
   "cell_type": "code",
   "execution_count": 35,
   "metadata": {},
   "outputs": [
    {
     "name": "stdout",
     "output_type": "stream",
     "text": [
      "(89604, 9) (89604, 1)\n"
     ]
    }
   ],
   "source": [
    "# X_test\n",
    "test_start=train_split_idx-window_size-future   # 테스트 데이터 시작 행\n",
    "test_end=prepoll.shape[0]-window_size-future\n",
    "X_test=prepoll.iloc[test_start:test_end,0:]\n",
    "X_test.drop('temp', axis=1, inplace=True)\n",
    "\n",
    "# y_test\n",
    "# label_start= +future        # 테스트 데이터의 첫 번째 타깃 데이터 위치\n",
    "y_test=prepoll.iloc[train_split_idx:,[1]]    # 'temp' 열 선택\n",
    "\n",
    "print(X_test.shape,y_test.shape)"
   ]
  },
  {
   "cell_type": "markdown",
   "metadata": {},
   "source": [
    "#### 입력 데이터 0~1로 조정"
   ]
  },
  {
   "cell_type": "code",
   "execution_count": 36,
   "metadata": {},
   "outputs": [],
   "source": [
    "# Feature Scaling\n",
    "X_train_scaled=X_train.loc[:,'rainfall':]\n",
    "X_test_scaled=X_test.loc[:,'rainfall':]\n",
    "\n",
    "scaler=MinMaxScaler()\n",
    "scaler.fit(X_train_scaled.values)\n",
    "X_train_scaled.loc[:,:]=scaler.transform(X_train_scaled.values)\n",
    "X_test_scaled.loc[:,:]=scaler.transform(X_test_scaled.values)"
   ]
  },
  {
   "cell_type": "code",
   "execution_count": 37,
   "metadata": {},
   "outputs": [],
   "source": [
    "X_train_scaled =tf.convert_to_tensor(X_train_scaled, dtype=tf.float32)\n",
    "y_train = tf.convert_to_tensor(y_train, dtype=tf.float32)\n",
    "X_test_scaled = tf.convert_to_tensor(X_test_scaled, dtype=tf.float32)\n",
    "y_test = tf.convert_to_tensor(y_test, dtype=tf.float32)"
   ]
  },
  {
   "cell_type": "markdown",
   "metadata": {},
   "source": [
    "#### 배치 사이즈 조정 - 파라미터"
   ]
  },
  {
   "cell_type": "code",
   "execution_count": 44,
   "metadata": {},
   "outputs": [
    {
     "name": "stdout",
     "output_type": "stream",
     "text": [
      "<BatchDataset element_spec=(TensorSpec(shape=(None, None, 8), dtype=tf.float32, name=None), TensorSpec(shape=(None, 1), dtype=tf.float32, name=None))>\n",
      "<BatchDataset element_spec=(TensorSpec(shape=(None, None, 8), dtype=tf.float32, name=None), TensorSpec(shape=(None, 1), dtype=tf.float32, name=None))>\n"
     ]
    }
   ],
   "source": [
    "# Mini Batch 크기로 시계열 변환\n",
    "train_data=timeseries_dataset_from_array(X_train_scaled,y_train,sequence_length=window_size,batch_size=16)\n",
    "test_data=timeseries_dataset_from_array(X_test_scaled,y_test,sequence_length=window_size,batch_size=16)\n",
    "\n",
    "print(train_data)\n",
    "print(test_data)"
   ]
  },
  {
   "cell_type": "markdown",
   "metadata": {},
   "source": [
    "#### (배치사이즈, 타임스텝, 컬럼수-1)"
   ]
  },
  {
   "cell_type": "code",
   "execution_count": 45,
   "metadata": {},
   "outputs": [
    {
     "name": "stdout",
     "output_type": "stream",
     "text": [
      "Input: (16, 500, 8)\n",
      "Target: (16, 1)\n"
     ]
    }
   ],
   "source": [
    "for batch in test_data.take(1):\n",
    "    inputs,targets=batch\n",
    "\n",
    "print(\"Input:\",inputs.numpy().shape)\n",
    "print(\"Target:\",targets.numpy().shape)"
   ]
  },
  {
   "cell_type": "code",
   "execution_count": 46,
   "metadata": {},
   "outputs": [
    {
     "data": {
      "text/plain": [
       "<tf.Tensor: shape=(500, 8), dtype=float32, numpy=\n",
       "array([[0.        , 0.06451613, 0.32911393, ..., 0.3043478 , 0.31358695,\n",
       "        0.        ],\n",
       "       [0.        , 0.06451613, 0.2658228 , ..., 0.3478261 , 0.28823107,\n",
       "        0.        ],\n",
       "       [0.        , 0.09677419, 0.18987341, ..., 0.39130434, 0.33423662,\n",
       "        0.        ],\n",
       "       ...,\n",
       "       [0.        , 0.32258064, 0.06329114, ..., 0.        , 0.26892602,\n",
       "        0.        ],\n",
       "       [0.        , 0.17204301, 0.29113925, ..., 0.04347826, 0.28813502,\n",
       "        0.        ],\n",
       "       [0.        , 0.13978495, 0.35443038, ..., 0.08695652, 0.30734402,\n",
       "        0.        ]], dtype=float32)>"
      ]
     },
     "execution_count": 46,
     "metadata": {},
     "output_type": "execute_result"
    }
   ],
   "source": [
    "inputs[0]"
   ]
  },
  {
   "cell_type": "code",
   "execution_count": 47,
   "metadata": {},
   "outputs": [
    {
     "data": {
      "text/plain": [
       "<tf.Tensor: shape=(1,), dtype=float32, numpy=array([6.4], dtype=float32)>"
      ]
     },
     "execution_count": 47,
     "metadata": {},
     "output_type": "execute_result"
    }
   ],
   "source": [
    "targets[0]"
   ]
  },
  {
   "cell_type": "markdown",
   "metadata": {},
   "source": [
    "#### 3층 레이어 / 하이퍼파라미터, unit-하이퍼파라미터\n",
    "#### mae 값 0.5 이하일 것"
   ]
  },
  {
   "cell_type": "code",
   "execution_count": 57,
   "metadata": {},
   "outputs": [
    {
     "name": "stdout",
     "output_type": "stream",
     "text": [
      "Model: \"sequential_5\"\n",
      "_________________________________________________________________\n",
      " Layer (type)                Output Shape              Param #   \n",
      "=================================================================\n",
      " lstm_5 (LSTM)               (None, 32)                5248      \n",
      "                                                                 \n",
      " dense_10 (Dense)            (None, 16)                528       \n",
      "                                                                 \n",
      " dense_11 (Dense)            (None, 1)                 17        \n",
      "                                                                 \n",
      "=================================================================\n",
      "Total params: 5,793\n",
      "Trainable params: 5,793\n",
      "Non-trainable params: 0\n",
      "_________________________________________________________________\n"
     ]
    }
   ],
   "source": [
    "model=Sequential()\n",
    "model.add(Input(shape=[100,8])) # 컬럼, 사이즈\n",
    "\n",
    "model.add(LSTM(units=32,return_sequences=False))\n",
    "model.add(Dense(units=16,activation='linear'))\n",
    "model.add(Dense(units=1,activation='linear'))\n",
    "\n",
    "model.compile(optimizer='adam',loss='mae',metrics=['mse'])\n",
    "\n",
    "model.summary()"
   ]
  },
  {
   "cell_type": "code",
   "execution_count": 58,
   "metadata": {},
   "outputs": [
    {
     "name": "stdout",
     "output_type": "stream",
     "text": [
      "Epoch 1/50\n",
      "563/563 [==============================] - 205s 362ms/step - loss: 3.7235 - mse: 21.9453 - val_loss: 14.9692 - val_mse: 308.8538\n",
      "Epoch 2/50\n",
      "563/563 [==============================] - 212s 376ms/step - loss: 3.6965 - mse: 21.8078 - val_loss: 13.4209 - val_mse: 257.6379\n",
      "Epoch 3/50\n",
      "563/563 [==============================] - 217s 387ms/step - loss: 4.0938 - mse: 26.8154 - val_loss: 12.8108 - val_mse: 236.9607\n",
      "Epoch 4/50\n",
      "563/563 [==============================] - 214s 380ms/step - loss: 4.3527 - mse: 30.6794 - val_loss: 12.3646 - val_mse: 221.7705\n",
      "Epoch 5/50\n",
      "563/563 [==============================] - 213s 379ms/step - loss: 4.0284 - mse: 26.2882 - val_loss: 12.1454 - val_mse: 213.8719\n",
      "Epoch 6/50\n",
      "563/563 [==============================] - 217s 387ms/step - loss: 3.4372 - mse: 19.4425 - val_loss: 12.8857 - val_mse: 231.7377\n",
      "Epoch 7/50\n",
      "563/563 [==============================] - 214s 381ms/step - loss: 3.6765 - mse: 23.2953 - val_loss: 11.8468 - val_mse: 203.7004\n",
      "Epoch 8/50\n",
      "563/563 [==============================] - 216s 384ms/step - loss: 4.3596 - mse: 31.2423 - val_loss: 11.2282 - val_mse: 183.8761\n",
      "Epoch 9/50\n",
      "563/563 [==============================] - 213s 378ms/step - loss: 5.5126 - mse: 53.9870 - val_loss: 13.6026 - val_mse: 260.0062\n",
      "Epoch 10/50\n",
      "563/563 [==============================] - 217s 386ms/step - loss: 3.8693 - mse: 24.1700 - val_loss: 12.4757 - val_mse: 224.9588\n",
      "Epoch 11/50\n",
      "563/563 [==============================] - 210s 374ms/step - loss: 3.7424 - mse: 22.4893 - val_loss: 12.5960 - val_mse: 227.3679\n",
      "Epoch 12/50\n",
      "563/563 [==============================] - 203s 361ms/step - loss: 3.4932 - mse: 19.6786 - val_loss: 11.9451 - val_mse: 205.4770\n",
      "Epoch 13/50\n",
      "563/563 [==============================] - 245s 436ms/step - loss: 3.1009 - mse: 15.7260 - val_loss: 13.3508 - val_mse: 245.5597\n",
      "Epoch 14/50\n",
      "563/563 [==============================] - 248s 440ms/step - loss: 2.6388 - mse: 11.1987 - val_loss: 12.6159 - val_mse: 215.1582\n",
      "Epoch 15/50\n",
      "563/563 [==============================] - 249s 442ms/step - loss: 2.3728 - mse: 9.1477 - val_loss: 11.2700 - val_mse: 172.7887\n",
      "Epoch 16/50\n",
      "563/563 [==============================] - 234s 417ms/step - loss: 2.2043 - mse: 7.9728 - val_loss: 10.7492 - val_mse: 158.2319\n",
      "Epoch 17/50\n",
      "563/563 [==============================] - 209s 371ms/step - loss: 2.0720 - mse: 7.0856 - val_loss: 10.3684 - val_mse: 147.1130\n",
      "Epoch 18/50\n",
      "563/563 [==============================] - 250s 445ms/step - loss: 1.9807 - mse: 6.4842 - val_loss: 9.8484 - val_mse: 133.0837\n",
      "Epoch 19/50\n",
      "563/563 [==============================] - 249s 442ms/step - loss: 1.8928 - mse: 5.9336 - val_loss: 9.3971 - val_mse: 120.9046\n",
      "Epoch 20/50\n",
      "563/563 [==============================] - 249s 442ms/step - loss: 1.7872 - mse: 5.3059 - val_loss: 8.9406 - val_mse: 108.9901\n",
      "Epoch 21/50\n",
      "563/563 [==============================] - 248s 440ms/step - loss: 1.7041 - mse: 4.8218 - val_loss: 8.5124 - val_mse: 98.2686\n",
      "Epoch 22/50\n",
      "563/563 [==============================] - 247s 439ms/step - loss: 1.6243 - mse: 4.3643 - val_loss: 8.0677 - val_mse: 87.6840\n",
      "Epoch 23/50\n",
      "563/563 [==============================] - 248s 440ms/step - loss: 1.5283 - mse: 3.8788 - val_loss: 7.6160 - val_mse: 78.0492\n",
      "Epoch 24/50\n",
      "563/563 [==============================] - 247s 439ms/step - loss: 1.4479 - mse: 3.4754 - val_loss: 7.2014 - val_mse: 69.5008\n",
      "Epoch 25/50\n",
      "563/563 [==============================] - 248s 442ms/step - loss: 1.3757 - mse: 3.1421 - val_loss: 6.7462 - val_mse: 60.5400\n",
      "Epoch 26/50\n",
      "563/563 [==============================] - 249s 443ms/step - loss: 1.3027 - mse: 2.8279 - val_loss: 6.3511 - val_mse: 53.4639\n",
      "Epoch 27/50\n",
      "563/563 [==============================] - 248s 441ms/step - loss: 1.2350 - mse: 2.5459 - val_loss: 5.9339 - val_mse: 46.6406\n",
      "Epoch 28/50\n",
      "563/563 [==============================] - 248s 442ms/step - loss: 1.1853 - mse: 2.3487 - val_loss: 5.5292 - val_mse: 40.5191\n",
      "Epoch 29/50\n",
      "563/563 [==============================] - 248s 441ms/step - loss: 1.1487 - mse: 2.2091 - val_loss: 5.1098 - val_mse: 34.4567\n",
      "Epoch 30/50\n",
      "563/563 [==============================] - 249s 443ms/step - loss: 1.1125 - mse: 2.0773 - val_loss: 4.8326 - val_mse: 30.9165\n",
      "Epoch 31/50\n",
      "563/563 [==============================] - 249s 442ms/step - loss: 1.0833 - mse: 1.9789 - val_loss: 4.6086 - val_mse: 28.0332\n",
      "Epoch 32/50\n",
      "563/563 [==============================] - 224s 399ms/step - loss: 1.0530 - mse: 1.8798 - val_loss: 4.4521 - val_mse: 26.1850\n",
      "Epoch 33/50\n",
      "563/563 [==============================] - 212s 377ms/step - loss: 1.0352 - mse: 1.8231 - val_loss: 4.4619 - val_mse: 26.1278\n",
      "Epoch 34/50\n",
      "563/563 [==============================] - 212s 378ms/step - loss: 1.0093 - mse: 1.7382 - val_loss: 4.2900 - val_mse: 24.2401\n",
      "Epoch 35/50\n",
      "563/563 [==============================] - 213s 379ms/step - loss: 0.9956 - mse: 1.6938 - val_loss: 4.2075 - val_mse: 23.2204\n",
      "Epoch 36/50\n",
      "563/563 [==============================] - 215s 383ms/step - loss: 0.9777 - mse: 1.6386 - val_loss: 4.0326 - val_mse: 21.3806\n",
      "Epoch 37/50\n",
      "563/563 [==============================] - 212s 377ms/step - loss: 0.9597 - mse: 1.5827 - val_loss: 3.9386 - val_mse: 20.4183\n",
      "Epoch 38/50\n",
      "563/563 [==============================] - 212s 377ms/step - loss: 0.9341 - mse: 1.5092 - val_loss: 3.7158 - val_mse: 18.4030\n",
      "Epoch 39/50\n",
      "563/563 [==============================] - 210s 374ms/step - loss: 0.9089 - mse: 1.4414 - val_loss: 3.4418 - val_mse: 16.0653\n",
      "Epoch 40/50\n",
      "563/563 [==============================] - 211s 375ms/step - loss: 0.8931 - mse: 1.3979 - val_loss: 3.1833 - val_mse: 14.0516\n",
      "Epoch 41/50\n",
      "563/563 [==============================] - 212s 376ms/step - loss: 0.8692 - mse: 1.3332 - val_loss: 3.0380 - val_mse: 12.8478\n",
      "Epoch 42/50\n",
      "563/563 [==============================] - 218s 388ms/step - loss: 0.8609 - mse: 1.3134 - val_loss: 2.9430 - val_mse: 12.2068\n",
      "Epoch 43/50\n",
      "563/563 [==============================] - 205s 365ms/step - loss: 0.8494 - mse: 1.2844 - val_loss: 2.8012 - val_mse: 11.2134\n",
      "Epoch 44/50\n",
      "563/563 [==============================] - 226s 402ms/step - loss: 0.8408 - mse: 1.2624 - val_loss: 2.7661 - val_mse: 10.9945\n",
      "Epoch 45/50\n",
      "563/563 [==============================] - 250s 444ms/step - loss: 0.8301 - mse: 1.2379 - val_loss: 2.6640 - val_mse: 10.3650\n",
      "Epoch 46/50\n",
      "563/563 [==============================] - 249s 443ms/step - loss: 0.8224 - mse: 1.2114 - val_loss: 2.6740 - val_mse: 10.3995\n",
      "Epoch 47/50\n",
      "563/563 [==============================] - 249s 443ms/step - loss: 0.8182 - mse: 1.2062 - val_loss: 2.5465 - val_mse: 9.5891\n",
      "Epoch 48/50\n",
      "563/563 [==============================] - 249s 443ms/step - loss: 0.8063 - mse: 1.1723 - val_loss: 2.6140 - val_mse: 9.9824\n",
      "Epoch 49/50\n",
      "563/563 [==============================] - 250s 444ms/step - loss: 0.8094 - mse: 1.1850 - val_loss: 2.5364 - val_mse: 9.5547\n",
      "Epoch 50/50\n",
      "563/563 [==============================] - 251s 447ms/step - loss: 0.8014 - mse: 1.1633 - val_loss: 2.5214 - val_mse: 9.4553\n"
     ]
    },
    {
     "data": {
      "image/png": "[encoded data removed]",
      "text/plain": [
       "<Figure size 360x360 with 1 Axes>"
      ]
     },
     "metadata": {
      "needs_background": "light"
     },
     "output_type": "display_data"
    }
   ],
   "source": [
    "# 모델 훈련\n",
    "history=model.fit(train_data,epochs=50,validation_data=test_data,verbose=1)\n",
    "\n",
    "# 손실 함수 그래프\n",
    "def plot_loss_curve(history,total_epoch=50,start=1):\n",
    "    plt.figure(figsize=(5,5))\n",
    "    plt.plot(range(start,total_epoch+1),\n",
    "        history.history['loss'][start-1:total_epoch],\n",
    "        label='Train')\n",
    "    plt.plot(range(start,total_epoch+1),\n",
    "        history.history['val_loss'][start-1:total_epoch],\n",
    "        label='Validation')\n",
    "    plt.xlabel('Epochs')\n",
    "    plt.ylabel('mae')\n",
    "    plt.legend()\n",
    "    plt.show()\n",
    "\n",
    "plot_loss_curve(history=history,total_epoch=len(history.history['loss']),start=1)"
   ]
  },
  {
   "cell_type": "code",
   "execution_count": null,
   "metadata": {},
   "outputs": [],
   "source": []
  }
 ],
 "metadata": {
  "interpreter": {
   "hash": "0c0ab5b7d89bb0f19665907e9b7c826a43cb7d8ca3372f5212e98c4477c4be25"
  },
  "kernelspec": {
   "display_name": "Python 3.10.4 ('.venv': venv)",
   "language": "python",
   "name": "python3"
  },
  "language_info": {
   "codemirror_mode": {
    "name": "ipython",
    "version": 3
   },
   "file_extension": ".py",
   "mimetype": "text/x-python",
   "name": "python",
   "nbconvert_exporter": "python",
   "pygments_lexer": "ipython3",
   "version": "3.10.4"
  },
  "orig_nbformat": 4
 },
 "nbformat": 4,
 "nbformat_minor": 2
}
